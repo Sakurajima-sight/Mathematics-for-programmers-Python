{
 "cells": [
  {
   "cell_type": "code",
   "execution_count": null,
   "id": "ef34b20e",
   "metadata": {
    "ExecuteTime": {
     "start_time": "2022-08-13T04:32:41.894Z"
    }
   },
   "outputs": [],
   "source": [
    "%load_ext autoreload\n",
    "%autoreload 2\n",
    "from vector_drawing import *\n",
    "import numpy as np\n",
    "from math import *"
   ]
  },
  {
   "cell_type": "code",
   "execution_count": null,
   "id": "b6d78e8c",
   "metadata": {
    "ExecuteTime": {
     "start_time": "2022-08-13T04:32:41.935Z"
    }
   },
   "outputs": [],
   "source": [
    "dino_vectors=[(6,4), (3,1), (1,2), (-1,5), (-2,5), (-3,4), (-4,4),\n",
    "    (-5,3), (-5,2), (-2,2), (-5,1), (-4,0), (-2,1), (-1,0), (0,-3),\n",
    "    (-1,-4), (1,-4), (2,-3), (1,-2), (3,-1), (5,1)]\n",
    "draw(Points(*dino_vectors))"
   ]
  },
  {
   "cell_type": "code",
   "execution_count": null,
   "id": "fd975cb7",
   "metadata": {
    "ExecuteTime": {
     "start_time": "2022-08-13T04:32:41.980Z"
    }
   },
   "outputs": [],
   "source": [
    "draw(\n",
    "    Points(*dino_vectors),\n",
    "    Segment((6,4),(3,1))\n",
    ")"
   ]
  },
  {
   "cell_type": "code",
   "execution_count": null,
   "id": "4e995e11",
   "metadata": {
    "ExecuteTime": {
     "start_time": "2022-08-13T04:32:42.020Z"
    }
   },
   "outputs": [],
   "source": [
    "draw(\n",
    "    Points(*dino_vectors),\n",
    "    Polygon(*dino_vectors)\n",
    ")"
   ]
  },
  {
   "cell_type": "code",
   "execution_count": null,
   "id": "6000863a",
   "metadata": {
    "ExecuteTime": {
     "start_time": "2022-08-13T04:32:42.060Z"
    }
   },
   "outputs": [],
   "source": [
    "draw(\n",
    "    Points(*[(x,x**2) for x in range(-10,11)]),\n",
    "    grid=(1,10),\n",
    "    nice_aspect_ratio=True\n",
    ")"
   ]
  },
  {
   "cell_type": "code",
   "execution_count": null,
   "id": "39ab5261",
   "metadata": {
    "ExecuteTime": {
     "start_time": "2022-08-13T04:32:42.099Z"
    }
   },
   "outputs": [],
   "source": [
    "draw(\n",
    "    Points(*[(x,x**2) for x in range(-10,11)]),\n",
    "    grid=(1,10),\n",
    "    nice_aspect_ratio=False\n",
    ")"
   ]
  },
  {
   "cell_type": "code",
   "execution_count": null,
   "id": "90c871bf",
   "metadata": {
    "ExecuteTime": {
     "start_time": "2022-08-13T04:32:42.138Z"
    }
   },
   "outputs": [],
   "source": [
    "def add(v1,v2):\n",
    "    return (v1[0]+v2[0],v1[1]+v2[1])"
   ]
  },
  {
   "cell_type": "code",
   "execution_count": null,
   "id": "144ec130",
   "metadata": {
    "ExecuteTime": {
     "start_time": "2022-08-13T04:32:42.177Z"
    }
   },
   "outputs": [],
   "source": [
    "dino_vectors2=[add((-1.5,-2.5),v)for v in dino_vectors]"
   ]
  },
  {
   "cell_type": "code",
   "execution_count": null,
   "id": "fb649adb",
   "metadata": {
    "ExecuteTime": {
     "start_time": "2022-08-13T04:32:42.218Z"
    }
   },
   "outputs": [],
   "source": [
    "draw(\n",
    "    Points(*dino_vectors),\n",
    "    Polygon(*dino_vectors),\n",
    "    Points(*dino_vectors2,color=red),\n",
    "    Polygon(*dino_vectors2,color=red)\n",
    ")"
   ]
  },
  {
   "cell_type": "code",
   "execution_count": null,
   "id": "5e079b76",
   "metadata": {
    "ExecuteTime": {
     "start_time": "2022-08-13T04:32:42.261Z"
    }
   },
   "outputs": [],
   "source": [
    "arrows = [Arrow(tip,tail,color=black) for (tip,tail) in\n",
    "         zip(dino_vectors2, dino_vectors)]\n",
    "draw(\n",
    "    Points(*dino_vectors, color=blue),\n",
    "    Polygon(*dino_vectors, color=blue),\n",
    "    Points(*dino_vectors2, color=red),\n",
    "    Polygon(*dino_vectors2, color=red),\n",
    "    *arrows\n",
    ")"
   ]
  },
  {
   "cell_type": "code",
   "execution_count": null,
   "id": "20bacb6c",
   "metadata": {
    "ExecuteTime": {
     "start_time": "2022-08-13T04:32:42.305Z"
    }
   },
   "outputs": [],
   "source": [
    "def length(v):\n",
    "    return sqrt(v[0]**2+v[1]**2)"
   ]
  },
  {
   "cell_type": "code",
   "execution_count": null,
   "id": "53c8ee41",
   "metadata": {
    "ExecuteTime": {
     "start_time": "2022-08-13T04:32:42.349Z"
    }
   },
   "outputs": [],
   "source": [
    "draw(\n",
    "    Points((2,2),(-1,3)),\n",
    "    Segment((2,2),(-1,3),color=red)\n",
    ")"
   ]
  },
  {
   "cell_type": "code",
   "execution_count": null,
   "id": "7da25ffb",
   "metadata": {
    "ExecuteTime": {
     "start_time": "2022-08-13T04:32:42.390Z"
    }
   },
   "outputs": [],
   "source": [
    "def add(vectors):\n",
    "    return (sum([v[0] for v in vectors]),sum([v[1] for v in vectors]))\n",
    "test_vectors=[(1,2),(2,4),(3,6),(4,8)]\n",
    "add(test_vectors)"
   ]
  },
  {
   "cell_type": "code",
   "execution_count": null,
   "id": "64a56e7a",
   "metadata": {
    "ExecuteTime": {
     "start_time": "2022-08-13T04:32:42.431Z"
    }
   },
   "outputs": [],
   "source": [
    "def add(*vectors):\n",
    "    return (sum([v[0] for v in vectors]),sum([v[1] for v in vectors]))"
   ]
  },
  {
   "cell_type": "code",
   "execution_count": null,
   "id": "dd9eb97b",
   "metadata": {
    "ExecuteTime": {
     "start_time": "2022-08-13T04:32:42.471Z"
    }
   },
   "outputs": [],
   "source": [
    "test_vectors=[(1,2),(2,4),(3,6),(4,8)]\n",
    "add(*test_vectors)"
   ]
  },
  {
   "cell_type": "code",
   "execution_count": null,
   "id": "5b38e192",
   "metadata": {
    "ExecuteTime": {
     "start_time": "2022-08-13T04:32:42.510Z"
    }
   },
   "outputs": [],
   "source": [
    "def translate(translation,vectors):\n",
    "    return [add(translation,v) for v in vectors]"
   ]
  },
  {
   "cell_type": "code",
   "execution_count": null,
   "id": "d76dd844",
   "metadata": {
    "ExecuteTime": {
     "start_time": "2022-08-13T04:32:42.553Z"
    }
   },
   "outputs": [],
   "source": [
    "translate((1,1),[(0,0),(0,1),(-3,3)])"
   ]
  },
  {
   "cell_type": "code",
   "execution_count": null,
   "id": "ed58e376",
   "metadata": {
    "ExecuteTime": {
     "start_time": "2022-08-13T04:32:42.593Z"
    }
   },
   "outputs": [],
   "source": [
    "def hundred_dinos():\n",
    "    translations=[(12*x,10*y)for x in range(-5,5) for y in range(-5,5)]\n",
    "    dions=[Polygon(*translate(t,dino_vectors),color=blue) for t in translations]\n",
    "    draw(*dions,grid=None,axes=None,origin=None)\n",
    "hundred_dinos()"
   ]
  },
  {
   "cell_type": "code",
   "execution_count": null,
   "id": "5a188b61",
   "metadata": {
    "ExecuteTime": {
     "start_time": "2022-08-13T04:32:42.633Z"
    }
   },
   "outputs": [],
   "source": [
    "max(dino_vectors,key=length)"
   ]
  },
  {
   "cell_type": "code",
   "execution_count": null,
   "id": "3302f35c",
   "metadata": {
    "ExecuteTime": {
     "start_time": "2022-08-13T04:32:42.671Z"
    }
   },
   "outputs": [],
   "source": [
    "draw(\n",
    "        Arrow((np.pi*sqrt(2),np.pi*sqrt(3)),(0,0),color=blue),\n",
    "        Arrow((sqrt(2),sqrt(3)),(0,0),color=red)\n",
    "    )"
   ]
  },
  {
   "cell_type": "code",
   "execution_count": null,
   "id": "09789f7e",
   "metadata": {
    "ExecuteTime": {
     "start_time": "2022-08-13T04:32:42.710Z"
    }
   },
   "outputs": [],
   "source": [
    "def scale(scaler,v):\n",
    "    return (scaler*v[0],scaler*v[1])"
   ]
  },
  {
   "cell_type": "code",
   "execution_count": null,
   "id": "560dab85",
   "metadata": {
    "ExecuteTime": {
     "start_time": "2022-08-13T04:32:42.750Z"
    }
   },
   "outputs": [],
   "source": [
    "from random import uniform\n",
    "u=(-1,1)\n",
    "v=(1,1)\n",
    "def random_r():\n",
    "    return uniform(-3,3)\n",
    "def random_s():\n",
    "    return uniform(-1,1)\n",
    "possibilities=[add(scale(random_r(),u),scale(random_s(),v)) for i in range(0,500)]\n",
    "draw(Points(*possibilities))"
   ]
  },
  {
   "cell_type": "code",
   "execution_count": null,
   "id": "1e9553bf",
   "metadata": {
    "ExecuteTime": {
     "start_time": "2022-08-13T04:32:42.793Z"
    }
   },
   "outputs": [],
   "source": [
    "def subtract(v1,v2):\n",
    "    return (v1[0]-v2[0],v1[1]-v2[1])"
   ]
  },
  {
   "cell_type": "code",
   "execution_count": null,
   "id": "66b78beb",
   "metadata": {
    "ExecuteTime": {
     "start_time": "2022-08-13T04:32:42.834Z"
    }
   },
   "outputs": [],
   "source": [
    "def distance(v1,v2):\n",
    "    return length(subtract(v1,v2))\n",
    "def perimeter(vectors):\n",
    "    distances=[distance(vectors[i],vectors[(i+1)%len(vectors)]) for i in range(0,len(vectors))]\n",
    "    return sum(distances)"
   ]
  },
  {
   "cell_type": "code",
   "execution_count": null,
   "id": "92d9ea70",
   "metadata": {
    "ExecuteTime": {
     "start_time": "2022-08-13T04:32:42.873Z"
    }
   },
   "outputs": [],
   "source": [
    "perimeter([(1,0),(1,1),(0,1),(0,0)])"
   ]
  },
  {
   "cell_type": "code",
   "execution_count": null,
   "id": "d10f693f",
   "metadata": {
    "ExecuteTime": {
     "start_time": "2022-08-13T04:32:42.912Z"
    }
   },
   "outputs": [],
   "source": [
    "perimeter(dino_vectors)"
   ]
  },
  {
   "cell_type": "code",
   "execution_count": null,
   "id": "5d692808",
   "metadata": {
    "ExecuteTime": {
     "start_time": "2022-08-13T04:32:42.968Z"
    }
   },
   "outputs": [],
   "source": [
    "data=[]\n",
    "for n in range(-12,15):\n",
    "    for m in range(-14,13):\n",
    "        if distance((n,m),(1,-1))==13 and n>m>0:\n",
    "            print(n,m)\n",
    "        data.append((n,m))"
   ]
  },
  {
   "cell_type": "code",
   "execution_count": null,
   "id": "e01935db",
   "metadata": {
    "ExecuteTime": {
     "start_time": "2022-08-13T04:32:43.019Z"
    }
   },
   "outputs": [],
   "source": [
    "draw(Polygon(*data),\n",
    "        Points((1,-1),color=black),\n",
    "        Points((13,4),color=red),\n",
    "        Arrow((13,4),(1,-1)) \n",
    "    )"
   ]
  },
  {
   "cell_type": "code",
   "execution_count": null,
   "id": "e13a43b3",
   "metadata": {
    "ExecuteTime": {
     "start_time": "2022-08-13T04:32:43.067Z"
    }
   },
   "outputs": [],
   "source": [
    "tan(45)"
   ]
  },
  {
   "cell_type": "code",
   "execution_count": null,
   "id": "8f52dbd9",
   "metadata": {
    "ExecuteTime": {
     "start_time": "2022-08-13T04:32:43.127Z"
    }
   },
   "outputs": [],
   "source": [
    "tan(pi/4)"
   ]
  },
  {
   "cell_type": "code",
   "execution_count": null,
   "id": "f3e898c3",
   "metadata": {
    "ExecuteTime": {
     "start_time": "2022-08-13T04:32:43.178Z"
    }
   },
   "outputs": [],
   "source": [
    "def to_cartesian(polar_vector):\n",
    "    length,angle=polar_vector[0],polar_vector[1]\n",
    "    return (length*cos(angle),length*sin(angle))"
   ]
  },
  {
   "cell_type": "code",
   "execution_count": null,
   "id": "3fd61a4c",
   "metadata": {
    "ExecuteTime": {
     "start_time": "2022-08-13T04:32:43.222Z"
    },
    "run_control": {
     "marked": true
    }
   },
   "outputs": [],
   "source": [
    "angle=37*pi/180\n",
    "to_cartesian((5,angle))"
   ]
  },
  {
   "cell_type": "code",
   "execution_count": null,
   "id": "6e60ddcb",
   "metadata": {
    "ExecuteTime": {
     "start_time": "2022-08-13T04:32:43.262Z"
    }
   },
   "outputs": [],
   "source": [
    "test_point=[(cos(45),sin(45))]\n",
    "test_point"
   ]
  },
  {
   "cell_type": "code",
   "execution_count": null,
   "id": "a3f7c2bd",
   "metadata": {
    "ExecuteTime": {
     "start_time": "2022-08-13T04:32:43.299Z"
    }
   },
   "outputs": [],
   "source": [
    "draw(\n",
    "    Points((0.5253219888177297, 0.8509035245341184)),\n",
    "    Arrow((0.5253219888177297, 0.8509035245341184),(0,0))\n",
    ")"
   ]
  },
  {
   "cell_type": "code",
   "execution_count": null,
   "id": "fbbb263a",
   "metadata": {
    "ExecuteTime": {
     "start_time": "2022-08-13T04:32:43.339Z"
    }
   },
   "outputs": [],
   "source": [
    "atan(1.6197751905438615)*180/pi"
   ]
  },
  {
   "cell_type": "code",
   "execution_count": null,
   "id": "0892aa10",
   "metadata": {
    "ExecuteTime": {
     "start_time": "2022-08-13T04:32:43.374Z"
    }
   },
   "outputs": [],
   "source": [
    "tan(58.310078088704444*pi/180)"
   ]
  },
  {
   "cell_type": "code",
   "execution_count": null,
   "id": "4ab965c0",
   "metadata": {
    "ExecuteTime": {
     "start_time": "2022-08-13T04:32:43.408Z"
    }
   },
   "outputs": [],
   "source": [
    "sin(1)"
   ]
  },
  {
   "cell_type": "code",
   "execution_count": null,
   "id": "e5904cd4",
   "metadata": {
    "ExecuteTime": {
     "start_time": "2022-08-13T04:32:43.443Z"
    }
   },
   "outputs": [],
   "source": [
    "asin(0.8414709848078965)"
   ]
  },
  {
   "cell_type": "code",
   "execution_count": null,
   "id": "92c72220",
   "metadata": {
    "ExecuteTime": {
     "start_time": "2022-08-13T04:32:43.479Z"
    }
   },
   "outputs": [],
   "source": [
    "asin(3/sqrt(13))"
   ]
  },
  {
   "cell_type": "code",
   "execution_count": null,
   "id": "09f64998",
   "metadata": {
    "ExecuteTime": {
     "start_time": "2022-08-13T04:32:43.518Z"
    }
   },
   "outputs": [],
   "source": [
    "acos(-2/sqrt(13))"
   ]
  },
  {
   "cell_type": "code",
   "execution_count": null,
   "id": "0fbbd21d",
   "metadata": {
    "ExecuteTime": {
     "start_time": "2022-08-13T04:32:43.558Z"
    }
   },
   "outputs": [],
   "source": [
    "cos(2.1587989303424644)"
   ]
  },
  {
   "cell_type": "code",
   "execution_count": null,
   "id": "af8706eb",
   "metadata": {
    "ExecuteTime": {
     "start_time": "2022-08-13T04:32:43.598Z"
    }
   },
   "outputs": [],
   "source": [
    "-2/sqrt(13)"
   ]
  },
  {
   "cell_type": "code",
   "execution_count": null,
   "id": "56627bf0",
   "metadata": {
    "ExecuteTime": {
     "start_time": "2022-08-13T04:32:43.632Z"
    }
   },
   "outputs": [],
   "source": [
    "atan2(3,-2)"
   ]
  },
  {
   "cell_type": "code",
   "execution_count": null,
   "id": "a6319b15",
   "metadata": {
    "ExecuteTime": {
     "start_time": "2022-08-13T04:32:43.668Z"
    }
   },
   "outputs": [],
   "source": [
    "def to_polar(vector):\n",
    "    x,y=vector[0],vector[1]\n",
    "    angle=atan2(y,x)\n",
    "    return (length(vector),angle)"
   ]
  },
  {
   "cell_type": "code",
   "execution_count": null,
   "id": "1cf64ad1",
   "metadata": {
    "ExecuteTime": {
     "start_time": "2022-08-13T04:32:43.705Z"
    }
   },
   "outputs": [],
   "source": [
    "to_polar((1,0))"
   ]
  },
  {
   "cell_type": "code",
   "execution_count": null,
   "id": "cd8186c9",
   "metadata": {
    "ExecuteTime": {
     "start_time": "2022-08-13T04:32:43.741Z"
    }
   },
   "outputs": [],
   "source": [
    "to_polar((-2,3))"
   ]
  },
  {
   "cell_type": "code",
   "execution_count": null,
   "id": "b6853541",
   "metadata": {
    "ExecuteTime": {
     "start_time": "2022-08-13T04:32:43.776Z"
    }
   },
   "outputs": [],
   "source": [
    "length((-1.34,2.68))"
   ]
  },
  {
   "cell_type": "code",
   "execution_count": null,
   "id": "ab77a515",
   "metadata": {
    "ExecuteTime": {
     "start_time": "2022-08-13T04:32:43.813Z"
    },
    "run_control": {
     "marked": true
    }
   },
   "outputs": [],
   "source": [
    "angle=125*pi/180\n",
    "draw(\n",
    "        Points(to_cartesian((8.5,angle))),\n",
    "        Arrow(to_cartesian((8.5,angle)),(0,0))\n",
    ")"
   ]
  },
  {
   "cell_type": "code",
   "execution_count": null,
   "id": "4f5718b3",
   "metadata": {
    "ExecuteTime": {
     "start_time": "2022-08-13T04:32:43.849Z"
    }
   },
   "outputs": [],
   "source": [
    "angle=116.57*pi/180\n",
    "print(angle)\n",
    "tan(angle)"
   ]
  },
  {
   "cell_type": "code",
   "execution_count": null,
   "id": "a3b43695",
   "metadata": {
    "ExecuteTime": {
     "start_time": "2022-08-13T04:32:43.886Z"
    }
   },
   "outputs": [],
   "source": [
    "sin(10*pi/6)"
   ]
  },
  {
   "cell_type": "code",
   "execution_count": null,
   "id": "4569ed48",
   "metadata": {
    "ExecuteTime": {
     "start_time": "2022-08-13T04:32:43.922Z"
    }
   },
   "outputs": [],
   "source": [
    "cos(10*pi/6)"
   ]
  },
  {
   "cell_type": "code",
   "execution_count": null,
   "id": "136d5059",
   "metadata": {
    "ExecuteTime": {
     "start_time": "2022-08-13T04:32:43.961Z"
    }
   },
   "outputs": [],
   "source": [
    "polar_coords=[(cos(x*pi/100.0),2*pi*x/1000.0) for x in range(0,1000)]\n",
    "vectors=[to_cartesian(p) for p in polar_coords]\n",
    "draw(Polygon(*vectors,color=green))"
   ]
  },
  {
   "cell_type": "code",
   "execution_count": null,
   "id": "20851220",
   "metadata": {
    "ExecuteTime": {
     "start_time": "2022-08-13T04:32:43.998Z"
    }
   },
   "outputs": [],
   "source": [
    "pi,pi/2"
   ]
  },
  {
   "cell_type": "code",
   "execution_count": null,
   "id": "553e56eb",
   "metadata": {
    "ExecuteTime": {
     "start_time": "2022-08-13T04:32:44.034Z"
    }
   },
   "outputs": [],
   "source": [
    "tan(1.8)"
   ]
  },
  {
   "cell_type": "code",
   "execution_count": null,
   "id": "d172016b",
   "metadata": {
    "ExecuteTime": {
     "start_time": "2022-08-13T04:32:44.070Z"
    }
   },
   "outputs": [],
   "source": [
    "tan(2.5)"
   ]
  },
  {
   "cell_type": "code",
   "execution_count": null,
   "id": "11caf74f",
   "metadata": {
    "ExecuteTime": {
     "start_time": "2022-08-13T04:32:44.108Z"
    }
   },
   "outputs": [],
   "source": [
    "tan(2.2)"
   ]
  },
  {
   "cell_type": "code",
   "execution_count": null,
   "id": "0cac60ce",
   "metadata": {
    "ExecuteTime": {
     "start_time": "2022-08-13T04:32:44.146Z"
    }
   },
   "outputs": [],
   "source": [
    "tan(2.1)"
   ]
  },
  {
   "cell_type": "code",
   "execution_count": null,
   "id": "62ca29d4",
   "metadata": {
    "ExecuteTime": {
     "start_time": "2022-08-13T04:32:44.185Z"
    }
   },
   "outputs": [],
   "source": [
    "tan(2.15)"
   ]
  },
  {
   "cell_type": "code",
   "execution_count": null,
   "id": "e95ffcae",
   "metadata": {
    "ExecuteTime": {
     "start_time": "2022-08-13T04:32:44.225Z"
    }
   },
   "outputs": [],
   "source": [
    "tan(2.16)"
   ]
  },
  {
   "cell_type": "code",
   "execution_count": null,
   "id": "b5ea13e2",
   "metadata": {
    "ExecuteTime": {
     "start_time": "2022-08-13T04:32:44.265Z"
    }
   },
   "outputs": [],
   "source": [
    "tan(2.155)"
   ]
  },
  {
   "cell_type": "code",
   "execution_count": null,
   "id": "aec487df",
   "metadata": {
    "ExecuteTime": {
     "start_time": "2022-08-13T04:32:44.302Z"
    }
   },
   "outputs": [],
   "source": [
    "tan(2.156)"
   ]
  },
  {
   "cell_type": "code",
   "execution_count": null,
   "id": "079d28dd",
   "metadata": {
    "ExecuteTime": {
     "start_time": "2022-08-13T04:32:44.341Z"
    }
   },
   "outputs": [],
   "source": [
    "tan(2.157)"
   ]
  },
  {
   "cell_type": "code",
   "execution_count": null,
   "id": "3fc42b9f",
   "metadata": {
    "ExecuteTime": {
     "start_time": "2022-08-13T04:32:44.379Z"
    }
   },
   "outputs": [],
   "source": [
    "tan(2.158)"
   ]
  },
  {
   "cell_type": "code",
   "execution_count": null,
   "id": "0d1c7045",
   "metadata": {
    "ExecuteTime": {
     "start_time": "2022-08-13T04:32:44.417Z"
    }
   },
   "outputs": [],
   "source": [
    "tan(2.159)"
   ]
  },
  {
   "cell_type": "code",
   "execution_count": null,
   "id": "0657572d",
   "metadata": {
    "ExecuteTime": {
     "start_time": "2022-08-13T04:32:44.455Z"
    }
   },
   "outputs": [],
   "source": [
    "atan(-3/2)"
   ]
  },
  {
   "cell_type": "code",
   "execution_count": null,
   "id": "0350d8fe",
   "metadata": {
    "ExecuteTime": {
     "start_time": "2022-08-13T04:32:44.493Z"
    }
   },
   "outputs": [],
   "source": [
    "to_polar((1,1))"
   ]
  },
  {
   "cell_type": "code",
   "execution_count": null,
   "id": "afe28e94",
   "metadata": {
    "ExecuteTime": {
     "start_time": "2022-08-13T04:32:44.530Z"
    }
   },
   "outputs": [],
   "source": [
    "to_polar((1,-1))"
   ]
  },
  {
   "cell_type": "code",
   "execution_count": null,
   "id": "61cd5aae",
   "metadata": {
    "ExecuteTime": {
     "start_time": "2022-08-13T04:32:44.574Z"
    }
   },
   "outputs": [],
   "source": [
    "def test_dinosaur_angle(start,middle,end):\n",
    "    p1=to_polar(subtract(start,middle))\n",
    "    p2=to_polar(subtract(end,middle))\n",
    "    if p1[1]<0:\n",
    "        p1_distance=360+p1[1]*180/pi\n",
    "    else:\n",
    "        p1_distance=p1[1]*180/pi\n",
    "    if p2[1]<0:\n",
    "        p2_distance=360+p2[1]*180/pi\n",
    "    else:\n",
    "        p2_distance=p2[1]*180/pi\n",
    "    return p2_distance-p1_distance\n",
    "mouth_angle=test_dinosaur_angle((-5,2),(-2,2),(-5,1))\n",
    "toe_angle=test_dinosaur_angle((1,-4),(-1,-4),(0,-3))\n",
    "tail_angle=test_dinosaur_angle((3,1),(6,4),(5,1))\n",
    "print(mouth_angle)\n",
    "print(toe_angle)\n",
    "print(tail_angle)"
   ]
  },
  {
   "cell_type": "code",
   "execution_count": null,
   "id": "1c34b61e",
   "metadata": {
    "ExecuteTime": {
     "start_time": "2022-08-13T04:32:44.617Z"
    }
   },
   "outputs": [],
   "source": [
    "draw(\n",
    "    Points(*dino_vectors),\n",
    "    Polygon(*dino_vectors)\n",
    "    ((-5,2),(-2,2),(-5,1))\n",
    ")"
   ]
  },
  {
   "cell_type": "code",
   "execution_count": null,
   "id": "af609e1a",
   "metadata": {},
   "outputs": [],
   "source": []
  }
 ],
 "metadata": {
  "hide_input": false,
  "kernelspec": {
   "display_name": "Python 3 (ipykernel)",
   "language": "python",
   "name": "python3"
  },
  "language_info": {
   "codemirror_mode": {
    "name": "ipython",
    "version": 3
   },
   "file_extension": ".py",
   "mimetype": "text/x-python",
   "name": "python",
   "nbconvert_exporter": "python",
   "pygments_lexer": "ipython3",
   "version": "3.9.12"
  },
  "nbTranslate": {
   "displayLangs": [
    "*"
   ],
   "hotkey": "alt-t",
   "langInMainMenu": true,
   "sourceLang": "en",
   "targetLang": "fr",
   "useGoogleTranslate": true
  },
  "toc": {
   "base_numbering": 1,
   "nav_menu": {},
   "number_sections": true,
   "sideBar": true,
   "skip_h1_title": false,
   "title_cell": "Table of Contents",
   "title_sidebar": "Contents",
   "toc_cell": false,
   "toc_position": {},
   "toc_section_display": true,
   "toc_window_display": false
  },
  "varInspector": {
   "cols": {
    "lenName": 16,
    "lenType": 16,
    "lenVar": 40
   },
   "kernels_config": {
    "python": {
     "delete_cmd_postfix": "",
     "delete_cmd_prefix": "del ",
     "library": "var_list.py",
     "varRefreshCmd": "print(var_dic_list())"
    },
    "r": {
     "delete_cmd_postfix": ") ",
     "delete_cmd_prefix": "rm(",
     "library": "var_list.r",
     "varRefreshCmd": "cat(var_dic_list()) "
    }
   },
   "types_to_exclude": [
    "module",
    "function",
    "builtin_function_or_method",
    "instance",
    "_Feature"
   ],
   "window_display": false
  }
 },
 "nbformat": 4,
 "nbformat_minor": 5
}
