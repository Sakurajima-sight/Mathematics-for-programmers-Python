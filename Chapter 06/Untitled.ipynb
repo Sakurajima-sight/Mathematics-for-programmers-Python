{
 "cells": [
  {
   "cell_type": "code",
   "execution_count": 1,
   "id": "811331f5",
   "metadata": {
    "ExecuteTime": {
     "end_time": "2022-08-19T16:16:56.480484Z",
     "start_time": "2022-08-19T16:16:56.467481Z"
    }
   },
   "outputs": [],
   "source": [
    "from abc import *\n",
    "from random import uniform\n",
    "from math import *\n",
    "from vectors import *"
   ]
  },
  {
   "cell_type": "code",
   "execution_count": 2,
   "id": "cd3144fc",
   "metadata": {
    "ExecuteTime": {
     "end_time": "2022-08-19T16:16:56.495931Z",
     "start_time": "2022-08-19T16:16:56.482474Z"
    }
   },
   "outputs": [],
   "source": [
    "class Vec2():\n",
    "    def __init__(self,x,y):\n",
    "        self.x=x\n",
    "        self.y=y\n",
    "    def add(self,v2):\n",
    "        return Vec2(self.x+v2.x,self.y+v2.y)"
   ]
  },
  {
   "cell_type": "code",
   "execution_count": 3,
   "id": "ff5bbd9c",
   "metadata": {
    "ExecuteTime": {
     "end_time": "2022-08-19T16:16:56.510990Z",
     "start_time": "2022-08-19T16:16:56.497943Z"
    }
   },
   "outputs": [
    {
     "name": "stdout",
     "output_type": "stream",
     "text": [
      "1\n"
     ]
    }
   ],
   "source": [
    "v=Vec2(3,4)\n",
    "w=v.add(Vec2(-2,6))\n",
    "print(w.x)"
   ]
  },
  {
   "cell_type": "code",
   "execution_count": 4,
   "id": "67b066bf",
   "metadata": {
    "ExecuteTime": {
     "end_time": "2022-08-19T16:16:56.527041Z",
     "start_time": "2022-08-19T16:16:56.512981Z"
    }
   },
   "outputs": [],
   "source": [
    "class Vec2():\n",
    "    def __init__(self,x,y):\n",
    "        self.x=x\n",
    "        self.y=y\n",
    "    def add(self,v2):\n",
    "        return Vec2(self.x+v2.x,self.y+v2.y)\n",
    "    def scale(self,scalar):\n",
    "        return Vec2(scalar*self.x,scalar*self.y)"
   ]
  },
  {
   "cell_type": "code",
   "execution_count": 5,
   "id": "52094a3d",
   "metadata": {
    "ExecuteTime": {
     "end_time": "2022-08-19T16:16:56.543082Z",
     "start_time": "2022-08-19T16:16:56.528025Z"
    }
   },
   "outputs": [
    {
     "name": "stdout",
     "output_type": "stream",
     "text": [
      "50 50\n"
     ]
    }
   ],
   "source": [
    "v=Vec2(1,1).scale(50)\n",
    "print(v.x,v.y)"
   ]
  },
  {
   "cell_type": "code",
   "execution_count": 6,
   "id": "6b24fddb",
   "metadata": {
    "ExecuteTime": {
     "end_time": "2022-08-19T16:16:56.559058Z",
     "start_time": "2022-08-19T16:16:56.545057Z"
    }
   },
   "outputs": [
    {
     "data": {
      "text/plain": [
       "False"
      ]
     },
     "execution_count": 6,
     "metadata": {},
     "output_type": "execute_result"
    }
   ],
   "source": [
    "Vec2(3,4)==Vec2(3,4)"
   ]
  },
  {
   "cell_type": "code",
   "execution_count": 7,
   "id": "d0256a57",
   "metadata": {
    "ExecuteTime": {
     "end_time": "2022-08-19T16:16:56.574060Z",
     "start_time": "2022-08-19T16:16:56.561067Z"
    }
   },
   "outputs": [],
   "source": [
    "class Vec2():\n",
    "    def __init__(self,x,y):\n",
    "        self.x=x\n",
    "        self.y=y\n",
    "    def add(self,v2):\n",
    "        return Vec2(self.x+v2.x,self.y+v2.y)\n",
    "    def scale(self,scalar):\n",
    "        return Vec2(scalar*self.x,scalar*self.y)\n",
    "    def __eq__(self,other):\n",
    "        return self.x==other.x and self.y==other.y"
   ]
  },
  {
   "cell_type": "code",
   "execution_count": 8,
   "id": "032d2cda",
   "metadata": {
    "ExecuteTime": {
     "end_time": "2022-08-19T16:16:56.589066Z",
     "start_time": "2022-08-19T16:16:56.576056Z"
    }
   },
   "outputs": [
    {
     "data": {
      "text/plain": [
       "True"
      ]
     },
     "execution_count": 8,
     "metadata": {},
     "output_type": "execute_result"
    }
   ],
   "source": [
    "Vec2(3,4)==Vec2(3,4)"
   ]
  },
  {
   "cell_type": "code",
   "execution_count": 9,
   "id": "51b6ef8f",
   "metadata": {
    "ExecuteTime": {
     "end_time": "2022-08-19T16:16:56.604061Z",
     "start_time": "2022-08-19T16:16:56.591063Z"
    }
   },
   "outputs": [],
   "source": [
    "class Vec2():\n",
    "    def __init__(self,x,y):\n",
    "        self.x=x\n",
    "        self.y=y\n",
    "    def add(self,v2):\n",
    "        return Vec2(self.x+v2.x,self.y+v2.y)\n",
    "    def scale(self,scalar):\n",
    "        return Vec2(scalar*self.x,scalar*self.y)\n",
    "    def __eq__(self,other):\n",
    "        return self.x==other.x and self.y==other.y\n",
    "    def __add__(self,v2):\n",
    "        return self.add(v2)\n",
    "    def __mul__(self,scalar):\n",
    "        return self.scale(scalar)\n",
    "    def __rmul__(self,scalar):\n",
    "        return self.scale(scalar)"
   ]
  },
  {
   "cell_type": "code",
   "execution_count": 10,
   "id": "3e5075c6",
   "metadata": {
    "ExecuteTime": {
     "end_time": "2022-08-19T16:16:56.620068Z",
     "start_time": "2022-08-19T16:16:56.607063Z"
    }
   },
   "outputs": [
    {
     "data": {
      "text/plain": [
       "<__main__.Vec2 at 0x193a9c4ac70>"
      ]
     },
     "execution_count": 10,
     "metadata": {},
     "output_type": "execute_result"
    }
   ],
   "source": [
    "3.0*Vec2(1,0)+4.0*Vec2(0,1)"
   ]
  },
  {
   "cell_type": "code",
   "execution_count": 11,
   "id": "aaf91e54",
   "metadata": {
    "ExecuteTime": {
     "end_time": "2022-08-19T16:16:56.636062Z",
     "start_time": "2022-08-19T16:16:56.622058Z"
    },
    "run_control": {
     "marked": true
    }
   },
   "outputs": [
    {
     "name": "stdout",
     "output_type": "stream",
     "text": [
      "3.0 4.0\n"
     ]
    }
   ],
   "source": [
    "print((3.0*Vec2(1,0)+4.0*Vec2(0,1)).x,(3.0*Vec2(1,0)+4.0*Vec2(0,1)).y)"
   ]
  },
  {
   "cell_type": "code",
   "execution_count": 12,
   "id": "e1c83027",
   "metadata": {
    "ExecuteTime": {
     "end_time": "2022-08-19T16:16:56.651053Z",
     "start_time": "2022-08-19T16:16:56.638056Z"
    }
   },
   "outputs": [],
   "source": [
    "class Vec2():\n",
    "    def __init__(self,x,y):\n",
    "        self.x=x\n",
    "        self.y=y\n",
    "    def add(self,v2):\n",
    "        return Vec2(self.x+v2.x,self.y+v2.y)\n",
    "    def scale(self,scalar):\n",
    "        return Vec2(scalar*self.x,scalar*self.y)\n",
    "    def __eq__(self,other):\n",
    "        return self.x==other.x and self.y==other.y\n",
    "    def __add__(self,v2):\n",
    "        return self.add(v2)\n",
    "    def __mul__(self,scalar):\n",
    "        return self.scale(scalar)\n",
    "    def __rmul__(self,scalar):\n",
    "        return self.scale(scalar)\n",
    "    def __repr__(self):\n",
    "        return \"Vec({}, {})\".format(self.x,self.y)"
   ]
  },
  {
   "cell_type": "code",
   "execution_count": 13,
   "id": "71ac45a1",
   "metadata": {
    "ExecuteTime": {
     "end_time": "2022-08-19T16:16:56.667085Z",
     "start_time": "2022-08-19T16:16:56.653065Z"
    }
   },
   "outputs": [
    {
     "data": {
      "text/plain": [
       "Vec(3.0, 4.0)"
      ]
     },
     "execution_count": 13,
     "metadata": {},
     "output_type": "execute_result"
    }
   ],
   "source": [
    "3.0*Vec2(1,0)+4.0*Vec2(0,1)"
   ]
  },
  {
   "cell_type": "code",
   "execution_count": 14,
   "id": "d5cadb32",
   "metadata": {
    "ExecuteTime": {
     "end_time": "2022-08-19T16:16:56.683074Z",
     "start_time": "2022-08-19T16:16:56.669057Z"
    },
    "run_control": {
     "marked": true
    }
   },
   "outputs": [],
   "source": [
    "class Vec3():\n",
    "    def __init__(self,x,y,z):\n",
    "        self.x=x\n",
    "        self.y=y\n",
    "        self.z=z\n",
    "    def add(self,v3):\n",
    "        return Vec3(self.x+v3.x,self.y+v3.y,self.z+v3.z)\n",
    "    def scale(self,scalar):\n",
    "        return Vec3(scalar*self.x,scalar*self.y,scalar*self.z)\n",
    "    def __eq__(self,other):\n",
    "        return self.x==other.x and self.y==other.y and self.z==other.z\n",
    "    def __add__(self,v3):\n",
    "        return self.add(v3)\n",
    "    def __mul__(self,scalar):\n",
    "        return self.scale(scalar)\n",
    "    def __rmul__(self,scalar):\n",
    "        return self.scale(scalar)\n",
    "    def __repr__(self):\n",
    "        return \"Vec({}, {}, {})\".format(self.x,self.y,self.z)"
   ]
  },
  {
   "cell_type": "code",
   "execution_count": 15,
   "id": "d086d8d7",
   "metadata": {
    "ExecuteTime": {
     "end_time": "2022-08-19T16:16:56.698082Z",
     "start_time": "2022-08-19T16:16:56.685056Z"
    }
   },
   "outputs": [
    {
     "data": {
      "text/plain": [
       "True"
      ]
     },
     "execution_count": 15,
     "metadata": {},
     "output_type": "execute_result"
    }
   ],
   "source": [
    "Vec3(3,4,2)==Vec3(3,4,2)"
   ]
  },
  {
   "cell_type": "code",
   "execution_count": 16,
   "id": "1b0f6f27",
   "metadata": {
    "ExecuteTime": {
     "end_time": "2022-08-19T16:16:56.729074Z",
     "start_time": "2022-08-19T16:16:56.710066Z"
    }
   },
   "outputs": [
    {
     "data": {
      "text/plain": [
       "Vec(2.0, 2.0, 0.0)"
      ]
     },
     "execution_count": 16,
     "metadata": {},
     "output_type": "execute_result"
    }
   ],
   "source": [
    "2.0*(Vec3(1,0,0)+Vec3(0,1,0))"
   ]
  },
  {
   "cell_type": "code",
   "execution_count": 17,
   "id": "8b21a06f",
   "metadata": {
    "ExecuteTime": {
     "end_time": "2022-08-19T16:16:56.745064Z",
     "start_time": "2022-08-19T16:16:56.736075Z"
    }
   },
   "outputs": [],
   "source": [
    "def average(v1,v2):\n",
    "    return 0.5*v1+0.5*v2"
   ]
  },
  {
   "cell_type": "code",
   "execution_count": 18,
   "id": "c42d1c68",
   "metadata": {
    "ExecuteTime": {
     "end_time": "2022-08-19T16:16:56.776084Z",
     "start_time": "2022-08-19T16:16:56.762064Z"
    }
   },
   "outputs": [
    {
     "data": {
      "text/plain": [
       "Vec(8.5, 3.5)"
      ]
     },
     "execution_count": 18,
     "metadata": {},
     "output_type": "execute_result"
    }
   ],
   "source": [
    "average(Vec2(9.0,1.0),Vec2(8.0,6.0))"
   ]
  },
  {
   "cell_type": "code",
   "execution_count": 19,
   "id": "d3013a0a",
   "metadata": {
    "ExecuteTime": {
     "end_time": "2022-08-19T16:16:56.807084Z",
     "start_time": "2022-08-19T16:16:56.787065Z"
    }
   },
   "outputs": [
    {
     "data": {
      "text/plain": [
       "Vec(2.5, 3.5, 4.5)"
      ]
     },
     "execution_count": 19,
     "metadata": {},
     "output_type": "execute_result"
    }
   ],
   "source": [
    "average(Vec3(1,2,3),Vec3(4,5,6))"
   ]
  },
  {
   "cell_type": "code",
   "execution_count": 20,
   "id": "56ecfb42",
   "metadata": {
    "ExecuteTime": {
     "end_time": "2022-08-19T16:16:56.823084Z",
     "start_time": "2022-08-19T16:16:56.814086Z"
    },
    "run_control": {
     "marked": false
    }
   },
   "outputs": [],
   "source": [
    "class Vector(metaclass=ABCMeta):\n",
    "    @abstractmethod\n",
    "    def scale(self,scalar):\n",
    "        pass\n",
    "    @abstractmethod\n",
    "    def add(self,other):\n",
    "        pass\n",
    "    "
   ]
  },
  {
   "cell_type": "code",
   "execution_count": 21,
   "id": "8441a2ed",
   "metadata": {
    "ExecuteTime": {
     "end_time": "2022-08-19T16:16:56.854631Z",
     "start_time": "2022-08-19T16:16:56.841066Z"
    }
   },
   "outputs": [],
   "source": [
    "# v=Vector()"
   ]
  },
  {
   "cell_type": "code",
   "execution_count": 22,
   "id": "523a5a69",
   "metadata": {
    "ExecuteTime": {
     "end_time": "2022-08-19T16:16:56.885605Z",
     "start_time": "2022-08-19T16:16:56.867428Z"
    }
   },
   "outputs": [],
   "source": [
    "class Vector(metaclass=ABCMeta):\n",
    "    @abstractmethod\n",
    "    def scale(self,scalar):\n",
    "        pass\n",
    "    @abstractmethod\n",
    "    def add(self,other):\n",
    "        pass\n",
    "    def __mul__(self,scalar):\n",
    "        return self.scale(scalar)\n",
    "    def __rmul__(self,scalar):\n",
    "        return self.scale(scalar)\n",
    "    def __add__(self,other):\n",
    "        return self.add(other)"
   ]
  },
  {
   "cell_type": "code",
   "execution_count": 23,
   "id": "482db310",
   "metadata": {
    "ExecuteTime": {
     "end_time": "2022-08-19T16:16:56.917470Z",
     "start_time": "2022-08-19T16:16:56.898454Z"
    },
    "run_control": {
     "marked": true
    }
   },
   "outputs": [],
   "source": [
    "class Vec2(Vector):\n",
    "    def __init__(self,x,y):\n",
    "        self.x=x\n",
    "        self.y=y\n",
    "    def add(self,v2):\n",
    "        return Vec2(self.x+v2.x,self.y+v2.y)\n",
    "    def scale(self,scalar):\n",
    "        return Vec2(scalar*self.x,scalar*self.y)\n",
    "    def __eq__(self,other):\n",
    "        return self.x==other.x and self.y==other.y\n",
    "    def __repr__(self):\n",
    "        return \"Vec({}, {})\".format(self.x,self.y)"
   ]
  },
  {
   "cell_type": "code",
   "execution_count": 24,
   "id": "6cbfccf2",
   "metadata": {
    "ExecuteTime": {
     "end_time": "2022-08-19T16:16:56.948936Z",
     "start_time": "2022-08-19T16:16:56.929076Z"
    }
   },
   "outputs": [
    {
     "data": {
      "text/plain": [
       "Vec(3.0, 4.0)"
      ]
     },
     "execution_count": 24,
     "metadata": {},
     "output_type": "execute_result"
    }
   ],
   "source": [
    "3.0*Vec2(1,0)+4.0*Vec2(0,1)"
   ]
  },
  {
   "cell_type": "code",
   "execution_count": 25,
   "id": "d5e73aad",
   "metadata": {
    "ExecuteTime": {
     "end_time": "2022-08-19T16:16:56.964927Z",
     "start_time": "2022-08-19T16:16:56.957929Z"
    },
    "run_control": {
     "marked": false
    }
   },
   "outputs": [],
   "source": [
    "class Vector(metaclass=ABCMeta):\n",
    "    @abstractmethod\n",
    "    def scale(self,scalar):\n",
    "        pass\n",
    "    @abstractmethod\n",
    "    def add(self,other):\n",
    "        pass\n",
    "    def __mul__(self,scalar):\n",
    "        return self.scale(scalar)\n",
    "    def __rmul__(self,scalar):\n",
    "        return self.scale(scalar)\n",
    "    def __add__(self,other):\n",
    "        return self.add(other)\n",
    "    def subtract(self,other):\n",
    "        return self.add(-1*other)\n",
    "    def __sub__(self,other):\n",
    "        return self.subtract(other)"
   ]
  },
  {
   "cell_type": "code",
   "execution_count": 26,
   "id": "1156ea04",
   "metadata": {
    "ExecuteTime": {
     "end_time": "2022-08-19T16:16:56.995911Z",
     "start_time": "2022-08-19T16:16:56.989927Z"
    }
   },
   "outputs": [],
   "source": [
    "class Vec2(Vector):\n",
    "    def __init__(self,x,y):\n",
    "        self.x=x\n",
    "        self.y=y\n",
    "    def add(self,v2):\n",
    "        return Vec2(self.x+v2.x,self.y+v2.y)\n",
    "    def scale(self,scalar):\n",
    "        return Vec2(scalar*self.x,scalar*self.y)\n",
    "    def __eq__(self,other):\n",
    "        return self.x==other.x and self.y==other.y\n",
    "    def __repr__(self):\n",
    "        return \"Vec({}, {})\".format(self.x,self.y)"
   ]
  },
  {
   "cell_type": "code",
   "execution_count": 27,
   "id": "b2508396",
   "metadata": {
    "ExecuteTime": {
     "end_time": "2022-08-19T16:16:57.026911Z",
     "start_time": "2022-08-19T16:16:57.018912Z"
    }
   },
   "outputs": [
    {
     "data": {
      "text/plain": [
       "Vec(-4, 2)"
      ]
     },
     "execution_count": 27,
     "metadata": {},
     "output_type": "execute_result"
    }
   ],
   "source": [
    "Vec2(1,3)-Vec2(5,1)"
   ]
  },
  {
   "cell_type": "code",
   "execution_count": 28,
   "id": "543c86fe",
   "metadata": {
    "ExecuteTime": {
     "end_time": "2022-08-19T16:16:57.057490Z",
     "start_time": "2022-08-19T16:16:57.045939Z"
    }
   },
   "outputs": [
    {
     "data": {
      "text/plain": [
       "True"
      ]
     },
     "execution_count": 28,
     "metadata": {},
     "output_type": "execute_result"
    }
   ],
   "source": [
    "s=-3\n",
    "u,v=Vec2(42,-10),Vec2(1.5,8)\n",
    "s*(u+v)==s*v+s*u"
   ]
  },
  {
   "cell_type": "code",
   "execution_count": 29,
   "id": "5c139212",
   "metadata": {
    "ExecuteTime": {
     "end_time": "2022-08-19T16:16:57.089408Z",
     "start_time": "2022-08-19T16:16:57.074466Z"
    },
    "scrolled": true
   },
   "outputs": [],
   "source": [
    "def random_scalar():\n",
    "    return uniform(-10,10)\n",
    "\n",
    "def random_vec2():\n",
    "    return Vec2(random_scalar(),random_scalar())\n",
    "\n",
    "a=random_scalar()\n",
    "u,v=random_vec2(),random_vec2()\n",
    "# assert a*(u+v)==a*v+a*u"
   ]
  },
  {
   "cell_type": "code",
   "execution_count": 30,
   "id": "6b456ca6",
   "metadata": {
    "ExecuteTime": {
     "end_time": "2022-08-19T16:16:57.120154Z",
     "start_time": "2022-08-19T16:16:57.102542Z"
    }
   },
   "outputs": [
    {
     "data": {
      "text/plain": [
       "(-2.4420752360180176,\n",
       " Vec(7.239942353991285, 5.939314004685654),\n",
       " Vec(-9.484338829958087, -3.92704110047001))"
      ]
     },
     "execution_count": 30,
     "metadata": {},
     "output_type": "execute_result"
    }
   ],
   "source": [
    "a,u,v"
   ]
  },
  {
   "cell_type": "code",
   "execution_count": 31,
   "id": "5df841ff",
   "metadata": {
    "ExecuteTime": {
     "end_time": "2022-08-19T16:16:57.135204Z",
     "start_time": "2022-08-19T16:16:57.128203Z"
    }
   },
   "outputs": [
    {
     "data": {
      "text/plain": [
       "(Vec(5.480985053764635, -4.91412182749508),\n",
       " Vec(5.480985053764638, -4.91412182749508))"
      ]
     },
     "execution_count": 31,
     "metadata": {},
     "output_type": "execute_result"
    }
   ],
   "source": [
    "a*(u+v),a*v+a*u"
   ]
  },
  {
   "cell_type": "code",
   "execution_count": 32,
   "id": "1186d243",
   "metadata": {
    "ExecuteTime": {
     "end_time": "2022-08-19T16:16:57.166193Z",
     "start_time": "2022-08-19T16:16:57.157202Z"
    }
   },
   "outputs": [],
   "source": [
    "def approx_equal_vec2(v,w):\n",
    "    return isclose(v.x,w.x) and isclose(v.y,w.y)\n",
    "\n",
    "for _ in range(0,100):\n",
    "    a=random_scalar()\n",
    "    u,v=random_vec2(),random_vec2()\n",
    "    assert approx_equal_vec2(a * (u + v), a * v + a * u)"
   ]
  },
  {
   "cell_type": "code",
   "execution_count": 33,
   "id": "6307e37e",
   "metadata": {
    "ExecuteTime": {
     "end_time": "2022-08-19T16:16:57.198192Z",
     "start_time": "2022-08-19T16:16:57.187194Z"
    }
   },
   "outputs": [],
   "source": [
    "def test(eq,a,b,u,v,w):\n",
    "    assert eq(u+v,v+u)\n",
    "    assert eq(u+(v+w),(u+v)+w)\n",
    "    assert eq(a*(b*v),(a*b)*v)\n",
    "    assert eq(1*v,v)\n",
    "    assert eq((a+b)*v,a*v+b*v)\n",
    "    assert eq(a*v+a*w,a*(v+w))\n",
    "    \n",
    "for i in range(0,100):\n",
    "    a,b=random_scalar(),random_scalar()\n",
    "    u,v,w=random_vec2(),random_vec2(),random_vec2()\n",
    "    test(approx_equal_vec2,a,b,u,v,w)"
   ]
  },
  {
   "cell_type": "code",
   "execution_count": 34,
   "id": "3e09c638",
   "metadata": {
    "ExecuteTime": {
     "end_time": "2022-08-19T16:16:57.229196Z",
     "start_time": "2022-08-19T16:16:57.219194Z"
    }
   },
   "outputs": [],
   "source": [
    "class Vec3(Vector):\n",
    "    def __init__(self,x,y,z):\n",
    "        self.x=x\n",
    "        self.y=y\n",
    "        self.z=z\n",
    "    def add(self,v3):\n",
    "        return Vec3(self.x+v3.x,self.y+v3.y,self.z+v3.z)\n",
    "    def scale(self,scalar):\n",
    "        return Vec3(scalar*self.x,scalar*self.y,scalar*self.z)\n",
    "    def __eq__(self,other):\n",
    "        return self.x==other.x and self.y==other.y and self.z==other.z\n",
    "    def __repr__(self):\n",
    "        return \"Vec({}, {}, {})\".format(self.x,self.y,self.z)"
   ]
  },
  {
   "cell_type": "code",
   "execution_count": 55,
   "id": "e792588e",
   "metadata": {
    "ExecuteTime": {
     "end_time": "2022-08-19T16:37:58.817803Z",
     "start_time": "2022-08-19T16:37:58.785803Z"
    }
   },
   "outputs": [
    {
     "ename": "TypeError",
     "evalue": "zero() takes 0 positional arguments but 1 was given",
     "output_type": "error",
     "traceback": [
      "\u001b[1;31m---------------------------------------------------------------------------\u001b[0m",
      "\u001b[1;31mTypeError\u001b[0m                                 Traceback (most recent call last)",
      "Input \u001b[1;32mIn [55]\u001b[0m, in \u001b[0;36m<cell line: 1>\u001b[1;34m()\u001b[0m\n\u001b[1;32m----> 1\u001b[0m \u001b[38;5;28;01mclass\u001b[39;00m \u001b[38;5;21;01mCoordinateVector\u001b[39;00m(Vector):\n\u001b[0;32m      2\u001b[0m     \u001b[38;5;129m@abstractmethod\u001b[39m\n\u001b[0;32m      3\u001b[0m     \u001b[38;5;28;01mdef\u001b[39;00m \u001b[38;5;21mdimension\u001b[39m(\u001b[38;5;28mself\u001b[39m):\n\u001b[0;32m      4\u001b[0m         \u001b[38;5;28;01mpass\u001b[39;00m\n",
      "File \u001b[1;32m~\\anaconda3\\lib\\abc.py:107\u001b[0m, in \u001b[0;36mABCMeta.__new__\u001b[1;34m(mcls, name, bases, namespace, **kwargs)\u001b[0m\n\u001b[0;32m    105\u001b[0m \u001b[38;5;28;01mdef\u001b[39;00m \u001b[38;5;21m__new__\u001b[39m(mcls, name, bases, namespace, \u001b[38;5;241m*\u001b[39m\u001b[38;5;241m*\u001b[39mkwargs):\n\u001b[0;32m    106\u001b[0m     \u001b[38;5;28mcls\u001b[39m \u001b[38;5;241m=\u001b[39m \u001b[38;5;28msuper\u001b[39m()\u001b[38;5;241m.\u001b[39m\u001b[38;5;21m__new__\u001b[39m(mcls, name, bases, namespace, \u001b[38;5;241m*\u001b[39m\u001b[38;5;241m*\u001b[39mkwargs)\n\u001b[1;32m--> 107\u001b[0m     \u001b[43m_abc_init\u001b[49m\u001b[43m(\u001b[49m\u001b[38;5;28;43mcls\u001b[39;49m\u001b[43m)\u001b[49m\n\u001b[0;32m    108\u001b[0m     \u001b[38;5;28;01mreturn\u001b[39;00m \u001b[38;5;28mcls\u001b[39m\n",
      "\u001b[1;31mTypeError\u001b[0m: zero() takes 0 positional arguments but 1 was given"
     ]
    }
   ],
   "source": [
    "class CoordinateVector(Vector):\n",
    "    @abstractmethod\n",
    "    def dimension(self):\n",
    "        pass\n",
    "    def __init__(self,*coordinates):\n",
    "        self.coordinates=tuple(x for x in coordinates)\n",
    "    def add(self,other):\n",
    "        return self.__class__(add(self.coordinates,other.coordinates))\n",
    "    def scale(self,scalar):\n",
    "        return self.__class__(scale(scalar,self.coordinates))\n",
    "    def __repr__(self):\n",
    "        return \"{}{}\".format(self.__class__.__qualname__,self.coordinates)"
   ]
  },
  {
   "cell_type": "code",
   "execution_count": 36,
   "id": "69b6c135",
   "metadata": {
    "ExecuteTime": {
     "end_time": "2022-08-19T16:16:57.292354Z",
     "start_time": "2022-08-19T16:16:57.277773Z"
    }
   },
   "outputs": [],
   "source": [
    "class Vec6(CoordinateVector):\n",
    "    def dimension(self):\n",
    "        return 6"
   ]
  },
  {
   "cell_type": "code",
   "execution_count": 37,
   "id": "b3f0457d",
   "metadata": {
    "ExecuteTime": {
     "end_time": "2022-08-19T16:16:57.323906Z",
     "start_time": "2022-08-19T16:16:57.304888Z"
    }
   },
   "outputs": [
    {
     "data": {
      "text/plain": [
       "Vec6((2, 4, 6, 8, 10, 12),)"
      ]
     },
     "execution_count": 37,
     "metadata": {},
     "output_type": "execute_result"
    }
   ],
   "source": [
    "Vec6(1,2,3,4,5,6)+Vec6(1,2,3,4,5,6)"
   ]
  },
  {
   "cell_type": "code",
   "execution_count": 38,
   "id": "f25e821c",
   "metadata": {
    "ExecuteTime": {
     "end_time": "2022-08-19T16:16:57.339888Z",
     "start_time": "2022-08-19T16:16:57.334890Z"
    }
   },
   "outputs": [],
   "source": [
    "class Vector(metaclass=ABCMeta):\n",
    "    @abstractmethod\n",
    "    def scale(self,scalar):\n",
    "        pass\n",
    "    @abstractmethod\n",
    "    def add(self,other):\n",
    "        pass\n",
    "    def __mul__(self,scalar):\n",
    "        return self.scale(scalar)\n",
    "    def __rmul__(self,scalar):\n",
    "        return self.scale(scalar)\n",
    "    def __add__(self,other):\n",
    "        return self.add(other)\n",
    "    def subtract(self,other):\n",
    "        return self.add(-1*other)\n",
    "    def __sub__(self,other):\n",
    "        return self.subtract(other)\n",
    "    @classmethod\n",
    "    @abstractproperty\n",
    "    def zero():\n",
    "        pass\n",
    "    def __neg__(self):\n",
    "        return self.scale(-1)"
   ]
  },
  {
   "cell_type": "code",
   "execution_count": 39,
   "id": "e93003a4",
   "metadata": {
    "ExecuteTime": {
     "end_time": "2022-08-19T16:16:57.385897Z",
     "start_time": "2022-08-19T16:16:57.367897Z"
    },
    "run_control": {
     "marked": true
    }
   },
   "outputs": [],
   "source": [
    "class Vec2(Vector):\n",
    "    def __init__(self,x,y):\n",
    "        self.x=x\n",
    "        self.y=y\n",
    "    def add(self,v2):\n",
    "        return Vec2(self.x+v2.x,self.y+v2.y)\n",
    "    def scale(self,scalar):\n",
    "        return Vec2(scalar*self.x,scalar*self.y)\n",
    "    def __eq__(self,other):\n",
    "        return self.x==other.x and self.y==other.y\n",
    "    def zero():\n",
    "        return Vec2(0,0)\n",
    "    def __repr__(self):\n",
    "        return \"Vec({}, {})\".format(self.x,self.y)"
   ]
  },
  {
   "cell_type": "code",
   "execution_count": 45,
   "id": "7c0805a8",
   "metadata": {
    "ExecuteTime": {
     "end_time": "2022-08-19T16:19:57.676936Z",
     "start_time": "2022-08-19T16:19:57.665929Z"
    }
   },
   "outputs": [
    {
     "data": {
      "text/plain": [
       "Vec(0, 0)"
      ]
     },
     "execution_count": 45,
     "metadata": {},
     "output_type": "execute_result"
    }
   ],
   "source": [
    "Vec2.zero()"
   ]
  },
  {
   "cell_type": "code",
   "execution_count": 40,
   "id": "e7a095b1",
   "metadata": {
    "ExecuteTime": {
     "end_time": "2022-08-19T16:16:57.417967Z",
     "start_time": "2022-08-19T16:16:57.397897Z"
    }
   },
   "outputs": [],
   "source": [
    "def random_vec3():\n",
    "    return Vec3(random_scalar(),random_scalar(),random_scalar())\n",
    "\n",
    "def approx_equal_vec3(v,w):\n",
    "    return isclose(v.x,w.x) and isclose(v.y,w.y) and isclose(v.z,w.z)\n",
    "\n",
    "for i in range(0,100):\n",
    "    a,b=random_scalar(),random_scalar()\n",
    "    u,v,w=random_vec3(),random_vec3(),random_vec3()\n",
    "    test(approx_equal_vec3,a,b,u,v,w)"
   ]
  },
  {
   "cell_type": "code",
   "execution_count": 42,
   "id": "0b0f6613",
   "metadata": {
    "ExecuteTime": {
     "end_time": "2022-08-19T16:17:31.421228Z",
     "start_time": "2022-08-19T16:17:31.398218Z"
    }
   },
   "outputs": [],
   "source": [
    "def random_vec3():\n",
    "    return Vec3(random_scalar(),random_scalar(),random_scalar())\n",
    "\n",
    "def approx_equal_vec3(v,w):\n",
    "    return isclose(v.x,w.x) and isclose(v.y,w.y) and isclose(v.z,w.z)\n",
    "\n",
    "def test(zero,eq,a,b,u,v,w):\n",
    "    assert eq(u+v,v+u)\n",
    "    assert eq(u+(v+w),(u+v)+w)\n",
    "    assert eq(a*(b*v),(a*b)*v)\n",
    "    assert eq(1*v,v)\n",
    "    assert eq((a+b)*v,a*v+b*v)\n",
    "    assert eq(a*v+a*w,a*(v+w))\n",
    "    assert eq(zero+v,v)\n",
    "    assert eq(0*v,zero)\n",
    "    assert eq(-v+v,zero)\n",
    "\n",
    "for i in range(0,100):\n",
    "    a,b=random_scalar(),random_scalar()\n",
    "    u,v,w=random_vec2(),random_vec2(),random_vec2()\n",
    "    test(Vec2.zero(),approx_equal_vec2,a,b,u,v,w)"
   ]
  },
  {
   "cell_type": "code",
   "execution_count": 52,
   "id": "3ddeaf24",
   "metadata": {
    "ExecuteTime": {
     "end_time": "2022-08-19T16:28:20.661162Z",
     "start_time": "2022-08-19T16:28:20.637159Z"
    }
   },
   "outputs": [],
   "source": [
    "class Vector(metaclass=ABCMeta):\n",
    "    @abstractmethod\n",
    "    def scale(self,scalar):\n",
    "        pass\n",
    "    @abstractmethod\n",
    "    def add(self,other):\n",
    "        pass\n",
    "    def __mul__(self,scalar):\n",
    "        return self.scale(scalar)\n",
    "    def __rmul__(self,scalar):\n",
    "        return self.scale(scalar)\n",
    "    def __add__(self,other):\n",
    "        assert self.__class__==other.__class__\n",
    "        return self.add(other)\n",
    "    def subtract(self,other):\n",
    "        assert self.__class__==other.__class__\n",
    "        return self.add(-1*other)\n",
    "    def __sub__(self,other):\n",
    "        assert self.__class__==other.__class__\n",
    "        return self.subtract(other)\n",
    "    @classmethod\n",
    "    @abstractproperty\n",
    "    def zero():\n",
    "        pass\n",
    "    def __neg__(self):\n",
    "        return self.scale(-1)\n",
    "\n",
    "class Vec2(Vector):\n",
    "    def __init__(self,x,y):\n",
    "        self.x=x\n",
    "        self.y=y\n",
    "    def add(self,v2):\n",
    "        assert self.__class__==other.__class__\n",
    "        return Vec2(self.x+v2.x,self.y+v2.y)\n",
    "    def scale(self,scalar):\n",
    "        return Vec2(scalar*self.x,scalar*self.y)\n",
    "    def __eq__(self,other):\n",
    "        assert self.__class__==other.__class__\n",
    "        return self.x==other.x and self.y==other.y\n",
    "    def zero():\n",
    "        return Vec2(0,0)\n",
    "    def __repr__(self):\n",
    "        return \"Vec({}, {})\".format(self.x,self.y)\n",
    "    \n",
    "class Vec3(Vector):\n",
    "    def __init__(self,x,y,z):\n",
    "        self.x=x\n",
    "        self.y=y\n",
    "        self.z=z\n",
    "    def add(self,other):\n",
    "        assert self.__class__==other.__class__\n",
    "        return Vec3(self.x+other.x,self.y+other.y,self.z+other.z)\n",
    "    def scale(self,scalar):\n",
    "        return Vec3(scalar*self.x,scalar*self.y,scalar*self.z)\n",
    "    def __eq__(self,other):\n",
    "        assert self.__class__==other.__class__\n",
    "        return self.x==other.x and self.y==other.y and self.z==other.z\n",
    "    def __repr__(self):\n",
    "        return \"Vec({}, {}, {})\".format(self.x,self.y,self.z)\n",
    "    def zero():\n",
    "        return Vec3(0,0,0)"
   ]
  },
  {
   "cell_type": "code",
   "execution_count": 50,
   "id": "4ca2b973",
   "metadata": {
    "ExecuteTime": {
     "end_time": "2022-08-19T16:27:29.311059Z",
     "start_time": "2022-08-19T16:27:29.298027Z"
    }
   },
   "outputs": [
    {
     "data": {
      "text/plain": [
       "Vec(0, 0, 0)"
      ]
     },
     "execution_count": 50,
     "metadata": {},
     "output_type": "execute_result"
    }
   ],
   "source": [
    "Vec3.zero()"
   ]
  },
  {
   "cell_type": "code",
   "execution_count": 51,
   "id": "1011a213",
   "metadata": {
    "ExecuteTime": {
     "end_time": "2022-08-19T16:27:49.553231Z",
     "start_time": "2022-08-19T16:27:49.523229Z"
    }
   },
   "outputs": [
    {
     "ename": "AssertionError",
     "evalue": "",
     "output_type": "error",
     "traceback": [
      "\u001b[1;31m---------------------------------------------------------------------------\u001b[0m",
      "\u001b[1;31mAssertionError\u001b[0m                            Traceback (most recent call last)",
      "Input \u001b[1;32mIn [51]\u001b[0m, in \u001b[0;36m<cell line: 1>\u001b[1;34m()\u001b[0m\n\u001b[1;32m----> 1\u001b[0m \u001b[43mVec2\u001b[49m\u001b[43m(\u001b[49m\u001b[38;5;241;43m1\u001b[39;49m\u001b[43m,\u001b[49m\u001b[38;5;241;43m2\u001b[39;49m\u001b[43m)\u001b[49m\u001b[38;5;241;43m==\u001b[39;49m\u001b[43mVec3\u001b[49m\u001b[43m(\u001b[49m\u001b[38;5;241;43m1\u001b[39;49m\u001b[43m,\u001b[49m\u001b[38;5;241;43m2\u001b[39;49m\u001b[43m,\u001b[49m\u001b[38;5;241;43m3\u001b[39;49m\u001b[43m)\u001b[49m\n",
      "Input \u001b[1;32mIn [47]\u001b[0m, in \u001b[0;36mVec2.__eq__\u001b[1;34m(self, other)\u001b[0m\n\u001b[0;32m     37\u001b[0m \u001b[38;5;28;01mdef\u001b[39;00m \u001b[38;5;21m__eq__\u001b[39m(\u001b[38;5;28mself\u001b[39m,other):\n\u001b[1;32m---> 38\u001b[0m     \u001b[38;5;28;01massert\u001b[39;00m \u001b[38;5;28mself\u001b[39m\u001b[38;5;241m.\u001b[39m\u001b[38;5;18m__class__\u001b[39m\u001b[38;5;241m==\u001b[39mother\u001b[38;5;241m.\u001b[39m\u001b[38;5;18m__class__\u001b[39m\n\u001b[0;32m     39\u001b[0m     \u001b[38;5;28;01mreturn\u001b[39;00m \u001b[38;5;28mself\u001b[39m\u001b[38;5;241m.\u001b[39mx\u001b[38;5;241m==\u001b[39mother\u001b[38;5;241m.\u001b[39mx \u001b[38;5;129;01mand\u001b[39;00m \u001b[38;5;28mself\u001b[39m\u001b[38;5;241m.\u001b[39my\u001b[38;5;241m==\u001b[39mother\u001b[38;5;241m.\u001b[39my\n",
      "\u001b[1;31mAssertionError\u001b[0m: "
     ]
    }
   ],
   "source": [
    "# Vec2(1,2)==Vec3(1,2,3)"
   ]
  },
  {
   "cell_type": "code",
   "execution_count": 53,
   "id": "4db02abc",
   "metadata": {
    "ExecuteTime": {
     "end_time": "2022-08-19T16:29:11.572427Z",
     "start_time": "2022-08-19T16:29:11.549422Z"
    }
   },
   "outputs": [],
   "source": [
    "class Vector(metaclass=ABCMeta):\n",
    "    @abstractmethod\n",
    "    def scale(self,scalar):\n",
    "        pass\n",
    "    @abstractmethod\n",
    "    def add(self,other):\n",
    "        pass\n",
    "    def __mul__(self,scalar):\n",
    "        return self.scale(scalar)\n",
    "    def __rmul__(self,scalar):\n",
    "        return self.scale(scalar)\n",
    "    def __add__(self,other):\n",
    "        assert self.__class__==other.__class__\n",
    "        return self.add(other)\n",
    "    def subtract(self,other):\n",
    "        assert self.__class__==other.__class__\n",
    "        return self.add(-1*other)\n",
    "    def __sub__(self,other):\n",
    "        assert self.__class__==other.__class__\n",
    "        return self.subtract(other)\n",
    "    def __truediv__(self,scalar):\n",
    "        return self.scale(1.0/scalar)\n",
    "    @classmethod\n",
    "    @abstractproperty\n",
    "    def zero():\n",
    "        pass\n",
    "    def __neg__(self):\n",
    "        return self.scale(-1)\n",
    "\n",
    "class Vec2(Vector):\n",
    "    def __init__(self,x,y):\n",
    "        self.x=x\n",
    "        self.y=y\n",
    "    def add(self,v2):\n",
    "        assert self.__class__==other.__class__\n",
    "        return Vec2(self.x+v2.x,self.y+v2.y)\n",
    "    def scale(self,scalar):\n",
    "        return Vec2(scalar*self.x,scalar*self.y)\n",
    "    def __eq__(self,other):\n",
    "        assert self.__class__==other.__class__\n",
    "        return self.x==other.x and self.y==other.y\n",
    "    def zero():\n",
    "        return Vec2(0,0)\n",
    "    def __repr__(self):\n",
    "        return \"Vec({}, {})\".format(self.x,self.y)\n",
    "    \n",
    "class Vec3(Vector):\n",
    "    def __init__(self,x,y,z):\n",
    "        self.x=x\n",
    "        self.y=y\n",
    "        self.z=z\n",
    "    def add(self,other):\n",
    "        assert self.__class__==other.__class__\n",
    "        return Vec3(self.x+other.x,self.y+other.y,self.z+other.z)\n",
    "    def scale(self,scalar):\n",
    "        return Vec3(scalar*self.x,scalar*self.y,scalar*self.z)\n",
    "    def __eq__(self,other):\n",
    "        assert self.__class__==other.__class__\n",
    "        return self.x==other.x and self.y==other.y and self.z==other.z\n",
    "    def __repr__(self):\n",
    "        return \"Vec({}, {}, {})\".format(self.x,self.y,self.z)\n",
    "    def zero():\n",
    "        return Vec3(0,0,0)"
   ]
  },
  {
   "cell_type": "code",
   "execution_count": 54,
   "id": "e8b71567",
   "metadata": {
    "ExecuteTime": {
     "end_time": "2022-08-19T16:29:43.761122Z",
     "start_time": "2022-08-19T16:29:43.751113Z"
    }
   },
   "outputs": [
    {
     "data": {
      "text/plain": [
       "Vec(0.5, 1.0)"
      ]
     },
     "execution_count": 54,
     "metadata": {},
     "output_type": "execute_result"
    }
   ],
   "source": [
    "Vec2(1,2)/2"
   ]
  },
  {
   "cell_type": "code",
   "execution_count": null,
   "id": "2a1ca873",
   "metadata": {},
   "outputs": [],
   "source": [
    "class "
   ]
  }
 ],
 "metadata": {
  "hide_input": false,
  "kernelspec": {
   "display_name": "Python 3 (ipykernel)",
   "language": "python",
   "name": "python3"
  },
  "language_info": {
   "codemirror_mode": {
    "name": "ipython",
    "version": 3
   },
   "file_extension": ".py",
   "mimetype": "text/x-python",
   "name": "python",
   "nbconvert_exporter": "python",
   "pygments_lexer": "ipython3",
   "version": "3.9.12"
  },
  "nbTranslate": {
   "displayLangs": [
    "*"
   ],
   "hotkey": "alt-t",
   "langInMainMenu": true,
   "sourceLang": "en",
   "targetLang": "fr",
   "useGoogleTranslate": true
  },
  "toc": {
   "base_numbering": 1,
   "nav_menu": {},
   "number_sections": true,
   "sideBar": true,
   "skip_h1_title": false,
   "title_cell": "Table of Contents",
   "title_sidebar": "Contents",
   "toc_cell": false,
   "toc_position": {},
   "toc_section_display": true,
   "toc_window_display": false
  },
  "varInspector": {
   "cols": {
    "lenName": 16,
    "lenType": 16,
    "lenVar": 40
   },
   "kernels_config": {
    "python": {
     "delete_cmd_postfix": "",
     "delete_cmd_prefix": "del ",
     "library": "var_list.py",
     "varRefreshCmd": "print(var_dic_list())"
    },
    "r": {
     "delete_cmd_postfix": ") ",
     "delete_cmd_prefix": "rm(",
     "library": "var_list.r",
     "varRefreshCmd": "cat(var_dic_list()) "
    }
   },
   "types_to_exclude": [
    "module",
    "function",
    "builtin_function_or_method",
    "instance",
    "_Feature"
   ],
   "window_display": false
  }
 },
 "nbformat": 4,
 "nbformat_minor": 5
}
