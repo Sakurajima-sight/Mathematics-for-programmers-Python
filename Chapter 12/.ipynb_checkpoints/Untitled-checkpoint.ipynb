{
 "cells": [
  {
   "cell_type": "code",
   "execution_count": 1,
   "id": "9d489b53",
   "metadata": {
    "ExecuteTime": {
     "end_time": "2022-08-28T03:49:12.717251Z",
     "start_time": "2022-08-28T03:49:11.972235Z"
    }
   },
   "outputs": [],
   "source": [
    "import matplotlib.pyplot as plt\n",
    "from mpl_toolkits.mplot3d import Axes3D\n",
    "from matplotlib import cm\n",
    "import numpy as np\n",
    "from math import sin, cos, pi\n",
    "\n",
    "def plot_function(f,xmin,xmax,**kwargs):\n",
    "    ts = np.linspace(xmin,xmax,1000)\n",
    "    plt.plot(ts,[f(t) for t in ts],**kwargs)"
   ]
  },
  {
   "cell_type": "code",
   "execution_count": 2,
   "id": "45eda456",
   "metadata": {
    "ExecuteTime": {
     "end_time": "2022-08-28T03:49:12.733305Z",
     "start_time": "2022-08-28T03:49:12.719234Z"
    }
   },
   "outputs": [],
   "source": [
    "def trajectory(theta,speed=20,height=0,dt=0.01,g=-9.81):\n",
    "    vx=speed*cos(pi*theta/180)\n",
    "    vz=speed*sin(pi*theta/180)    \n",
    "    t,x,z=0,0,height\n",
    "    ts,xs,zs=[t],[x],[z]\n",
    "    while z>=0:\n",
    "        t+=dt\n",
    "        vz+=g*dt\n",
    "        x+=vx*dt\n",
    "        z+=vz*dt\n",
    "        ts.append(t)\n",
    "        xs.append(x)\n",
    "        zs.append(z)\n",
    "    return ts,xs,zs"
   ]
  },
  {
   "cell_type": "code",
   "execution_count": 3,
   "id": "206bbb35",
   "metadata": {
    "ExecuteTime": {
     "end_time": "2022-08-28T03:49:12.748864Z",
     "start_time": "2022-08-28T03:49:12.734838Z"
    }
   },
   "outputs": [],
   "source": [
    "def plot_trajectories(*trajs,show_seconds=False):\n",
    "    for traj in trajs:\n",
    "        xs, zs=traj[1], traj[2]\n",
    "        plt.plot(xs,zs)\n",
    "        if show_seconds:\n",
    "            second_indices=[]\n",
    "            second=0\n",
    "            for i,t in enumerate(traj[0]):\n",
    "                if t>=second:\n",
    "                    second_indices.append(i)\n",
    "                    second+=1\n",
    "            plt.scatter([xs[i] for i in second_indices], [zs[i] for i in second_indices])\n",
    "    xl=plt.xlim()\n",
    "    plt.plot(plt.xlim(),[0,0],c='k')\n",
    "    plt.xlim(*xl)\n",
    "    \n",
    "    width=7\n",
    "    coords_height=(plt.ylim()[1] - plt.ylim()[0])\n",
    "    coords_width=(plt.xlim()[1] - plt.xlim()[0])\n",
    "    plt.gcf().set_size_inches(width, width*coords_height/coords_width)"
   ]
  },
  {
   "cell_type": "code",
   "execution_count": 4,
   "id": "7664f1dd",
   "metadata": {
    "ExecuteTime": {
     "end_time": "2022-08-28T03:49:12.860863Z",
     "start_time": "2022-08-28T03:49:12.750854Z"
    }
   },
   "outputs": [
    {
     "data": {
      "image/png": "[encoded data removed]",
      "text/plain": [
       "<Figure size 504x190.027 with 1 Axes>"
      ]
     },
     "metadata": {
      "needs_background": "light"
     },
     "output_type": "display_data"
    }
   ],
   "source": [
    "plot_trajectories(\n",
    "    trajectory(45),\n",
    "    trajectory(60)\n",
    ")"
   ]
  },
  {
   "cell_type": "code",
   "execution_count": 5,
   "id": "edce617d",
   "metadata": {
    "ExecuteTime": {
     "end_time": "2022-08-28T03:49:12.876854Z",
     "start_time": "2022-08-28T03:49:12.862839Z"
    }
   },
   "outputs": [],
   "source": [
    "def landing_position(traj):\n",
    "    return traj[1][-1]"
   ]
  },
  {
   "cell_type": "code",
   "execution_count": 6,
   "id": "c85efcfe",
   "metadata": {
    "ExecuteTime": {
     "end_time": "2022-08-28T03:49:12.892844Z",
     "start_time": "2022-08-28T03:49:12.878847Z"
    }
   },
   "outputs": [],
   "source": [
    "def hang_time(traj):\n",
    "    return traj[0][-1]"
   ]
  },
  {
   "cell_type": "code",
   "execution_count": 7,
   "id": "c4a30b5a",
   "metadata": {
    "ExecuteTime": {
     "end_time": "2022-08-28T03:49:12.908843Z",
     "start_time": "2022-08-28T03:49:12.894837Z"
    }
   },
   "outputs": [],
   "source": [
    "def max_height(traj):\n",
    "    return max(traj[2])"
   ]
  },
  {
   "cell_type": "code",
   "execution_count": 8,
   "id": "c9ffcd02",
   "metadata": {
    "ExecuteTime": {
     "end_time": "2022-08-28T03:49:13.004856Z",
     "start_time": "2022-08-28T03:49:12.910842Z"
    }
   },
   "outputs": [
    {
     "data": {
      "text/plain": [
       "<matplotlib.collections.PathCollection at 0x1dfd1f14520>"
      ]
     },
     "execution_count": 8,
     "metadata": {},
     "output_type": "execute_result"
    },
    {
     "data": {
      "image/png": "[encoded data removed]",
      "text/plain": [
       "<Figure size 432x288 with 1 Axes>"
      ]
     },
     "metadata": {
      "needs_background": "light"
     },
     "output_type": "display_data"
    }
   ],
   "source": [
    "import matplotlib.pyplot as plt\n",
    "angles=range(0,90,5)\n",
    "landing_positions=[landing_position(trajectory(theta)) for theta in angles]\n",
    "plt.scatter(angles,landing_positions)"
   ]
  },
  {
   "cell_type": "code",
   "execution_count": 9,
   "id": "203b2d06",
   "metadata": {
    "ExecuteTime": {
     "end_time": "2022-08-28T03:49:13.019867Z",
     "start_time": "2022-08-28T03:49:13.006845Z"
    }
   },
   "outputs": [
    {
     "data": {
      "text/plain": [
       "40.10994684444007"
      ]
     },
     "execution_count": 9,
     "metadata": {},
     "output_type": "execute_result"
    }
   ],
   "source": [
    "landing_position(trajectory(50))"
   ]
  },
  {
   "cell_type": "code",
   "execution_count": 10,
   "id": "846a36be",
   "metadata": {
    "ExecuteTime": {
     "end_time": "2022-08-28T03:49:13.035846Z",
     "start_time": "2022-08-28T03:49:13.022844Z"
    }
   },
   "outputs": [
    {
     "data": {
      "text/plain": [
       "-40.10994684444007"
      ]
     },
     "execution_count": 10,
     "metadata": {},
     "output_type": "execute_result"
    }
   ],
   "source": [
    "landing_position(trajectory(130))"
   ]
  },
  {
   "cell_type": "code",
   "execution_count": 11,
   "id": "2367dbad",
   "metadata": {
    "ExecuteTime": {
     "end_time": "2022-08-28T03:49:13.051849Z",
     "start_time": "2022-08-28T03:49:13.037845Z"
    }
   },
   "outputs": [],
   "source": [
    "def plot_trajectories(*trajs,show_seconds=False):\n",
    "    for traj in trajs:\n",
    "        xs, zs=traj[1], traj[2]\n",
    "        plt.plot(xs,zs)\n",
    "        if show_seconds:\n",
    "            second_indices=[]\n",
    "            second=0\n",
    "            for i,t in enumerate(traj[0]):\n",
    "                if t>=second:\n",
    "                    second_indices.append(i)\n",
    "                    second+=1\n",
    "            plt.scatter([xs[i] for i in second_indices],\n",
    "                        [zs[i] for i in second_indices])\n",
    "    xl=plt.xlim()\n",
    "    plt.plot(plt.xlim(),[0,0],c='k')\n",
    "    plt.xlim(*xl)\n",
    "    \n",
    "    width=7\n",
    "    coords_height=(plt.ylim()[1] - plt.ylim()[0])\n",
    "    coords_width=(plt.xlim()[1] - plt.xlim()[0])\n",
    "    plt.gcf().set_size_inches(width, width*coords_height/coords_width)"
   ]
  },
  {
   "cell_type": "code",
   "execution_count": 12,
   "id": "df433057",
   "metadata": {
    "ExecuteTime": {
     "end_time": "2022-08-28T03:49:13.178864Z",
     "start_time": "2022-08-28T03:49:13.053839Z"
    }
   },
   "outputs": [
    {
     "data": {
      "image/png": "[encoded data removed]",
      "text/plain": [
       "<Figure size 504x245.343 with 1 Axes>"
      ]
     },
     "metadata": {
      "needs_background": "light"
     },
     "output_type": "display_data"
    }
   ],
   "source": [
    "plot_trajectories(\n",
    "    trajectory(20),\n",
    "    trajectory(45),\n",
    "    trajectory(60),\n",
    "    trajectory(80),\n",
    "    show_seconds=True\n",
    ")"
   ]
  },
  {
   "cell_type": "code",
   "execution_count": 13,
   "id": "b336a1ce",
   "metadata": {
    "ExecuteTime": {
     "end_time": "2022-08-28T03:49:13.274863Z",
     "start_time": "2022-08-28T03:49:13.180838Z"
    }
   },
   "outputs": [
    {
     "data": {
      "text/plain": [
       "<matplotlib.collections.PathCollection at 0x1dfd2032bb0>"
      ]
     },
     "execution_count": 13,
     "metadata": {},
     "output_type": "execute_result"
    },
    {
     "data": {
      "image/png": "[encoded data removed]",
      "text/plain": [
       "<Figure size 432x288 with 1 Axes>"
      ]
     },
     "metadata": {
      "needs_background": "light"
     },
     "output_type": "display_data"
    }
   ],
   "source": [
    "test_angles=range(0,181,5)\n",
    "hang_time=[hang_time(trajectory(theta)) for theta in test_angles]\n",
    "plt.scatter(test_angles,hang_time)"
   ]
  },
  {
   "cell_type": "code",
   "execution_count": 14,
   "id": "b7672fd4",
   "metadata": {
    "ExecuteTime": {
     "end_time": "2022-08-28T03:49:13.290848Z",
     "start_time": "2022-08-28T03:49:13.276843Z"
    },
    "run_control": {
     "marked": true
    }
   },
   "outputs": [],
   "source": [
    "def plot_trajectory_metric(metric,thetas,**settings):\n",
    "    plt.scatter(thetas,\n",
    "               [metric(trajectory(theta,**settings))\n",
    "               for theta in thetas])"
   ]
  },
  {
   "cell_type": "code",
   "execution_count": 16,
   "id": "34a91755",
   "metadata": {
    "ExecuteTime": {
     "end_time": "2022-08-28T03:49:31.414614Z",
     "start_time": "2022-08-28T03:49:31.386604Z"
    }
   },
   "outputs": [
    {
     "ename": "TypeError",
     "evalue": "plot_trajectory_metric() takes 2 positional arguments but 38 were given",
     "output_type": "error",
     "traceback": [
      "\u001b[1;31m---------------------------------------------------------------------------\u001b[0m",
      "\u001b[1;31mTypeError\u001b[0m                                 Traceback (most recent call last)",
      "Input \u001b[1;32mIn [16]\u001b[0m, in \u001b[0;36m<cell line: 1>\u001b[1;34m()\u001b[0m\n\u001b[1;32m----> 1\u001b[0m \u001b[43mplot_trajectory_metric\u001b[49m\u001b[43m(\u001b[49m\u001b[38;5;241;43m*\u001b[39;49m\u001b[43mhang_time\u001b[49m\u001b[43m,\u001b[49m\u001b[38;5;28;43mrange\u001b[39;49m\u001b[43m(\u001b[49m\u001b[38;5;241;43m0\u001b[39;49m\u001b[43m,\u001b[49m\u001b[38;5;241;43m181\u001b[39;49m\u001b[43m,\u001b[49m\u001b[38;5;241;43m5\u001b[39;49m\u001b[43m)\u001b[49m\u001b[43m)\u001b[49m\n",
      "\u001b[1;31mTypeError\u001b[0m: plot_trajectory_metric() takes 2 positional arguments but 38 were given"
     ]
    }
   ],
   "source": [
    "plot_trajectory_metric(hang_time,range(0,181,5))"
   ]
  },
  {
   "cell_type": "code",
   "execution_count": 19,
   "id": "7da57a26",
   "metadata": {
    "ExecuteTime": {
     "end_time": "2022-08-28T03:51:55.797288Z",
     "start_time": "2022-08-28T03:51:55.739278Z"
    }
   },
   "outputs": [
    {
     "ename": "TypeError",
     "evalue": "'list' object is not callable",
     "output_type": "error",
     "traceback": [
      "\u001b[1;31m---------------------------------------------------------------------------\u001b[0m",
      "\u001b[1;31mTypeError\u001b[0m                                 Traceback (most recent call last)",
      "Input \u001b[1;32mIn [19]\u001b[0m, in \u001b[0;36m<cell line: 38>\u001b[1;34m()\u001b[0m\n\u001b[0;32m     35\u001b[0m     plt\u001b[38;5;241m.\u001b[39mgcf()\u001b[38;5;241m.\u001b[39mset_size_inches(width , width \u001b[38;5;241m*\u001b[39m coords_height \u001b[38;5;241m/\u001b[39m coords_width)\n\u001b[0;32m     37\u001b[0m test_angles \u001b[38;5;241m=\u001b[39m \u001b[38;5;28mrange\u001b[39m(\u001b[38;5;241m0\u001b[39m,\u001b[38;5;241m181\u001b[39m,\u001b[38;5;241m5\u001b[39m)\n\u001b[1;32m---> 38\u001b[0m hang_times \u001b[38;5;241m=\u001b[39m [hang_time(trajectory(theta)) \u001b[38;5;28;01mfor\u001b[39;00m theta \u001b[38;5;129;01min\u001b[39;00m test_angles]\n\u001b[0;32m     39\u001b[0m plt\u001b[38;5;241m.\u001b[39mscatter(test_angles, hang_times)\n\u001b[0;32m     41\u001b[0m \u001b[38;5;28;01mdef\u001b[39;00m \u001b[38;5;21mplot_trajectory_metric\u001b[39m(metric,thetas,\u001b[38;5;241m*\u001b[39m\u001b[38;5;241m*\u001b[39msettings):\n",
      "Input \u001b[1;32mIn [19]\u001b[0m, in \u001b[0;36m<listcomp>\u001b[1;34m(.0)\u001b[0m\n\u001b[0;32m     35\u001b[0m     plt\u001b[38;5;241m.\u001b[39mgcf()\u001b[38;5;241m.\u001b[39mset_size_inches(width , width \u001b[38;5;241m*\u001b[39m coords_height \u001b[38;5;241m/\u001b[39m coords_width)\n\u001b[0;32m     37\u001b[0m test_angles \u001b[38;5;241m=\u001b[39m \u001b[38;5;28mrange\u001b[39m(\u001b[38;5;241m0\u001b[39m,\u001b[38;5;241m181\u001b[39m,\u001b[38;5;241m5\u001b[39m)\n\u001b[1;32m---> 38\u001b[0m hang_times \u001b[38;5;241m=\u001b[39m [\u001b[43mhang_time\u001b[49m\u001b[43m(\u001b[49m\u001b[43mtrajectory\u001b[49m\u001b[43m(\u001b[49m\u001b[43mtheta\u001b[49m\u001b[43m)\u001b[49m\u001b[43m)\u001b[49m \u001b[38;5;28;01mfor\u001b[39;00m theta \u001b[38;5;129;01min\u001b[39;00m test_angles]\n\u001b[0;32m     39\u001b[0m plt\u001b[38;5;241m.\u001b[39mscatter(test_angles, hang_times)\n\u001b[0;32m     41\u001b[0m \u001b[38;5;28;01mdef\u001b[39;00m \u001b[38;5;21mplot_trajectory_metric\u001b[39m(metric,thetas,\u001b[38;5;241m*\u001b[39m\u001b[38;5;241m*\u001b[39msettings):\n",
      "\u001b[1;31mTypeError\u001b[0m: 'list' object is not callable"
     ]
    }
   ],
   "source": [
    "def trajectory(theta,speed=20,height=0,dt=0.01,g=-9.81):\n",
    "    vx = 20 * cos(pi * theta / 180)\n",
    "    vz = 20 * sin(pi * theta / 180)\n",
    "    t,x,z = 0, 0, height\n",
    "    ts, xs, zs = [t], [x], [z]\n",
    "    while z >= 0:\n",
    "        t += dt\n",
    "        vz += g * dt\n",
    "        x += vx * dt\n",
    "        z += vz * dt\n",
    "        ts.append(t)\n",
    "        xs.append(x)\n",
    "        zs.append(z)\n",
    "    return ts, xs, zs\n",
    "\n",
    "def plot_trajectories(*trajs,show_seconds=False):\n",
    "    for traj in trajs:\n",
    "        xs, zs = traj[1], traj[2]\n",
    "        plt.plot(xs,zs)\n",
    "        if show_seconds:\n",
    "            second_indices = []\n",
    "            second = 0\n",
    "            for i,t in enumerate(traj[0]):\n",
    "                if t>= second:\n",
    "                    second_indices.append(i)\n",
    "                    second += 1\n",
    "            plt.scatter([xs[i] for i in second_indices], [zs[i] for i in second_indices])\n",
    "    xl = plt.xlim()\n",
    "    plt.plot(plt.xlim(),[0,0],c='k')\n",
    "    plt.xlim(*xl)\n",
    "    \n",
    "    width = 7\n",
    "    coords_height = (plt.ylim()[1] - plt.ylim()[0])\n",
    "    coords_width = (plt.xlim()[1] - plt.xlim()[0])\n",
    "    plt.gcf().set_size_inches(width , width * coords_height / coords_width)\n",
    "\n",
    "test_angles = range(0,181,5)\n",
    "hang_times = [hang_time(trajectory(theta)) for theta in test_angles]\n",
    "plt.scatter(test_angles, hang_times)\n",
    "\n",
    "def plot_trajectory_metric(metric,thetas,**settings):\n",
    "    plt.scatter(thetas,[metric(trajectory(theta,**settings)) for theta in thetas])\n",
    "    \n",
    "plot_trajectory_metric(hang_time, range(0,181,5))"
   ]
  },
  {
   "cell_type": "code",
   "execution_count": null,
   "id": "ad2c36ce",
   "metadata": {},
   "outputs": [],
   "source": []
  }
 ],
 "metadata": {
  "hide_input": false,
  "kernelspec": {
   "display_name": "Python 3 (ipykernel)",
   "language": "python",
   "name": "python3"
  },
  "language_info": {
   "codemirror_mode": {
    "name": "ipython",
    "version": 3
   },
   "file_extension": ".py",
   "mimetype": "text/x-python",
   "name": "python",
   "nbconvert_exporter": "python",
   "pygments_lexer": "ipython3",
   "version": "3.9.12"
  },
  "nbTranslate": {
   "displayLangs": [
    "*"
   ],
   "hotkey": "alt-t",
   "langInMainMenu": true,
   "sourceLang": "en",
   "targetLang": "fr",
   "useGoogleTranslate": true
  },
  "toc": {
   "base_numbering": 1,
   "nav_menu": {},
   "number_sections": true,
   "sideBar": true,
   "skip_h1_title": false,
   "title_cell": "Table of Contents",
   "title_sidebar": "Contents",
   "toc_cell": false,
   "toc_position": {},
   "toc_section_display": true,
   "toc_window_display": false
  },
  "varInspector": {
   "cols": {
    "lenName": 16,
    "lenType": 16,
    "lenVar": 40
   },
   "kernels_config": {
    "python": {
     "delete_cmd_postfix": "",
     "delete_cmd_prefix": "del ",
     "library": "var_list.py",
     "varRefreshCmd": "print(var_dic_list())"
    },
    "r": {
     "delete_cmd_postfix": ") ",
     "delete_cmd_prefix": "rm(",
     "library": "var_list.r",
     "varRefreshCmd": "cat(var_dic_list()) "
    }
   },
   "types_to_exclude": [
    "module",
    "function",
    "builtin_function_or_method",
    "instance",
    "_Feature"
   ],
   "window_display": false
  }
 },
 "nbformat": 4,
 "nbformat_minor": 5
}
