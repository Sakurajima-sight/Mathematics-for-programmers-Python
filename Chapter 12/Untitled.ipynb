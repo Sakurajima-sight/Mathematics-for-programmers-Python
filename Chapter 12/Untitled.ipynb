{
 "cells": [
  {
   "cell_type": "code",
   "execution_count": 1,
   "id": "d790f311",
   "metadata": {
    "ExecuteTime": {
     "end_time": "2022-08-27T15:36:10.086788Z",
     "start_time": "2022-08-27T15:36:09.457089Z"
    }
   },
   "outputs": [],
   "source": [
    "import matplotlib.pyplot as plt\n",
    "from mpl_toolkits.mplot3d import Axes3D\n",
    "from matplotlib import cm\n",
    "import numpy as np\n",
    "from math import sin, cos, pi\n",
    "\n",
    "def plot_function(f,xmin,xmax,**kwargs):\n",
    "    ts = np.linspace(xmin,xmax,1000)\n",
    "    plt.plot(ts,[f(t) for t in ts],**kwargs)"
   ]
  },
  {
   "cell_type": "code",
   "execution_count": 5,
   "id": "e4e081a8",
   "metadata": {
    "ExecuteTime": {
     "end_time": "2022-08-27T15:40:54.248943Z",
     "start_time": "2022-08-27T15:40:54.237966Z"
    }
   },
   "outputs": [],
   "source": [
    "def trajectory(theta,speed=20,height=0,dt=0.01,g=-9.81):\n",
    "    vx=speed*cos(pi*theta/180)\n",
    "    vz=speed*sin(pi*theta/180)    \n",
    "    t,x,z=0,0,height\n",
    "    ts,xs,zs=[t],[x],[z]\n",
    "    while z>=0:\n",
    "        t+=dt\n",
    "        vz+=g*dt\n",
    "        x+=vx*dt\n",
    "        z+=vz*dt\n",
    "        ts.append(t)\n",
    "        xs.append(x)\n",
    "        zs.append(z)\n",
    "    return ts,xs,zs"
   ]
  },
  {
   "cell_type": "code",
   "execution_count": 6,
   "id": "318edaec",
   "metadata": {
    "ExecuteTime": {
     "end_time": "2022-08-27T15:40:54.374310Z",
     "start_time": "2022-08-27T15:40:54.360312Z"
    }
   },
   "outputs": [],
   "source": [
    "def plot_trajectories(*trajs,show_seconds=False):\n",
    "    for traj in trajs:\n",
    "        xs, zs = traj[1], traj[2]\n",
    "        plt.plot(xs,zs)\n",
    "        if show_seconds:\n",
    "            second_indices = []\n",
    "            second = 0\n",
    "            for i,t in enumerate(traj[0]):\n",
    "                if t>= second:\n",
    "                    second_indices.append(i)\n",
    "                    second += 1\n",
    "            plt.scatter([xs[i] for i in second_indices], [zs[i] for i in second_indices])\n",
    "    xl = plt.xlim()\n",
    "    plt.plot(plt.xlim(),[0,0],c='k')\n",
    "    plt.xlim(*xl)\n",
    "    \n",
    "    width = 7\n",
    "    coords_height = (plt.ylim()[1] - plt.ylim()[0])\n",
    "    coords_width = (plt.xlim()[1] - plt.xlim()[0])\n",
    "    plt.gcf().set_size_inches(width , width * coords_height / coords_width)"
   ]
  },
  {
   "cell_type": "code",
   "execution_count": 7,
   "id": "5de1fdd8",
   "metadata": {
    "ExecuteTime": {
     "end_time": "2022-08-27T15:40:54.547476Z",
     "start_time": "2022-08-27T15:40:54.432478Z"
    }
   },
   "outputs": [
    {
     "data": {
      "image/png": "[encoded data removed]",
      "text/plain": [
       "<Figure size 504x190.027 with 1 Axes>"
      ]
     },
     "metadata": {
      "needs_background": "light"
     },
     "output_type": "display_data"
    }
   ],
   "source": [
    "plot_trajectories(\n",
    "    trajectory(45),\n",
    "    trajectory(60)\n",
    ")"
   ]
  },
  {
   "cell_type": "code",
   "execution_count": 8,
   "id": "906c4952",
   "metadata": {
    "ExecuteTime": {
     "end_time": "2022-08-27T15:46:19.612626Z",
     "start_time": "2022-08-27T15:46:19.607620Z"
    }
   },
   "outputs": [],
   "source": [
    "def landing_position(traj):\n",
    "    return traj[1][-1]"
   ]
  },
  {
   "cell_type": "code",
   "execution_count": 9,
   "id": "ff0ec166",
   "metadata": {
    "ExecuteTime": {
     "end_time": "2022-08-27T15:49:14.007776Z",
     "start_time": "2022-08-27T15:49:13.999775Z"
    }
   },
   "outputs": [],
   "source": [
    "def hang_time(traj):\n",
    "    return traj[0][-1]"
   ]
  },
  {
   "cell_type": "code",
   "execution_count": 10,
   "id": "0523fa24",
   "metadata": {
    "ExecuteTime": {
     "end_time": "2022-08-27T15:49:36.048779Z",
     "start_time": "2022-08-27T15:49:36.041763Z"
    }
   },
   "outputs": [],
   "source": [
    "def max_height(traj):\n",
    "    return max(traj[2])"
   ]
  },
  {
   "cell_type": "code",
   "execution_count": 12,
   "id": "0f18356b",
   "metadata": {
    "ExecuteTime": {
     "end_time": "2022-08-27T15:55:25.536627Z",
     "start_time": "2022-08-27T15:55:25.443626Z"
    }
   },
   "outputs": [
    {
     "data": {
      "text/plain": [
       "<matplotlib.collections.PathCollection at 0x2adfc0aa2b0>"
      ]
     },
     "execution_count": 12,
     "metadata": {},
     "output_type": "execute_result"
    },
    {
     "data": {
      "image/png": "[encoded data removed]",
      "text/plain": [
       "<Figure size 432x288 with 1 Axes>"
      ]
     },
     "metadata": {
      "needs_background": "light"
     },
     "output_type": "display_data"
    }
   ],
   "source": [
    "import matplotlib.pyplot as plt\n",
    "angles=range(0,90,5)\n",
    "landing_positions=[landing_position(trajectory(theta)) for theta in angles]\n",
    "plt.scatter(angles,landing_positions)"
   ]
  },
  {
   "cell_type": "code",
   "execution_count": null,
   "id": "39df2bd4",
   "metadata": {},
   "outputs": [],
   "source": []
  }
 ],
 "metadata": {
  "hide_input": false,
  "kernelspec": {
   "display_name": "Python 3 (ipykernel)",
   "language": "python",
   "name": "python3"
  },
  "language_info": {
   "codemirror_mode": {
    "name": "ipython",
    "version": 3
   },
   "file_extension": ".py",
   "mimetype": "text/x-python",
   "name": "python",
   "nbconvert_exporter": "python",
   "pygments_lexer": "ipython3",
   "version": "3.9.12"
  },
  "nbTranslate": {
   "displayLangs": [
    "*"
   ],
   "hotkey": "alt-t",
   "langInMainMenu": true,
   "sourceLang": "en",
   "targetLang": "fr",
   "useGoogleTranslate": true
  },
  "toc": {
   "base_numbering": 1,
   "nav_menu": {},
   "number_sections": true,
   "sideBar": true,
   "skip_h1_title": false,
   "title_cell": "Table of Contents",
   "title_sidebar": "Contents",
   "toc_cell": false,
   "toc_position": {},
   "toc_section_display": true,
   "toc_window_display": false
  },
  "varInspector": {
   "cols": {
    "lenName": 16,
    "lenType": 16,
    "lenVar": 40
   },
   "kernels_config": {
    "python": {
     "delete_cmd_postfix": "",
     "delete_cmd_prefix": "del ",
     "library": "var_list.py",
     "varRefreshCmd": "print(var_dic_list())"
    },
    "r": {
     "delete_cmd_postfix": ") ",
     "delete_cmd_prefix": "rm(",
     "library": "var_list.r",
     "varRefreshCmd": "cat(var_dic_list()) "
    }
   },
   "types_to_exclude": [
    "module",
    "function",
    "builtin_function_or_method",
    "instance",
    "_Feature"
   ],
   "window_display": false
  }
 },
 "nbformat": 4,
 "nbformat_minor": 5
}
