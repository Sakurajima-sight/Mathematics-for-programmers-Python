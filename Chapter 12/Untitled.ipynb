{
 "cells": [
  {
   "cell_type": "code",
   "execution_count": 1,
   "id": "9d489b53",
   "metadata": {
    "ExecuteTime": {
     "end_time": "2022-08-29T13:24:37.795459Z",
     "start_time": "2022-08-29T13:24:37.111799Z"
    },
    "run_control": {
     "marked": true
    }
   },
   "outputs": [],
   "source": [
    "import matplotlib.pyplot as plt\n",
    "from mpl_toolkits.mplot3d import Axes3D\n",
    "from matplotlib import cm\n",
    "import numpy as np\n",
    "from math import sin, cos, pi\n",
    "\n",
    "def plot_function(f,xmin,xmax,**kwargs):\n",
    "    ts = np.linspace(xmin,xmax,1000)\n",
    "    plt.plot(ts,[f(t) for t in ts],**kwargs)"
   ]
  },
  {
   "cell_type": "code",
   "execution_count": 2,
   "id": "45eda456",
   "metadata": {
    "ExecuteTime": {
     "end_time": "2022-08-29T13:24:37.810429Z",
     "start_time": "2022-08-29T13:24:37.797439Z"
    }
   },
   "outputs": [],
   "source": [
    "def trajectory(theta,speed=20,height=0,dt=0.01,g=-9.81):\n",
    "    vx=speed*cos(pi*theta/180)\n",
    "    vz=speed*sin(pi*theta/180)    \n",
    "    t,x,z=0,0,height\n",
    "    ts,xs,zs=[t],[x],[z]\n",
    "    while z>=0:\n",
    "        t+=dt\n",
    "        vz+=g*dt\n",
    "        x+=vx*dt\n",
    "        z+=vz*dt\n",
    "        ts.append(t)\n",
    "        xs.append(x)\n",
    "        zs.append(z)\n",
    "    return ts,xs,zs"
   ]
  },
  {
   "cell_type": "code",
   "execution_count": 3,
   "id": "206bbb35",
   "metadata": {
    "ExecuteTime": {
     "end_time": "2022-08-29T13:24:37.825429Z",
     "start_time": "2022-08-29T13:24:37.812429Z"
    }
   },
   "outputs": [],
   "source": [
    "def plot_trajectories(*trajs,show_seconds=False):\n",
    "    for traj in trajs:\n",
    "        xs, zs=traj[1], traj[2]\n",
    "        plt.plot(xs,zs)\n",
    "        if show_seconds:\n",
    "            second_indices=[]\n",
    "            second=0\n",
    "            for i,t in enumerate(traj[0]):\n",
    "                if t>=second:\n",
    "                    second_indices.append(i)\n",
    "                    second+=1\n",
    "            plt.scatter([xs[i] for i in second_indices], [zs[i] for i in second_indices])\n",
    "    xl=plt.xlim()\n",
    "    plt.plot(plt.xlim(),[0,0],c='k')\n",
    "    plt.xlim(*xl)\n",
    "    \n",
    "    width=7\n",
    "    coords_height=(plt.ylim()[1] - plt.ylim()[0])\n",
    "    coords_width=(plt.xlim()[1] - plt.xlim()[0])\n",
    "    plt.gcf().set_size_inches(width, width*coords_height/coords_width)"
   ]
  },
  {
   "cell_type": "code",
   "execution_count": 4,
   "id": "7664f1dd",
   "metadata": {
    "ExecuteTime": {
     "end_time": "2022-08-29T13:24:37.950505Z",
     "start_time": "2022-08-29T13:24:37.827429Z"
    }
   },
   "outputs": [
    {
     "data": {
      "image/png": "[encoded data removed]",
      "text/plain": [
       "<Figure size 504x190.027 with 1 Axes>"
      ]
     },
     "metadata": {
      "needs_background": "light"
     },
     "output_type": "display_data"
    }
   ],
   "source": [
    "plot_trajectories(\n",
    "    trajectory(45),\n",
    "    trajectory(60)\n",
    ")"
   ]
  },
  {
   "cell_type": "code",
   "execution_count": 5,
   "id": "edce617d",
   "metadata": {
    "ExecuteTime": {
     "end_time": "2022-08-29T13:24:37.966505Z",
     "start_time": "2022-08-29T13:24:37.952475Z"
    }
   },
   "outputs": [],
   "source": [
    "def landing_position(traj):\n",
    "    return traj[1][-1]"
   ]
  },
  {
   "cell_type": "code",
   "execution_count": 6,
   "id": "c85efcfe",
   "metadata": {
    "ExecuteTime": {
     "end_time": "2022-08-29T13:24:37.982505Z",
     "start_time": "2022-08-29T13:24:37.969487Z"
    }
   },
   "outputs": [],
   "source": [
    "def hang_time(traj):\n",
    "    return traj[0][-1]"
   ]
  },
  {
   "cell_type": "code",
   "execution_count": 7,
   "id": "c4a30b5a",
   "metadata": {
    "ExecuteTime": {
     "end_time": "2022-08-29T13:24:37.998500Z",
     "start_time": "2022-08-29T13:24:37.984490Z"
    }
   },
   "outputs": [],
   "source": [
    "def max_height(traj):\n",
    "    return max(traj[2])"
   ]
  },
  {
   "cell_type": "code",
   "execution_count": 8,
   "id": "c9ffcd02",
   "metadata": {
    "ExecuteTime": {
     "end_time": "2022-08-29T13:24:38.093538Z",
     "start_time": "2022-08-29T13:24:37.999476Z"
    }
   },
   "outputs": [
    {
     "data": {
      "text/plain": [
       "<matplotlib.collections.PathCollection at 0x1d74256ee50>"
      ]
     },
     "execution_count": 8,
     "metadata": {},
     "output_type": "execute_result"
    },
    {
     "data": {
      "image/png": "[encoded data removed]",
      "text/plain": [
       "<Figure size 432x288 with 1 Axes>"
      ]
     },
     "metadata": {
      "needs_background": "light"
     },
     "output_type": "display_data"
    }
   ],
   "source": [
    "import matplotlib.pyplot as plt\n",
    "angles=range(0,90,5)\n",
    "landing_positions=[landing_position(trajectory(theta)) for theta in angles]\n",
    "plt.scatter(angles,landing_positions)"
   ]
  },
  {
   "cell_type": "code",
   "execution_count": 9,
   "id": "203b2d06",
   "metadata": {
    "ExecuteTime": {
     "end_time": "2022-08-29T13:24:38.109534Z",
     "start_time": "2022-08-29T13:24:38.095542Z"
    }
   },
   "outputs": [
    {
     "data": {
      "text/plain": [
       "40.10994684444007"
      ]
     },
     "execution_count": 9,
     "metadata": {},
     "output_type": "execute_result"
    }
   ],
   "source": [
    "landing_position(trajectory(50))"
   ]
  },
  {
   "cell_type": "code",
   "execution_count": 10,
   "id": "846a36be",
   "metadata": {
    "ExecuteTime": {
     "end_time": "2022-08-29T13:24:38.125554Z",
     "start_time": "2022-08-29T13:24:38.112536Z"
    }
   },
   "outputs": [
    {
     "data": {
      "text/plain": [
       "-40.10994684444007"
      ]
     },
     "execution_count": 10,
     "metadata": {},
     "output_type": "execute_result"
    }
   ],
   "source": [
    "landing_position(trajectory(130))"
   ]
  },
  {
   "cell_type": "code",
   "execution_count": 11,
   "id": "2367dbad",
   "metadata": {
    "ExecuteTime": {
     "end_time": "2022-08-29T13:24:38.141552Z",
     "start_time": "2022-08-29T13:24:38.127545Z"
    }
   },
   "outputs": [],
   "source": [
    "def plot_trajectories(*trajs,show_seconds=False):\n",
    "    for traj in trajs:\n",
    "        xs, zs=traj[1], traj[2]\n",
    "        plt.plot(xs,zs)\n",
    "        if show_seconds:\n",
    "            second_indices=[]\n",
    "            second=0\n",
    "            for i,t in enumerate(traj[0]):\n",
    "                if t>=second:\n",
    "                    second_indices.append(i)\n",
    "                    second+=1\n",
    "            plt.scatter([xs[i] for i in second_indices],\n",
    "                        [zs[i] for i in second_indices])\n",
    "    xl=plt.xlim()\n",
    "    plt.plot(plt.xlim(),[0,0],c='k')\n",
    "    plt.xlim(*xl)\n",
    "    \n",
    "    width=7\n",
    "    coords_height=(plt.ylim()[1] - plt.ylim()[0])\n",
    "    coords_width=(plt.xlim()[1] - plt.xlim()[0])\n",
    "    plt.gcf().set_size_inches(width, width*coords_height/coords_width)"
   ]
  },
  {
   "cell_type": "code",
   "execution_count": 12,
   "id": "df433057",
   "metadata": {
    "ExecuteTime": {
     "end_time": "2022-08-29T13:24:38.253542Z",
     "start_time": "2022-08-29T13:24:38.143542Z"
    }
   },
   "outputs": [
    {
     "data": {
      "image/png": "[encoded data removed]",
      "text/plain": [
       "<Figure size 504x245.343 with 1 Axes>"
      ]
     },
     "metadata": {
      "needs_background": "light"
     },
     "output_type": "display_data"
    }
   ],
   "source": [
    "plot_trajectories(\n",
    "    trajectory(20),\n",
    "    trajectory(45),\n",
    "    trajectory(60),\n",
    "    trajectory(80),\n",
    "    show_seconds=True\n",
    ")"
   ]
  },
  {
   "cell_type": "code",
   "execution_count": 13,
   "id": "b336a1ce",
   "metadata": {
    "ExecuteTime": {
     "end_time": "2022-08-29T13:24:38.349538Z",
     "start_time": "2022-08-29T13:24:38.254542Z"
    }
   },
   "outputs": [
    {
     "data": {
      "text/plain": [
       "<matplotlib.collections.PathCollection at 0x1d74269b220>"
      ]
     },
     "execution_count": 13,
     "metadata": {},
     "output_type": "execute_result"
    },
    {
     "data": {
      "image/png": "[encoded data removed]",
      "text/plain": [
       "<Figure size 432x288 with 1 Axes>"
      ]
     },
     "metadata": {
      "needs_background": "light"
     },
     "output_type": "display_data"
    }
   ],
   "source": [
    "test_angles=range(0,181,5)\n",
    "hang_times=[hang_time(trajectory(theta)) for theta in test_angles]\n",
    "plt.scatter(test_angles,hang_times)"
   ]
  },
  {
   "cell_type": "code",
   "execution_count": 14,
   "id": "b7672fd4",
   "metadata": {
    "ExecuteTime": {
     "end_time": "2022-08-29T13:24:38.365535Z",
     "start_time": "2022-08-29T13:24:38.351539Z"
    },
    "run_control": {
     "marked": true
    }
   },
   "outputs": [],
   "source": [
    "def plot_trajectory_metric(metric,thetas,**settings):\n",
    "    plt.scatter(thetas,\n",
    "               [metric(trajectory(theta,**settings))\n",
    "               for theta in thetas])"
   ]
  },
  {
   "cell_type": "code",
   "execution_count": 15,
   "id": "34a91755",
   "metadata": {
    "ExecuteTime": {
     "end_time": "2022-08-29T13:24:38.460581Z",
     "start_time": "2022-08-29T13:24:38.367537Z"
    }
   },
   "outputs": [
    {
     "data": {
      "image/png": "[encoded data removed]",
      "text/plain": [
       "<Figure size 432x288 with 1 Axes>"
      ]
     },
     "metadata": {
      "needs_background": "light"
     },
     "output_type": "display_data"
    }
   ],
   "source": [
    "plot_trajectory_metric(hang_time,range(0,181,5))"
   ]
  },
  {
   "cell_type": "code",
   "execution_count": 16,
   "id": "ce5144e4",
   "metadata": {
    "ExecuteTime": {
     "end_time": "2022-08-29T13:24:38.539117Z",
     "start_time": "2022-08-29T13:24:38.463121Z"
    }
   },
   "outputs": [
    {
     "data": {
      "image/png": "[encoded data removed]",
      "text/plain": [
       "<Figure size 432x288 with 1 Axes>"
      ]
     },
     "metadata": {
      "needs_background": "light"
     },
     "output_type": "display_data"
    }
   ],
   "source": [
    "plot_trajectory_metric(landing_position,range(0,90,5),height=10)"
   ]
  },
  {
   "cell_type": "code",
   "execution_count": 17,
   "id": "4d8e914c",
   "metadata": {
    "ExecuteTime": {
     "end_time": "2022-08-29T13:24:38.619140Z",
     "start_time": "2022-08-29T13:24:38.541116Z"
    }
   },
   "outputs": [
    {
     "data": {
      "text/plain": [
       "[<matplotlib.lines.Line2D at 0x1d7427e31c0>]"
      ]
     },
     "execution_count": 17,
     "metadata": {},
     "output_type": "execute_result"
    },
    {
     "data": {
      "image/png": "[encoded data removed]",
      "text/plain": [
       "<Figure size 432x288 with 1 Axes>"
      ]
     },
     "metadata": {
      "needs_background": "light"
     },
     "output_type": "display_data"
    }
   ],
   "source": [
    "trj=trajectory(45)\n",
    "ts,zs=trj[0],trj[2]\n",
    "plt.plot(ts,zs)"
   ]
  },
  {
   "cell_type": "code",
   "execution_count": 18,
   "id": "e6b6f9a4",
   "metadata": {
    "ExecuteTime": {
     "end_time": "2022-08-29T13:24:38.698161Z",
     "start_time": "2022-08-29T13:24:38.621137Z"
    }
   },
   "outputs": [
    {
     "data": {
      "image/png": "[encoded data removed]",
      "text/plain": [
       "<Figure size 432x288 with 1 Axes>"
      ]
     },
     "metadata": {
      "needs_background": "light"
     },
     "output_type": "display_data"
    }
   ],
   "source": [
    "def z(t):\n",
    "    return 20*sin(45*pi/180)*t+(-9.81/2)*t**2\n",
    "\n",
    "plot_function(z,0,2.9)"
   ]
  },
  {
   "cell_type": "code",
   "execution_count": 19,
   "id": "e86a47fe",
   "metadata": {
    "ExecuteTime": {
     "end_time": "2022-08-29T13:24:38.777713Z",
     "start_time": "2022-08-29T13:24:38.700141Z"
    }
   },
   "outputs": [
    {
     "data": {
      "image/png": "[encoded data removed]",
      "text/plain": [
       "<Figure size 432x288 with 1 Axes>"
      ]
     },
     "metadata": {
      "needs_background": "light"
     },
     "output_type": "display_data"
    }
   ],
   "source": [
    "def r(theta):\n",
    "    return (-2*20*20/-9.81*sin(theta*pi/180)*cos(theta*pi/180))\n",
    "\n",
    "plot_function(r,0,90)"
   ]
  },
  {
   "cell_type": "code",
   "execution_count": 20,
   "id": "ebd62ef2",
   "metadata": {
    "ExecuteTime": {
     "end_time": "2022-08-29T13:24:38.793088Z",
     "start_time": "2022-08-29T13:24:38.778712Z"
    }
   },
   "outputs": [
    {
     "data": {
      "text/plain": [
       "40.774719673802245"
      ]
     },
     "execution_count": 20,
     "metadata": {},
     "output_type": "execute_result"
    }
   ],
   "source": [
    "r(45)"
   ]
  },
  {
   "cell_type": "code",
   "execution_count": 21,
   "id": "7550304b",
   "metadata": {
    "ExecuteTime": {
     "end_time": "2022-08-29T13:24:38.809086Z",
     "start_time": "2022-08-29T13:24:38.794107Z"
    }
   },
   "outputs": [
    {
     "data": {
      "text/plain": [
       "-40.77471967380224"
      ]
     },
     "execution_count": 21,
     "metadata": {},
     "output_type": "execute_result"
    }
   ],
   "source": [
    "r(135)"
   ]
  },
  {
   "cell_type": "code",
   "execution_count": 22,
   "id": "ae639af3",
   "metadata": {
    "ExecuteTime": {
     "end_time": "2022-08-29T13:24:38.953088Z",
     "start_time": "2022-08-29T13:24:38.810089Z"
    }
   },
   "outputs": [
    {
     "data": {
      "image/png": "[encoded data removed]",
      "text/plain": [
       "<Figure size 432x288 with 1 Axes>"
      ]
     },
     "metadata": {
      "needs_background": "light"
     },
     "output_type": "display_data"
    }
   ],
   "source": [
    "plot_function(sin,0,19)"
   ]
  },
  {
   "cell_type": "code",
   "execution_count": 25,
   "id": "6ffd0296",
   "metadata": {
    "ExecuteTime": {
     "end_time": "2022-08-29T13:25:42.030212Z",
     "start_time": "2022-08-29T13:25:42.016201Z"
    }
   },
   "outputs": [],
   "source": [
    "def trajectory3d(theta,phi,speed=20,height=0,dt=0.01,g=-9.81):\n",
    "    vx=speed*cos(pi*theta/180)*cos(pi*phi/180)\n",
    "    vy=speed*cos(pi*theta/180)*sin(pi*phi/180)\n",
    "    vz=speed*sin(pi*theta/180)\n",
    "    t,x,y,z=0,0,0,height\n",
    "    ts,xs,ys,zs=[t],[x],[y],[z]\n",
    "    while z>=0:\n",
    "        t+=dt\n",
    "        vz+=g*dt\n",
    "        x+=vx*dt\n",
    "        y+=vy*dt\n",
    "        z+=vz*dt\n",
    "        ts.append(t)\n",
    "        xs.append(x)\n",
    "        ys.append(y)\n",
    "        zs.append(z)\n",
    "    return ts,xs,ys,zs"
   ]
  },
  {
   "cell_type": "code",
   "execution_count": 26,
   "id": "9a9231d9",
   "metadata": {
    "ExecuteTime": {
     "end_time": "2022-08-29T13:34:09.814474Z",
     "start_time": "2022-08-29T13:34:09.800458Z"
    }
   },
   "outputs": [],
   "source": [
    "def flat_ground(x,y):\n",
    "    return 0"
   ]
  },
  {
   "cell_type": "code",
   "execution_count": 27,
   "id": "8ee1e330",
   "metadata": {
    "ExecuteTime": {
     "end_time": "2022-08-29T13:34:51.565122Z",
     "start_time": "2022-08-29T13:34:51.555114Z"
    }
   },
   "outputs": [],
   "source": [
    "def ridge(x,y):\n",
    "    return (x**2-5*y**2)/2500"
   ]
  },
  {
   "cell_type": "code",
   "execution_count": 28,
   "id": "4697df20",
   "metadata": {
    "ExecuteTime": {
     "end_time": "2022-08-29T13:37:37.238586Z",
     "start_time": "2022-08-29T13:37:37.225608Z"
    }
   },
   "outputs": [],
   "source": [
    "def trajectory3d(theta,phi,speed=20,height=0,dt=0.01,g=-9.81,elevation=flat_ground):\n",
    "    vx=speed*cos(pi*theta/180)*cos(pi*phi/180)\n",
    "    vy=speed*cos(pi*theta/180)*sin(pi*phi/180)\n",
    "    vz=speed*sin(pi*theta/180)\n",
    "    t,x,y,z=0,0,0,height\n",
    "    ts,xs,ys,zs=[t],[x],[y],[z]\n",
    "    while z>=elevation(x,y):\n",
    "        t+=dt\n",
    "        vz+=g*dt\n",
    "        x+=vx*dt\n",
    "        y+=vy*dt\n",
    "        z+=vz*dt\n",
    "        ts.append(t)\n",
    "        xs.append(x)\n",
    "        ys.append(y)\n",
    "        zs.append(z)\n",
    "    return ts,xs,ys,zs"
   ]
  },
  {
   "cell_type": "code",
   "execution_count": 37,
   "id": "a8106cda",
   "metadata": {
    "ExecuteTime": {
     "end_time": "2022-08-29T13:47:30.077991Z",
     "start_time": "2022-08-29T13:47:30.058002Z"
    }
   },
   "outputs": [],
   "source": [
    "def plot_trajectories_3d(*trajs,elevation=flat_ground,bounds=None,zbounds=None,shadows=False):\n",
    "    fig = plt.figure()\n",
    "    ax = fig.add_subplot(projection='3d')\n",
    "    fig.set_size_inches(7,7)    \n",
    "\n",
    "    if not bounds:\n",
    "        xmin = min([x for traj in trajs for x in traj[1]])\n",
    "        xmax = max([x for traj in trajs for x in traj[1]])\n",
    "        ymin = min([x for traj in trajs for x in traj[2]])\n",
    "        ymax = max([x for traj in trajs for x in traj[2]])\n",
    "\n",
    "        padding_x = 0.1 * (xmax-xmin)\n",
    "        padding_y = 0.1 * (ymax-ymin)\n",
    "        xmin -= padding_x\n",
    "        xmax += padding_x\n",
    "        ymin -= padding_y\n",
    "        ymax += padding_x\n",
    "    \n",
    "    else:\n",
    "        xmin, xmax, ymin, ymax = bounds\n",
    "    \n",
    "\n",
    "    plt.plot([xmin,xmax],[0,0],[0,0],c='k')\n",
    "    plt.plot([0,0],[ymin,ymax],[0,0],c='k')\n",
    "\n",
    "    g = np.vectorize(elevation)\n",
    "    ground_x = np.linspace(xmin, xmax, 20)\n",
    "    ground_y = np.linspace(ymin, ymax, 20)\n",
    "    ground_x, ground_y = np.meshgrid(ground_x,ground_y)\n",
    "    ground_z = g(ground_x,ground_y)\n",
    "    ax.plot_surface(ground_x, ground_y, ground_z, cmap=cm.coolwarm, alpha=0.5,\n",
    "                       linewidth=0, antialiased=True)\n",
    "    for traj in trajs:\n",
    "        ax.plot(traj[1],traj[2],traj[3])\n",
    "        if shadows:\n",
    "            ax.plot([traj[1][0],traj[1][-1]],[traj[2][0],traj[2][-1]],[0,0],c='gray',linestyle='dashed')\n",
    "    \n",
    "    if zbounds:\n",
    "        ax.set_zlim(*zbounds)"
   ]
  },
  {
   "cell_type": "code",
   "execution_count": 38,
   "id": "ff9f8569",
   "metadata": {
    "ExecuteTime": {
     "end_time": "2022-08-29T13:47:30.347520Z",
     "start_time": "2022-08-29T13:47:30.215545Z"
    }
   },
   "outputs": [
    {
     "data": {
      "image/png": "[encoded data removed]",
      "text/plain": [
       "<Figure size 504x504 with 1 Axes>"
      ]
     },
     "metadata": {
      "needs_background": "light"
     },
     "output_type": "display_data"
    }
   ],
   "source": [
    "plot_trajectories_3d(\n",
    "    trajectory3d(20,0,elevation=ridge),\n",
    "    trajectory3d(20,270,elevation=ridge),\n",
    "    bounds=[0,40,-40,0],\n",
    "    elevation=ridge\n",
    ")"
   ]
  },
  {
   "cell_type": "code",
   "execution_count": 52,
   "id": "10aea908",
   "metadata": {
    "ExecuteTime": {
     "end_time": "2022-08-29T14:32:35.662073Z",
     "start_time": "2022-08-29T14:32:35.651092Z"
    }
   },
   "outputs": [],
   "source": [
    "B=0.0004\n",
    "C=0.005\n",
    "v=20\n",
    "g=-9.81\n",
    "\n",
    "def velocity_component(v,theta,phi):\n",
    "    vx=v*cos(pi*theta/180)*cos(pi*phi/180)\n",
    "    vy=v*cos(pi*theta/180)*sin(pi*phi/180)\n",
    "    vz=v*sin(pi*theta/180)\n",
    "    return vx,vy,vz\n",
    "\n",
    "def landing_distance(theta,phi):\n",
    "    vx,vy,vz=velocity_component(v,theta,phi)\n",
    "    v_xy=sqrt(vx**2+vy**2)\n",
    "    a=(g/2)-B*vx**2+C*vy**2\n",
    "    b=vz\n",
    "    landing_time=-b/a\n",
    "    landing_distance=v_xy*landing_time\n",
    "    return landing_distance"
   ]
  },
  {
   "cell_type": "code",
   "execution_count": 53,
   "id": "ae938a31",
   "metadata": {
    "ExecuteTime": {
     "end_time": "2022-08-29T14:32:35.869515Z",
     "start_time": "2022-08-29T14:32:35.845519Z"
    }
   },
   "outputs": [
    {
     "data": {
      "text/plain": [
       "([0,\n",
       "  0.01,\n",
       "  0.02,\n",
       "  0.03,\n",
       "  0.04,\n",
       "  0.05,\n",
       "  0.060000000000000005,\n",
       "  0.07,\n",
       "  0.08,\n",
       "  0.09,\n",
       "  0.09999999999999999,\n",
       "  0.10999999999999999,\n",
       "  0.11999999999999998,\n",
       "  0.12999999999999998,\n",
       "  0.13999999999999999,\n",
       "  0.15,\n",
       "  0.16,\n",
       "  0.17,\n",
       "  0.18000000000000002,\n",
       "  0.19000000000000003,\n",
       "  0.20000000000000004,\n",
       "  0.21000000000000005,\n",
       "  0.22000000000000006,\n",
       "  0.23000000000000007,\n",
       "  0.24000000000000007,\n",
       "  0.25000000000000006,\n",
       "  0.26000000000000006,\n",
       "  0.2700000000000001,\n",
       "  0.2800000000000001,\n",
       "  0.2900000000000001,\n",
       "  0.3000000000000001,\n",
       "  0.3100000000000001,\n",
       "  0.3200000000000001,\n",
       "  0.3300000000000001,\n",
       "  0.34000000000000014,\n",
       "  0.35000000000000014,\n",
       "  0.36000000000000015,\n",
       "  0.37000000000000016,\n",
       "  0.38000000000000017,\n",
       "  0.3900000000000002,\n",
       "  0.4000000000000002,\n",
       "  0.4100000000000002,\n",
       "  0.4200000000000002,\n",
       "  0.4300000000000002,\n",
       "  0.4400000000000002,\n",
       "  0.45000000000000023,\n",
       "  0.46000000000000024,\n",
       "  0.47000000000000025,\n",
       "  0.48000000000000026,\n",
       "  0.49000000000000027,\n",
       "  0.5000000000000002,\n",
       "  0.5100000000000002,\n",
       "  0.5200000000000002,\n",
       "  0.5300000000000002,\n",
       "  0.5400000000000003,\n",
       "  0.5500000000000003,\n",
       "  0.5600000000000003,\n",
       "  0.5700000000000003,\n",
       "  0.5800000000000003,\n",
       "  0.5900000000000003,\n",
       "  0.6000000000000003,\n",
       "  0.6100000000000003,\n",
       "  0.6200000000000003,\n",
       "  0.6300000000000003,\n",
       "  0.6400000000000003,\n",
       "  0.6500000000000004,\n",
       "  0.6600000000000004,\n",
       "  0.6700000000000004,\n",
       "  0.6800000000000004,\n",
       "  0.6900000000000004,\n",
       "  0.7000000000000004,\n",
       "  0.7100000000000004,\n",
       "  0.7200000000000004,\n",
       "  0.7300000000000004,\n",
       "  0.7400000000000004,\n",
       "  0.7500000000000004,\n",
       "  0.7600000000000005,\n",
       "  0.7700000000000005,\n",
       "  0.7800000000000005,\n",
       "  0.7900000000000005,\n",
       "  0.8000000000000005,\n",
       "  0.8100000000000005,\n",
       "  0.8200000000000005,\n",
       "  0.8300000000000005,\n",
       "  0.8400000000000005,\n",
       "  0.8500000000000005,\n",
       "  0.8600000000000005,\n",
       "  0.8700000000000006,\n",
       "  0.8800000000000006,\n",
       "  0.8900000000000006,\n",
       "  0.9000000000000006,\n",
       "  0.9100000000000006,\n",
       "  0.9200000000000006,\n",
       "  0.9300000000000006,\n",
       "  0.9400000000000006,\n",
       "  0.9500000000000006,\n",
       "  0.9600000000000006,\n",
       "  0.9700000000000006,\n",
       "  0.9800000000000006,\n",
       "  0.9900000000000007,\n",
       "  1.0000000000000007,\n",
       "  1.0100000000000007,\n",
       "  1.0200000000000007,\n",
       "  1.0300000000000007,\n",
       "  1.0400000000000007,\n",
       "  1.0500000000000007,\n",
       "  1.0600000000000007,\n",
       "  1.0700000000000007,\n",
       "  1.0800000000000007,\n",
       "  1.0900000000000007,\n",
       "  1.1000000000000008,\n",
       "  1.1100000000000008,\n",
       "  1.1200000000000008,\n",
       "  1.1300000000000008,\n",
       "  1.1400000000000008,\n",
       "  1.1500000000000008,\n",
       "  1.1600000000000008,\n",
       "  1.1700000000000008,\n",
       "  1.1800000000000008,\n",
       "  1.1900000000000008,\n",
       "  1.2000000000000008,\n",
       "  1.2100000000000009,\n",
       "  1.2200000000000009,\n",
       "  1.2300000000000009,\n",
       "  1.2400000000000009,\n",
       "  1.2500000000000009,\n",
       "  1.260000000000001,\n",
       "  1.270000000000001,\n",
       "  1.280000000000001,\n",
       "  1.290000000000001,\n",
       "  1.300000000000001,\n",
       "  1.310000000000001,\n",
       "  1.320000000000001,\n",
       "  1.330000000000001,\n",
       "  1.340000000000001,\n",
       "  1.350000000000001,\n",
       "  1.360000000000001,\n",
       "  1.370000000000001,\n",
       "  1.380000000000001,\n",
       "  1.390000000000001,\n",
       "  1.400000000000001,\n",
       "  1.410000000000001,\n",
       "  1.420000000000001,\n",
       "  1.430000000000001,\n",
       "  1.440000000000001,\n",
       "  1.450000000000001,\n",
       "  1.460000000000001,\n",
       "  1.470000000000001,\n",
       "  1.480000000000001,\n",
       "  1.490000000000001,\n",
       "  1.500000000000001,\n",
       "  1.5100000000000011,\n",
       "  1.5200000000000011,\n",
       "  1.5300000000000011,\n",
       "  1.5400000000000011,\n",
       "  1.5500000000000012,\n",
       "  1.5600000000000012,\n",
       "  1.5700000000000012,\n",
       "  1.5800000000000012,\n",
       "  1.5900000000000012,\n",
       "  1.6000000000000012,\n",
       "  1.6100000000000012,\n",
       "  1.6200000000000012,\n",
       "  1.6300000000000012,\n",
       "  1.6400000000000012,\n",
       "  1.6500000000000012,\n",
       "  1.6600000000000013,\n",
       "  1.6700000000000013,\n",
       "  1.6800000000000013,\n",
       "  1.6900000000000013,\n",
       "  1.7000000000000013,\n",
       "  1.7100000000000013,\n",
       "  1.7200000000000013,\n",
       "  1.7300000000000013,\n",
       "  1.7400000000000013,\n",
       "  1.7500000000000013,\n",
       "  1.7600000000000013,\n",
       "  1.7700000000000014,\n",
       "  1.7800000000000014,\n",
       "  1.7900000000000014,\n",
       "  1.8000000000000014,\n",
       "  1.8100000000000014,\n",
       "  1.8200000000000014,\n",
       "  1.8300000000000014,\n",
       "  1.8400000000000014,\n",
       "  1.8500000000000014,\n",
       "  1.8600000000000014,\n",
       "  1.8700000000000014,\n",
       "  1.8800000000000014,\n",
       "  1.8900000000000015,\n",
       "  1.9000000000000015,\n",
       "  1.9100000000000015,\n",
       "  1.9200000000000015,\n",
       "  1.9300000000000015,\n",
       "  1.9400000000000015,\n",
       "  1.9500000000000015,\n",
       "  1.9600000000000015,\n",
       "  1.9700000000000015,\n",
       "  1.9800000000000015,\n",
       "  1.9900000000000015,\n",
       "  2.0000000000000013,\n",
       "  2.010000000000001,\n",
       "  2.020000000000001,\n",
       "  2.0300000000000007,\n",
       "  2.0400000000000005,\n",
       "  2.0500000000000003,\n",
       "  2.06,\n",
       "  2.07,\n",
       "  2.0799999999999996,\n",
       "  2.0899999999999994,\n",
       "  2.099999999999999,\n",
       "  2.109999999999999,\n",
       "  2.1199999999999988,\n",
       "  2.1299999999999986,\n",
       "  2.1399999999999983,\n",
       "  2.149999999999998,\n",
       "  2.159999999999998,\n",
       "  2.1699999999999977,\n",
       "  2.1799999999999975,\n",
       "  2.1899999999999973,\n",
       "  2.199999999999997,\n",
       "  2.209999999999997,\n",
       "  2.2199999999999966],\n",
       " [0,\n",
       "  -0.08660254037844395,\n",
       "  -0.1732050807568879,\n",
       "  -0.25980762113533185,\n",
       "  -0.3464101615137758,\n",
       "  -0.43301270189221974,\n",
       "  -0.5196152422706637,\n",
       "  -0.6062177826491076,\n",
       "  -0.6928203230275516,\n",
       "  -0.7794228634059955,\n",
       "  -0.8660254037844395,\n",
       "  -0.9526279441628834,\n",
       "  -1.0392304845413274,\n",
       "  -1.1258330249197712,\n",
       "  -1.212435565298215,\n",
       "  -1.299038105676659,\n",
       "  -1.3856406460551027,\n",
       "  -1.4722431864335466,\n",
       "  -1.5588457268119904,\n",
       "  -1.6454482671904342,\n",
       "  -1.732050807568878,\n",
       "  -1.818653347947322,\n",
       "  -1.9052558883257658,\n",
       "  -1.9918584287042096,\n",
       "  -2.0784609690826534,\n",
       "  -2.1650635094610973,\n",
       "  -2.251666049839541,\n",
       "  -2.338268590217985,\n",
       "  -2.424871130596429,\n",
       "  -2.5114736709748726,\n",
       "  -2.5980762113533165,\n",
       "  -2.6846787517317603,\n",
       "  -2.771281292110204,\n",
       "  -2.857883832488648,\n",
       "  -2.944486372867092,\n",
       "  -3.0310889132455356,\n",
       "  -3.1176914536239795,\n",
       "  -3.2042939940024233,\n",
       "  -3.290896534380867,\n",
       "  -3.377499074759311,\n",
       "  -3.464101615137755,\n",
       "  -3.5507041555161987,\n",
       "  -3.6373066958946425,\n",
       "  -3.7239092362730863,\n",
       "  -3.81051177665153,\n",
       "  -3.897114317029974,\n",
       "  -3.983716857408418,\n",
       "  -4.070319397786862,\n",
       "  -4.156921938165306,\n",
       "  -4.24352447854375,\n",
       "  -4.3301270189221945,\n",
       "  -4.416729559300639,\n",
       "  -4.503332099679083,\n",
       "  -4.589934640057527,\n",
       "  -4.676537180435972,\n",
       "  -4.763139720814416,\n",
       "  -4.84974226119286,\n",
       "  -4.9363448015713045,\n",
       "  -5.022947341949749,\n",
       "  -5.109549882328193,\n",
       "  -5.196152422706637,\n",
       "  -5.282754963085082,\n",
       "  -5.369357503463526,\n",
       "  -5.45596004384197,\n",
       "  -5.5425625842204145,\n",
       "  -5.629165124598859,\n",
       "  -5.715767664977303,\n",
       "  -5.802370205355747,\n",
       "  -5.888972745734192,\n",
       "  -5.975575286112636,\n",
       "  -6.06217782649108,\n",
       "  -6.1487803668695244,\n",
       "  -6.235382907247969,\n",
       "  -6.321985447626413,\n",
       "  -6.408587988004857,\n",
       "  -6.495190528383302,\n",
       "  -6.581793068761746,\n",
       "  -6.66839560914019,\n",
       "  -6.754998149518634,\n",
       "  -6.841600689897079,\n",
       "  -6.928203230275523,\n",
       "  -7.014805770653967,\n",
       "  -7.1014083110324115,\n",
       "  -7.188010851410856,\n",
       "  -7.2746133917893,\n",
       "  -7.361215932167744,\n",
       "  -7.447818472546189,\n",
       "  -7.534421012924633,\n",
       "  -7.621023553303077,\n",
       "  -7.7076260936815215,\n",
       "  -7.794228634059966,\n",
       "  -7.88083117443841,\n",
       "  -7.967433714816854,\n",
       "  -8.054036255195298,\n",
       "  -8.140638795573741,\n",
       "  -8.227241335952185,\n",
       "  -8.313843876330628,\n",
       "  -8.400446416709071,\n",
       "  -8.487048957087515,\n",
       "  -8.573651497465958,\n",
       "  -8.660254037844402,\n",
       "  -8.746856578222845,\n",
       "  -8.833459118601288,\n",
       "  -8.920061658979732,\n",
       "  -9.006664199358175,\n",
       "  -9.093266739736618,\n",
       "  -9.179869280115062,\n",
       "  -9.266471820493505,\n",
       "  -9.353074360871949,\n",
       "  -9.439676901250392,\n",
       "  -9.526279441628835,\n",
       "  -9.612881982007279,\n",
       "  -9.699484522385722,\n",
       "  -9.786087062764166,\n",
       "  -9.872689603142609,\n",
       "  -9.959292143521052,\n",
       "  -10.045894683899496,\n",
       "  -10.13249722427794,\n",
       "  -10.219099764656383,\n",
       "  -10.305702305034826,\n",
       "  -10.39230484541327,\n",
       "  -10.478907385791713,\n",
       "  -10.565509926170156,\n",
       "  -10.6521124665486,\n",
       "  -10.738715006927043,\n",
       "  -10.825317547305486,\n",
       "  -10.91192008768393,\n",
       "  -10.998522628062373,\n",
       "  -11.085125168440817,\n",
       "  -11.17172770881926,\n",
       "  -11.258330249197703,\n",
       "  -11.344932789576147,\n",
       "  -11.43153532995459,\n",
       "  -11.518137870333033,\n",
       "  -11.604740410711477,\n",
       "  -11.69134295108992,\n",
       "  -11.777945491468364,\n",
       "  -11.864548031846807,\n",
       "  -11.95115057222525,\n",
       "  -12.037753112603694,\n",
       "  -12.124355652982137,\n",
       "  -12.21095819336058,\n",
       "  -12.297560733739024,\n",
       "  -12.384163274117467,\n",
       "  -12.47076581449591,\n",
       "  -12.557368354874354,\n",
       "  -12.643970895252798,\n",
       "  -12.730573435631241,\n",
       "  -12.817175976009684,\n",
       "  -12.903778516388128,\n",
       "  -12.990381056766571,\n",
       "  -13.076983597145015,\n",
       "  -13.163586137523458,\n",
       "  -13.250188677901901,\n",
       "  -13.336791218280345,\n",
       "  -13.423393758658788,\n",
       "  -13.509996299037232,\n",
       "  -13.596598839415675,\n",
       "  -13.683201379794118,\n",
       "  -13.769803920172562,\n",
       "  -13.856406460551005,\n",
       "  -13.943009000929449,\n",
       "  -14.029611541307892,\n",
       "  -14.116214081686335,\n",
       "  -14.202816622064779,\n",
       "  -14.289419162443222,\n",
       "  -14.376021702821665,\n",
       "  -14.462624243200109,\n",
       "  -14.549226783578552,\n",
       "  -14.635829323956996,\n",
       "  -14.722431864335439,\n",
       "  -14.809034404713882,\n",
       "  -14.895636945092326,\n",
       "  -14.98223948547077,\n",
       "  -15.068842025849213,\n",
       "  -15.155444566227656,\n",
       "  -15.2420471066061,\n",
       "  -15.328649646984543,\n",
       "  -15.415252187362986,\n",
       "  -15.50185472774143,\n",
       "  -15.588457268119873,\n",
       "  -15.675059808498316,\n",
       "  -15.76166234887676,\n",
       "  -15.848264889255203,\n",
       "  -15.934867429633647,\n",
       "  -16.02146997001209,\n",
       "  -16.108072510390535,\n",
       "  -16.19467505076898,\n",
       "  -16.281277591147422,\n",
       "  -16.367880131525865,\n",
       "  -16.45448267190431,\n",
       "  -16.541085212282752,\n",
       "  -16.627687752661195,\n",
       "  -16.71429029303964,\n",
       "  -16.800892833418082,\n",
       "  -16.887495373796526,\n",
       "  -16.97409791417497,\n",
       "  -17.060700454553412,\n",
       "  -17.147302994931856,\n",
       "  -17.2339055353103,\n",
       "  -17.320508075688743,\n",
       "  -17.407110616067186,\n",
       "  -17.49371315644563,\n",
       "  -17.580315696824073,\n",
       "  -17.666918237202516,\n",
       "  -17.75352077758096,\n",
       "  -17.840123317959403,\n",
       "  -17.926725858337846,\n",
       "  -18.01332839871629,\n",
       "  -18.099930939094733,\n",
       "  -18.186533479473177,\n",
       "  -18.27313601985162,\n",
       "  -18.359738560230063,\n",
       "  -18.446341100608507,\n",
       "  -18.53294364098695,\n",
       "  -18.619546181365394,\n",
       "  -18.706148721743837,\n",
       "  -18.79275126212228,\n",
       "  -18.879353802500724,\n",
       "  -18.965956342879167,\n",
       "  -19.05255888325761,\n",
       "  -19.139161423636054,\n",
       "  -19.225763964014497],\n",
       " [0,\n",
       "  -0.15,\n",
       "  -0.3,\n",
       "  -0.44999999999999996,\n",
       "  -0.6,\n",
       "  -0.75,\n",
       "  -0.9,\n",
       "  -1.05,\n",
       "  -1.2,\n",
       "  -1.3499999999999999,\n",
       "  -1.4999999999999998,\n",
       "  -1.6499999999999997,\n",
       "  -1.7999999999999996,\n",
       "  -1.9499999999999995,\n",
       "  -2.0999999999999996,\n",
       "  -2.2499999999999996,\n",
       "  -2.3999999999999995,\n",
       "  -2.5499999999999994,\n",
       "  -2.69"
      ]
     },
     "execution_count": 53,
     "metadata": {},
     "output_type": "execute_result"
    },
    {
     "data": {
      "text/html": [
       "<b>limit_output extension: Maximum message size of 10000 exceeded with 19332 characters</b>"
      ]
     },
     "metadata": {},
     "output_type": "display_data"
    }
   ],
   "source": [
    "trajectory3d(30,240,elevation=ridge)"
   ]
  },
  {
   "cell_type": "code",
   "execution_count": 54,
   "id": "11dbfe23",
   "metadata": {
    "ExecuteTime": {
     "end_time": "2022-08-29T14:32:37.207569Z",
     "start_time": "2022-08-29T14:32:37.199560Z"
    }
   },
   "outputs": [
    {
     "data": {
      "text/plain": [
       "45.46065111729336"
      ]
     },
     "execution_count": 54,
     "metadata": {},
     "output_type": "execute_result"
    }
   ],
   "source": [
    "landing_distance(30,240)"
   ]
  },
  {
   "cell_type": "code",
   "execution_count": 55,
   "id": "430750a7",
   "metadata": {
    "ExecuteTime": {
     "end_time": "2022-08-29T15:51:49.929409Z",
     "start_time": "2022-08-29T15:51:49.923410Z"
    }
   },
   "outputs": [],
   "source": [
    "def trajectory3d(theta,phi,speed=20,height=0,dt=0.01,g=-9.81,elevation=flat_ground,drag=0):\n",
    "    vx=speed*cos(pi*theta/180)*cos(pi*phi/180)\n",
    "    vy=speed*cos(pi*theta/180)*sin(pi*phi/180)\n",
    "    vz=speed*sin(pi*theta/180)\n",
    "    t,x,y,z=0,0,0,height\n",
    "    ts,xs,ys,zs=[t],[x],[y],[z]\n",
    "    while z>=elevation(x,y):\n",
    "        t+=dt\n",
    "        vx-=(drag*vx)*dt\n",
    "        vy-=(drag*vy)*dt\n",
    "        vz+=(g-(drag*vz))*dt\n",
    "        x+=vx*dt\n",
    "        y+=vy*dt\n",
    "        z+=vz*dt\n",
    "        ts.append(t)\n",
    "        xs.append(x)\n",
    "        ys.append(y)\n",
    "        zs.append(z)\n",
    "    return ts,xs,ys,zs"
   ]
  },
  {
   "cell_type": "code",
   "execution_count": null,
   "id": "9414592b",
   "metadata": {},
   "outputs": [],
   "source": []
  }
 ],
 "metadata": {
  "hide_input": false,
  "kernelspec": {
   "display_name": "Python 3 (ipykernel)",
   "language": "python",
   "name": "python3"
  },
  "language_info": {
   "codemirror_mode": {
    "name": "ipython",
    "version": 3
   },
   "file_extension": ".py",
   "mimetype": "text/x-python",
   "name": "python",
   "nbconvert_exporter": "python",
   "pygments_lexer": "ipython3",
   "version": "3.9.12"
  },
  "nbTranslate": {
   "displayLangs": [
    "*"
   ],
   "hotkey": "alt-t",
   "langInMainMenu": true,
   "sourceLang": "en",
   "targetLang": "fr",
   "useGoogleTranslate": true
  },
  "toc": {
   "base_numbering": 1,
   "nav_menu": {},
   "number_sections": true,
   "sideBar": true,
   "skip_h1_title": false,
   "title_cell": "Table of Contents",
   "title_sidebar": "Contents",
   "toc_cell": false,
   "toc_position": {},
   "toc_section_display": true,
   "toc_window_display": false
  },
  "varInspector": {
   "cols": {
    "lenName": 16,
    "lenType": 16,
    "lenVar": 40
   },
   "kernels_config": {
    "python": {
     "delete_cmd_postfix": "",
     "delete_cmd_prefix": "del ",
     "library": "var_list.py",
     "varRefreshCmd": "print(var_dic_list())"
    },
    "r": {
     "delete_cmd_postfix": ") ",
     "delete_cmd_prefix": "rm(",
     "library": "var_list.r",
     "varRefreshCmd": "cat(var_dic_list()) "
    }
   },
   "types_to_exclude": [
    "module",
    "function",
    "builtin_function_or_method",
    "instance",
    "_Feature"
   ],
   "window_display": false
  }
 },
 "nbformat": 4,
 "nbformat_minor": 5
}
