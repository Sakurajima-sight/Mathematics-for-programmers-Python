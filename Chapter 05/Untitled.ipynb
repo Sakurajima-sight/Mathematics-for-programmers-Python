{
 "cells": [
  {
   "cell_type": "code",
   "execution_count": 1,
   "id": "1be49a9f",
   "metadata": {
    "ExecuteTime": {
     "end_time": "2022-08-29T08:49:23.013521Z",
     "start_time": "2022-08-29T08:49:21.773707Z"
    }
   },
   "outputs": [
    {
     "name": "stdout",
     "output_type": "stream",
     "text": [
      "pygame 2.1.2 (SDL 2.0.18, Python 3.9.12)\n",
      "Hello from the pygame community. https://www.pygame.org/contribute.html\n"
     ]
    }
   ],
   "source": [
    "from vectors import *\n",
    "from teapot import load_triangles\n",
    "from draw_model import draw_model\n",
    "from math import *\n",
    "from transforms import *\n",
    "from random import randint\n",
    "from vector_drawing import *\n",
    "from draw3d import *\n",
    "from matrices import *"
   ]
  },
  {
   "cell_type": "code",
   "execution_count": 2,
   "id": "2d01256b",
   "metadata": {
    "ExecuteTime": {
     "end_time": "2022-08-29T08:49:23.021513Z",
     "start_time": "2022-08-29T08:49:23.017513Z"
    }
   },
   "outputs": [],
   "source": [
    "B=(\n",
    "    (0,2,1),\n",
    "    (0,1,0),\n",
    "    (1,0,-1)\n",
    ")\n",
    "v=(3,-2,5)"
   ]
  },
  {
   "cell_type": "code",
   "execution_count": 3,
   "id": "2450ded2",
   "metadata": {
    "ExecuteTime": {
     "end_time": "2022-08-29T08:49:23.033507Z",
     "start_time": "2022-08-29T08:49:23.023508Z"
    }
   },
   "outputs": [
    {
     "data": {
      "text/plain": [
       "[(0, 0, 1), (2, 1, 0), (1, 0, -1)]"
      ]
     },
     "execution_count": 3,
     "metadata": {},
     "output_type": "execute_result"
    }
   ],
   "source": [
    "list(zip(*B))"
   ]
  },
  {
   "cell_type": "code",
   "execution_count": 4,
   "id": "d37a5401",
   "metadata": {
    "ExecuteTime": {
     "end_time": "2022-08-29T08:49:23.040505Z",
     "start_time": "2022-08-29T08:49:23.035505Z"
    }
   },
   "outputs": [],
   "source": [
    "def multiply_matrix_vector(matrix,vector):\n",
    "    return linear_combination(vector,*zip(*matrix))"
   ]
  },
  {
   "cell_type": "code",
   "execution_count": 5,
   "id": "19e95c96",
   "metadata": {
    "ExecuteTime": {
     "end_time": "2022-08-29T08:49:23.046507Z",
     "start_time": "2022-08-29T08:49:23.041504Z"
    }
   },
   "outputs": [
    {
     "data": {
      "text/plain": [
       "(1, -2, -2)"
      ]
     },
     "execution_count": 5,
     "metadata": {},
     "output_type": "execute_result"
    }
   ],
   "source": [
    "multiply_matrix_vector(B,v)"
   ]
  },
  {
   "cell_type": "code",
   "execution_count": 6,
   "id": "6f7329db",
   "metadata": {
    "ExecuteTime": {
     "end_time": "2022-08-29T08:49:23.053506Z",
     "start_time": "2022-08-29T08:49:23.049505Z"
    }
   },
   "outputs": [],
   "source": [
    "def matrix_multiply(a,b):\n",
    "    return tuple(\n",
    "        tuple(dot(row,col) for col in zip(*b))\n",
    "        for row in a\n",
    "    )"
   ]
  },
  {
   "cell_type": "code",
   "execution_count": 7,
   "id": "08c3f7f6",
   "metadata": {
    "ExecuteTime": {
     "end_time": "2022-08-29T08:49:23.059507Z",
     "start_time": "2022-08-29T08:49:23.054507Z"
    }
   },
   "outputs": [
    {
     "data": {
      "text/plain": [
       "((0, 3, 1), (1, 2, 0), (1, 1, 0))"
      ]
     },
     "execution_count": 7,
     "metadata": {},
     "output_type": "execute_result"
    }
   ],
   "source": [
    "a=((1,1,0),(1,0,1),(1,-1,1))\n",
    "b=((0,2,1),(0,1,0),(1,0,-1))\n",
    "matrix_multiply(a,b)"
   ]
  },
  {
   "cell_type": "code",
   "execution_count": 8,
   "id": "b46c4d21",
   "metadata": {
    "ExecuteTime": {
     "end_time": "2022-08-29T08:49:23.066505Z",
     "start_time": "2022-08-29T08:49:23.060504Z"
    }
   },
   "outputs": [
    {
     "data": {
      "text/plain": [
       "((2, -1), (4, -3))"
      ]
     },
     "execution_count": 8,
     "metadata": {},
     "output_type": "execute_result"
    }
   ],
   "source": [
    "c=((1,2),(3,4))\n",
    "d=((0,-1),(1,0))\n",
    "matrix_multiply(c,d)"
   ]
  },
  {
   "cell_type": "code",
   "execution_count": 9,
   "id": "7ff31684",
   "metadata": {
    "ExecuteTime": {
     "end_time": "2022-08-29T08:49:36.756260Z",
     "start_time": "2022-08-29T08:49:23.068508Z"
    }
   },
   "outputs": [
    {
     "ename": "NameError",
     "evalue": "name 'quit' is not defined",
     "output_type": "error",
     "traceback": [
      "\u001b[1;31m---------------------------------------------------------------------------\u001b[0m",
      "\u001b[1;31mNameError\u001b[0m                                 Traceback (most recent call last)",
      "Input \u001b[1;32mIn [9]\u001b[0m, in \u001b[0;36m<cell line: 8>\u001b[1;34m()\u001b[0m\n\u001b[0;32m      2\u001b[0m     seconds\u001b[38;5;241m=\u001b[39mt\u001b[38;5;241m/\u001b[39m\u001b[38;5;241m1000\u001b[39m\n\u001b[0;32m      3\u001b[0m     \u001b[38;5;28;01mreturn\u001b[39;00m(\n\u001b[0;32m      4\u001b[0m         (cos(seconds),\u001b[38;5;241m0\u001b[39m,\u001b[38;5;241m-\u001b[39msin(seconds)),\n\u001b[0;32m      5\u001b[0m         (\u001b[38;5;241m0\u001b[39m,\u001b[38;5;241m1\u001b[39m,\u001b[38;5;241m0\u001b[39m),\n\u001b[0;32m      6\u001b[0m         (sin(seconds),\u001b[38;5;241m0\u001b[39m,cos(seconds)),\n\u001b[0;32m      7\u001b[0m     )\n\u001b[1;32m----> 8\u001b[0m \u001b[43mdraw_model\u001b[49m\u001b[43m(\u001b[49m\u001b[43mload_triangles\u001b[49m\u001b[43m(\u001b[49m\u001b[43m)\u001b[49m\u001b[43m,\u001b[49m\u001b[43mget_matrix\u001b[49m\u001b[38;5;241;43m=\u001b[39;49m\u001b[43mget_rotation_matrix\u001b[49m\u001b[43m)\u001b[49m\n",
      "File \u001b[1;32m~\\Desktop\\Mathematics-for-programmers-Python\\Chapter 05\\draw_model.py:53\u001b[0m, in \u001b[0;36mdraw_model\u001b[1;34m(faces, color_map, light, glRotatefArgs, get_matrix)\u001b[0m\n\u001b[0;32m     51\u001b[0m     \u001b[38;5;28;01mif\u001b[39;00m event\u001b[38;5;241m.\u001b[39mtype \u001b[38;5;241m==\u001b[39m pygame\u001b[38;5;241m.\u001b[39mQUIT:\n\u001b[0;32m     52\u001b[0m         pygame\u001b[38;5;241m.\u001b[39mquit()\n\u001b[1;32m---> 53\u001b[0m         \u001b[43mquit\u001b[49m()\n\u001b[0;32m     55\u001b[0m glClear(GL_COLOR_BUFFER_BIT\u001b[38;5;241m|\u001b[39mGL_DEPTH_BUFFER_BIT)\n\u001b[0;32m     56\u001b[0m Axes()\n",
      "\u001b[1;31mNameError\u001b[0m: name 'quit' is not defined"
     ]
    }
   ],
   "source": [
    "def get_rotation_matrix(t):\n",
    "    seconds=t/1000\n",
    "    return(\n",
    "        (cos(seconds),0,-sin(seconds)),\n",
    "        (0,1,0),\n",
    "        (sin(seconds),0,cos(seconds)),\n",
    "    )\n",
    "draw_model(load_triangles(),get_matrix=get_rotation_matrix)"
   ]
  },
  {
   "cell_type": "code",
   "execution_count": null,
   "id": "ceee5a4a",
   "metadata": {
    "ExecuteTime": {
     "end_time": "2022-08-29T08:49:36.763793Z",
     "start_time": "2022-08-29T08:49:36.763793Z"
    }
   },
   "outputs": [],
   "source": [
    "def get_rotation_matrix_x(t):\n",
    "    seconds=t/1000\n",
    "    return((1,0,0),\n",
    "        (0,cos(seconds),sin(seconds)),\n",
    "        (0,-sin(seconds),cos(seconds)))\n",
    "def get_rotation_matrix_y(t):\n",
    "    seconds=t/1000\n",
    "    return((cos(seconds),0,-sin(seconds)),\n",
    "        (0,1,0),\n",
    "        (sin(seconds),0,cos(seconds)))\n",
    "def get_rotation_matrix_z(t):\n",
    "    seconds=t/1000\n",
    "    return((cos(seconds),sin(seconds),0),\n",
    "        (-sin(seconds),cos(seconds),0),\n",
    "        (0,1,0))"
   ]
  },
  {
   "cell_type": "code",
   "execution_count": null,
   "id": "9cdf6d61",
   "metadata": {
    "ExecuteTime": {
     "end_time": "2022-08-29T08:49:36.764811Z",
     "start_time": "2022-08-29T08:49:36.764811Z"
    }
   },
   "outputs": [],
   "source": [
    "def infer_matrix(n,transformation):\n",
    "    def standard_basic_vector(i):\n",
    "        return tuple(1 if i==j else 0 for j in range(1,n+1))\n",
    "    standard_basic=[standard_basic_vector(i) for i in range(1,n+1)]\n",
    "    cols=[transformation(v) for v in standard_basic]\n",
    "    return tuple(zip(*cols))"
   ]
  },
  {
   "cell_type": "code",
   "execution_count": null,
   "id": "75a4222c",
   "metadata": {
    "ExecuteTime": {
     "end_time": "2022-08-29T08:49:36.765801Z",
     "start_time": "2022-08-29T08:49:36.765801Z"
    }
   },
   "outputs": [],
   "source": [
    "infer_matrix(3,rotate_z_by(pi/2))"
   ]
  },
  {
   "cell_type": "code",
   "execution_count": null,
   "id": "8a6304a9",
   "metadata": {
    "ExecuteTime": {
     "end_time": "2022-08-29T08:49:36.767794Z",
     "start_time": "2022-08-29T08:49:36.767794Z"
    }
   },
   "outputs": [],
   "source": [
    "def random_matrix(rows,cols,min=-2,max=2):\n",
    "    return tuple(\n",
    "        tuple(\n",
    "            randint(min,max) for j in range(0,cols)\n",
    "        )for i in range(0,rows)\n",
    "    )"
   ]
  },
  {
   "cell_type": "code",
   "execution_count": null,
   "id": "1ce319e3",
   "metadata": {
    "ExecuteTime": {
     "end_time": "2022-08-29T08:49:36.768801Z",
     "start_time": "2022-08-29T08:49:36.768801Z"
    }
   },
   "outputs": [],
   "source": [
    "random_matrix(3,3,0,10)"
   ]
  },
  {
   "cell_type": "code",
   "execution_count": null,
   "id": "d568c613",
   "metadata": {
    "ExecuteTime": {
     "end_time": "2022-08-29T08:49:36.769802Z",
     "start_time": "2022-08-29T08:49:36.769802Z"
    }
   },
   "outputs": [],
   "source": [
    "def transform(v):\n",
    "    m=((2,1,1),(1,2,1),(1,1,2))\n",
    "    return multiply_matrix_vector(m,v)\n",
    "# draw_model(polygon_map(transform,load_triangles()))"
   ]
  },
  {
   "cell_type": "code",
   "execution_count": null,
   "id": "e5dfae36",
   "metadata": {
    "ExecuteTime": {
     "end_time": "2022-08-29T08:49:36.771803Z",
     "start_time": "2022-08-29T08:49:36.771803Z"
    }
   },
   "outputs": [],
   "source": [
    "def multiply_matrix_vector(martix,vector):\n",
    "    return tuple(\n",
    "        sum(vector_entry*matrix_entry for vector_entry,matrix_entry in zip(row,vector))\n",
    "        for row in martix\n",
    "    )"
   ]
  },
  {
   "cell_type": "code",
   "execution_count": null,
   "id": "18a8ce09",
   "metadata": {
    "ExecuteTime": {
     "end_time": "2022-08-29T08:49:36.772803Z",
     "start_time": "2022-08-29T08:49:36.772803Z"
    }
   },
   "outputs": [],
   "source": [
    "def multiply_matrix_vector(martix,vector):\n",
    "    return tuple(\n",
    "        dot(row,vector)\n",
    "        for row in martix\n",
    "    )"
   ]
  },
  {
   "cell_type": "code",
   "execution_count": null,
   "id": "30c364b1",
   "metadata": {
    "ExecuteTime": {
     "end_time": "2022-08-29T08:49:36.773801Z",
     "start_time": "2022-08-29T08:49:36.773801Z"
    }
   },
   "outputs": [],
   "source": [
    "a=((1,1,0),(1,0,1),(1,-1,1))\n",
    "b=((0,2,1),(0,1,0),(1,0,-1))\n",
    "\n",
    "def transform_a(v):\n",
    "    return multiply_matrix_vector(a,v)\n",
    "\n",
    "def transform_b(v):\n",
    "    return multiply_matrix_vector(b,v)\n",
    "\n",
    "compose_a_b=compose(transform_a,transform_b)"
   ]
  },
  {
   "cell_type": "code",
   "execution_count": null,
   "id": "5c19436d",
   "metadata": {
    "ExecuteTime": {
     "end_time": "2022-08-29T08:49:36.774802Z",
     "start_time": "2022-08-29T08:49:36.774802Z"
    }
   },
   "outputs": [],
   "source": [
    "infer_matrix(3,compose_a_b)"
   ]
  },
  {
   "cell_type": "code",
   "execution_count": null,
   "id": "7bbf875d",
   "metadata": {
    "ExecuteTime": {
     "end_time": "2022-08-29T08:49:36.776802Z",
     "start_time": "2022-08-29T08:49:36.776802Z"
    }
   },
   "outputs": [],
   "source": [
    "matrix_multiply(a,b)"
   ]
  },
  {
   "cell_type": "code",
   "execution_count": null,
   "id": "c2b91c6c",
   "metadata": {
    "ExecuteTime": {
     "end_time": "2022-08-29T08:49:36.777802Z",
     "start_time": "2022-08-29T08:49:36.777802Z"
    }
   },
   "outputs": [],
   "source": [
    "a=((0,1),(-1,0))\n",
    "b=((0,-1),(1,0))\n",
    "matrix_multiply(a,b)"
   ]
  },
  {
   "cell_type": "code",
   "execution_count": null,
   "id": "ef89ba5e",
   "metadata": {
    "ExecuteTime": {
     "end_time": "2022-08-29T08:49:36.778798Z",
     "start_time": "2022-08-29T08:49:36.778798Z"
    }
   },
   "outputs": [],
   "source": [
    "a=((0,1),(-1,0))\n",
    "b=((0,-1),(1,0))\n",
    "matrix_multiply(a,b)"
   ]
  },
  {
   "cell_type": "code",
   "execution_count": null,
   "id": "0d82104e",
   "metadata": {
    "ExecuteTime": {
     "end_time": "2022-08-29T08:49:36.780801Z",
     "start_time": "2022-08-29T08:49:36.780801Z"
    }
   },
   "outputs": [],
   "source": [
    "def matrix_power(power,matrix):\n",
    "    result=matrix\n",
    "    for _ in range(1,power):\n",
    "        result=matrix_multiply(result,matrix)\n",
    "    return result"
   ]
  },
  {
   "cell_type": "code",
   "execution_count": null,
   "id": "ca67171b",
   "metadata": {
    "ExecuteTime": {
     "end_time": "2022-08-29T08:49:36.781812Z",
     "start_time": "2022-08-29T08:49:36.781812Z"
    }
   },
   "outputs": [],
   "source": [
    "a=((-1,0,-1,-2,-2),(0,0,2,-2,1),(-2,-1,-2,0,1),(0,2,-2,-1,0),(1,1,-1,-1,0))\n",
    "b=((-1,0,-1,-2,-2),(0,0,2,-2,1),(-2,-1,-2,0,1),(0,2,-2,-1,0),(1,1,-1,-1,0))\n",
    "matrix_multiply(a,b)"
   ]
  },
  {
   "cell_type": "code",
   "execution_count": null,
   "id": "d3b4ff93",
   "metadata": {
    "ExecuteTime": {
     "end_time": "2022-08-29T08:49:36.782796Z",
     "start_time": "2022-08-29T08:49:36.782796Z"
    }
   },
   "outputs": [],
   "source": [
    "c=((-1,-1,0),(-2,1,2),(1,0,-1))\n",
    "d=((1,),(1,),(1,))\n",
    "matrix_multiply(c,d)"
   ]
  },
  {
   "cell_type": "code",
   "execution_count": null,
   "id": "dda540ad",
   "metadata": {
    "ExecuteTime": {
     "end_time": "2022-08-29T08:49:36.784802Z",
     "start_time": "2022-08-29T08:49:36.784802Z"
    }
   },
   "outputs": [],
   "source": [
    "multiply_matrix_vector(c,(1,1,1))"
   ]
  },
  {
   "cell_type": "code",
   "execution_count": null,
   "id": "9819dc62",
   "metadata": {
    "ExecuteTime": {
     "end_time": "2022-08-29T08:49:36.785795Z",
     "start_time": "2022-08-29T08:49:36.785795Z"
    }
   },
   "outputs": [],
   "source": [
    "dot((1,-2,0),(-1,2,2))"
   ]
  },
  {
   "cell_type": "code",
   "execution_count": null,
   "id": "73364879",
   "metadata": {
    "ExecuteTime": {
     "end_time": "2022-08-29T08:49:36.787809Z",
     "start_time": "2022-08-29T08:49:36.787809Z"
    }
   },
   "outputs": [],
   "source": [
    "a=((1,-2,0),(-1,-2,2))\n",
    "b=((2,0,-1,2),(0,-2,2,-2),(-1,-1,2,1))\n",
    "matrix_multiply(a,b)"
   ]
  },
  {
   "cell_type": "code",
   "execution_count": null,
   "id": "63b0062b",
   "metadata": {
    "ExecuteTime": {
     "end_time": "2022-08-29T08:49:36.788795Z",
     "start_time": "2022-08-29T08:49:36.788795Z"
    }
   },
   "outputs": [],
   "source": [
    "dot((1,1),(1,1,1))"
   ]
  },
  {
   "cell_type": "code",
   "execution_count": null,
   "id": "cd2c0fdc",
   "metadata": {
    "ExecuteTime": {
     "end_time": "2022-08-29T08:49:36.790797Z",
     "start_time": "2022-08-29T08:49:36.790797Z"
    }
   },
   "outputs": [],
   "source": [
    "# 返回无意义结果\n",
    "# a=((1,-2,0),(-1,-2,2))\n",
    "# b=((2,0,-1,2),(0,-2,2,-2),(-1,-1,2,1))\n",
    "# matrix_multiply(b,a)"
   ]
  },
  {
   "cell_type": "code",
   "execution_count": null,
   "id": "ed11941a",
   "metadata": {
    "ExecuteTime": {
     "end_time": "2022-08-29T08:49:36.792519Z",
     "start_time": "2022-08-29T08:49:36.792519Z"
    }
   },
   "outputs": [],
   "source": [
    "def transpose(matrix):\n",
    "    return tuple(zip(*matrix))"
   ]
  },
  {
   "cell_type": "code",
   "execution_count": null,
   "id": "1f9d236d",
   "metadata": {
    "ExecuteTime": {
     "end_time": "2022-08-29T08:49:36.793494Z",
     "start_time": "2022-08-29T08:49:36.793494Z"
    }
   },
   "outputs": [],
   "source": [
    "transpose(((1,),(2,),(3,)))"
   ]
  },
  {
   "cell_type": "code",
   "execution_count": null,
   "id": "e8eb7cf4",
   "metadata": {
    "ExecuteTime": {
     "end_time": "2022-08-29T08:49:36.795495Z",
     "start_time": "2022-08-29T08:49:36.795495Z"
    }
   },
   "outputs": [],
   "source": [
    "transpose(((1, 2, 3),))"
   ]
  },
  {
   "cell_type": "code",
   "execution_count": null,
   "id": "eb7cba4b",
   "metadata": {
    "ExecuteTime": {
     "end_time": "2022-08-29T08:49:36.796493Z",
     "start_time": "2022-08-29T08:49:36.796493Z"
    }
   },
   "outputs": [],
   "source": [
    "def project_xy(v):\n",
    "    x,y,z=v\n",
    "    return (x,y)"
   ]
  },
  {
   "cell_type": "code",
   "execution_count": null,
   "id": "9ac13564",
   "metadata": {
    "ExecuteTime": {
     "end_time": "2022-08-29T08:49:36.798494Z",
     "start_time": "2022-08-29T08:49:36.798494Z"
    }
   },
   "outputs": [],
   "source": [
    "infer_matrix(3,project_xy)"
   ]
  },
  {
   "cell_type": "code",
   "execution_count": null,
   "id": "133a86f8",
   "metadata": {
    "ExecuteTime": {
     "end_time": "2022-08-29T08:49:36.800494Z",
     "start_time": "2022-08-29T08:49:36.800494Z"
    }
   },
   "outputs": [],
   "source": [
    "def project_xymn(v):\n",
    "    x,y,z,m,n=v\n",
    "    return (x,y,m,n)"
   ]
  },
  {
   "cell_type": "code",
   "execution_count": null,
   "id": "145e682e",
   "metadata": {
    "ExecuteTime": {
     "end_time": "2022-08-29T08:49:36.801494Z",
     "start_time": "2022-08-29T08:49:36.801494Z"
    }
   },
   "outputs": [],
   "source": [
    "infer_matrix(5,project_xymn)"
   ]
  },
  {
   "cell_type": "code",
   "execution_count": null,
   "id": "cc6b9c55",
   "metadata": {
    "ExecuteTime": {
     "end_time": "2022-08-29T08:49:36.802492Z",
     "start_time": "2022-08-29T08:49:36.802492Z"
    },
    "scrolled": true
   },
   "outputs": [],
   "source": [
    "multiply_matrix_vector(infer_matrix(5,project_xymn),(1,2,3,4,5))"
   ]
  },
  {
   "cell_type": "code",
   "execution_count": null,
   "id": "dbcb0da8",
   "metadata": {
    "ExecuteTime": {
     "end_time": "2022-08-29T08:49:36.804493Z",
     "start_time": "2022-08-29T08:49:36.804493Z"
    }
   },
   "outputs": [],
   "source": [
    "dino_vectors=[(6,4), (3,1), (1,2), (-1,5), (-2,5), (-3,4), (-4,4),\n",
    "    (-5,3), (-5,2), (-2,2), (-5,1), (-4,0), (-2,1), (-1,0), (0,-3),\n",
    "    (-1,-4), (1,-4), (2,-3), (1,-2), (3,-1), (5,1)]\n",
    "\n",
    "def polygon_segments_2d(points,color='blue'):\n",
    "    count=len(points)\n",
    "    return [Segment(points[i],points[(i+1)%count],color=color)for i in range(0,count)]\n",
    "\n",
    "draw(\n",
    "    Points(*dino_vectors),\n",
    "    *polygon_segments_2d(dino_vectors)\n",
    ")"
   ]
  },
  {
   "cell_type": "code",
   "execution_count": null,
   "id": "4f6a3a6f",
   "metadata": {
    "ExecuteTime": {
     "end_time": "2022-08-29T08:49:36.805493Z",
     "start_time": "2022-08-29T08:49:36.805493Z"
    }
   },
   "outputs": [],
   "source": [
    "def polygon_segments_3d(points,color='blue'):\n",
    "    count=len(points)\n",
    "    return [Segment3D(points[i],points[(i+1)%count],color=color)for i in range(0,count)]"
   ]
  },
  {
   "cell_type": "code",
   "execution_count": null,
   "id": "f0c4d6e6",
   "metadata": {
    "ExecuteTime": {
     "end_time": "2022-08-29T08:49:36.807493Z",
     "start_time": "2022-08-29T08:49:36.807493Z"
    }
   },
   "outputs": [],
   "source": [
    "dino_3d=[(x,y,1) for x,y in dino_vectors]\n",
    "draw3d(\n",
    "    Points3D(*dino_3d,color='blue'),\n",
    "    *polygon_segments_3d(dino_3d)\n",
    ")"
   ]
  },
  {
   "cell_type": "code",
   "execution_count": null,
   "id": "d8a87fcc",
   "metadata": {
    "ExecuteTime": {
     "end_time": "2022-08-29T08:49:36.808494Z",
     "start_time": "2022-08-29T08:49:36.808494Z"
    }
   },
   "outputs": [],
   "source": [
    "magic_martix=(\n",
    "    (1,0,3),\n",
    "    (0,1,1),\n",
    "    (0,0,1)\n",
    ")\n",
    "\n",
    "translate_3d=[multiply_matrix_vector(magic_martix,v) for v in dino_3d]\n",
    "\n",
    "draw3d(\n",
    "    Points3D(*translate_3d,color='red'),\n",
    "    *polygon_segments_3d(translate_3d,color='red'),\n",
    "    \n",
    "    Points3D(*dino_3d,color='blue'),\n",
    "    *polygon_segments_3d(dino_3d)\n",
    ")"
   ]
  },
  {
   "cell_type": "code",
   "execution_count": null,
   "id": "d6f5274e",
   "metadata": {
    "ExecuteTime": {
     "end_time": "2022-08-29T08:49:36.809492Z",
     "start_time": "2022-08-29T08:49:36.809492Z"
    }
   },
   "outputs": [],
   "source": [
    "def polygon_segments_2d(points,color='blue'):\n",
    "    count=len(points)\n",
    "    return [Segment(points[i],points[(i+1)%count],color=color)for i in range(0,count)]\n",
    "\n",
    "delete_z_martix=(\n",
    "    (1,0,0),\n",
    "    (0,1,0)\n",
    ")\n",
    "\n",
    "translate=[multiply_matrix_vector(delete_z_martix,v) for v in translate_3d]\n",
    "\n",
    "draw(\n",
    "    Points(*translate,color='red'),\n",
    "    *polygon_segments_2d(translate,color='red'),\n",
    "    \n",
    "    Points(*dino_vectors,color='blue'),\n",
    "    *polygon_segments_2d(dino_vectors)\n",
    ")"
   ]
  },
  {
   "cell_type": "code",
   "execution_count": null,
   "id": "7c86ba66",
   "metadata": {
    "ExecuteTime": {
     "end_time": "2022-08-29T08:49:36.811493Z",
     "start_time": "2022-08-29T08:49:36.811493Z"
    }
   },
   "outputs": [],
   "source": [
    "rorate_and_translate=((0,-1,2),(1,0,1),(0,0,1))\n",
    "rotated_translated_dino=[\n",
    "    multiply_matrix_vector(rorate_and_translate,v)\n",
    "    for v in dino_vectors\n",
    "]\n",
    "draw3d(    \n",
    "    Points3D(*dino_3d,color='blue'),\n",
    "    *polygon_segments_3d(dino_3d)\n",
    ")\n",
    "draw3d(\n",
    "    Points3D(*rotated_translated_dino,color='red'),\n",
    "    *polygon_segments_3d(rotated_translated_dino,color='red')\n",
    ")\n"
   ]
  },
  {
   "cell_type": "code",
   "execution_count": null,
   "id": "784da6e2",
   "metadata": {
    "ExecuteTime": {
     "end_time": "2022-08-29T08:49:36.812493Z",
     "start_time": "2022-08-29T08:49:36.812493Z"
    }
   },
   "outputs": [],
   "source": [
    "def translate_3d(translation):\n",
    "    def new_function(target):\n",
    "        a,b,c=translation\n",
    "        x,y,z=target\n",
    "        matrix=((1,0,0,a),\n",
    "               (0,1,0,b),\n",
    "               (0,0,1,c),\n",
    "               (0,0,0,1))\n",
    "        vector=(x,y,z,1)\n",
    "        x_out,y_out,z_out,_=multiply_matrix_vector(matrix,vector)\n",
    "        return (x_out,y_out,z_out)\n",
    "    return new_function\n",
    "\n",
    "# draw_model(polygon_map(translate_3d((2,2,-3)),load_triangles()))"
   ]
  },
  {
   "cell_type": "code",
   "execution_count": null,
   "id": "e30fa55b",
   "metadata": {
    "ExecuteTime": {
     "end_time": "2022-08-29T08:49:36.813492Z",
     "start_time": "2022-08-29T08:49:36.813492Z"
    },
    "run_control": {
     "marked": true
    }
   },
   "outputs": [],
   "source": [
    "def polygon_segments_3d_to_2d(translation,points,color='blue',flag=True):\n",
    "    a,b,z=translation\n",
    "    points=[(x,y,z) for x,y in points]\n",
    "    magic_martix=(\n",
    "        (1,0,a),\n",
    "        (0,1,b),\n",
    "        (0,0,z)\n",
    "    )\n",
    "    points=[multiply_matrix_vector(magic_martix,v) for v in points]\n",
    "    points=[(x,y) for x,y,_ in points]\n",
    "    if flag:\n",
    "        count=len(points)\n",
    "        return [Segment(points[i],points[(i+1)%count],color=color)for i in range(0,count)]\n",
    "    else:\n",
    "        return points\n",
    "\n",
    "draw(\n",
    "    Points(*dino_vectors),\n",
    "    *polygon_segments_2d(dino_vectors),\n",
    "    Points(*polygon_segments_3d_to_2d((3,1,1),dino_vectors,color='green',flag=False)),\n",
    "    *polygon_segments_3d_to_2d((3,1,1),dino_vectors,color='green')\n",
    ")\n",
    "\n",
    "draw(\n",
    "    Points(*dino_vectors),\n",
    "    *polygon_segments_2d(dino_vectors),\n",
    "    Points(*polygon_segments_3d_to_2d((3,1,2),dino_vectors,color='red',flag=False)),\n",
    "    *polygon_segments_3d_to_2d((3,1,2),dino_vectors,color='red')\n",
    ")"
   ]
  },
  {
   "cell_type": "code",
   "execution_count": null,
   "id": "551e7caa",
   "metadata": {
    "ExecuteTime": {
     "end_time": "2022-08-29T08:49:36.815493Z",
     "start_time": "2022-08-29T08:49:36.815493Z"
    }
   },
   "outputs": [],
   "source": [
    "draw(\n",
    "    Points(*dino_vectors),\n",
    "    *polygon_segments_2d(dino_vectors),\n",
    "    Points(*polygon_segments_3d_to_2d((-2,-2,1),dino_vectors,color='red',flag=False)),\n",
    "    *polygon_segments_3d_to_2d((-2,-2,1),dino_vectors,color='red')\n",
    ")"
   ]
  },
  {
   "cell_type": "code",
   "execution_count": null,
   "id": "c0720357",
   "metadata": {
    "ExecuteTime": {
     "end_time": "2022-08-29T08:49:36.816493Z",
     "start_time": "2022-08-29T08:49:36.816493Z"
    }
   },
   "outputs": [],
   "source": [
    "rotate_45_degree=curry2(rotate2d)(pi/4)\n",
    "rotation_matrix=infer_matrix(2,rotate_45_degree)\n",
    "rotation_matrix"
   ]
  },
  {
   "cell_type": "code",
   "execution_count": null,
   "id": "59b7a332",
   "metadata": {
    "ExecuteTime": {
     "end_time": "2022-08-29T08:49:36.817498Z",
     "start_time": "2022-08-29T08:49:36.817498Z"
    }
   },
   "outputs": [],
   "source": [
    "scale_matrix=((0.5,0),(0,0.5))\n",
    "rotate_and_scale=matrix_multiply(rotation_matrix,scale_matrix)\n",
    "# rotate_and_scale=matrix_multiply(scale_matrix,rotation_matrix)\n",
    "rotate_and_scale"
   ]
  },
  {
   "cell_type": "code",
   "execution_count": null,
   "id": "d215be1d",
   "metadata": {
    "ExecuteTime": {
     "end_time": "2022-08-29T08:49:36.819501Z",
     "start_time": "2022-08-29T08:49:36.819501Z"
    }
   },
   "outputs": [],
   "source": [
    "((a,b),(c,d))=rotate_and_scale\n",
    "final_matrix=((a,b,2),(c,d,2),(0,0,1))\n",
    "final_matrix"
   ]
  },
  {
   "cell_type": "code",
   "execution_count": null,
   "id": "8be42140",
   "metadata": {
    "ExecuteTime": {
     "end_time": "2022-08-29T08:49:36.821497Z",
     "start_time": "2022-08-29T08:49:36.821497Z"
    }
   },
   "outputs": [],
   "source": [
    "def polygon_segments_3d_to_2d(translation,points,color='blue',flag=True):\n",
    "    z=translation[2][2]\n",
    "    points=[(x,y,z) for x,y in points]\n",
    "    magic_martix=translation\n",
    "    points=[multiply_matrix_vector(magic_martix,v) for v in points]\n",
    "    points=[(x,y) for x,y,_ in points]\n",
    "    if flag:\n",
    "        count=len(points)\n",
    "        return [Segment(points[i],points[(i+1)%count],color=color)for i in range(0,count)]\n",
    "    else:\n",
    "        return points\n",
    "\n",
    "draw(\n",
    "    Points(*dino_vectors),\n",
    "    *polygon_segments_2d(dino_vectors),\n",
    "    Points(*polygon_segments_3d_to_2d(final_matrix,dino_vectors,color='red',flag=False)),\n",
    "    *polygon_segments_3d_to_2d(final_matrix,dino_vectors,color='red'),\n",
    "    save_as='figures/experiment_5_29.svg'\n",
    ")"
   ]
  },
  {
   "cell_type": "code",
   "execution_count": null,
   "id": "dc58b637",
   "metadata": {
    "ExecuteTime": {
     "end_time": "2022-08-29T08:49:36.822493Z",
     "start_time": "2022-08-29T08:49:36.822493Z"
    }
   },
   "outputs": [],
   "source": [
    "test1=add((2,2),scale(0.5,rotate2d(pi/4,(-2,2))))"
   ]
  },
  {
   "cell_type": "code",
   "execution_count": null,
   "id": "7d03c7eb",
   "metadata": {
    "ExecuteTime": {
     "end_time": "2022-08-29T08:49:36.824493Z",
     "start_time": "2022-08-29T08:49:36.824493Z"
    }
   },
   "outputs": [],
   "source": [
    "test2=polygon_segments_3d_to_2d(final_matrix,dino_vectors,color='red',flag=False)[dino_vectors.index((-2,2))]"
   ]
  },
  {
   "cell_type": "code",
   "execution_count": null,
   "id": "e884f88e",
   "metadata": {
    "ExecuteTime": {
     "end_time": "2022-08-29T08:49:36.825493Z",
     "start_time": "2022-08-29T08:49:36.825493Z"
    },
    "scrolled": true
   },
   "outputs": [],
   "source": [
    "num=0\n",
    "for i in range(len(dino_vectors)):\n",
    "    for x,y in zip(add((2,2),scale(0.5,rotate2d(pi/4,dino_vectors[i]))),polygon_segments_3d_to_2d(final_matrix,dino_vectors,color='red',flag=False)[dino_vectors.index(dino_vectors[i])]):\n",
    "        if isclose(x,y):\n",
    "            num=num+1\n",
    "        else:\n",
    "            print('不通过')\n",
    "print(num/2)\n",
    "len(dino_vectors)"
   ]
  },
  {
   "cell_type": "code",
   "execution_count": null,
   "id": "eefc5c95",
   "metadata": {
    "ExecuteTime": {
     "end_time": "2022-08-29T08:49:36.827491Z",
     "start_time": "2022-08-29T08:49:36.826490Z"
    },
    "run_control": {
     "marked": true
    }
   },
   "outputs": [],
   "source": [
    "rotate_90_degree=curry2(rotate2d)(pi/2)\n",
    "rotate_90_degree=infer_matrix(2,rotate_90_degree)\n",
    "def rotate_3d(rotate_matrix):\n",
    "    ((a,b),(c,d))=rotate_matrix\n",
    "    return ((a,b,0),(c,d,0),(0,0,1))\n",
    "rotate_90_degree=rotate_3d(rotate_90_degree)\n",
    "rotate_90_degree"
   ]
  },
  {
   "cell_type": "code",
   "execution_count": null,
   "id": "b7a1b781",
   "metadata": {
    "ExecuteTime": {
     "end_time": "2022-08-29T08:49:36.828492Z",
     "start_time": "2022-08-29T08:49:36.828492Z"
    },
    "run_control": {
     "marked": true
    }
   },
   "outputs": [],
   "source": [
    "translation_matrix=((1,0,3),(0,1,1),(0,0,1))\n",
    "translation_rotate_matrix=matrix_multiply(rotate_90_degree,translation_matrix)"
   ]
  },
  {
   "cell_type": "code",
   "execution_count": null,
   "id": "a9f69a7a",
   "metadata": {
    "ExecuteTime": {
     "end_time": "2022-08-29T08:49:36.829493Z",
     "start_time": "2022-08-29T08:49:36.829493Z"
    }
   },
   "outputs": [],
   "source": [
    "draw(\n",
    "    Points(*dino_vectors),\n",
    "    *polygon_segments_2d(dino_vectors),\n",
    "    Points(*polygon_segments_3d_to_2d(translation_rotate_matrix,dino_vectors,color='red',flag=False)),\n",
    "    *polygon_segments_3d_to_2d(translation_rotate_matrix,dino_vectors,color='red'),\n",
    ")"
   ]
  },
  {
   "cell_type": "code",
   "execution_count": null,
   "id": "04c95b42",
   "metadata": {
    "ExecuteTime": {
     "end_time": "2022-08-29T08:49:36.830492Z",
     "start_time": "2022-08-29T08:49:36.830492Z"
    }
   },
   "outputs": [],
   "source": [
    "rotate2d(pi/2,add((3,1),(-2,2)))"
   ]
  },
  {
   "cell_type": "code",
   "execution_count": null,
   "id": "f0bcf8e7",
   "metadata": {
    "ExecuteTime": {
     "end_time": "2022-08-29T08:49:36.831493Z",
     "start_time": "2022-08-29T08:49:36.831493Z"
    }
   },
   "outputs": [],
   "source": [
    "polygon_segments_3d_to_2d(translation_rotate_matrix,dino_vectors,color='red',flag=False)[dino_vectors.index((-2,2))]"
   ]
  },
  {
   "cell_type": "code",
   "execution_count": null,
   "id": "f2304292",
   "metadata": {
    "ExecuteTime": {
     "end_time": "2022-08-29T08:49:36.833498Z",
     "start_time": "2022-08-29T08:49:36.833498Z"
    }
   },
   "outputs": [],
   "source": [
    "def translate_4d(translation):\n",
    "    def new_function(target):\n",
    "        a,b,c,d=translation\n",
    "        x,y,z,w=target\n",
    "        matrix=((1,0,0,0,a),\n",
    "               (0,1,0,0,b),\n",
    "               (0,0,1,0,c),\n",
    "               (0,0,0,1,d),\n",
    "               (0,0,0,0,1))\n",
    "        vector=(x,y,z,w,1)\n",
    "        x_out,y_out,z_out,w_out,_=multiply_matrix_vector(matrix,vector)\n",
    "        return (x_out,y_out,z_out,w_out)\n",
    "    return new_function\n",
    "\n",
    "translate_4d((1,2,3,4))((10,20,30,40))"
   ]
  }
 ],
 "metadata": {
  "hide_input": false,
  "kernelspec": {
   "display_name": "Python 3 (ipykernel)",
   "language": "python",
   "name": "python3"
  },
  "language_info": {
   "codemirror_mode": {
    "name": "ipython",
    "version": 3
   },
   "file_extension": ".py",
   "mimetype": "text/x-python",
   "name": "python",
   "nbconvert_exporter": "python",
   "pygments_lexer": "ipython3",
   "version": "3.9.12"
  },
  "nbTranslate": {
   "displayLangs": [
    "*"
   ],
   "hotkey": "alt-t",
   "langInMainMenu": true,
   "sourceLang": "en",
   "targetLang": "fr",
   "useGoogleTranslate": true
  },
  "toc": {
   "base_numbering": 1,
   "nav_menu": {},
   "number_sections": true,
   "sideBar": true,
   "skip_h1_title": false,
   "title_cell": "Table of Contents",
   "title_sidebar": "Contents",
   "toc_cell": false,
   "toc_position": {},
   "toc_section_display": true,
   "toc_window_display": false
  },
  "varInspector": {
   "cols": {
    "lenName": 16,
    "lenType": 16,
    "lenVar": 40
   },
   "kernels_config": {
    "python": {
     "delete_cmd_postfix": "",
     "delete_cmd_prefix": "del ",
     "library": "var_list.py",
     "varRefreshCmd": "print(var_dic_list())"
    },
    "r": {
     "delete_cmd_postfix": ") ",
     "delete_cmd_prefix": "rm(",
     "library": "var_list.r",
     "varRefreshCmd": "cat(var_dic_list()) "
    }
   },
   "types_to_exclude": [
    "module",
    "function",
    "builtin_function_or_method",
    "instance",
    "_Feature"
   ],
   "window_display": false
  }
 },
 "nbformat": 4,
 "nbformat_minor": 5
}
