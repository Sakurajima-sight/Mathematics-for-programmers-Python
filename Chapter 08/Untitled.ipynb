{
 "cells": [
  {
   "cell_type": "code",
   "execution_count": 1,
   "id": "dae078a3",
   "metadata": {
    "ExecuteTime": {
     "end_time": "2022-08-24T05:45:03.761465Z",
     "start_time": "2022-08-24T05:45:03.047842Z"
    }
   },
   "outputs": [],
   "source": [
    "import matplotlib.pyplot as plt\n",
    "import numpy as np"
   ]
  },
  {
   "cell_type": "code",
   "execution_count": 2,
   "id": "99c5d999",
   "metadata": {
    "ExecuteTime": {
     "end_time": "2022-08-24T05:45:03.776465Z",
     "start_time": "2022-08-24T05:45:03.763442Z"
    }
   },
   "outputs": [],
   "source": [
    "def plot_function(f,tmin,tmax,tlabel=None,xlabel=None,axes=False, **kwargs):\n",
    "    ts = np.linspace(tmin,tmax,1000)\n",
    "    if tlabel:\n",
    "        plt.xlabel(tlabel,fontsize=18)\n",
    "    if xlabel:\n",
    "        plt.ylabel(xlabel,fontsize=18)\n",
    "    plt.plot(ts, [f(t) for t in ts], **kwargs)\n",
    "    if axes:\n",
    "        total_t = tmax-tmin\n",
    "        plt.plot([tmin-total_t/10,tmax+total_t/10],[0,0],c='k',linewidth=1)\n",
    "        plt.xlim(tmin-total_t/10,tmax+total_t/10)\n",
    "        xmin, xmax = plt.ylim()\n",
    "        plt.plot([0,0],[xmin,xmax],c='k',linewidth=1)\n",
    "        plt.ylim(xmin,xmax)"
   ]
  },
  {
   "cell_type": "code",
   "execution_count": 3,
   "id": "9da5b407",
   "metadata": {
    "ExecuteTime": {
     "end_time": "2022-08-24T05:45:03.791432Z",
     "start_time": "2022-08-24T05:45:03.778442Z"
    }
   },
   "outputs": [],
   "source": [
    "def plot_volume(f,tmin,tmax,axes=False,**kwargs):\n",
    "    plot_function(f,tmin,tmax,tlabel=\"time (hr)\", xlabel=\"volume (bbl)\", axes=axes, **kwargs)\n",
    "\n",
    "def plot_flow_rate(f,tmin,tmax,axes=False,**kwargs):\n",
    "    plot_function(f,tmin,tmax,tlabel=\"time (hr)\", xlabel=\"flow rate (bbl/hr)\", axes=axes, **kwargs)"
   ]
  },
  {
   "cell_type": "code",
   "execution_count": 4,
   "id": "06f05f94",
   "metadata": {
    "ExecuteTime": {
     "end_time": "2022-08-24T05:45:03.807432Z",
     "start_time": "2022-08-24T05:45:03.793432Z"
    }
   },
   "outputs": [],
   "source": [
    "def volume(t):\n",
    "    return (t-4)**3 / 64 + 3.3\n",
    "\n",
    "def flow_rate(t):\n",
    "    return 3*(t-4)**2 / 64"
   ]
  },
  {
   "cell_type": "code",
   "execution_count": 5,
   "id": "77046d24",
   "metadata": {
    "ExecuteTime": {
     "end_time": "2022-08-24T05:45:03.917452Z",
     "start_time": "2022-08-24T05:45:03.809432Z"
    }
   },
   "outputs": [
    {
     "data": {
      "image/png": "[encoded data removed]",
      "text/plain": [
       "<Figure size 432x288 with 1 Axes>"
      ]
     },
     "metadata": {
      "needs_background": "light"
     },
     "output_type": "display_data"
    }
   ],
   "source": [
    "plot_volume(volume,0,10)"
   ]
  },
  {
   "cell_type": "code",
   "execution_count": null,
   "id": "6ab8c9ab",
   "metadata": {},
   "outputs": [],
   "source": []
  },
  {
   "cell_type": "code",
   "execution_count": 6,
   "id": "46e41bf2",
   "metadata": {
    "ExecuteTime": {
     "end_time": "2022-08-24T05:45:03.933454Z",
     "start_time": "2022-08-24T05:45:03.919437Z"
    },
    "run_control": {
     "marked": true
    }
   },
   "outputs": [],
   "source": [
    "def average_flow_rate(v,t1,t2):\n",
    "    return (v(t2)-v(t1))/(t2-t1)"
   ]
  },
  {
   "cell_type": "code",
   "execution_count": 7,
   "id": "f3d2f551",
   "metadata": {
    "ExecuteTime": {
     "end_time": "2022-08-24T05:45:03.949440Z",
     "start_time": "2022-08-24T05:45:03.935435Z"
    }
   },
   "outputs": [
    {
     "data": {
      "text/plain": [
       "3.3"
      ]
     },
     "execution_count": 7,
     "metadata": {},
     "output_type": "execute_result"
    }
   ],
   "source": [
    "volume(4)"
   ]
  },
  {
   "cell_type": "code",
   "execution_count": 8,
   "id": "89ece862",
   "metadata": {
    "ExecuteTime": {
     "end_time": "2022-08-24T05:45:03.964436Z",
     "start_time": "2022-08-24T05:45:03.951436Z"
    }
   },
   "outputs": [
    {
     "data": {
      "text/plain": [
       "5.253125"
      ]
     },
     "execution_count": 8,
     "metadata": {},
     "output_type": "execute_result"
    }
   ],
   "source": [
    "volume(9)"
   ]
  },
  {
   "cell_type": "code",
   "execution_count": 9,
   "id": "15d6219f",
   "metadata": {
    "ExecuteTime": {
     "end_time": "2022-08-24T05:45:03.979450Z",
     "start_time": "2022-08-24T05:45:03.966436Z"
    }
   },
   "outputs": [
    {
     "data": {
      "text/plain": [
       "0.390625"
      ]
     },
     "execution_count": 9,
     "metadata": {},
     "output_type": "execute_result"
    }
   ],
   "source": [
    "average_flow_rate(volume,4,9)"
   ]
  },
  {
   "cell_type": "code",
   "execution_count": 10,
   "id": "dbbb065b",
   "metadata": {
    "ExecuteTime": {
     "end_time": "2022-08-24T05:45:03.994433Z",
     "start_time": "2022-08-24T05:45:03.983436Z"
    }
   },
   "outputs": [],
   "source": [
    "def decreasing_volume(t):\n",
    "    if t < 5:\n",
    "        return 10 - (t**2)/5\n",
    "    else:\n",
    "        return 0.2*(10-t)**2"
   ]
  },
  {
   "cell_type": "code",
   "execution_count": 11,
   "id": "74536ff3",
   "metadata": {
    "ExecuteTime": {
     "end_time": "2022-08-24T05:45:04.073454Z",
     "start_time": "2022-08-24T05:45:03.996433Z"
    }
   },
   "outputs": [
    {
     "data": {
      "image/png": "[encoded data removed]",
      "text/plain": [
       "<Figure size 432x288 with 1 Axes>"
      ]
     },
     "metadata": {
      "needs_background": "light"
     },
     "output_type": "display_data"
    }
   ],
   "source": [
    "plot_volume(decreasing_volume,0,10)"
   ]
  },
  {
   "cell_type": "code",
   "execution_count": 12,
   "id": "f2e00890",
   "metadata": {
    "ExecuteTime": {
     "end_time": "2022-08-24T05:45:04.088431Z",
     "start_time": "2022-08-24T05:45:04.075435Z"
    }
   },
   "outputs": [
    {
     "data": {
      "text/plain": [
       "-0.8"
      ]
     },
     "execution_count": 12,
     "metadata": {},
     "output_type": "execute_result"
    }
   ],
   "source": [
    "average_flow_rate(decreasing_volume,0,4)"
   ]
  }
 ],
 "metadata": {
  "hide_input": false,
  "kernelspec": {
   "display_name": "Python 3 (ipykernel)",
   "language": "python",
   "name": "python3"
  },
  "language_info": {
   "codemirror_mode": {
    "name": "ipython",
    "version": 3
   },
   "file_extension": ".py",
   "mimetype": "text/x-python",
   "name": "python",
   "nbconvert_exporter": "python",
   "pygments_lexer": "ipython3",
   "version": "3.9.12"
  },
  "nbTranslate": {
   "displayLangs": [
    "*"
   ],
   "hotkey": "alt-t",
   "langInMainMenu": true,
   "sourceLang": "en",
   "targetLang": "fr",
   "useGoogleTranslate": true
  },
  "toc": {
   "base_numbering": 1,
   "nav_menu": {},
   "number_sections": true,
   "sideBar": true,
   "skip_h1_title": false,
   "title_cell": "Table of Contents",
   "title_sidebar": "Contents",
   "toc_cell": false,
   "toc_position": {},
   "toc_section_display": true,
   "toc_window_display": false
  },
  "varInspector": {
   "cols": {
    "lenName": 16,
    "lenType": 16,
    "lenVar": 40
   },
   "kernels_config": {
    "python": {
     "delete_cmd_postfix": "",
     "delete_cmd_prefix": "del ",
     "library": "var_list.py",
     "varRefreshCmd": "print(var_dic_list())"
    },
    "r": {
     "delete_cmd_postfix": ") ",
     "delete_cmd_prefix": "rm(",
     "library": "var_list.r",
     "varRefreshCmd": "cat(var_dic_list()) "
    }
   },
   "types_to_exclude": [
    "module",
    "function",
    "builtin_function_or_method",
    "instance",
    "_Feature"
   ],
   "window_display": false
  }
 },
 "nbformat": 4,
 "nbformat_minor": 5
}
