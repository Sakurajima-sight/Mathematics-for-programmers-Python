{
 "cells": [
  {
   "cell_type": "code",
   "execution_count": 1,
   "id": "cc1cce2d",
   "metadata": {
    "ExecuteTime": {
     "end_time": "2022-08-24T06:17:23.597498Z",
     "start_time": "2022-08-24T06:17:22.895714Z"
    }
   },
   "outputs": [],
   "source": [
    "import matplotlib.pyplot as plt\n",
    "import numpy as np"
   ]
  },
  {
   "cell_type": "code",
   "execution_count": 2,
   "id": "9e3722fe",
   "metadata": {
    "ExecuteTime": {
     "end_time": "2022-08-24T06:17:23.612498Z",
     "start_time": "2022-08-24T06:17:23.599490Z"
    }
   },
   "outputs": [],
   "source": [
    "def plot_function(f,tmin,tmax,tlabel=None,xlabel=None,axes=False, **kwargs):\n",
    "    ts = np.linspace(tmin,tmax,1000)\n",
    "    if tlabel:\n",
    "        plt.xlabel(tlabel,fontsize=18)\n",
    "    if xlabel:\n",
    "        plt.ylabel(xlabel,fontsize=18)\n",
    "    plt.plot(ts, [f(t) for t in ts], **kwargs)\n",
    "    if axes:\n",
    "        total_t = tmax-tmin\n",
    "        plt.plot([tmin-total_t/10,tmax+total_t/10],[0,0],c='k',linewidth=1)\n",
    "        plt.xlim(tmin-total_t/10,tmax+total_t/10)\n",
    "        xmin, xmax = plt.ylim()\n",
    "        plt.plot([0,0],[xmin,xmax],c='k',linewidth=1)\n",
    "        plt.ylim(xmin,xmax)"
   ]
  },
  {
   "cell_type": "code",
   "execution_count": 3,
   "id": "765b3b87",
   "metadata": {
    "ExecuteTime": {
     "end_time": "2022-08-24T06:17:23.628478Z",
     "start_time": "2022-08-24T06:17:23.614475Z"
    }
   },
   "outputs": [],
   "source": [
    "def plot_volume(f,tmin,tmax,axes=False,**kwargs):\n",
    "    plot_function(f,tmin,tmax,tlabel=\"time (hr)\", xlabel=\"volume (bbl)\", axes=axes, **kwargs)\n",
    "\n",
    "def plot_flow_rate(f,tmin,tmax,axes=False,**kwargs):\n",
    "    plot_function(f,tmin,tmax,tlabel=\"time (hr)\", xlabel=\"flow rate (bbl/hr)\", axes=axes, **kwargs)"
   ]
  },
  {
   "cell_type": "code",
   "execution_count": 4,
   "id": "90463556",
   "metadata": {
    "ExecuteTime": {
     "end_time": "2022-08-24T06:17:23.644489Z",
     "start_time": "2022-08-24T06:17:23.630472Z"
    }
   },
   "outputs": [],
   "source": [
    "def volume(t):\n",
    "    return (t-4)**3 / 64 + 3.3\n",
    "\n",
    "def flow_rate(t):\n",
    "    return 3*(t-4)**2 / 64"
   ]
  },
  {
   "cell_type": "code",
   "execution_count": 5,
   "id": "33d5ca95",
   "metadata": {
    "ExecuteTime": {
     "end_time": "2022-08-24T06:17:23.753498Z",
     "start_time": "2022-08-24T06:17:23.646480Z"
    }
   },
   "outputs": [
    {
     "data": {
      "image/png": "[encoded data removed]",
      "text/plain": [
       "<Figure size 432x288 with 1 Axes>"
      ]
     },
     "metadata": {
      "needs_background": "light"
     },
     "output_type": "display_data"
    }
   ],
   "source": [
    "plot_volume(volume,0,10)"
   ]
  },
  {
   "cell_type": "code",
   "execution_count": null,
   "id": "3f529ad8",
   "metadata": {},
   "outputs": [],
   "source": []
  },
  {
   "cell_type": "code",
   "execution_count": 6,
   "id": "f23ef34d",
   "metadata": {
    "ExecuteTime": {
     "end_time": "2022-08-24T06:17:23.769479Z",
     "start_time": "2022-08-24T06:17:23.756482Z"
    },
    "run_control": {
     "marked": true
    }
   },
   "outputs": [],
   "source": [
    "def average_flow_rate(v,t1,t2):\n",
    "    return (v(t2)-v(t1))/(t2-t1)"
   ]
  },
  {
   "cell_type": "code",
   "execution_count": 7,
   "id": "4307445e",
   "metadata": {
    "ExecuteTime": {
     "end_time": "2022-08-24T06:17:23.784489Z",
     "start_time": "2022-08-24T06:17:23.772471Z"
    }
   },
   "outputs": [
    {
     "data": {
      "text/plain": [
       "3.3"
      ]
     },
     "execution_count": 7,
     "metadata": {},
     "output_type": "execute_result"
    }
   ],
   "source": [
    "volume(4)"
   ]
  },
  {
   "cell_type": "code",
   "execution_count": 8,
   "id": "8214babc",
   "metadata": {
    "ExecuteTime": {
     "end_time": "2022-08-24T06:17:23.799498Z",
     "start_time": "2022-08-24T06:17:23.786478Z"
    }
   },
   "outputs": [
    {
     "data": {
      "text/plain": [
       "5.253125"
      ]
     },
     "execution_count": 8,
     "metadata": {},
     "output_type": "execute_result"
    }
   ],
   "source": [
    "volume(9)"
   ]
  },
  {
   "cell_type": "code",
   "execution_count": 9,
   "id": "dd981dab",
   "metadata": {
    "ExecuteTime": {
     "end_time": "2022-08-24T06:17:23.814478Z",
     "start_time": "2022-08-24T06:17:23.801475Z"
    }
   },
   "outputs": [
    {
     "data": {
      "text/plain": [
       "0.390625"
      ]
     },
     "execution_count": 9,
     "metadata": {},
     "output_type": "execute_result"
    }
   ],
   "source": [
    "average_flow_rate(volume,4,9)"
   ]
  },
  {
   "cell_type": "code",
   "execution_count": 10,
   "id": "eeb5892d",
   "metadata": {
    "ExecuteTime": {
     "end_time": "2022-08-24T06:17:23.830478Z",
     "start_time": "2022-08-24T06:17:23.816478Z"
    }
   },
   "outputs": [],
   "source": [
    "def decreasing_volume(t):\n",
    "    if t < 5:\n",
    "        return 10 - (t**2)/5\n",
    "    else:\n",
    "        return 0.2*(10-t)**2"
   ]
  },
  {
   "cell_type": "code",
   "execution_count": 11,
   "id": "d52538b4",
   "metadata": {
    "ExecuteTime": {
     "end_time": "2022-08-24T06:17:23.908490Z",
     "start_time": "2022-08-24T06:17:23.832477Z"
    }
   },
   "outputs": [
    {
     "data": {
      "image/png": "[encoded data removed]",
      "text/plain": [
       "<Figure size 432x288 with 1 Axes>"
      ]
     },
     "metadata": {
      "needs_background": "light"
     },
     "output_type": "display_data"
    }
   ],
   "source": [
    "plot_volume(decreasing_volume,0,10)"
   ]
  },
  {
   "cell_type": "code",
   "execution_count": 12,
   "id": "9eb6fb52",
   "metadata": {
    "ExecuteTime": {
     "end_time": "2022-08-24T06:17:23.924498Z",
     "start_time": "2022-08-24T06:17:23.910480Z"
    }
   },
   "outputs": [
    {
     "data": {
      "text/plain": [
       "-0.8"
      ]
     },
     "execution_count": 12,
     "metadata": {},
     "output_type": "execute_result"
    }
   ],
   "source": [
    "average_flow_rate(decreasing_volume,0,4)"
   ]
  },
  {
   "cell_type": "code",
   "execution_count": 13,
   "id": "42e9513d",
   "metadata": {
    "ExecuteTime": {
     "end_time": "2022-08-24T06:17:23.940488Z",
     "start_time": "2022-08-24T06:17:23.926474Z"
    }
   },
   "outputs": [],
   "source": [
    "def secant_line(f,x1,x2):\n",
    "    def line(x):\n",
    "        return f(x1)+(x-x1)*(f(x2)-f(x1))/(x2-x1)\n",
    "    return line"
   ]
  },
  {
   "cell_type": "code",
   "execution_count": 14,
   "id": "c2fa45c3",
   "metadata": {
    "ExecuteTime": {
     "end_time": "2022-08-24T06:17:23.955478Z",
     "start_time": "2022-08-24T06:17:23.942470Z"
    }
   },
   "outputs": [],
   "source": [
    "def plot_secant(f,x1,x2,color='k'):\n",
    "    line=secant_line(f,x1,x2)\n",
    "    plot_function(line,x1,x2,c=color)\n",
    "    plt.scatter([x1,x2],[f(x1),f(x2)],c=color)"
   ]
  },
  {
   "cell_type": "code",
   "execution_count": 15,
   "id": "30e52208",
   "metadata": {
    "ExecuteTime": {
     "end_time": "2022-08-24T06:17:24.049479Z",
     "start_time": "2022-08-24T06:17:23.957472Z"
    }
   },
   "outputs": [
    {
     "data": {
      "image/png": "[encoded data removed]",
      "text/plain": [
       "<Figure size 432x288 with 1 Axes>"
      ]
     },
     "metadata": {
      "needs_background": "light"
     },
     "output_type": "display_data"
    }
   ],
   "source": [
    "plot_volume(volume,0,10)\n",
    "plot_secant(volume,4,8)"
   ]
  },
  {
   "cell_type": "code",
   "execution_count": 16,
   "id": "86823727",
   "metadata": {
    "ExecuteTime": {
     "end_time": "2022-08-24T07:13:03.304422Z",
     "start_time": "2022-08-24T07:13:03.297368Z"
    }
   },
   "outputs": [
    {
     "data": {
      "text/plain": [
       "array([0. , 0.5, 1. , 1.5, 2. , 2.5, 3. , 3.5, 4. , 4.5, 5. , 5.5, 6. ,\n",
       "       6.5, 7. , 7.5, 8. , 8.5, 9. , 9.5])"
      ]
     },
     "execution_count": 16,
     "metadata": {},
     "output_type": "execute_result"
    }
   ],
   "source": [
    "np.arange(0,10,0.5)"
   ]
  },
  {
   "cell_type": "code",
   "execution_count": 17,
   "id": "863842f8",
   "metadata": {
    "ExecuteTime": {
     "end_time": "2022-08-24T07:24:17.769538Z",
     "start_time": "2022-08-24T07:24:17.757530Z"
    }
   },
   "outputs": [],
   "source": [
    "def interval_flow_rates(v,t1,t2,dt):\n",
    "    return [(t,average_flow_rate(v,t,t+dt)) for t in np.arange(t1,t2,dt)]"
   ]
  },
  {
   "cell_type": "code",
   "execution_count": 19,
   "id": "3768bda1",
   "metadata": {
    "ExecuteTime": {
     "end_time": "2022-08-24T07:25:06.281109Z",
     "start_time": "2022-08-24T07:25:06.270084Z"
    }
   },
   "outputs": [
    {
     "data": {
      "text/plain": [
       "[(0, 0.578125),\n",
       " (1, 0.296875),\n",
       " (2, 0.109375),\n",
       " (3, 0.015625),\n",
       " (4, 0.015625),\n",
       " (5, 0.109375),\n",
       " (6, 0.296875),\n",
       " (7, 0.578125),\n",
       " (8, 0.953125),\n",
       " (9, 1.421875)]"
      ]
     },
     "execution_count": 19,
     "metadata": {},
     "output_type": "execute_result"
    }
   ],
   "source": [
    "interval_flow_rates(volume,0,10,1)"
   ]
  },
  {
   "cell_type": "code",
   "execution_count": null,
   "id": "680c5b3d",
   "metadata": {},
   "outputs": [],
   "source": []
  }
 ],
 "metadata": {
  "hide_input": false,
  "kernelspec": {
   "display_name": "Python 3 (ipykernel)",
   "language": "python",
   "name": "python3"
  },
  "language_info": {
   "codemirror_mode": {
    "name": "ipython",
    "version": 3
   },
   "file_extension": ".py",
   "mimetype": "text/x-python",
   "name": "python",
   "nbconvert_exporter": "python",
   "pygments_lexer": "ipython3",
   "version": "3.9.12"
  },
  "nbTranslate": {
   "displayLangs": [
    "*"
   ],
   "hotkey": "alt-t",
   "langInMainMenu": true,
   "sourceLang": "en",
   "targetLang": "fr",
   "useGoogleTranslate": true
  },
  "toc": {
   "base_numbering": 1,
   "nav_menu": {},
   "number_sections": true,
   "sideBar": true,
   "skip_h1_title": false,
   "title_cell": "Table of Contents",
   "title_sidebar": "Contents",
   "toc_cell": false,
   "toc_position": {},
   "toc_section_display": true,
   "toc_window_display": false
  },
  "varInspector": {
   "cols": {
    "lenName": 16,
    "lenType": 16,
    "lenVar": 40
   },
   "kernels_config": {
    "python": {
     "delete_cmd_postfix": "",
     "delete_cmd_prefix": "del ",
     "library": "var_list.py",
     "varRefreshCmd": "print(var_dic_list())"
    },
    "r": {
     "delete_cmd_postfix": ") ",
     "delete_cmd_prefix": "rm(",
     "library": "var_list.r",
     "varRefreshCmd": "cat(var_dic_list()) "
    }
   },
   "types_to_exclude": [
    "module",
    "function",
    "builtin_function_or_method",
    "instance",
    "_Feature"
   ],
   "window_display": false
  }
 },
 "nbformat": 4,
 "nbformat_minor": 5
}
