{
 "cells": [
  {
   "cell_type": "code",
   "execution_count": 1,
   "id": "aae39707",
   "metadata": {
    "ExecuteTime": {
     "end_time": "2022-08-24T09:38:22.572239Z",
     "start_time": "2022-08-24T09:38:21.759865Z"
    }
   },
   "outputs": [],
   "source": [
    "import matplotlib.pyplot as plt\n",
    "import numpy as np"
   ]
  },
  {
   "cell_type": "code",
   "execution_count": 2,
   "id": "5f0b1432",
   "metadata": {
    "ExecuteTime": {
     "end_time": "2022-08-24T09:38:22.588243Z",
     "start_time": "2022-08-24T09:38:22.574209Z"
    }
   },
   "outputs": [],
   "source": [
    "def plot_function(f,tmin,tmax,tlabel=None,xlabel=None,axes=False, **kwargs):\n",
    "    ts = np.linspace(tmin,tmax,1000)\n",
    "    if tlabel:\n",
    "        plt.xlabel(tlabel,fontsize=18)\n",
    "    if xlabel:\n",
    "        plt.ylabel(xlabel,fontsize=18)\n",
    "    plt.plot(ts, [f(t) for t in ts], **kwargs)\n",
    "    if axes:\n",
    "        total_t = tmax-tmin\n",
    "        plt.plot([tmin-total_t/10,tmax+total_t/10],[0,0],c='k',linewidth=1)\n",
    "        plt.xlim(tmin-total_t/10,tmax+total_t/10)\n",
    "        xmin, xmax = plt.ylim()\n",
    "        plt.plot([0,0],[xmin,xmax],c='k',linewidth=1)\n",
    "        plt.ylim(xmin,xmax)"
   ]
  },
  {
   "cell_type": "code",
   "execution_count": 3,
   "id": "5ed41a7e",
   "metadata": {
    "ExecuteTime": {
     "end_time": "2022-08-24T09:38:22.604226Z",
     "start_time": "2022-08-24T09:38:22.590219Z"
    }
   },
   "outputs": [],
   "source": [
    "def plot_volume(f,tmin,tmax,axes=False,**kwargs):\n",
    "    plot_function(f,tmin,tmax,tlabel=\"time (hr)\", xlabel=\"volume (bbl)\", axes=axes, **kwargs)\n",
    "\n",
    "def plot_flow_rate(f,tmin,tmax,axes=False,**kwargs):\n",
    "    plot_function(f,tmin,tmax,tlabel=\"time (hr)\", xlabel=\"flow rate (bbl/hr)\", axes=axes, **kwargs)"
   ]
  },
  {
   "cell_type": "code",
   "execution_count": 4,
   "id": "935c8445",
   "metadata": {
    "ExecuteTime": {
     "end_time": "2022-08-24T09:38:22.619584Z",
     "start_time": "2022-08-24T09:38:22.605211Z"
    }
   },
   "outputs": [],
   "source": [
    "def volume(t):\n",
    "    return (t-4)**3 / 64 + 3.3\n",
    "\n",
    "def flow_rate(t):\n",
    "    return 3*(t-4)**2 / 64"
   ]
  },
  {
   "cell_type": "code",
   "execution_count": 5,
   "id": "122df47d",
   "metadata": {
    "ExecuteTime": {
     "end_time": "2022-08-24T09:38:22.743768Z",
     "start_time": "2022-08-24T09:38:22.621582Z"
    }
   },
   "outputs": [
    {
     "data": {
      "image/png": "[encoded data removed]",
      "text/plain": [
       "<Figure size 432x288 with 1 Axes>"
      ]
     },
     "metadata": {
      "needs_background": "light"
     },
     "output_type": "display_data"
    }
   ],
   "source": [
    "plot_volume(volume,0,10)"
   ]
  },
  {
   "cell_type": "code",
   "execution_count": null,
   "id": "8a6d3e6c",
   "metadata": {},
   "outputs": [],
   "source": []
  },
  {
   "cell_type": "code",
   "execution_count": 6,
   "id": "01b6d2b4",
   "metadata": {
    "ExecuteTime": {
     "end_time": "2022-08-24T09:38:22.759765Z",
     "start_time": "2022-08-24T09:38:22.745770Z"
    },
    "run_control": {
     "marked": true
    }
   },
   "outputs": [],
   "source": [
    "def average_flow_rate(v,t1,t2):\n",
    "    return (v(t2)-v(t1))/(t2-t1)"
   ]
  },
  {
   "cell_type": "code",
   "execution_count": 7,
   "id": "602401fe",
   "metadata": {
    "ExecuteTime": {
     "end_time": "2022-08-24T09:38:22.774770Z",
     "start_time": "2022-08-24T09:38:22.760765Z"
    }
   },
   "outputs": [
    {
     "data": {
      "text/plain": [
       "3.3"
      ]
     },
     "execution_count": 7,
     "metadata": {},
     "output_type": "execute_result"
    }
   ],
   "source": [
    "volume(4)"
   ]
  },
  {
   "cell_type": "code",
   "execution_count": 8,
   "id": "e86bb20e",
   "metadata": {
    "ExecuteTime": {
     "end_time": "2022-08-24T09:38:22.790763Z",
     "start_time": "2022-08-24T09:38:22.776770Z"
    }
   },
   "outputs": [
    {
     "data": {
      "text/plain": [
       "5.253125"
      ]
     },
     "execution_count": 8,
     "metadata": {},
     "output_type": "execute_result"
    }
   ],
   "source": [
    "volume(9)"
   ]
  },
  {
   "cell_type": "code",
   "execution_count": 9,
   "id": "a8834346",
   "metadata": {
    "ExecuteTime": {
     "end_time": "2022-08-24T09:38:22.805768Z",
     "start_time": "2022-08-24T09:38:22.793768Z"
    }
   },
   "outputs": [
    {
     "data": {
      "text/plain": [
       "0.390625"
      ]
     },
     "execution_count": 9,
     "metadata": {},
     "output_type": "execute_result"
    }
   ],
   "source": [
    "average_flow_rate(volume,4,9)"
   ]
  },
  {
   "cell_type": "code",
   "execution_count": 10,
   "id": "18cd0ea2",
   "metadata": {
    "ExecuteTime": {
     "end_time": "2022-08-24T09:38:22.821761Z",
     "start_time": "2022-08-24T09:38:22.807769Z"
    }
   },
   "outputs": [],
   "source": [
    "def decreasing_volume(t):\n",
    "    if t < 5:\n",
    "        return 10 - (t**2)/5\n",
    "    else:\n",
    "        return 0.2*(10-t)**2"
   ]
  },
  {
   "cell_type": "code",
   "execution_count": 11,
   "id": "3e43f214",
   "metadata": {
    "ExecuteTime": {
     "end_time": "2022-08-24T09:38:22.915787Z",
     "start_time": "2022-08-24T09:38:22.823766Z"
    }
   },
   "outputs": [
    {
     "data": {
      "image/png": "[encoded data removed]",
      "text/plain": [
       "<Figure size 432x288 with 1 Axes>"
      ]
     },
     "metadata": {
      "needs_background": "light"
     },
     "output_type": "display_data"
    }
   ],
   "source": [
    "plot_volume(decreasing_volume,0,10)"
   ]
  },
  {
   "cell_type": "code",
   "execution_count": 12,
   "id": "9c60fddd",
   "metadata": {
    "ExecuteTime": {
     "end_time": "2022-08-24T09:38:22.931783Z",
     "start_time": "2022-08-24T09:38:22.917767Z"
    }
   },
   "outputs": [
    {
     "data": {
      "text/plain": [
       "-0.8"
      ]
     },
     "execution_count": 12,
     "metadata": {},
     "output_type": "execute_result"
    }
   ],
   "source": [
    "average_flow_rate(decreasing_volume,0,4)"
   ]
  },
  {
   "cell_type": "code",
   "execution_count": 13,
   "id": "f5faf293",
   "metadata": {
    "ExecuteTime": {
     "end_time": "2022-08-24T09:38:22.946764Z",
     "start_time": "2022-08-24T09:38:22.934766Z"
    }
   },
   "outputs": [],
   "source": [
    "def secant_line(f,x1,x2):\n",
    "    def line(x):\n",
    "        return f(x1)+(x-x1)*(f(x2)-f(x1))/(x2-x1)\n",
    "    return line"
   ]
  },
  {
   "cell_type": "code",
   "execution_count": 14,
   "id": "d82b843d",
   "metadata": {
    "ExecuteTime": {
     "end_time": "2022-08-24T09:38:22.961786Z",
     "start_time": "2022-08-24T09:38:22.948772Z"
    }
   },
   "outputs": [],
   "source": [
    "def plot_secant(f,x1,x2,color='k'):\n",
    "    line=secant_line(f,x1,x2)\n",
    "    plot_function(line,x1,x2,c=color)\n",
    "    plt.scatter([x1,x2],[f(x1),f(x2)],c=color)"
   ]
  },
  {
   "cell_type": "code",
   "execution_count": 15,
   "id": "0c3b2a1f",
   "metadata": {
    "ExecuteTime": {
     "end_time": "2022-08-24T09:38:23.054773Z",
     "start_time": "2022-08-24T09:38:22.963771Z"
    }
   },
   "outputs": [
    {
     "data": {
      "image/png": "[encoded data removed]",
      "text/plain": [
       "<Figure size 432x288 with 1 Axes>"
      ]
     },
     "metadata": {
      "needs_background": "light"
     },
     "output_type": "display_data"
    }
   ],
   "source": [
    "plot_volume(volume,0,10)\n",
    "plot_secant(volume,4,8)"
   ]
  },
  {
   "cell_type": "code",
   "execution_count": 16,
   "id": "e15b6d96",
   "metadata": {
    "ExecuteTime": {
     "end_time": "2022-08-24T09:38:23.069777Z",
     "start_time": "2022-08-24T09:38:23.056766Z"
    }
   },
   "outputs": [
    {
     "data": {
      "text/plain": [
       "array([0. , 0.5, 1. , 1.5, 2. , 2.5, 3. , 3.5, 4. , 4.5, 5. , 5.5, 6. ,\n",
       "       6.5, 7. , 7.5, 8. , 8.5, 9. , 9.5])"
      ]
     },
     "execution_count": 16,
     "metadata": {},
     "output_type": "execute_result"
    }
   ],
   "source": [
    "np.arange(0,10,0.5)"
   ]
  },
  {
   "cell_type": "code",
   "execution_count": 17,
   "id": "ebb21cd8",
   "metadata": {
    "ExecuteTime": {
     "end_time": "2022-08-24T09:38:23.085769Z",
     "start_time": "2022-08-24T09:38:23.071792Z"
    }
   },
   "outputs": [],
   "source": [
    "def interval_flow_rates(v,t1,t2,dt):\n",
    "    return [(t,average_flow_rate(v,t,t+dt)) for t in np.arange(t1,t2,dt)]"
   ]
  },
  {
   "cell_type": "code",
   "execution_count": 18,
   "id": "b1e3c336",
   "metadata": {
    "ExecuteTime": {
     "end_time": "2022-08-24T09:38:23.100917Z",
     "start_time": "2022-08-24T09:38:23.087770Z"
    }
   },
   "outputs": [
    {
     "data": {
      "text/plain": [
       "[(0, 0.578125),\n",
       " (1, 0.296875),\n",
       " (2, 0.109375),\n",
       " (3, 0.015625),\n",
       " (4, 0.015625),\n",
       " (5, 0.109375),\n",
       " (6, 0.296875),\n",
       " (7, 0.578125),\n",
       " (8, 0.953125),\n",
       " (9, 1.421875)]"
      ]
     },
     "execution_count": 18,
     "metadata": {},
     "output_type": "execute_result"
    }
   ],
   "source": [
    "interval_flow_rates(volume,0,10,1)"
   ]
  },
  {
   "cell_type": "code",
   "execution_count": 19,
   "id": "ce5a1f18",
   "metadata": {
    "ExecuteTime": {
     "end_time": "2022-08-24T09:38:23.116940Z",
     "start_time": "2022-08-24T09:38:23.103919Z"
    }
   },
   "outputs": [],
   "source": [
    "def plot_interval_flow_rates(volume,t1,t2,dt):\n",
    "    series=interval_flow_rates(volume,t1,t2,dt)\n",
    "    times=[t for (t,_) in series]\n",
    "    rates=[q for (_,q) in series]\n",
    "    plt.scatter(times,rates)"
   ]
  },
  {
   "cell_type": "code",
   "execution_count": 20,
   "id": "a4f1e83a",
   "metadata": {
    "ExecuteTime": {
     "end_time": "2022-08-24T09:38:23.209932Z",
     "start_time": "2022-08-24T09:38:23.118918Z"
    }
   },
   "outputs": [
    {
     "data": {
      "image/png": "[encoded data removed]",
      "text/plain": [
       "<Figure size 432x288 with 1 Axes>"
      ]
     },
     "metadata": {
      "needs_background": "light"
     },
     "output_type": "display_data"
    }
   ],
   "source": [
    "plot_interval_flow_rates(volume,0,10,1)"
   ]
  },
  {
   "cell_type": "code",
   "execution_count": 21,
   "id": "213a6a08",
   "metadata": {
    "ExecuteTime": {
     "end_time": "2022-08-24T09:38:23.302962Z",
     "start_time": "2022-08-24T09:38:23.212921Z"
    }
   },
   "outputs": [
    {
     "data": {
      "image/png": "[encoded data removed]",
      "text/plain": [
       "<Figure size 432x288 with 1 Axes>"
      ]
     },
     "metadata": {
      "needs_background": "light"
     },
     "output_type": "display_data"
    }
   ],
   "source": [
    "plot_flow_rate(flow_rate,0,10)\n",
    "plot_interval_flow_rates(volume,0,10,1)"
   ]
  },
  {
   "cell_type": "code",
   "execution_count": 22,
   "id": "37a0aeae",
   "metadata": {
    "ExecuteTime": {
     "end_time": "2022-08-24T09:38:23.396951Z",
     "start_time": "2022-08-24T09:38:23.303952Z"
    }
   },
   "outputs": [
    {
     "data": {
      "image/png": "[encoded data removed]",
      "text/plain": [
       "<Figure size 432x288 with 1 Axes>"
      ]
     },
     "metadata": {
      "needs_background": "light"
     },
     "output_type": "display_data"
    }
   ],
   "source": [
    "plot_flow_rate(flow_rate,0,10)\n",
    "plot_interval_flow_rates(volume,0,10,1/3)"
   ]
  },
  {
   "cell_type": "code",
   "execution_count": 23,
   "id": "85871863",
   "metadata": {
    "ExecuteTime": {
     "end_time": "2022-08-24T09:38:23.474970Z",
     "start_time": "2022-08-24T09:38:23.398957Z"
    }
   },
   "outputs": [
    {
     "data": {
      "image/png": "[encoded data removed]",
      "text/plain": [
       "<Figure size 432x288 with 1 Axes>"
      ]
     },
     "metadata": {
      "needs_background": "light"
     },
     "output_type": "display_data"
    }
   ],
   "source": [
    "plot_interval_flow_rates(decreasing_volume,0,10,0.5)"
   ]
  },
  {
   "cell_type": "code",
   "execution_count": 24,
   "id": "64896ca7",
   "metadata": {
    "ExecuteTime": {
     "end_time": "2022-08-24T09:38:23.551950Z",
     "start_time": "2022-08-24T09:38:23.476960Z"
    }
   },
   "outputs": [
    {
     "data": {
      "image/png": "[encoded data removed]",
      "text/plain": [
       "<Figure size 432x288 with 1 Axes>"
      ]
     },
     "metadata": {
      "needs_background": "light"
     },
     "output_type": "display_data"
    }
   ],
   "source": [
    "def linear_volume_functiion(t):\n",
    "    return 5*t+3\n",
    "plot_interval_flow_rates(linear_volume_functiion,0,10,0.25)"
   ]
  },
  {
   "cell_type": "code",
   "execution_count": 25,
   "id": "6549e024",
   "metadata": {
    "ExecuteTime": {
     "end_time": "2022-08-24T09:38:23.567979Z",
     "start_time": "2022-08-24T09:38:23.553960Z"
    }
   },
   "outputs": [
    {
     "data": {
      "text/plain": [
       "0.42578125"
      ]
     },
     "execution_count": 25,
     "metadata": {},
     "output_type": "execute_result"
    }
   ],
   "source": [
    "average_flow_rate(volume,0.5,1.5)"
   ]
  },
  {
   "cell_type": "code",
   "execution_count": 26,
   "id": "c37ea0ea",
   "metadata": {
    "ExecuteTime": {
     "end_time": "2022-08-24T09:38:23.583961Z",
     "start_time": "2022-08-24T09:38:23.570958Z"
    },
    "scrolled": true
   },
   "outputs": [
    {
     "data": {
      "text/plain": [
       "0.4220312499999988"
      ]
     },
     "execution_count": 26,
     "metadata": {},
     "output_type": "execute_result"
    }
   ],
   "source": [
    "average_flow_rate(volume,0.9,1.1)"
   ]
  },
  {
   "cell_type": "code",
   "execution_count": 27,
   "id": "ae9f10b1",
   "metadata": {
    "ExecuteTime": {
     "end_time": "2022-08-24T09:38:23.598957Z",
     "start_time": "2022-08-24T09:38:23.585955Z"
    }
   },
   "outputs": [
    {
     "data": {
      "text/plain": [
       "0.42187656249998945"
      ]
     },
     "execution_count": 27,
     "metadata": {},
     "output_type": "execute_result"
    }
   ],
   "source": [
    "average_flow_rate(volume,0.99,1.01)"
   ]
  },
  {
   "cell_type": "code",
   "execution_count": 28,
   "id": "4f2ee492",
   "metadata": {
    "ExecuteTime": {
     "end_time": "2022-08-24T09:38:23.614950Z",
     "start_time": "2022-08-24T09:38:23.600958Z"
    }
   },
   "outputs": [
    {
     "data": {
      "text/plain": [
       "0.42187501562509583"
      ]
     },
     "execution_count": 28,
     "metadata": {},
     "output_type": "execute_result"
    }
   ],
   "source": [
    "average_flow_rate(volume,0.999,1.001)"
   ]
  },
  {
   "cell_type": "code",
   "execution_count": 29,
   "id": "4e24fb52",
   "metadata": {
    "ExecuteTime": {
     "end_time": "2022-08-24T09:38:23.629954Z",
     "start_time": "2022-08-24T09:38:23.617955Z"
    }
   },
   "outputs": [
    {
     "data": {
      "text/plain": [
       "0.42187500015393936"
      ]
     },
     "execution_count": 29,
     "metadata": {},
     "output_type": "execute_result"
    }
   ],
   "source": [
    "average_flow_rate(volume,0.9999,1.0001)"
   ]
  },
  {
   "cell_type": "code",
   "execution_count": 30,
   "id": "17646667",
   "metadata": {
    "ExecuteTime": {
     "end_time": "2022-08-24T09:38:23.645973Z",
     "start_time": "2022-08-24T09:38:23.631955Z"
    }
   },
   "outputs": [
    {
     "data": {
      "text/plain": [
       "0.4218750000002602"
      ]
     },
     "execution_count": 30,
     "metadata": {},
     "output_type": "execute_result"
    }
   ],
   "source": [
    "average_flow_rate(volume,0.99999,1.00001)"
   ]
  },
  {
   "cell_type": "code",
   "execution_count": 31,
   "id": "9563ca2a",
   "metadata": {
    "ExecuteTime": {
     "end_time": "2022-08-24T09:38:23.661950Z",
     "start_time": "2022-08-24T09:38:23.647954Z"
    }
   },
   "outputs": [
    {
     "data": {
      "text/plain": [
       "0.421875"
      ]
     },
     "execution_count": 31,
     "metadata": {},
     "output_type": "execute_result"
    }
   ],
   "source": [
    "flow_rate(1)"
   ]
  },
  {
   "cell_type": "code",
   "execution_count": 32,
   "id": "053c94ad",
   "metadata": {
    "ExecuteTime": {
     "end_time": "2022-08-24T09:38:23.676948Z",
     "start_time": "2022-08-24T09:38:23.666953Z"
    }
   },
   "outputs": [],
   "source": [
    "def instantaneous_flow_rate(v,t,digits=6):\n",
    "    tolerance=10**(-digits)\n",
    "    h=1\n",
    "    approx=average_flow_rate(v,t-h,t+h)\n",
    "    for i in range(0,2*digits):\n",
    "        h=h/10\n",
    "        next_approx=average_flow_rate(v,t-h,t+h)\n",
    "        if abs(next_approx-approx)<tolerance:\n",
    "            return round(next_approx,digits)\n",
    "        else:\n",
    "            approx=next_approx\n",
    "    raise Exception(\"Derivate did not converage\")"
   ]
  },
  {
   "cell_type": "code",
   "execution_count": 33,
   "id": "ded50734",
   "metadata": {
    "ExecuteTime": {
     "end_time": "2022-08-24T09:38:23.692952Z",
     "start_time": "2022-08-24T09:38:23.678956Z"
    }
   },
   "outputs": [
    {
     "data": {
      "text/plain": [
       "0.421875"
      ]
     },
     "execution_count": 33,
     "metadata": {},
     "output_type": "execute_result"
    }
   ],
   "source": [
    "instantaneous_flow_rate(volume,1)"
   ]
  },
  {
   "cell_type": "code",
   "execution_count": 34,
   "id": "01498d1c",
   "metadata": {
    "ExecuteTime": {
     "end_time": "2022-08-24T09:38:23.708949Z",
     "start_time": "2022-08-24T09:38:23.694958Z"
    }
   },
   "outputs": [],
   "source": [
    "def get_flow_rate_function(v):\n",
    "    def flow_rate_function(t):\n",
    "        instantaneous_flow_rate(v,t)\n",
    "    return flow_rate_function"
   ]
  },
  {
   "cell_type": "code",
   "execution_count": 35,
   "id": "507b1b5c",
   "metadata": {
    "ExecuteTime": {
     "end_time": "2022-08-24T09:38:23.816979Z",
     "start_time": "2022-08-24T09:38:23.710959Z"
    }
   },
   "outputs": [
    {
     "data": {
      "image/png": "[encoded data removed]",
      "text/plain": [
       "<Figure size 432x288 with 1 Axes>"
      ]
     },
     "metadata": {
      "needs_background": "light"
     },
     "output_type": "display_data"
    }
   ],
   "source": [
    "plot_function(flow_rate,0,10)\n",
    "plot_function(get_flow_rate_function(volume),0,10)"
   ]
  },
  {
   "cell_type": "code",
   "execution_count": 36,
   "id": "d5b61ba3",
   "metadata": {
    "ExecuteTime": {
     "end_time": "2022-08-24T09:38:23.832964Z",
     "start_time": "2022-08-24T09:38:23.819965Z"
    }
   },
   "outputs": [
    {
     "data": {
      "text/plain": [
       "2.878125"
      ]
     },
     "execution_count": 36,
     "metadata": {},
     "output_type": "execute_result"
    }
   ],
   "source": [
    "volume(1)"
   ]
  },
  {
   "cell_type": "code",
   "execution_count": 37,
   "id": "00e90425",
   "metadata": {
    "ExecuteTime": {
     "end_time": "2022-08-24T09:38:23.847962Z",
     "start_time": "2022-08-24T09:38:23.834956Z"
    }
   },
   "outputs": [
    {
     "data": {
      "text/plain": [
       "2.8781248593749997"
      ]
     },
     "execution_count": 37,
     "metadata": {},
     "output_type": "execute_result"
    }
   ],
   "source": [
    "secant_line(volume,0.999,1.001)(1)"
   ]
  },
  {
   "cell_type": "code",
   "execution_count": 38,
   "id": "70402340",
   "metadata": {
    "ExecuteTime": {
     "end_time": "2022-08-24T09:38:23.863952Z",
     "start_time": "2022-08-24T09:38:23.849957Z"
    }
   },
   "outputs": [
    {
     "data": {
      "text/plain": [
       "0.75390625"
      ]
     },
     "execution_count": 38,
     "metadata": {},
     "output_type": "execute_result"
    }
   ],
   "source": [
    "average_flow_rate(volume,7.5,8.5)"
   ]
  },
  {
   "cell_type": "code",
   "execution_count": 39,
   "id": "bb5f9d21",
   "metadata": {
    "ExecuteTime": {
     "end_time": "2022-08-24T09:38:23.878973Z",
     "start_time": "2022-08-24T09:38:23.865951Z"
    },
    "scrolled": true
   },
   "outputs": [
    {
     "data": {
      "text/plain": [
       "0.7501562500000007"
      ]
     },
     "execution_count": 39,
     "metadata": {},
     "output_type": "execute_result"
    }
   ],
   "source": [
    "average_flow_rate(volume,7.9,8.1)"
   ]
  },
  {
   "cell_type": "code",
   "execution_count": 40,
   "id": "67ed4aa3",
   "metadata": {
    "ExecuteTime": {
     "end_time": "2022-08-24T09:38:23.894973Z",
     "start_time": "2022-08-24T09:38:23.880962Z"
    }
   },
   "outputs": [
    {
     "data": {
      "text/plain": [
       "0.750001562499996"
      ]
     },
     "execution_count": 40,
     "metadata": {},
     "output_type": "execute_result"
    }
   ],
   "source": [
    "average_flow_rate(volume,7.99,8.01)"
   ]
  },
  {
   "cell_type": "code",
   "execution_count": 41,
   "id": "e4b0d6cd",
   "metadata": {
    "ExecuteTime": {
     "end_time": "2022-08-24T09:38:23.910973Z",
     "start_time": "2022-08-24T09:38:23.896954Z"
    }
   },
   "outputs": [
    {
     "data": {
      "text/plain": [
       "0.7500000156249458"
      ]
     },
     "execution_count": 41,
     "metadata": {},
     "output_type": "execute_result"
    }
   ],
   "source": [
    "average_flow_rate(volume,7.999,8.001)"
   ]
  },
  {
   "cell_type": "code",
   "execution_count": 42,
   "id": "832256e2",
   "metadata": {
    "ExecuteTime": {
     "end_time": "2022-08-24T09:38:23.925980Z",
     "start_time": "2022-08-24T09:38:23.912953Z"
    }
   },
   "outputs": [
    {
     "data": {
      "text/plain": [
       "0.7500000001554312"
      ]
     },
     "execution_count": 42,
     "metadata": {},
     "output_type": "execute_result"
    }
   ],
   "source": [
    "average_flow_rate(volume,7.9999,8.0001)"
   ]
  },
  {
   "cell_type": "code",
   "execution_count": 43,
   "id": "9343e237",
   "metadata": {
    "ExecuteTime": {
     "end_time": "2022-08-24T09:39:20.596568Z",
     "start_time": "2022-08-24T09:39:20.589572Z"
    }
   },
   "outputs": [],
   "source": [
    "def sign(x):\n",
    "    return x/abs(x)"
   ]
  },
  {
   "cell_type": "code",
   "execution_count": 47,
   "id": "ccbbb66c",
   "metadata": {
    "ExecuteTime": {
     "end_time": "2022-08-24T09:41:16.860600Z",
     "start_time": "2022-08-24T09:41:16.848591Z"
    }
   },
   "outputs": [],
   "source": [
    "def sign_plot_flow_rate(f,tmin,tmax,axes=False,**kwargs):\n",
    "    plot_function(f,tmin,tmax,tlabel=\"x\", xlabel=\"sign(x)\", axes=axes, **kwargs)"
   ]
  },
  {
   "cell_type": "code",
   "execution_count": 48,
   "id": "4f6cfce0",
   "metadata": {
    "ExecuteTime": {
     "end_time": "2022-08-24T09:41:17.061601Z",
     "start_time": "2022-08-24T09:41:16.962570Z"
    }
   },
   "outputs": [
    {
     "data": {
      "image/png": "[encoded data removed]",
      "text/plain": [
       "<Figure size 432x288 with 1 Axes>"
      ]
     },
     "metadata": {
      "needs_background": "light"
     },
     "output_type": "display_data"
    }
   ],
   "source": [
    "sign_plot_flow_rate(sign,-10,10)"
   ]
  },
  {
   "cell_type": "code",
   "execution_count": 49,
   "id": "161f43bd",
   "metadata": {
    "ExecuteTime": {
     "end_time": "2022-08-24T09:42:04.846344Z",
     "start_time": "2022-08-24T09:42:04.841336Z"
    }
   },
   "outputs": [
    {
     "data": {
      "text/plain": [
       "10.0"
      ]
     },
     "execution_count": 49,
     "metadata": {},
     "output_type": "execute_result"
    }
   ],
   "source": [
    "average_flow_rate(sign,-0.1,0.1)"
   ]
  },
  {
   "cell_type": "code",
   "execution_count": 50,
   "id": "89a09b9d",
   "metadata": {
    "ExecuteTime": {
     "end_time": "2022-08-24T09:42:14.637642Z",
     "start_time": "2022-08-24T09:42:14.626631Z"
    }
   },
   "outputs": [
    {
     "data": {
      "text/plain": [
       "100.0"
      ]
     },
     "execution_count": 50,
     "metadata": {},
     "output_type": "execute_result"
    }
   ],
   "source": [
    "average_flow_rate(sign,-0.01,0.01)"
   ]
  },
  {
   "cell_type": "code",
   "execution_count": 52,
   "id": "cfb13188",
   "metadata": {
    "ExecuteTime": {
     "end_time": "2022-08-24T09:42:22.298908Z",
     "start_time": "2022-08-24T09:42:22.291908Z"
    }
   },
   "outputs": [
    {
     "data": {
      "text/plain": [
       "1000.0"
      ]
     },
     "execution_count": 52,
     "metadata": {},
     "output_type": "execute_result"
    }
   ],
   "source": [
    "average_flow_rate(sign,-0.001,0.001)"
   ]
  },
  {
   "cell_type": "code",
   "execution_count": 53,
   "id": "c1b92c68",
   "metadata": {
    "ExecuteTime": {
     "end_time": "2022-08-24T09:43:17.038812Z",
     "start_time": "2022-08-24T09:43:17.022792Z"
    }
   },
   "outputs": [
    {
     "data": {
      "text/plain": [
       "1000000.0"
      ]
     },
     "execution_count": 53,
     "metadata": {},
     "output_type": "execute_result"
    }
   ],
   "source": [
    "average_flow_rate(sign,-0.000001,0.000001)"
   ]
  },
  {
   "cell_type": "code",
   "execution_count": 54,
   "id": "7ac2b08e",
   "metadata": {
    "ExecuteTime": {
     "end_time": "2022-08-24T10:02:39.351626Z",
     "start_time": "2022-08-24T10:02:39.343640Z"
    }
   },
   "outputs": [],
   "source": [
    "def small_volume_change(q,t,dt):\n",
    "    return q(t)*dt"
   ]
  },
  {
   "cell_type": "code",
   "execution_count": 55,
   "id": "a983ded3",
   "metadata": {
    "ExecuteTime": {
     "end_time": "2022-08-24T10:03:17.529121Z",
     "start_time": "2022-08-24T10:03:17.519120Z"
    }
   },
   "outputs": [
    {
     "data": {
      "text/plain": [
       "0.1875"
      ]
     },
     "execution_count": 55,
     "metadata": {},
     "output_type": "execute_result"
    }
   ],
   "source": [
    "small_volume_change(flow_rate,2,1)"
   ]
  },
  {
   "cell_type": "code",
   "execution_count": 56,
   "id": "4623bacf",
   "metadata": {
    "ExecuteTime": {
     "end_time": "2022-08-24T10:04:24.862193Z",
     "start_time": "2022-08-24T10:04:24.852208Z"
    }
   },
   "outputs": [
    {
     "data": {
      "text/plain": [
       "0.109375"
      ]
     },
     "execution_count": 56,
     "metadata": {},
     "output_type": "execute_result"
    }
   ],
   "source": [
    "volume(3)-volume(2)"
   ]
  },
  {
   "cell_type": "code",
   "execution_count": 57,
   "id": "c05d47c1",
   "metadata": {
    "ExecuteTime": {
     "end_time": "2022-08-24T10:06:20.879115Z",
     "start_time": "2022-08-24T10:06:20.868115Z"
    }
   },
   "outputs": [
    {
     "data": {
      "text/plain": [
       "0.001875"
      ]
     },
     "execution_count": 57,
     "metadata": {},
     "output_type": "execute_result"
    }
   ],
   "source": [
    "small_volume_change(flow_rate,2,0.01)"
   ]
  },
  {
   "cell_type": "code",
   "execution_count": 58,
   "id": "761cb5ba",
   "metadata": {
    "ExecuteTime": {
     "end_time": "2022-08-24T10:06:38.213784Z",
     "start_time": "2022-08-24T10:06:38.193762Z"
    }
   },
   "outputs": [
    {
     "data": {
      "text/plain": [
       "0.0018656406250001645"
      ]
     },
     "execution_count": 58,
     "metadata": {},
     "output_type": "execute_result"
    }
   ],
   "source": [
    "volume(2.01)-volume(2)"
   ]
  },
  {
   "cell_type": "code",
   "execution_count": 59,
   "id": "b089f632",
   "metadata": {
    "ExecuteTime": {
     "end_time": "2022-08-24T10:19:19.075181Z",
     "start_time": "2022-08-24T10:19:19.057156Z"
    }
   },
   "outputs": [],
   "source": [
    "def volume_change(q,t1,t2,dt):\n",
    "    return sum(small_volume_change(q,t,dt) for t in np.arange(t1,t2,dt))"
   ]
  },
  {
   "cell_type": "code",
   "execution_count": 60,
   "id": "13b7d126",
   "metadata": {
    "ExecuteTime": {
     "end_time": "2022-08-24T10:20:12.655948Z",
     "start_time": "2022-08-24T10:20:12.644958Z"
    }
   },
   "outputs": [
    {
     "data": {
      "text/plain": [
       "4.32890625"
      ]
     },
     "execution_count": 60,
     "metadata": {},
     "output_type": "execute_result"
    }
   ],
   "source": [
    "volume_change(flow_rate,0,10,0.1)"
   ]
  },
  {
   "cell_type": "code",
   "execution_count": 62,
   "id": "dbd9cb6a",
   "metadata": {
    "ExecuteTime": {
     "end_time": "2022-08-24T10:20:31.386880Z",
     "start_time": "2022-08-24T10:20:31.376901Z"
    }
   },
   "outputs": [
    {
     "data": {
      "text/plain": [
       "4.375"
      ]
     },
     "execution_count": 62,
     "metadata": {},
     "output_type": "execute_result"
    }
   ],
   "source": [
    "volume(10)-volume(0)"
   ]
  },
  {
   "cell_type": "code",
   "execution_count": 63,
   "id": "e192420b",
   "metadata": {
    "ExecuteTime": {
     "end_time": "2022-08-24T10:21:08.190168Z",
     "start_time": "2022-08-24T10:21:08.067656Z"
    }
   },
   "outputs": [
    {
     "data": {
      "text/plain": [
       "4.3749531257812455"
      ]
     },
     "execution_count": 63,
     "metadata": {},
     "output_type": "execute_result"
    }
   ],
   "source": [
    "volume_change(flow_rate,0,10,0.0001)"
   ]
  },
  {
   "cell_type": "code",
   "execution_count": 65,
   "id": "38d35561",
   "metadata": {
    "ExecuteTime": {
     "end_time": "2022-08-24T10:47:55.794764Z",
     "start_time": "2022-08-24T10:47:55.777771Z"
    }
   },
   "outputs": [
    {
     "data": {
      "text/plain": [
       "1.1278171874999996"
      ]
     },
     "execution_count": 65,
     "metadata": {},
     "output_type": "execute_result"
    }
   ],
   "source": [
    "volume_change(flow_rate,0,6,0.01)"
   ]
  },
  {
   "cell_type": "code",
   "execution_count": 66,
   "id": "bba961bd",
   "metadata": {
    "ExecuteTime": {
     "end_time": "2022-08-24T10:48:08.469029Z",
     "start_time": "2022-08-24T10:48:08.451013Z"
    }
   },
   "outputs": [
    {
     "data": {
      "text/plain": [
       "3.2425031249999257"
      ]
     },
     "execution_count": 66,
     "metadata": {},
     "output_type": "execute_result"
    }
   ],
   "source": [
    "volume_change(flow_rate,6,10,0.01)"
   ]
  },
  {
   "cell_type": "code",
   "execution_count": 67,
   "id": "aa465086",
   "metadata": {
    "ExecuteTime": {
     "end_time": "2022-08-24T10:58:20.396943Z",
     "start_time": "2022-08-24T10:58:20.390947Z"
    }
   },
   "outputs": [],
   "source": [
    " def approximate_volume(q,v0,dt,T):\n",
    "        return v0+volume_change(q,0,T,dt)"
   ]
  },
  {
   "cell_type": "code",
   "execution_count": 68,
   "id": "9f574e58",
   "metadata": {
    "ExecuteTime": {
     "end_time": "2022-08-24T10:59:20.658909Z",
     "start_time": "2022-08-24T10:59:20.648877Z"
    }
   },
   "outputs": [],
   "source": [
    "def approximate_volume_function(q,v0,dt):\n",
    "    def volume_function(T):\n",
    "        return approximate_volume(q,v0,dt,T)\n",
    "    return volume_function"
   ]
  },
  {
   "cell_type": "code",
   "execution_count": 70,
   "id": "92690cb5",
   "metadata": {
    "ExecuteTime": {
     "end_time": "2022-08-24T11:01:16.586711Z",
     "start_time": "2022-08-24T11:01:16.486721Z"
    }
   },
   "outputs": [
    {
     "data": {
      "image/png": "[encoded data removed]",
      "text/plain": [
       "<Figure size 432x288 with 1 Axes>"
      ]
     },
     "metadata": {
      "needs_background": "light"
     },
     "output_type": "display_data"
    }
   ],
   "source": [
    "plot_function(approximate_volume_function(flow_rate,2.3,0.5),0,10)\n",
    "plot_function(volume,0,10)"
   ]
  },
  {
   "cell_type": "code",
   "execution_count": 71,
   "id": "55a55e55",
   "metadata": {
    "ExecuteTime": {
     "end_time": "2022-08-24T11:19:47.961026Z",
     "start_time": "2022-08-24T11:19:47.942195Z"
    }
   },
   "outputs": [
    {
     "data": {
      "text/plain": [
       "array([0. , 0.5, 1. , 1.5, 2. , 2.5, 3. , 3.5])"
      ]
     },
     "execution_count": 71,
     "metadata": {},
     "output_type": "execute_result"
    }
   ],
   "source": [
    "np.arange(0,3.9,0.5)"
   ]
  },
  {
   "cell_type": "code",
   "execution_count": 72,
   "id": "5d7b1313",
   "metadata": {
    "ExecuteTime": {
     "end_time": "2022-08-24T11:20:46.881001Z",
     "start_time": "2022-08-24T11:20:46.748997Z"
    }
   },
   "outputs": [
    {
     "data": {
      "image/png": "[encoded data removed]",
      "text/plain": [
       "<Figure size 432x288 with 1 Axes>"
      ]
     },
     "metadata": {
      "needs_background": "light"
     },
     "output_type": "display_data"
    }
   ],
   "source": [
    "plot_function(approximate_volume_function(flow_rate,2.3,0.1),0,10)\n",
    "plot_function(volume,0,10)"
   ]
  },
  {
   "cell_type": "code",
   "execution_count": 73,
   "id": "b3509d5d",
   "metadata": {
    "ExecuteTime": {
     "end_time": "2022-08-24T11:21:08.068806Z",
     "start_time": "2022-08-24T11:21:07.462326Z"
    }
   },
   "outputs": [
    {
     "data": {
      "image/png": "[encoded data removed]",
      "text/plain": [
       "<Figure size 432x288 with 1 Axes>"
      ]
     },
     "metadata": {
      "needs_background": "light"
     },
     "output_type": "display_data"
    }
   ],
   "source": [
    "plot_function(approximate_volume_function(flow_rate,2.3,0.01),0,10)\n",
    "plot_function(volume,0,10)"
   ]
  },
  {
   "cell_type": "code",
   "execution_count": null,
   "id": "11ab7b2f",
   "metadata": {},
   "outputs": [],
   "source": [
    "def get_volume_function(q,v0,digits=6):\n",
    "\n",
    "        tolerance=10**(-digits)\n",
    "        dt=1"
   ]
  },
  {
   "cell_type": "code",
   "execution_count": 81,
   "id": "634f9eb7",
   "metadata": {
    "ExecuteTime": {
     "end_time": "2022-08-24T11:38:22.913287Z",
     "start_time": "2022-08-24T11:38:22.899288Z"
    }
   },
   "outputs": [],
   "source": [
    "def get_volume_function(q,v0,digits=6):\n",
    "    def volume_function(T):\n",
    "        tolerance=10**(-digits)\n",
    "        dt=1\n",
    "        approx=v0+volume_change(q,0,T,dt)\n",
    "        for i in range(0,2*digits):\n",
    "            dt=dt/10\n",
    "            next_approx=v0+volume_change(q,0,T,dt)\n",
    "            if abs(next_approx-approx)<tolerance:\n",
    "                return round(next_approx,digits)\n",
    "            else:\n",
    "                approx=next_approx\n",
    "        raise Exception(\"Did not converge!\")\n",
    "    return volume_function"
   ]
  },
  {
   "cell_type": "code",
   "execution_count": 82,
   "id": "2b863dfc",
   "metadata": {
    "ExecuteTime": {
     "end_time": "2022-08-24T11:38:23.745830Z",
     "start_time": "2022-08-24T11:38:23.716766Z"
    }
   },
   "outputs": [
    {
     "data": {
      "text/plain": [
       "2.878"
      ]
     },
     "execution_count": 82,
     "metadata": {},
     "output_type": "execute_result"
    }
   ],
   "source": [
    "xv=get_volume_function(flow_rate,2.3,digits=3)\n",
    "xv(1)"
   ]
  },
  {
   "cell_type": "code",
   "execution_count": 83,
   "id": "82b4da22",
   "metadata": {
    "ExecuteTime": {
     "end_time": "2022-08-24T11:39:45.804567Z",
     "start_time": "2022-08-24T11:39:33.900987Z"
    }
   },
   "outputs": [
    {
     "data": {
      "text/plain": [
       "2.878125"
      ]
     },
     "execution_count": 83,
     "metadata": {},
     "output_type": "execute_result"
    }
   ],
   "source": [
    "xv=get_volume_function(flow_rate,2.3,digits=6)\n",
    "xv(1)"
   ]
  },
  {
   "cell_type": "code",
   "execution_count": 84,
   "id": "3cf4ae8b",
   "metadata": {
    "ExecuteTime": {
     "end_time": "2022-08-24T11:39:56.829120Z",
     "start_time": "2022-08-24T11:39:56.823133Z"
    }
   },
   "outputs": [
    {
     "data": {
      "text/plain": [
       "2.878125"
      ]
     },
     "execution_count": 84,
     "metadata": {},
     "output_type": "execute_result"
    }
   ],
   "source": [
    "volume(1)"
   ]
  },
  {
   "cell_type": "code",
   "execution_count": null,
   "id": "8911a6c2",
   "metadata": {},
   "outputs": [],
   "source": []
  }
 ],
 "metadata": {
  "hide_input": false,
  "kernelspec": {
   "display_name": "Python 3 (ipykernel)",
   "language": "python",
   "name": "python3"
  },
  "language_info": {
   "codemirror_mode": {
    "name": "ipython",
    "version": 3
   },
   "file_extension": ".py",
   "mimetype": "text/x-python",
   "name": "python",
   "nbconvert_exporter": "python",
   "pygments_lexer": "ipython3",
   "version": "3.9.12"
  },
  "nbTranslate": {
   "displayLangs": [
    "*"
   ],
   "hotkey": "alt-t",
   "langInMainMenu": true,
   "sourceLang": "en",
   "targetLang": "fr",
   "useGoogleTranslate": true
  },
  "toc": {
   "base_numbering": 1,
   "nav_menu": {},
   "number_sections": true,
   "sideBar": true,
   "skip_h1_title": false,
   "title_cell": "Table of Contents",
   "title_sidebar": "Contents",
   "toc_cell": false,
   "toc_position": {},
   "toc_section_display": true,
   "toc_window_display": false
  },
  "varInspector": {
   "cols": {
    "lenName": 16,
    "lenType": 16,
    "lenVar": 40
   },
   "kernels_config": {
    "python": {
     "delete_cmd_postfix": "",
     "delete_cmd_prefix": "del ",
     "library": "var_list.py",
     "varRefreshCmd": "print(var_dic_list())"
    },
    "r": {
     "delete_cmd_postfix": ") ",
     "delete_cmd_prefix": "rm(",
     "library": "var_list.r",
     "varRefreshCmd": "cat(var_dic_list()) "
    }
   },
   "types_to_exclude": [
    "module",
    "function",
    "builtin_function_or_method",
    "instance",
    "_Feature"
   ],
   "window_display": false
  }
 },
 "nbformat": 4,
 "nbformat_minor": 5
}
