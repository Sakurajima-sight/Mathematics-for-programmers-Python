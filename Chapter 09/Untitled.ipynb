{
 "cells": [
  {
   "cell_type": "code",
   "execution_count": 1,
   "id": "33eb3260",
   "metadata": {
    "ExecuteTime": {
     "end_time": "2022-08-25T03:30:39.968645Z",
     "start_time": "2022-08-25T03:30:39.174564Z"
    }
   },
   "outputs": [
    {
     "name": "stdout",
     "output_type": "stream",
     "text": [
      "pygame 2.1.2 (SDL 2.0.18, Python 3.9.12)\n",
      "Hello from the pygame community. https://www.pygame.org/contribute.html\n"
     ]
    }
   ],
   "source": [
    "from vectors import *\n",
    "import vectors\n",
    "import pygame\n",
    "from draw2d import *"
   ]
  },
  {
   "cell_type": "code",
   "execution_count": 2,
   "id": "7c73a499",
   "metadata": {
    "ExecuteTime": {
     "end_time": "2022-08-25T03:30:39.984645Z",
     "start_time": "2022-08-25T03:30:39.970640Z"
    }
   },
   "outputs": [],
   "source": [
    "class PolygonModel():\n",
    "    def __init__(self,points):\n",
    "        self.points=points\n",
    "        self.angle=0\n",
    "        self.x=0\n",
    "        self.y=0\n",
    "        self.vx=0\n",
    "        self.vy=0"
   ]
  },
  {
   "cell_type": "code",
   "execution_count": 3,
   "id": "d6aab8b7",
   "metadata": {
    "ExecuteTime": {
     "end_time": "2022-08-25T03:30:40.000653Z",
     "start_time": "2022-08-25T03:30:39.986648Z"
    }
   },
   "outputs": [],
   "source": [
    "class Asteroids(PolygonModel):\n",
    "    def __init__(self):\n",
    "        sides=randint(5,9)\n",
    "        vs=[vectors.to_cartesian((uniform(0.5,1.0),2*pi*i/sides))for i in range(0,sides)]\n",
    "        super().__init__(vs)\n",
    "        self.vx=uniform(-1,1)\n",
    "        self.vy=uniform(-1,1)"
   ]
  },
  {
   "cell_type": "code",
   "execution_count": 4,
   "id": "6754f2c2",
   "metadata": {
    "ExecuteTime": {
     "end_time": "2022-08-25T03:30:40.016656Z",
     "start_time": "2022-08-25T03:30:40.002642Z"
    }
   },
   "outputs": [],
   "source": [
    "def do_segments_intersect(s1,s2):\n",
    "    u1,u2=s1\n",
    "    v1,v2=s2\n",
    "    l1,l2=distance(*s1),distance(*s2)\n",
    "    try:\n",
    "        x,y=intersection(u1,u2,v1,v2)\n",
    "        return (distance(u1,(x,y))<=l1 and\n",
    "                   distance(u2,(x,y))<=l1 and\n",
    "                   distance(v1,(x,y))<=l2 and\n",
    "                   distance(v2,(x,y))<=l2)\n",
    "    except np.linalg.linalg.LinAlgError:\n",
    "        return False\n",
    "\n",
    "class PolygonModel():\n",
    "    def __init__(self,points):\n",
    "        self.points=points\n",
    "        self.rotation_angle=0\n",
    "        self.x=0\n",
    "        self.y=0\n",
    "        \n",
    "    def transformed(self):\n",
    "        rotated = [vectors.rotate2d(self.rotation_angle, v) for v in self.points]\n",
    "        return [vectors.add((self.x,self.y),v) for v in rotated]\n",
    "    \n",
    "    def segments(self):\n",
    "        point_count=len(self.points)\n",
    "        points=self.transformed()\n",
    "        return [(points[i],points[(i+1)%point_count])\n",
    "               for i in range(0,point_count)]\n",
    "    \n",
    "    def does_intersect(self,other_segment):\n",
    "        for segment in self.segments():\n",
    "            if do_segments_intersect(other_segment,segment):\n",
    "                return True\n",
    "        return False\n",
    "    \n",
    "    def does_collide(self,other_poly):\n",
    "        for other_segment in other_poly.segments():\n",
    "            if self.does_intersect(other_segment):\n",
    "                return True\n",
    "        return False\n",
    "\n",
    "    def move(self,milliseconds):\n",
    "        dx,dy=self.vx*milliseconds/1000.0,self.vy*milliseconds/1000.0\n",
    "        self.x,self.y=vectors.add((self.x,self.y),(dx,dy))\n",
    "        if self.x<-10:\n",
    "            self.x+=20\n",
    "        if self.y<-10:\n",
    "            self.y+=10\n",
    "        if self.x>10:\n",
    "            self.x-=20\n",
    "        if self.y>10:\n",
    "            self.y-=20"
   ]
  },
  {
   "cell_type": "code",
   "execution_count": 5,
   "id": "529489f4",
   "metadata": {
    "ExecuteTime": {
     "end_time": "2022-08-25T03:30:40.032640Z",
     "start_time": "2022-08-25T03:30:40.017642Z"
    }
   },
   "outputs": [],
   "source": [
    "t=0\n",
    "s=(0,0)\n",
    "v=(1,0)\n",
    "a=(0,0.2)"
   ]
  },
  {
   "cell_type": "code",
   "execution_count": 6,
   "id": "7080022d",
   "metadata": {
    "ExecuteTime": {
     "end_time": "2022-08-25T03:30:40.047654Z",
     "start_time": "2022-08-25T03:30:40.035661Z"
    }
   },
   "outputs": [],
   "source": [
    "dt=2\n",
    "steps=5"
   ]
  },
  {
   "cell_type": "code",
   "execution_count": 7,
   "id": "8fd14570",
   "metadata": {
    "ExecuteTime": {
     "end_time": "2022-08-25T03:30:40.063643Z",
     "start_time": "2022-08-25T03:30:40.048644Z"
    }
   },
   "outputs": [],
   "source": [
    "positions=[s]\n",
    "for _ in range(0,5):\n",
    "    t+=2\n",
    "    s=add(s,scale(dt,v))\n",
    "    v=add(v,scale(dt,a))\n",
    "    positions.append(s)\n",
    "arrows=[]\n",
    "for i in range(len(positions)-1):\n",
    "    arrows.append(Arrow2D(positions[i+1],positions[i]))"
   ]
  },
  {
   "cell_type": "code",
   "execution_count": 8,
   "id": "388b9336",
   "metadata": {
    "ExecuteTime": {
     "end_time": "2022-08-25T03:30:40.203675Z",
     "start_time": "2022-08-25T03:30:40.065639Z"
    }
   },
   "outputs": [
    {
     "data": {
      "image/png": "[encoded data removed]",
      "text/plain": [
       "<Figure size 432x360 with 1 Axes>"
      ]
     },
     "metadata": {
      "needs_background": "light"
     },
     "output_type": "display_data"
    }
   ],
   "source": [
    "draw2d(Points2D(*positions),\n",
    "     *arrows)"
   ]
  },
  {
   "cell_type": "code",
   "execution_count": 26,
   "id": "280e14a8",
   "metadata": {
    "ExecuteTime": {
     "end_time": "2022-08-25T03:38:12.671319Z",
     "start_time": "2022-08-25T03:38:12.656320Z"
    },
    "run_control": {
     "marked": true
    }
   },
   "outputs": [],
   "source": [
    "def Displacement_fitting(dt,steps,line='Arrow2D',points=True,color='blue'):\n",
    "    t=0\n",
    "    s=(0,0)\n",
    "    v=(1,0)\n",
    "    a=(0,0.2)\n",
    "    positions=[s]\n",
    "    for _ in range(0,steps):\n",
    "        t+=dt\n",
    "        s=add(s,scale(dt,v))\n",
    "        v=add(v,scale(dt,a))\n",
    "        positions.append(s)\n",
    "    link=[]\n",
    "    for i in range(len(positions)-1):\n",
    "        if line=='Arrow2D':\n",
    "            link.append(Arrow2D(positions[i+1],positions[i],color=color))\n",
    "        if line=='Segment2D':\n",
    "            link.append(Segment2D(positions[i+1],positions[i],color=color))\n",
    "    for j in range(len(positions)):\n",
    "        if points==False:\n",
    "            break\n",
    "        link.append(Points2D(positions[j]))\n",
    "    return link"
   ]
  },
  {
   "cell_type": "code",
   "execution_count": 28,
   "id": "499589a2",
   "metadata": {
    "ExecuteTime": {
     "end_time": "2022-08-25T03:38:33.902124Z",
     "start_time": "2022-08-25T03:38:33.620621Z"
    }
   },
   "outputs": [
    {
     "data": {
      "image/png": "[encoded data removed]",
      "text/plain": [
       "<Figure size 432x432 with 1 Axes>"
      ]
     },
     "metadata": {
      "needs_background": "light"
     },
     "output_type": "display_data"
    }
   ],
   "source": [
    "draw2d(\n",
    "    *Displacement_fitting(2,5,color='red'),\n",
    "    *Displacement_fitting(1,10,line='Segment2D'),\n",
    "    *Displacement_fitting(0.1,100,line='Segment2D',points=False,color='green'),\n",
    ")"
   ]
  },
  {
   "cell_type": "code",
   "execution_count": null,
   "id": "c88b8b00",
   "metadata": {},
   "outputs": [],
   "source": []
  }
 ],
 "metadata": {
  "hide_input": false,
  "kernelspec": {
   "display_name": "Python 3 (ipykernel)",
   "language": "python",
   "name": "python3"
  },
  "language_info": {
   "codemirror_mode": {
    "name": "ipython",
    "version": 3
   },
   "file_extension": ".py",
   "mimetype": "text/x-python",
   "name": "python",
   "nbconvert_exporter": "python",
   "pygments_lexer": "ipython3",
   "version": "3.9.12"
  },
  "nbTranslate": {
   "displayLangs": [
    "*"
   ],
   "hotkey": "alt-t",
   "langInMainMenu": true,
   "sourceLang": "en",
   "targetLang": "fr",
   "useGoogleTranslate": true
  },
  "toc": {
   "base_numbering": 1,
   "nav_menu": {},
   "number_sections": true,
   "sideBar": true,
   "skip_h1_title": false,
   "title_cell": "Table of Contents",
   "title_sidebar": "Contents",
   "toc_cell": false,
   "toc_position": {},
   "toc_section_display": true,
   "toc_window_display": false
  },
  "varInspector": {
   "cols": {
    "lenName": 16,
    "lenType": 16,
    "lenVar": 40
   },
   "kernels_config": {
    "python": {
     "delete_cmd_postfix": "",
     "delete_cmd_prefix": "del ",
     "library": "var_list.py",
     "varRefreshCmd": "print(var_dic_list())"
    },
    "r": {
     "delete_cmd_postfix": ") ",
     "delete_cmd_prefix": "rm(",
     "library": "var_list.r",
     "varRefreshCmd": "cat(var_dic_list()) "
    }
   },
   "types_to_exclude": [
    "module",
    "function",
    "builtin_function_or_method",
    "instance",
    "_Feature"
   ],
   "window_display": false
  }
 },
 "nbformat": 4,
 "nbformat_minor": 5
}
