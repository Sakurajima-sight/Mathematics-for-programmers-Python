{
 "cells": [
  {
   "cell_type": "code",
   "execution_count": 1,
   "id": "1affa73c",
   "metadata": {
    "ExecuteTime": {
     "end_time": "2022-09-06T14:10:35.896014Z",
     "start_time": "2022-09-06T14:10:34.414757Z"
    }
   },
   "outputs": [],
   "source": [
    "from sklearn import datasets"
   ]
  },
  {
   "cell_type": "code",
   "execution_count": 2,
   "id": "a47ebb84",
   "metadata": {
    "ExecuteTime": {
     "end_time": "2022-09-06T14:10:35.927012Z",
     "start_time": "2022-09-06T14:10:35.898016Z"
    }
   },
   "outputs": [],
   "source": [
    "digits=datasets.load_digits()"
   ]
  },
  {
   "cell_type": "code",
   "execution_count": 3,
   "id": "8df26f23",
   "metadata": {
    "ExecuteTime": {
     "end_time": "2022-09-06T14:10:35.943015Z",
     "start_time": "2022-09-06T14:10:35.929014Z"
    }
   },
   "outputs": [
    {
     "data": {
      "text/plain": [
       "array([[ 0.,  0.,  5., 13.,  9.,  1.,  0.,  0.],\n",
       "       [ 0.,  0., 13., 15., 10., 15.,  5.,  0.],\n",
       "       [ 0.,  3., 15.,  2.,  0., 11.,  8.,  0.],\n",
       "       [ 0.,  4., 12.,  0.,  0.,  8.,  8.,  0.],\n",
       "       [ 0.,  5.,  8.,  0.,  0.,  9.,  8.,  0.],\n",
       "       [ 0.,  4., 11.,  0.,  1., 12.,  7.,  0.],\n",
       "       [ 0.,  2., 14.,  5., 10., 12.,  0.,  0.],\n",
       "       [ 0.,  0.,  6., 13., 10.,  0.,  0.,  0.]])"
      ]
     },
     "execution_count": 3,
     "metadata": {},
     "output_type": "execute_result"
    }
   ],
   "source": [
    "digits.images[0]"
   ]
  },
  {
   "cell_type": "code",
   "execution_count": 4,
   "id": "aeb9be7f",
   "metadata": {
    "ExecuteTime": {
     "end_time": "2022-09-06T14:10:36.803020Z",
     "start_time": "2022-09-06T14:10:35.945017Z"
    },
    "scrolled": true
   },
   "outputs": [
    {
     "data": {
      "text/plain": [
       "<matplotlib.image.AxesImage at 0x23b628065b0>"
      ]
     },
     "execution_count": 4,
     "metadata": {},
     "output_type": "execute_result"
    },
    {
     "data": {
      "image/png": "[encoded data removed]",
      "text/plain": [
       "<Figure size 432x288 with 1 Axes>"
      ]
     },
     "metadata": {
      "needs_background": "light"
     },
     "output_type": "display_data"
    }
   ],
   "source": [
    "import matplotlib.pyplot as plt\n",
    "plt.imshow(digits.images[0],cmap=plt.cm.gray_r)"
   ]
  },
  {
   "cell_type": "code",
   "execution_count": 5,
   "id": "bb6063c4",
   "metadata": {
    "ExecuteTime": {
     "end_time": "2022-09-06T14:10:36.989012Z",
     "start_time": "2022-09-06T14:10:36.805014Z"
    }
   },
   "outputs": [
    {
     "data": {
      "image/png": "[encoded data removed]",
      "text/plain": [
       "<Figure size 432x288 with 1 Axes>"
      ]
     },
     "metadata": {
      "needs_background": "light"
     },
     "output_type": "display_data"
    }
   ],
   "source": [
    "plt.imshow(digits.images[0], cmap=plt.cm.gray_r)\n",
    "for i in range(0,8):\n",
    "    for j in range(0,8):\n",
    "        plt.gca().text(i-0.15,j,int(digits.images[0][i][j]))"
   ]
  },
  {
   "cell_type": "code",
   "execution_count": 6,
   "id": "0a480009",
   "metadata": {
    "ExecuteTime": {
     "end_time": "2022-09-06T14:10:37.005016Z",
     "start_time": "2022-09-06T14:10:36.991024Z"
    }
   },
   "outputs": [],
   "source": [
    "import numpy as np"
   ]
  },
  {
   "cell_type": "code",
   "execution_count": 7,
   "id": "cc1a8513",
   "metadata": {
    "ExecuteTime": {
     "end_time": "2022-09-06T14:10:37.021010Z",
     "start_time": "2022-09-06T14:10:37.007020Z"
    }
   },
   "outputs": [
    {
     "data": {
      "text/plain": [
       "array([ 0.,  0.,  5., 13.,  9.,  1.,  0.,  0.,  0.,  0., 13., 15., 10.,\n",
       "       15.,  5.,  0.,  0.,  3., 15.,  2.,  0., 11.,  8.,  0.,  0.,  4.,\n",
       "       12.,  0.,  0.,  8.,  8.,  0.,  0.,  5.,  8.,  0.,  0.,  9.,  8.,\n",
       "        0.,  0.,  4., 11.,  0.,  1., 12.,  7.,  0.,  0.,  2., 14.,  5.,\n",
       "       10., 12.,  0.,  0.,  0.,  0.,  6., 13., 10.,  0.,  0.,  0.])"
      ]
     },
     "execution_count": 7,
     "metadata": {},
     "output_type": "execute_result"
    }
   ],
   "source": [
    "np.matrix.flatten(digits.images[0])"
   ]
  },
  {
   "cell_type": "code",
   "execution_count": 8,
   "id": "98e12d49",
   "metadata": {
    "ExecuteTime": {
     "end_time": "2022-09-06T14:10:37.036016Z",
     "start_time": "2022-09-06T14:10:37.024015Z"
    }
   },
   "outputs": [
    {
     "data": {
      "text/plain": [
       "array([0.        , 0.        , 0.33333333, 0.86666667, 0.6       ,\n",
       "       0.06666667, 0.        , 0.        , 0.        , 0.        ,\n",
       "       0.86666667, 1.        , 0.66666667, 1.        , 0.33333333,\n",
       "       0.        , 0.        , 0.2       , 1.        , 0.13333333,\n",
       "       0.        , 0.73333333, 0.53333333, 0.        , 0.        ,\n",
       "       0.26666667, 0.8       , 0.        , 0.        , 0.53333333,\n",
       "       0.53333333, 0.        , 0.        , 0.33333333, 0.53333333,\n",
       "       0.        , 0.        , 0.6       , 0.53333333, 0.        ,\n",
       "       0.        , 0.26666667, 0.73333333, 0.        , 0.06666667,\n",
       "       0.8       , 0.46666667, 0.        , 0.        , 0.13333333,\n",
       "       0.93333333, 0.33333333, 0.66666667, 0.8       , 0.        ,\n",
       "       0.        , 0.        , 0.        , 0.4       , 0.86666667,\n",
       "       0.66666667, 0.        , 0.        , 0.        ])"
      ]
     },
     "execution_count": 8,
     "metadata": {},
     "output_type": "execute_result"
    }
   ],
   "source": [
    "np.matrix.flatten(digits.images[0])/15"
   ]
  },
  {
   "cell_type": "code",
   "execution_count": 9,
   "id": "c1f97c49",
   "metadata": {
    "ExecuteTime": {
     "end_time": "2022-09-06T14:10:37.052018Z",
     "start_time": "2022-09-06T14:10:37.038015Z"
    }
   },
   "outputs": [],
   "source": [
    "def random_classifier(input_vector):\n",
    "    return np.random.rand(10)"
   ]
  },
  {
   "cell_type": "code",
   "execution_count": 10,
   "id": "345d42ce",
   "metadata": {
    "ExecuteTime": {
     "end_time": "2022-09-06T14:10:37.068015Z",
     "start_time": "2022-09-06T14:10:37.056016Z"
    }
   },
   "outputs": [
    {
     "data": {
      "text/plain": [
       "array([0.80137933, 0.87772279, 0.72641182, 0.38228102, 0.09621887,\n",
       "       0.08586899, 0.88146447, 0.80837544, 0.52505067, 0.34164021])"
      ]
     },
     "execution_count": 10,
     "metadata": {},
     "output_type": "execute_result"
    }
   ],
   "source": [
    "v=np.matrix.flatten(digits.images[0]/15)\n",
    "result=random_classifier(v)\n",
    "result"
   ]
  },
  {
   "cell_type": "code",
   "execution_count": 11,
   "id": "87c10d5a",
   "metadata": {
    "ExecuteTime": {
     "end_time": "2022-09-06T14:10:37.083015Z",
     "start_time": "2022-09-06T14:10:37.070015Z"
    }
   },
   "outputs": [
    {
     "data": {
      "text/plain": [
       "6"
      ]
     },
     "execution_count": 11,
     "metadata": {},
     "output_type": "execute_result"
    }
   ],
   "source": [
    "list(result).index(max(result))"
   ]
  },
  {
   "cell_type": "code",
   "execution_count": 12,
   "id": "9f6bbf8e",
   "metadata": {
    "ExecuteTime": {
     "end_time": "2022-09-06T14:10:37.099019Z",
     "start_time": "2022-09-06T14:10:37.085014Z"
    }
   },
   "outputs": [
    {
     "data": {
      "text/plain": [
       "0"
      ]
     },
     "execution_count": 12,
     "metadata": {},
     "output_type": "execute_result"
    }
   ],
   "source": [
    "digits.target[0]"
   ]
  },
  {
   "cell_type": "code",
   "execution_count": 13,
   "id": "e09c3b3b",
   "metadata": {
    "ExecuteTime": {
     "end_time": "2022-09-06T14:10:37.115019Z",
     "start_time": "2022-09-06T14:10:37.101016Z"
    }
   },
   "outputs": [],
   "source": [
    "def test_digit_classify(classifier,test_count=1000):\n",
    "    correct=0\n",
    "    for img,target in zip(digits.images[:test_count],digits.target[:test_count]):\n",
    "        v=np.matrix.flatten(img)/15\n",
    "        output=classifier(v)\n",
    "        answer=list(output).index(max(output))\n",
    "        if answer==target:\n",
    "            correct+=1\n",
    "    return (correct/test_count)"
   ]
  },
  {
   "cell_type": "code",
   "execution_count": 14,
   "id": "637a2bc6",
   "metadata": {
    "ExecuteTime": {
     "end_time": "2022-09-06T14:10:37.131013Z",
     "start_time": "2022-09-06T14:10:37.117020Z"
    }
   },
   "outputs": [
    {
     "data": {
      "text/plain": [
       "0.105"
      ]
     },
     "execution_count": 14,
     "metadata": {},
     "output_type": "execute_result"
    }
   ],
   "source": [
    "test_digit_classify(random_classifier)"
   ]
  },
  {
   "cell_type": "code",
   "execution_count": 15,
   "id": "bd9ecb9b",
   "metadata": {
    "ExecuteTime": {
     "end_time": "2022-09-06T14:10:37.146010Z",
     "start_time": "2022-09-06T14:10:37.132013Z"
    }
   },
   "outputs": [],
   "source": [
    "test=np.array([5.00512567e-06, 3.94168539e-05, 5.57124430e-09, 9.31981207e-09,\n",
    "       9.98060276e-01, 9.10328786e-07, 1.56262695e-03, 1.82976466e-04,\n",
    "       1.48519455e-04, 2.54354113e-07])"
   ]
  },
  {
   "cell_type": "code",
   "execution_count": 16,
   "id": "e64c0082",
   "metadata": {
    "ExecuteTime": {
     "end_time": "2022-09-06T14:10:37.162012Z",
     "start_time": "2022-09-06T14:10:37.148016Z"
    }
   },
   "outputs": [
    {
     "data": {
      "text/plain": [
       "4"
      ]
     },
     "execution_count": 16,
     "metadata": {},
     "output_type": "execute_result"
    }
   ],
   "source": [
    "list(test).index(max(test))"
   ]
  },
  {
   "cell_type": "code",
   "execution_count": 17,
   "id": "23d7fefb",
   "metadata": {
    "ExecuteTime": {
     "end_time": "2022-09-06T14:10:37.177016Z",
     "start_time": "2022-09-06T14:10:37.163014Z"
    }
   },
   "outputs": [],
   "source": [
    "def average_img(i):\n",
    "    imgs=[img for img,target in zip(digits.images[1000:],digits.target[1000:]) if target==i]\n",
    "    return sum(imgs)/len(imgs)"
   ]
  },
  {
   "cell_type": "code",
   "execution_count": 18,
   "id": "8f7e7303",
   "metadata": {
    "ExecuteTime": {
     "end_time": "2022-09-06T14:10:37.271014Z",
     "start_time": "2022-09-06T14:10:37.179017Z"
    }
   },
   "outputs": [
    {
     "data": {
      "text/plain": [
       "<matplotlib.image.AxesImage at 0x23b64a19c70>"
      ]
     },
     "execution_count": 18,
     "metadata": {},
     "output_type": "execute_result"
    },
    {
     "data": {
      "image/png": "[encoded data removed]",
      "text/plain": [
       "<Figure size 432x288 with 1 Axes>"
      ]
     },
     "metadata": {
      "needs_background": "light"
     },
     "output_type": "display_data"
    }
   ],
   "source": [
    "plt.imshow(average_img(9), cmap=plt.cm.gray_r)"
   ]
  },
  {
   "cell_type": "code",
   "execution_count": 19,
   "id": "d815074a",
   "metadata": {
    "ExecuteTime": {
     "end_time": "2022-09-06T14:10:37.286018Z",
     "start_time": "2022-09-06T14:10:37.272013Z"
    }
   },
   "outputs": [
    {
     "data": {
      "text/plain": [
       "1797"
      ]
     },
     "execution_count": 19,
     "metadata": {},
     "output_type": "execute_result"
    }
   ],
   "source": [
    "len(digits.images)"
   ]
  },
  {
   "cell_type": "code",
   "execution_count": 20,
   "id": "cc813397",
   "metadata": {
    "ExecuteTime": {
     "end_time": "2022-09-06T14:10:37.302012Z",
     "start_time": "2022-09-06T14:10:37.288012Z"
    }
   },
   "outputs": [],
   "source": [
    "avg_digits=[np.matrix.flatten(average_img(i)) for i in range(10)]\n",
    "def compare_to_avg(v):\n",
    "    return [np.dot(v,avg_digits[i]) for i in range(10)]"
   ]
  },
  {
   "cell_type": "code",
   "execution_count": 21,
   "id": "611e5bc1",
   "metadata": {
    "ExecuteTime": {
     "end_time": "2022-09-06T14:10:37.332015Z",
     "start_time": "2022-09-06T14:10:37.303015Z"
    }
   },
   "outputs": [
    {
     "data": {
      "text/plain": [
       "0.853"
      ]
     },
     "execution_count": 21,
     "metadata": {},
     "output_type": "execute_result"
    }
   ],
   "source": [
    "test_digit_classify(compare_to_avg)"
   ]
  },
  {
   "cell_type": "code",
   "execution_count": 22,
   "id": "4d50375e",
   "metadata": {
    "ExecuteTime": {
     "end_time": "2022-09-06T14:10:37.347013Z",
     "start_time": "2022-09-06T14:10:37.333013Z"
    }
   },
   "outputs": [],
   "source": [
    "class MLP():\n",
    "    def __init__(self,layer_sizes):\n",
    "        self.layer_sizes=layer_sizes\n",
    "        self.weights=[\n",
    "            np.random.rand(n,m)\n",
    "            for m,n in zip(layer_sizes[:-1],layer_sizes[1:])\n",
    "        ]\n",
    "        self.biases=[np.random.rand(n)\n",
    "                    for n in layer_sizes[1:]]"
   ]
  },
  {
   "cell_type": "code",
   "execution_count": 23,
   "id": "8fbade79",
   "metadata": {
    "ExecuteTime": {
     "end_time": "2022-09-06T14:10:37.363012Z",
     "start_time": "2022-09-06T14:10:37.349013Z"
    }
   },
   "outputs": [
    {
     "data": {
      "text/plain": [
       "[array([[0.7675946 , 0.69165937],\n",
       "        [0.15904032, 0.12298929],\n",
       "        [0.96805611, 0.11233615]])]"
      ]
     },
     "execution_count": 23,
     "metadata": {},
     "output_type": "execute_result"
    }
   ],
   "source": [
    "nn=MLP([2,3])\n",
    "nn.weights"
   ]
  },
  {
   "cell_type": "code",
   "execution_count": 24,
   "id": "95575a99",
   "metadata": {
    "ExecuteTime": {
     "end_time": "2022-09-06T14:10:37.378014Z",
     "start_time": "2022-09-06T14:10:37.365017Z"
    }
   },
   "outputs": [
    {
     "data": {
      "text/plain": [
       "[array([0.19892817, 0.18856664, 0.19702647])]"
      ]
     },
     "execution_count": 24,
     "metadata": {},
     "output_type": "execute_result"
    }
   ],
   "source": [
    "nn.biases"
   ]
  },
  {
   "cell_type": "code",
   "execution_count": 25,
   "id": "391bf6ef",
   "metadata": {
    "ExecuteTime": {
     "end_time": "2022-09-06T14:10:37.394013Z",
     "start_time": "2022-09-06T14:10:37.380019Z"
    }
   },
   "outputs": [
    {
     "data": {
      "text/plain": [
       "<__main__.MLP at 0x23b64a5e130>"
      ]
     },
     "execution_count": 25,
     "metadata": {},
     "output_type": "execute_result"
    }
   ],
   "source": [
    "MLP([64,16,10])"
   ]
  },
  {
   "cell_type": "code",
   "execution_count": 26,
   "id": "9baac58f",
   "metadata": {
    "ExecuteTime": {
     "end_time": "2022-09-06T14:10:37.409014Z",
     "start_time": "2022-09-06T14:10:37.396018Z"
    },
    "scrolled": true
   },
   "outputs": [
    {
     "data": {
      "text/plain": [
       "[array([[0.69574491, 0.93913559],\n",
       "        [0.0086018 , 0.57732139],\n",
       "        [0.19620827, 0.83277916]])]"
      ]
     },
     "execution_count": 26,
     "metadata": {},
     "output_type": "execute_result"
    }
   ],
   "source": [
    "a=[2,3]\n",
    "\n",
    "[np.random.rand(n,m) for m,n in zip(a[:-1],a[1:])]"
   ]
  },
  {
   "cell_type": "code",
   "execution_count": 27,
   "id": "8d6a2a0c",
   "metadata": {
    "ExecuteTime": {
     "end_time": "2022-09-06T14:10:37.425022Z",
     "start_time": "2022-09-06T14:10:37.410016Z"
    },
    "run_control": {
     "marked": true
    }
   },
   "outputs": [],
   "source": [
    "test=MLP([3,4,3])"
   ]
  },
  {
   "cell_type": "code",
   "execution_count": 28,
   "id": "dff078ff",
   "metadata": {
    "ExecuteTime": {
     "end_time": "2022-09-06T14:10:37.441015Z",
     "start_time": "2022-09-06T14:10:37.427019Z"
    },
    "scrolled": true
   },
   "outputs": [
    {
     "data": {
      "text/plain": [
       "[array([[0.98861812, 0.80947742, 0.6927311 ],\n",
       "        [0.32913969, 0.80016523, 0.36441828],\n",
       "        [0.23443958, 0.23985006, 0.75459359],\n",
       "        [0.20191546, 0.83616191, 0.53002394]]),\n",
       " array([[0.55582778, 0.29517715, 0.91255291, 0.26073327],\n",
       "        [0.74059417, 0.14355657, 0.85194883, 0.1487606 ],\n",
       "        [0.95300523, 0.65748458, 0.12944506, 0.09233498]])]"
      ]
     },
     "execution_count": 28,
     "metadata": {},
     "output_type": "execute_result"
    }
   ],
   "source": [
    "test.weights"
   ]
  },
  {
   "cell_type": "code",
   "execution_count": 29,
   "id": "6e7f4dec",
   "metadata": {
    "ExecuteTime": {
     "end_time": "2022-09-06T14:10:37.456016Z",
     "start_time": "2022-09-06T14:10:37.443020Z"
    }
   },
   "outputs": [
    {
     "data": {
      "text/plain": [
       "[array([0.21836741, 0.50852778, 0.61153182, 0.23417538]),\n",
       " array([0.7019837 , 0.74731045, 0.07523766])]"
      ]
     },
     "execution_count": 29,
     "metadata": {},
     "output_type": "execute_result"
    }
   ],
   "source": [
    "test.biases"
   ]
  },
  {
   "cell_type": "code",
   "execution_count": 30,
   "id": "4b222f82",
   "metadata": {
    "ExecuteTime": {
     "end_time": "2022-09-06T14:10:37.472015Z",
     "start_time": "2022-09-06T14:10:37.458021Z"
    }
   },
   "outputs": [],
   "source": [
    "test_list=[3,4,2]"
   ]
  },
  {
   "cell_type": "code",
   "execution_count": 31,
   "id": "fdbab14b",
   "metadata": {
    "ExecuteTime": {
     "end_time": "2022-09-06T14:10:37.487016Z",
     "start_time": "2022-09-06T14:10:37.473018Z"
    }
   },
   "outputs": [
    {
     "name": "stdout",
     "output_type": "stream",
     "text": [
      "4 3\n",
      "2 4\n"
     ]
    }
   ],
   "source": [
    "for m,n in zip(test_list[:-1],test_list[1:]):\n",
    "    print(n,m)"
   ]
  },
  {
   "cell_type": "code",
   "execution_count": 32,
   "id": "17602bdf",
   "metadata": {
    "ExecuteTime": {
     "end_time": "2022-09-06T14:10:37.503013Z",
     "start_time": "2022-09-06T14:10:37.489015Z"
    }
   },
   "outputs": [],
   "source": [
    "from math import exp\n",
    "def sigmoid(x):\n",
    "    return 1 / (1+exp(-x))"
   ]
  },
  {
   "cell_type": "code",
   "execution_count": 33,
   "id": "abb1f1b3",
   "metadata": {
    "ExecuteTime": {
     "end_time": "2022-09-06T14:10:37.518012Z",
     "start_time": "2022-09-06T14:10:37.504015Z"
    }
   },
   "outputs": [],
   "source": [
    "class MLP():\n",
    "    def __init__(self,layer_sizes):\n",
    "        self.layer_sizes=layer_sizes\n",
    "        self.weights=[\n",
    "            np.random.rand(n,m)\n",
    "            for m,n in zip(layer_sizes[:-1],layer_sizes[1:])\n",
    "        ]\n",
    "        self.biases=[np.random.rand(n)\n",
    "                    for n in layer_sizes[1:]]\n",
    "        \n",
    "    def feedforward(self,v):\n",
    "        activations=[]\n",
    "        a=v\n",
    "        activations.append(a)\n",
    "        for w,b in zip(self.weights,self.biases):\n",
    "            z=w@a+b\n",
    "            a=[sigmoid(x) for x in z]\n",
    "            activations.append(a)\n",
    "        return activations\n",
    "    \n",
    "    def evaluate(self,v):\n",
    "        return np.array(self.feedforward(v)[-1])"
   ]
  },
  {
   "cell_type": "code",
   "execution_count": 34,
   "id": "a41a3377",
   "metadata": {
    "ExecuteTime": {
     "end_time": "2022-09-06T14:10:37.534019Z",
     "start_time": "2022-09-06T14:10:37.520017Z"
    }
   },
   "outputs": [
    {
     "data": {
      "text/plain": [
       "array([0.99999088, 0.99991554, 0.9997455 , 0.99938109, 0.99979947,\n",
       "       0.9986791 , 0.99997635, 0.99987987, 0.99995313, 0.99978429])"
      ]
     },
     "execution_count": 34,
     "metadata": {},
     "output_type": "execute_result"
    }
   ],
   "source": [
    "nn=MLP([64,16,10])\n",
    "v=np.matrix.flatten(digits.images[0])/15\n",
    "nn.evaluate(v)"
   ]
  },
  {
   "cell_type": "code",
   "execution_count": 35,
   "id": "d4953368",
   "metadata": {
    "ExecuteTime": {
     "end_time": "2022-09-06T14:10:37.581012Z",
     "start_time": "2022-09-06T14:10:37.536018Z"
    }
   },
   "outputs": [
    {
     "data": {
      "text/plain": [
       "0.099"
      ]
     },
     "execution_count": 35,
     "metadata": {},
     "output_type": "execute_result"
    }
   ],
   "source": [
    "test_digit_classify(nn.evaluate)"
   ]
  },
  {
   "cell_type": "code",
   "execution_count": 36,
   "id": "dde4f543",
   "metadata": {
    "ExecuteTime": {
     "end_time": "2022-09-06T14:10:37.596017Z",
     "start_time": "2022-09-06T14:10:37.583019Z"
    }
   },
   "outputs": [],
   "source": [
    "x=np.array([np.matrix.flatten(img) for img in digits.images[:1000]])/15.0"
   ]
  },
  {
   "cell_type": "code",
   "execution_count": 37,
   "id": "6abbb7a2",
   "metadata": {
    "ExecuteTime": {
     "end_time": "2022-09-06T14:10:37.612014Z",
     "start_time": "2022-09-06T14:10:37.602015Z"
    }
   },
   "outputs": [],
   "source": [
    "y=digits.target[:1000]"
   ]
  },
  {
   "cell_type": "code",
   "execution_count": 38,
   "id": "ae126c69",
   "metadata": {
    "ExecuteTime": {
     "end_time": "2022-09-06T14:10:37.691016Z",
     "start_time": "2022-09-06T14:10:37.614019Z"
    }
   },
   "outputs": [],
   "source": [
    "from sklearn.neural_network import MLPClassifier\n",
    "\n",
    "mlp=MLPClassifier(hidden_layer_sizes=(16,),\n",
    "                 activation='logistic',\n",
    "                 max_iter=100,\n",
    "                 verbose=10,\n",
    "                 random_state=1,\n",
    "                 learning_rate_init=.1)"
   ]
  },
  {
   "cell_type": "code",
   "execution_count": 39,
   "id": "5dcd93e1",
   "metadata": {
    "ExecuteTime": {
     "end_time": "2022-09-06T14:10:37.847016Z",
     "start_time": "2022-09-06T14:10:37.693018Z"
    }
   },
   "outputs": [
    {
     "name": "stdout",
     "output_type": "stream",
     "text": [
      "Iteration 1, loss = 2.21958598\n",
      "Iteration 2, loss = 1.56912978\n",
      "Iteration 3, loss = 0.98970277\n",
      "Iteration 4, loss = 0.57473464\n",
      "Iteration 5, loss = 0.34048448\n",
      "Iteration 6, loss = 0.21495855\n",
      "Iteration 7, loss = 0.14366771\n",
      "Iteration 8, loss = 0.11077020\n",
      "Iteration 9, loss = 0.08764273\n",
      "Iteration 10, loss = 0.07193546\n",
      "Iteration 11, loss = 0.06020348\n",
      "Iteration 12, loss = 0.04961899\n",
      "Iteration 13, loss = 0.03979645\n",
      "Iteration 14, loss = 0.03334502\n",
      "Iteration 15, loss = 0.02996006\n",
      "Iteration 16, loss = 0.02603968\n",
      "Iteration 17, loss = 0.02355514\n",
      "Iteration 18, loss = 0.02137348\n",
      "Iteration 19, loss = 0.01967878\n",
      "Iteration 20, loss = 0.01751214\n",
      "Iteration 21, loss = 0.01617330\n",
      "Iteration 22, loss = 0.01460386\n",
      "Iteration 23, loss = 0.01408517\n",
      "Iteration 24, loss = 0.01270504\n",
      "Iteration 25, loss = 0.01191634\n",
      "Iteration 26, loss = 0.01114222\n",
      "Iteration 27, loss = 0.01045989\n",
      "Iteration 28, loss = 0.00983648\n",
      "Iteration 29, loss = 0.00920912\n",
      "Iteration 30, loss = 0.00890851\n",
      "Iteration 31, loss = 0.00843426\n",
      "Iteration 32, loss = 0.00796039\n",
      "Iteration 33, loss = 0.00749839\n",
      "Iteration 34, loss = 0.00726271\n",
      "Iteration 35, loss = 0.00673963\n",
      "Iteration 36, loss = 0.00655405\n",
      "Iteration 37, loss = 0.00626207\n",
      "Iteration 38, loss = 0.00600639\n",
      "Iteration 39, loss = 0.00581857\n",
      "Iteration 40, loss = 0.00557529\n",
      "Iteration 41, loss = 0.00533573\n",
      "Iteration 42, loss = 0.00519479\n",
      "Iteration 43, loss = 0.00505128\n",
      "Iteration 44, loss = 0.00490121\n",
      "Iteration 45, loss = 0.00469161\n",
      "Iteration 46, loss = 0.00459590\n",
      "Iteration 47, loss = 0.00464844\n",
      "Iteration 48, loss = 0.00445157\n",
      "Iteration 49, loss = 0.00425515\n",
      "Iteration 50, loss = 0.00424934\n",
      "Iteration 51, loss = 0.00397800\n",
      "Iteration 52, loss = 0.00399927\n",
      "Iteration 53, loss = 0.00383932\n",
      "Iteration 54, loss = 0.00372439\n",
      "Iteration 55, loss = 0.00361744\n",
      "Iteration 56, loss = 0.00356447\n",
      "Iteration 57, loss = 0.00345899\n",
      "Iteration 58, loss = 0.00336792\n",
      "Iteration 59, loss = 0.00330330\n",
      "Iteration 60, loss = 0.00321734\n",
      "Iteration 61, loss = 0.00315784\n",
      "Iteration 62, loss = 0.00309975\n",
      "Iteration 63, loss = 0.00303268\n",
      "Iteration 64, loss = 0.00298242\n",
      "Iteration 65, loss = 0.00294143\n",
      "Iteration 66, loss = 0.00288273\n",
      "Iteration 67, loss = 0.00282763\n",
      "Iteration 68, loss = 0.00277049\n",
      "Training loss did not improve more than tol=0.000100 for 10 consecutive epochs. Stopping.\n"
     ]
    },
    {
     "data": {
      "text/plain": [
       "MLPClassifier(activation='logistic', hidden_layer_sizes=(16,),\n",
       "              learning_rate_init=0.1, max_iter=100, random_state=1, verbose=10)"
      ]
     },
     "execution_count": 39,
     "metadata": {},
     "output_type": "execute_result"
    }
   ],
   "source": [
    "mlp.fit(x,y)"
   ]
  },
  {
   "cell_type": "code",
   "execution_count": 40,
   "id": "4c564e20",
   "metadata": {
    "ExecuteTime": {
     "end_time": "2022-09-06T14:10:37.862014Z",
     "start_time": "2022-09-06T14:10:37.849015Z"
    }
   },
   "outputs": [
    {
     "data": {
      "text/plain": [
       "array([9.99809644e-01, 4.98753964e-11, 2.92965424e-06, 1.13759373e-07,\n",
       "       1.65244724e-06, 2.78040785e-05, 5.37796139e-06, 9.19004720e-05,\n",
       "       8.28762196e-08, 6.04946691e-05])"
      ]
     },
     "execution_count": 40,
     "metadata": {},
     "output_type": "execute_result"
    }
   ],
   "source": [
    "mlp.predict_proba(x)[0]"
   ]
  },
  {
   "cell_type": "code",
   "execution_count": 41,
   "id": "c65ab26b",
   "metadata": {
    "ExecuteTime": {
     "end_time": "2022-09-06T14:10:37.878037Z",
     "start_time": "2022-09-06T14:10:37.864019Z"
    }
   },
   "outputs": [],
   "source": [
    "def sklearn_trained_classify(v):\n",
    "    return mlp.predict_proba([v])[0]"
   ]
  },
  {
   "cell_type": "code",
   "execution_count": 42,
   "id": "d92fc27f",
   "metadata": {
    "ExecuteTime": {
     "end_time": "2022-09-06T14:10:37.971010Z",
     "start_time": "2022-09-06T14:10:37.880023Z"
    }
   },
   "outputs": [
    {
     "data": {
      "text/plain": [
       "1.0"
      ]
     },
     "execution_count": 42,
     "metadata": {},
     "output_type": "execute_result"
    }
   ],
   "source": [
    "test_digit_classify(sklearn_trained_classify)"
   ]
  },
  {
   "cell_type": "code",
   "execution_count": 43,
   "id": "2951ffb7",
   "metadata": {
    "ExecuteTime": {
     "end_time": "2022-09-06T14:10:37.987010Z",
     "start_time": "2022-09-06T14:10:37.972012Z"
    }
   },
   "outputs": [],
   "source": [
    "def test_digit_classify(classifier,start=0,test_count=1000):\n",
    "    correct=0\n",
    "    end=start+test_count\n",
    "    for img,target in zip(digits.images[start:end],digits.target[start:end]):\n",
    "        v=np.matrix.flatten(img)/15\n",
    "        output=classifier(v)\n",
    "        answer=list(output).index(max(output))\n",
    "        if answer==target:\n",
    "            correct+=1\n",
    "    return (correct/test_count)"
   ]
  },
  {
   "cell_type": "code",
   "execution_count": 44,
   "id": "953cfa7c",
   "metadata": {
    "ExecuteTime": {
     "end_time": "2022-09-06T14:10:38.050011Z",
     "start_time": "2022-09-06T14:10:37.989018Z"
    }
   },
   "outputs": [
    {
     "data": {
      "text/plain": [
       "0.962"
      ]
     },
     "execution_count": 44,
     "metadata": {},
     "output_type": "execute_result"
    }
   ],
   "source": [
    "test_digit_classify(sklearn_trained_classify,start=1000,test_count=500)"
   ]
  },
  {
   "cell_type": "code",
   "execution_count": 45,
   "id": "c2196da4",
   "metadata": {
    "ExecuteTime": {
     "end_time": "2022-09-06T14:10:38.066014Z",
     "start_time": "2022-09-06T14:10:38.052014Z"
    }
   },
   "outputs": [],
   "source": [
    "def y_vec(digit):\n",
    "    return np.array([1 if i==digit else 0 for i in range(0,10)])"
   ]
  },
  {
   "cell_type": "code",
   "execution_count": 46,
   "id": "9400d143",
   "metadata": {
    "ExecuteTime": {
     "end_time": "2022-09-06T14:10:38.082012Z",
     "start_time": "2022-09-06T14:10:38.068020Z"
    }
   },
   "outputs": [],
   "source": [
    "def cost_one(classifier,x,i):\n",
    "    return sum([(classifier(x)[j]-y_vec(i)[j])**2 for j in range(10)])"
   ]
  },
  {
   "cell_type": "code",
   "execution_count": 47,
   "id": "fdddf3cc",
   "metadata": {
    "ExecuteTime": {
     "end_time": "2022-09-06T14:10:38.097018Z",
     "start_time": "2022-09-06T14:10:38.084015Z"
    }
   },
   "outputs": [],
   "source": [
    "def total_cost(classifier):\n",
    "    return sum([cost_one(classifier,x[j],y[j]) for j in range(1000)])/1000."
   ]
  },
  {
   "cell_type": "code",
   "execution_count": 48,
   "id": "52316a19",
   "metadata": {
    "ExecuteTime": {
     "end_time": "2022-09-06T14:10:38.329015Z",
     "start_time": "2022-09-06T14:10:38.099016Z"
    }
   },
   "outputs": [
    {
     "data": {
      "text/plain": [
       "8.994795866245521"
      ]
     },
     "execution_count": 48,
     "metadata": {},
     "output_type": "execute_result"
    }
   ],
   "source": [
    "total_cost(nn.evaluate)"
   ]
  },
  {
   "cell_type": "code",
   "execution_count": 49,
   "id": "a0cfac5a",
   "metadata": {
    "ExecuteTime": {
     "end_time": "2022-09-06T14:10:39.015013Z",
     "start_time": "2022-09-06T14:10:38.331014Z"
    }
   },
   "outputs": [
    {
     "data": {
      "text/plain": [
       "3.758338975066216e-05"
      ]
     },
     "execution_count": 49,
     "metadata": {},
     "output_type": "execute_result"
    }
   ],
   "source": [
    "total_cost(sklearn_trained_classify)"
   ]
  },
  {
   "cell_type": "code",
   "execution_count": 50,
   "id": "e2cb4ca7",
   "metadata": {
    "ExecuteTime": {
     "end_time": "2022-09-06T14:10:39.030015Z",
     "start_time": "2022-09-06T14:10:39.017016Z"
    }
   },
   "outputs": [],
   "source": [
    "nn=MLP([64,16,10])"
   ]
  },
  {
   "cell_type": "code",
   "execution_count": 52,
   "id": "f50ea580",
   "metadata": {
    "ExecuteTime": {
     "end_time": "2022-09-06T14:11:34.815334Z",
     "start_time": "2022-09-06T14:11:34.799334Z"
    }
   },
   "outputs": [],
   "source": [
    "nn.weights=[w.T for w in mlp.coefs_]"
   ]
  },
  {
   "cell_type": "code",
   "execution_count": 53,
   "id": "c9bcfe6c",
   "metadata": {
    "ExecuteTime": {
     "end_time": "2022-09-06T14:11:44.276826Z",
     "start_time": "2022-09-06T14:11:44.258836Z"
    }
   },
   "outputs": [],
   "source": [
    "nn.biases=mlp.intercepts_"
   ]
  },
  {
   "cell_type": "code",
   "execution_count": 54,
   "id": "adb9e547",
   "metadata": {
    "ExecuteTime": {
     "end_time": "2022-09-06T14:12:10.679853Z",
     "start_time": "2022-09-06T14:12:10.647844Z"
    }
   },
   "outputs": [
    {
     "data": {
      "text/plain": [
       "0.962"
      ]
     },
     "execution_count": 54,
     "metadata": {},
     "output_type": "execute_result"
    }
   ],
   "source": [
    "test_digit_classify(nn.evaluate,start=1000,test_count=500)"
   ]
  },
  {
   "cell_type": "code",
   "execution_count": 55,
   "id": "63d9f0aa",
   "metadata": {
    "ExecuteTime": {
     "end_time": "2022-09-06T14:33:40.162194Z",
     "start_time": "2022-09-06T14:33:39.368186Z"
    }
   },
   "outputs": [],
   "source": [
    "from sympy import *"
   ]
  },
  {
   "cell_type": "code",
   "execution_count": 56,
   "id": "bff24101",
   "metadata": {
    "ExecuteTime": {
     "end_time": "2022-09-06T14:33:54.532659Z",
     "start_time": "2022-09-06T14:33:54.527645Z"
    }
   },
   "outputs": [],
   "source": [
    "X=symbols('x')"
   ]
  },
  {
   "cell_type": "code",
   "execution_count": 57,
   "id": "c286f3b6",
   "metadata": {
    "ExecuteTime": {
     "end_time": "2022-09-06T14:34:32.783079Z",
     "start_time": "2022-09-06T14:34:32.553086Z"
    }
   },
   "outputs": [
    {
     "data": {
      "text/latex": [
       "$\\displaystyle \\frac{e^{- x}}{\\left(1 + e^{- x}\\right)^{2}}$"
      ],
      "text/plain": [
       "exp(-x)/(1 + exp(-x))**2"
      ]
     },
     "execution_count": 57,
     "metadata": {},
     "output_type": "execute_result"
    }
   ],
   "source": [
    "diff(1/(1+exp(-X)),X)"
   ]
  },
  {
   "cell_type": "code",
   "execution_count": null,
   "id": "5db63a36",
   "metadata": {},
   "outputs": [],
   "source": []
  }
 ],
 "metadata": {
  "hide_input": false,
  "kernelspec": {
   "display_name": "Python 3 (ipykernel)",
   "language": "python",
   "name": "python3"
  },
  "language_info": {
   "codemirror_mode": {
    "name": "ipython",
    "version": 3
   },
   "file_extension": ".py",
   "mimetype": "text/x-python",
   "name": "python",
   "nbconvert_exporter": "python",
   "pygments_lexer": "ipython3",
   "version": "3.9.12"
  },
  "nbTranslate": {
   "displayLangs": [
    "*"
   ],
   "hotkey": "alt-t",
   "langInMainMenu": true,
   "sourceLang": "en",
   "targetLang": "fr",
   "useGoogleTranslate": true
  },
  "toc": {
   "base_numbering": 1,
   "nav_menu": {},
   "number_sections": true,
   "sideBar": true,
   "skip_h1_title": false,
   "title_cell": "Table of Contents",
   "title_sidebar": "Contents",
   "toc_cell": false,
   "toc_position": {},
   "toc_section_display": true,
   "toc_window_display": false
  },
  "varInspector": {
   "cols": {
    "lenName": 16,
    "lenType": 16,
    "lenVar": 40
   },
   "kernels_config": {
    "python": {
     "delete_cmd_postfix": "",
     "delete_cmd_prefix": "del ",
     "library": "var_list.py",
     "varRefreshCmd": "print(var_dic_list())"
    },
    "r": {
     "delete_cmd_postfix": ") ",
     "delete_cmd_prefix": "rm(",
     "library": "var_list.r",
     "varRefreshCmd": "cat(var_dic_list()) "
    }
   },
   "types_to_exclude": [
    "module",
    "function",
    "builtin_function_or_method",
    "instance",
    "_Feature"
   ],
   "window_display": false
  }
 },
 "nbformat": 4,
 "nbformat_minor": 5
}
