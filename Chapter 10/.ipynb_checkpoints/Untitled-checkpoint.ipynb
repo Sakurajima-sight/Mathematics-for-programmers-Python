{
 "cells": [
  {
   "cell_type": "code",
   "execution_count": 1,
   "id": "516b4c62",
   "metadata": {
    "ExecuteTime": {
     "end_time": "2022-08-26T09:49:46.538322Z",
     "start_time": "2022-08-26T09:49:46.526328Z"
    }
   },
   "outputs": [],
   "source": [
    "from math import *\n",
    "from expressions import *"
   ]
  },
  {
   "cell_type": "code",
   "execution_count": 2,
   "id": "f094d1ed",
   "metadata": {
    "ExecuteTime": {
     "end_time": "2022-08-26T09:49:46.554325Z",
     "start_time": "2022-08-26T09:49:46.540310Z"
    }
   },
   "outputs": [],
   "source": [
    "def f(x):\n",
    "    return (3*x**2+x)*sin(x)"
   ]
  },
  {
   "cell_type": "code",
   "execution_count": 3,
   "id": "880a2c12",
   "metadata": {
    "ExecuteTime": {
     "end_time": "2022-08-26T09:49:46.570176Z",
     "start_time": "2022-08-26T09:49:46.556330Z"
    }
   },
   "outputs": [],
   "source": [
    "class Power():\n",
    "    def __init__(self,base,exponent):\n",
    "        self.base=base\n",
    "        self.exponent=exponent"
   ]
  },
  {
   "cell_type": "code",
   "execution_count": 4,
   "id": "b912df89",
   "metadata": {
    "ExecuteTime": {
     "end_time": "2022-08-26T09:49:46.585153Z",
     "start_time": "2022-08-26T09:49:46.572156Z"
    }
   },
   "outputs": [],
   "source": [
    "class Number():\n",
    "    def __init__(self,number):\n",
    "        self.number=number"
   ]
  },
  {
   "cell_type": "code",
   "execution_count": 5,
   "id": "618384e6",
   "metadata": {
    "ExecuteTime": {
     "end_time": "2022-08-26T09:49:46.601180Z",
     "start_time": "2022-08-26T09:49:46.587154Z"
    }
   },
   "outputs": [],
   "source": [
    "class Variable():\n",
    "    def __init__(self,symbol):\n",
    "        self.symbol=symbol"
   ]
  },
  {
   "cell_type": "code",
   "execution_count": 6,
   "id": "1e413723",
   "metadata": {
    "ExecuteTime": {
     "end_time": "2022-08-26T09:49:46.617150Z",
     "start_time": "2022-08-26T09:49:46.603155Z"
    }
   },
   "outputs": [
    {
     "data": {
      "text/plain": [
       "<__main__.Power at 0x207008766d0>"
      ]
     },
     "execution_count": 6,
     "metadata": {},
     "output_type": "execute_result"
    }
   ],
   "source": [
    "Power(Variable(\"x\"),Number(2))"
   ]
  },
  {
   "cell_type": "code",
   "execution_count": 7,
   "id": "88a55d1e",
   "metadata": {
    "ExecuteTime": {
     "end_time": "2022-08-26T09:49:46.632181Z",
     "start_time": "2022-08-26T09:49:46.619156Z"
    }
   },
   "outputs": [],
   "source": [
    "class Product():\n",
    "    def __init__(self,exp1,exp2):\n",
    "        self.exp1=exp1\n",
    "        self.exp2=exp2"
   ]
  },
  {
   "cell_type": "code",
   "execution_count": 8,
   "id": "d3b8d0ee",
   "metadata": {
    "ExecuteTime": {
     "end_time": "2022-08-26T09:49:46.648179Z",
     "start_time": "2022-08-26T09:49:46.634154Z"
    }
   },
   "outputs": [
    {
     "data": {
      "text/plain": [
       "<__main__.Product at 0x20701850670>"
      ]
     },
     "execution_count": 8,
     "metadata": {},
     "output_type": "execute_result"
    }
   ],
   "source": [
    "Product(Number(3),Power(Variable(\"x\"),Number(2)))"
   ]
  },
  {
   "cell_type": "code",
   "execution_count": 9,
   "id": "cfd1974d",
   "metadata": {
    "ExecuteTime": {
     "end_time": "2022-08-26T09:49:46.663179Z",
     "start_time": "2022-08-26T09:49:46.650163Z"
    }
   },
   "outputs": [],
   "source": [
    "class Sum():\n",
    "    def __init__(self,*exps):\n",
    "        self.exps=exps"
   ]
  },
  {
   "cell_type": "code",
   "execution_count": 10,
   "id": "cc5f1e70",
   "metadata": {
    "ExecuteTime": {
     "end_time": "2022-08-26T09:49:46.679183Z",
     "start_time": "2022-08-26T09:49:46.666154Z"
    }
   },
   "outputs": [],
   "source": [
    "class Function():\n",
    "    def __init__(self,name):\n",
    "        self.name=name"
   ]
  },
  {
   "cell_type": "code",
   "execution_count": 11,
   "id": "d891cdb2",
   "metadata": {
    "ExecuteTime": {
     "end_time": "2022-08-26T09:49:46.694173Z",
     "start_time": "2022-08-26T09:49:46.681155Z"
    }
   },
   "outputs": [],
   "source": [
    "class Apply():\n",
    "    def __init__(self,function,argument):\n",
    "        self.function=function\n",
    "        self.argument=argument"
   ]
  },
  {
   "cell_type": "code",
   "execution_count": 12,
   "id": "363b6933",
   "metadata": {
    "ExecuteTime": {
     "end_time": "2022-08-26T09:49:46.709326Z",
     "start_time": "2022-08-26T09:49:46.696154Z"
    }
   },
   "outputs": [],
   "source": [
    "f_expression=Product(\n",
    "    Sum(\n",
    "        Product(\n",
    "            Number(3),\n",
    "            Power(\n",
    "                Variable(\"x\"),\n",
    "                Number(2))),\n",
    "        Variable(\"x\")),\n",
    "    Apply(\n",
    "        Function(\"sin\"),\n",
    "        Variable(\"x\")))"
   ]
  },
  {
   "cell_type": "code",
   "execution_count": 13,
   "id": "9314068a",
   "metadata": {
    "ExecuteTime": {
     "end_time": "2022-08-26T09:49:46.724539Z",
     "start_time": "2022-08-26T09:49:46.711543Z"
    }
   },
   "outputs": [
    {
     "data": {
      "text/plain": [
       "<__main__.Apply at 0x207018600d0>"
      ]
     },
     "execution_count": 13,
     "metadata": {},
     "output_type": "execute_result"
    }
   ],
   "source": [
    "Apply(Function(\"cos\"),Sum(Power(Variable(\"x\"),Number(\"3\")),Number(-5)))"
   ]
  },
  {
   "cell_type": "code",
   "execution_count": 14,
   "id": "ca147903",
   "metadata": {
    "ExecuteTime": {
     "end_time": "2022-08-26T09:49:46.740547Z",
     "start_time": "2022-08-26T09:49:46.726544Z"
    }
   },
   "outputs": [],
   "source": [
    "def f(y,z):\n",
    "    return log(y**z)"
   ]
  },
  {
   "cell_type": "code",
   "execution_count": 15,
   "id": "c6dabab1",
   "metadata": {
    "ExecuteTime": {
     "end_time": "2022-08-26T09:49:46.756548Z",
     "start_time": "2022-08-26T09:49:46.741543Z"
    }
   },
   "outputs": [
    {
     "data": {
      "text/plain": [
       "<__main__.Apply at 0x20701860280>"
      ]
     },
     "execution_count": 15,
     "metadata": {},
     "output_type": "execute_result"
    }
   ],
   "source": [
    "Apply(Function('ln'),Power(Variable('y'),Variable('z')))"
   ]
  },
  {
   "cell_type": "code",
   "execution_count": 16,
   "id": "52252219",
   "metadata": {
    "ExecuteTime": {
     "end_time": "2022-08-26T09:49:46.772540Z",
     "start_time": "2022-08-26T09:49:46.758545Z"
    }
   },
   "outputs": [],
   "source": [
    "class Quotient():\n",
    "    def __init__(self,numerator,denominator):\n",
    "        self.numerator=numerator\n",
    "        self.denominator=denominator"
   ]
  },
  {
   "cell_type": "code",
   "execution_count": 17,
   "id": "8f585e71",
   "metadata": {
    "ExecuteTime": {
     "end_time": "2022-08-26T09:49:46.787538Z",
     "start_time": "2022-08-26T09:49:46.774543Z"
    }
   },
   "outputs": [
    {
     "data": {
      "text/plain": [
       "<__main__.Quotient at 0x20701860f70>"
      ]
     },
     "execution_count": 17,
     "metadata": {},
     "output_type": "execute_result"
    }
   ],
   "source": [
    "Quotient(Sum(Variable('a'),Variable('b')),Number(2))"
   ]
  },
  {
   "cell_type": "code",
   "execution_count": 18,
   "id": "360b6574",
   "metadata": {
    "ExecuteTime": {
     "end_time": "2022-08-26T09:49:46.803543Z",
     "start_time": "2022-08-26T09:49:46.789542Z"
    }
   },
   "outputs": [],
   "source": [
    "class Difference():\n",
    "    def __init__(self,exp1,exp2):\n",
    "        self.exp1=exp1\n",
    "        self.exp2=exp2"
   ]
  },
  {
   "cell_type": "code",
   "execution_count": 19,
   "id": "931653d0",
   "metadata": {
    "ExecuteTime": {
     "end_time": "2022-08-26T09:49:46.819542Z",
     "start_time": "2022-08-26T09:49:46.805543Z"
    }
   },
   "outputs": [
    {
     "data": {
      "text/plain": [
       "<__main__.Difference at 0x20701866a60>"
      ]
     },
     "execution_count": 19,
     "metadata": {},
     "output_type": "execute_result"
    }
   ],
   "source": [
    "Difference(\n",
    "    Power(Variable(\"b\"),Number(2)),\n",
    "    Product(Number(4),Product(Variable(\"a\"),Variable(\"c\")))\n",
    ")"
   ]
  },
  {
   "cell_type": "code",
   "execution_count": 20,
   "id": "e955dc14",
   "metadata": {
    "ExecuteTime": {
     "end_time": "2022-08-26T09:49:46.834540Z",
     "start_time": "2022-08-26T09:49:46.821542Z"
    }
   },
   "outputs": [],
   "source": [
    "class Negative():\n",
    "    def __init__(self,exp):\n",
    "        self.exp=exp"
   ]
  },
  {
   "cell_type": "code",
   "execution_count": 21,
   "id": "526cbe6d",
   "metadata": {
    "ExecuteTime": {
     "end_time": "2022-08-26T09:49:46.850558Z",
     "start_time": "2022-08-26T09:49:46.837546Z"
    }
   },
   "outputs": [
    {
     "data": {
      "text/plain": [
       "<__main__.Negative at 0x207008400a0>"
      ]
     },
     "execution_count": 21,
     "metadata": {},
     "output_type": "execute_result"
    }
   ],
   "source": [
    "Negative(Sum(Power(Variable('x'),Number(2)),Variable(\"y\")))"
   ]
  },
  {
   "cell_type": "code",
   "execution_count": 22,
   "id": "a54674d0",
   "metadata": {
    "ExecuteTime": {
     "end_time": "2022-08-26T09:49:46.866541Z",
     "start_time": "2022-08-26T09:49:46.852542Z"
    }
   },
   "outputs": [],
   "source": [
    "A=Variable('a')\n",
    "B=Variable('b')\n",
    "C=Variable('c')\n",
    "sqrt=Function('sqrt')"
   ]
  },
  {
   "cell_type": "code",
   "execution_count": 23,
   "id": "c6408db0",
   "metadata": {
    "ExecuteTime": {
     "end_time": "2022-08-26T09:49:46.881542Z",
     "start_time": "2022-08-26T09:49:46.867543Z"
    }
   },
   "outputs": [
    {
     "data": {
      "text/plain": [
       "<__main__.Quotient at 0x20701866580>"
      ]
     },
     "execution_count": 23,
     "metadata": {},
     "output_type": "execute_result"
    }
   ],
   "source": [
    "Quotient(\n",
    "    Sum(\n",
    "        Negative(B),\n",
    "        Apply(\n",
    "            sqrt,\n",
    "            Difference(\n",
    "                Power(B,Number(2)),\n",
    "                Product(Number(4),Product(A,C))))),\n",
    "        Product(Number(2),A))"
   ]
  },
  {
   "cell_type": "code",
   "execution_count": 24,
   "id": "61064e19",
   "metadata": {
    "ExecuteTime": {
     "end_time": "2022-08-26T09:49:46.897541Z",
     "start_time": "2022-08-26T09:49:46.882544Z"
    }
   },
   "outputs": [],
   "source": [
    "def f(x):\n",
    "    return (3*x**2+x)*sin(x)"
   ]
  },
  {
   "cell_type": "code",
   "execution_count": 25,
   "id": "e3e82aff",
   "metadata": {
    "ExecuteTime": {
     "end_time": "2022-08-26T09:49:47.381057Z",
     "start_time": "2022-08-26T09:49:46.899542Z"
    }
   },
   "outputs": [
    {
     "ename": "TypeError",
     "evalue": "Not a valid expression.",
     "output_type": "error",
     "traceback": [
      "\u001b[1;31m---------------------------------------------------------------------------\u001b[0m",
      "\u001b[1;31mTypeError\u001b[0m                                 Traceback (most recent call last)",
      "Input \u001b[1;32mIn [25]\u001b[0m, in \u001b[0;36m<cell line: 1>\u001b[1;34m()\u001b[0m\n\u001b[1;32m----> 1\u001b[0m \u001b[43mdistinct_variables\u001b[49m\u001b[43m(\u001b[49m\u001b[43mVariable\u001b[49m\u001b[43m(\u001b[49m\u001b[38;5;124;43m\"\u001b[39;49m\u001b[38;5;124;43mz\u001b[39;49m\u001b[38;5;124;43m\"\u001b[39;49m\u001b[43m)\u001b[49m\u001b[43m)\u001b[49m\n",
      "File \u001b[1;32m~\\Desktop\\Mathematics-for-programmers-Python\\Chapter 10\\expressions.py:371\u001b[0m, in \u001b[0;36mdistinct_variables\u001b[1;34m(exp)\u001b[0m\n\u001b[0;32m    369\u001b[0m     \u001b[38;5;28;01mreturn\u001b[39;00m distinct_variables(exp\u001b[38;5;241m.\u001b[39margument)\n\u001b[0;32m    370\u001b[0m \u001b[38;5;28;01melse\u001b[39;00m:\n\u001b[1;32m--> 371\u001b[0m     \u001b[38;5;28;01mraise\u001b[39;00m \u001b[38;5;167;01mTypeError\u001b[39;00m(\u001b[38;5;124m\"\u001b[39m\u001b[38;5;124mNot a valid expression.\u001b[39m\u001b[38;5;124m\"\u001b[39m)\n",
      "\u001b[1;31mTypeError\u001b[0m: Not a valid expression."
     ]
    }
   ],
   "source": [
    "distinct_variables(Variable(\"z\"))"
   ]
  },
  {
   "cell_type": "code",
   "execution_count": null,
   "id": "131fd345",
   "metadata": {
    "ExecuteTime": {
     "end_time": "2022-08-26T09:49:47.387059Z",
     "start_time": "2022-08-26T09:49:47.387059Z"
    }
   },
   "outputs": [],
   "source": [
    "distinct_variables(Number(3))"
   ]
  },
  {
   "cell_type": "code",
   "execution_count": null,
   "id": "8d04a264",
   "metadata": {
    "ExecuteTime": {
     "end_time": "2022-08-26T09:49:47.388061Z",
     "start_time": "2022-08-26T09:49:47.388061Z"
    },
    "run_control": {
     "marked": true
    }
   },
   "outputs": [],
   "source": [
    "def distinct_variables(exp):\n",
    "    if isinstance(exp,Variable):\n",
    "        return set(exp.symbol)\n",
    "    elif isinstance(exp,Number):\n",
    "        return set()\n",
    "    elif isinstance(exp,Sum):\n",
    "        return set().union(*[distinct_variables(exp) for exp in exp.exps])\n",
    "    elif isinstance(exp,Product):\n",
    "        return distinct_variables(exp.exp1).union(distinct_variables(exp.exp2))\n",
    "    elif isinstance(exp,):\n",
    "        return set()\n",
    "    elif isinstance(exp,):\n",
    "        return set()\n",
    "    elif isinstance(exp,):\n",
    "        return set()\n",
    "    elif isinstance(exp,):\n",
    "        return set()\n",
    "    elif isinstance(exp,):\n",
    "        return set()\n"
   ]
  }
 ],
 "metadata": {
  "hide_input": false,
  "kernelspec": {
   "display_name": "Python 3 (ipykernel)",
   "language": "python",
   "name": "python3"
  },
  "language_info": {
   "codemirror_mode": {
    "name": "ipython",
    "version": 3
   },
   "file_extension": ".py",
   "mimetype": "text/x-python",
   "name": "python",
   "nbconvert_exporter": "python",
   "pygments_lexer": "ipython3",
   "version": "3.9.12"
  },
  "nbTranslate": {
   "displayLangs": [
    "*"
   ],
   "hotkey": "alt-t",
   "langInMainMenu": true,
   "sourceLang": "en",
   "targetLang": "fr",
   "useGoogleTranslate": true
  },
  "toc": {
   "base_numbering": 1,
   "nav_menu": {},
   "number_sections": true,
   "sideBar": true,
   "skip_h1_title": false,
   "title_cell": "Table of Contents",
   "title_sidebar": "Contents",
   "toc_cell": false,
   "toc_position": {},
   "toc_section_display": true,
   "toc_window_display": false
  },
  "varInspector": {
   "cols": {
    "lenName": 16,
    "lenType": 16,
    "lenVar": 40
   },
   "kernels_config": {
    "python": {
     "delete_cmd_postfix": "",
     "delete_cmd_prefix": "del ",
     "library": "var_list.py",
     "varRefreshCmd": "print(var_dic_list())"
    },
    "r": {
     "delete_cmd_postfix": ") ",
     "delete_cmd_prefix": "rm(",
     "library": "var_list.r",
     "varRefreshCmd": "cat(var_dic_list()) "
    }
   },
   "types_to_exclude": [
    "module",
    "function",
    "builtin_function_or_method",
    "instance",
    "_Feature"
   ],
   "window_display": false
  }
 },
 "nbformat": 4,
 "nbformat_minor": 5
}
