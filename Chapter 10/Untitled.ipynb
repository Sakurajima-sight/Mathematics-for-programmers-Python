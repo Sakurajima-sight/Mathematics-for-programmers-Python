{
 "cells": [
  {
   "cell_type": "code",
   "execution_count": 1,
   "id": "516b4c62",
   "metadata": {
    "ExecuteTime": {
     "end_time": "2022-08-26T11:37:40.944595Z",
     "start_time": "2022-08-26T11:37:40.931588Z"
    }
   },
   "outputs": [],
   "source": [
    "from math import *\n",
    "from expressions import *\n",
    "from abc import ABC, abstractmethod"
   ]
  },
  {
   "cell_type": "code",
   "execution_count": 2,
   "id": "f094d1ed",
   "metadata": {
    "ExecuteTime": {
     "end_time": "2022-08-26T11:37:40.960606Z",
     "start_time": "2022-08-26T11:37:40.946591Z"
    }
   },
   "outputs": [],
   "source": [
    "def f(x):\n",
    "    return (3*x**2+x)*sin(x)"
   ]
  },
  {
   "cell_type": "code",
   "execution_count": 3,
   "id": "880a2c12",
   "metadata": {
    "ExecuteTime": {
     "end_time": "2022-08-26T11:37:40.976599Z",
     "start_time": "2022-08-26T11:37:40.962613Z"
    }
   },
   "outputs": [],
   "source": [
    "class Power():\n",
    "    def __init__(self,base,exponent):\n",
    "        self.base=base\n",
    "        self.exponent=exponent"
   ]
  },
  {
   "cell_type": "code",
   "execution_count": 4,
   "id": "b912df89",
   "metadata": {
    "ExecuteTime": {
     "end_time": "2022-08-26T11:37:40.992594Z",
     "start_time": "2022-08-26T11:37:40.978591Z"
    }
   },
   "outputs": [],
   "source": [
    "class Number():\n",
    "    def __init__(self,number):\n",
    "        self.number=number"
   ]
  },
  {
   "cell_type": "code",
   "execution_count": 5,
   "id": "618384e6",
   "metadata": {
    "ExecuteTime": {
     "end_time": "2022-08-26T11:37:41.008590Z",
     "start_time": "2022-08-26T11:37:40.994590Z"
    }
   },
   "outputs": [],
   "source": [
    "class Variable():\n",
    "    def __init__(self,symbol):\n",
    "        self.symbol=symbol"
   ]
  },
  {
   "cell_type": "code",
   "execution_count": 6,
   "id": "1e413723",
   "metadata": {
    "ExecuteTime": {
     "end_time": "2022-08-26T11:37:41.024591Z",
     "start_time": "2022-08-26T11:37:41.010591Z"
    }
   },
   "outputs": [
    {
     "data": {
      "text/plain": [
       "<__main__.Power at 0x2c164daa5b0>"
      ]
     },
     "execution_count": 6,
     "metadata": {},
     "output_type": "execute_result"
    }
   ],
   "source": [
    "Power(Variable(\"x\"),Number(2))"
   ]
  },
  {
   "cell_type": "code",
   "execution_count": 7,
   "id": "88a55d1e",
   "metadata": {
    "ExecuteTime": {
     "end_time": "2022-08-26T11:37:41.040612Z",
     "start_time": "2022-08-26T11:37:41.026610Z"
    }
   },
   "outputs": [],
   "source": [
    "class Product():\n",
    "    def __init__(self,exp1,exp2):\n",
    "        self.exp1=exp1\n",
    "        self.exp2=exp2"
   ]
  },
  {
   "cell_type": "code",
   "execution_count": 8,
   "id": "d3b8d0ee",
   "metadata": {
    "ExecuteTime": {
     "end_time": "2022-08-26T11:37:41.056589Z",
     "start_time": "2022-08-26T11:37:41.042612Z"
    }
   },
   "outputs": [
    {
     "data": {
      "text/plain": [
       "<__main__.Product at 0x2c165d8b400>"
      ]
     },
     "execution_count": 8,
     "metadata": {},
     "output_type": "execute_result"
    }
   ],
   "source": [
    "Product(Number(3),Power(Variable(\"x\"),Number(2)))"
   ]
  },
  {
   "cell_type": "code",
   "execution_count": 9,
   "id": "cfd1974d",
   "metadata": {
    "ExecuteTime": {
     "end_time": "2022-08-26T11:37:41.072591Z",
     "start_time": "2022-08-26T11:37:41.058588Z"
    }
   },
   "outputs": [],
   "source": [
    "class Sum():\n",
    "    def __init__(self,*exps):\n",
    "        self.exps=exps"
   ]
  },
  {
   "cell_type": "code",
   "execution_count": 10,
   "id": "cc5f1e70",
   "metadata": {
    "ExecuteTime": {
     "end_time": "2022-08-26T11:37:41.088610Z",
     "start_time": "2022-08-26T11:37:41.075594Z"
    }
   },
   "outputs": [],
   "source": [
    "class Function():\n",
    "    def __init__(self,name):\n",
    "        self.name=name"
   ]
  },
  {
   "cell_type": "code",
   "execution_count": 11,
   "id": "d891cdb2",
   "metadata": {
    "ExecuteTime": {
     "end_time": "2022-08-26T11:37:41.104632Z",
     "start_time": "2022-08-26T11:37:41.090594Z"
    }
   },
   "outputs": [],
   "source": [
    "class Apply():\n",
    "    def __init__(self,function,argument):\n",
    "        self.function=function\n",
    "        self.argument=argument"
   ]
  },
  {
   "cell_type": "code",
   "execution_count": 12,
   "id": "363b6933",
   "metadata": {
    "ExecuteTime": {
     "end_time": "2022-08-26T11:37:41.120031Z",
     "start_time": "2022-08-26T11:37:41.106590Z"
    }
   },
   "outputs": [],
   "source": [
    "f_expression=Product(\n",
    "    Sum(\n",
    "        Product(\n",
    "            Number(3),\n",
    "            Power(\n",
    "                Variable(\"x\"),\n",
    "                Number(2))),\n",
    "        Variable(\"x\")),\n",
    "    Apply(\n",
    "        Function(\"sin\"),\n",
    "        Variable(\"x\")))"
   ]
  },
  {
   "cell_type": "code",
   "execution_count": 13,
   "id": "9314068a",
   "metadata": {
    "ExecuteTime": {
     "end_time": "2022-08-26T11:37:41.135599Z",
     "start_time": "2022-08-26T11:37:41.122601Z"
    }
   },
   "outputs": [
    {
     "data": {
      "text/plain": [
       "<__main__.Apply at 0x2c165d94250>"
      ]
     },
     "execution_count": 13,
     "metadata": {},
     "output_type": "execute_result"
    }
   ],
   "source": [
    "Apply(Function(\"cos\"),Sum(Power(Variable(\"x\"),Number(\"3\")),Number(-5)))"
   ]
  },
  {
   "cell_type": "code",
   "execution_count": 14,
   "id": "ca147903",
   "metadata": {
    "ExecuteTime": {
     "end_time": "2022-08-26T11:37:41.151601Z",
     "start_time": "2022-08-26T11:37:41.137609Z"
    }
   },
   "outputs": [],
   "source": [
    "def f(y,z):\n",
    "    return log(y**z)"
   ]
  },
  {
   "cell_type": "code",
   "execution_count": 15,
   "id": "c6dabab1",
   "metadata": {
    "ExecuteTime": {
     "end_time": "2022-08-26T11:37:41.166614Z",
     "start_time": "2022-08-26T11:37:41.154604Z"
    }
   },
   "outputs": [
    {
     "data": {
      "text/plain": [
       "<__main__.Apply at 0x2c165d94280>"
      ]
     },
     "execution_count": 15,
     "metadata": {},
     "output_type": "execute_result"
    }
   ],
   "source": [
    "Apply(Function('ln'),Power(Variable('y'),Variable('z')))"
   ]
  },
  {
   "cell_type": "code",
   "execution_count": 16,
   "id": "52252219",
   "metadata": {
    "ExecuteTime": {
     "end_time": "2022-08-26T11:37:41.182612Z",
     "start_time": "2022-08-26T11:37:41.168594Z"
    }
   },
   "outputs": [],
   "source": [
    "class Quotient():\n",
    "    def __init__(self,numerator,denominator):\n",
    "        self.numerator=numerator\n",
    "        self.denominator=denominator"
   ]
  },
  {
   "cell_type": "code",
   "execution_count": 17,
   "id": "8f585e71",
   "metadata": {
    "ExecuteTime": {
     "end_time": "2022-08-26T11:37:41.198610Z",
     "start_time": "2022-08-26T11:37:41.184612Z"
    }
   },
   "outputs": [
    {
     "data": {
      "text/plain": [
       "<__main__.Quotient at 0x2c165d94e20>"
      ]
     },
     "execution_count": 17,
     "metadata": {},
     "output_type": "execute_result"
    }
   ],
   "source": [
    "Quotient(Sum(Variable('a'),Variable('b')),Number(2))"
   ]
  },
  {
   "cell_type": "code",
   "execution_count": 18,
   "id": "360b6574",
   "metadata": {
    "ExecuteTime": {
     "end_time": "2022-08-26T11:37:41.214609Z",
     "start_time": "2022-08-26T11:37:41.199604Z"
    }
   },
   "outputs": [],
   "source": [
    "class Difference():\n",
    "    def __init__(self,exp1,exp2):\n",
    "        self.exp1=exp1\n",
    "        self.exp2=exp2"
   ]
  },
  {
   "cell_type": "code",
   "execution_count": 19,
   "id": "931653d0",
   "metadata": {
    "ExecuteTime": {
     "end_time": "2022-08-26T11:37:41.230614Z",
     "start_time": "2022-08-26T11:37:41.216611Z"
    }
   },
   "outputs": [
    {
     "data": {
      "text/plain": [
       "<__main__.Difference at 0x2c164daaa60>"
      ]
     },
     "execution_count": 19,
     "metadata": {},
     "output_type": "execute_result"
    }
   ],
   "source": [
    "Difference(\n",
    "    Power(Variable(\"b\"),Number(2)),\n",
    "    Product(Number(4),Product(Variable(\"a\"),Variable(\"c\")))\n",
    ")"
   ]
  },
  {
   "cell_type": "code",
   "execution_count": 20,
   "id": "e955dc14",
   "metadata": {
    "ExecuteTime": {
     "end_time": "2022-08-26T11:37:41.245611Z",
     "start_time": "2022-08-26T11:37:41.232607Z"
    }
   },
   "outputs": [],
   "source": [
    "class Negative():\n",
    "    def __init__(self,exp):\n",
    "        self.exp=exp"
   ]
  },
  {
   "cell_type": "code",
   "execution_count": 21,
   "id": "526cbe6d",
   "metadata": {
    "ExecuteTime": {
     "end_time": "2022-08-26T11:37:41.261622Z",
     "start_time": "2022-08-26T11:37:41.247611Z"
    }
   },
   "outputs": [
    {
     "data": {
      "text/plain": [
       "<__main__.Negative at 0x2c165d94460>"
      ]
     },
     "execution_count": 21,
     "metadata": {},
     "output_type": "execute_result"
    }
   ],
   "source": [
    "Negative(Sum(Power(Variable('x'),Number(2)),Variable(\"y\")))"
   ]
  },
  {
   "cell_type": "code",
   "execution_count": 22,
   "id": "a54674d0",
   "metadata": {
    "ExecuteTime": {
     "end_time": "2022-08-26T11:37:41.277622Z",
     "start_time": "2022-08-26T11:37:41.263594Z"
    }
   },
   "outputs": [],
   "source": [
    "A=Variable('a')\n",
    "B=Variable('b')\n",
    "C=Variable('c')\n",
    "sqrt=Function('sqrt')"
   ]
  },
  {
   "cell_type": "code",
   "execution_count": 23,
   "id": "c6408db0",
   "metadata": {
    "ExecuteTime": {
     "end_time": "2022-08-26T11:37:41.293193Z",
     "start_time": "2022-08-26T11:37:41.280175Z"
    }
   },
   "outputs": [
    {
     "data": {
      "text/plain": [
       "<__main__.Quotient at 0x2c165d9b2e0>"
      ]
     },
     "execution_count": 23,
     "metadata": {},
     "output_type": "execute_result"
    }
   ],
   "source": [
    "Quotient(\n",
    "    Sum(\n",
    "        Negative(B),\n",
    "        Apply(\n",
    "            sqrt,\n",
    "            Difference(\n",
    "                Power(B,Number(2)),\n",
    "                Product(Number(4),Product(A,C))))),\n",
    "        Product(Number(2),A))"
   ]
  },
  {
   "cell_type": "code",
   "execution_count": 24,
   "id": "61064e19",
   "metadata": {
    "ExecuteTime": {
     "end_time": "2022-08-26T11:37:41.309203Z",
     "start_time": "2022-08-26T11:37:41.295181Z"
    }
   },
   "outputs": [],
   "source": [
    "def f(x):\n",
    "    return (3*x**2+x)*sin(x)"
   ]
  },
  {
   "cell_type": "code",
   "execution_count": 25,
   "id": "8d04a264",
   "metadata": {
    "ExecuteTime": {
     "end_time": "2022-08-26T11:37:41.325208Z",
     "start_time": "2022-08-26T11:37:41.311201Z"
    },
    "run_control": {
     "marked": true
    }
   },
   "outputs": [],
   "source": [
    "def distinct_variables(exp):\n",
    "    if isinstance(exp,Variable):\n",
    "        return set(exp.symbol)\n",
    "    elif isinstance(exp,Number):\n",
    "        return set()\n",
    "    elif isinstance(exp,Sum):\n",
    "        return set().union(*[distinct_variables(exp) for exp in exp.exps])\n",
    "    elif isinstance(exp,Product):\n",
    "        return distinct_variables(exp.exp1).union(distinct_variables(exp.exp2))\n",
    "    elif isinstance(exp,Power):\n",
    "        return distinct_variables(exp.base).union(distinct_variables(exp.exponent))\n",
    "    elif isinstance(exp,Apply):\n",
    "        return distinct_variables(exp.argument)\n",
    "    else:\n",
    "        raise TypeError(\"Not a vaild expression\")\n"
   ]
  },
  {
   "cell_type": "code",
   "execution_count": 26,
   "id": "d698b76d",
   "metadata": {
    "ExecuteTime": {
     "end_time": "2022-08-26T11:37:41.341199Z",
     "start_time": "2022-08-26T11:37:41.327184Z"
    }
   },
   "outputs": [
    {
     "data": {
      "text/plain": [
       "{'z'}"
      ]
     },
     "execution_count": 26,
     "metadata": {},
     "output_type": "execute_result"
    }
   ],
   "source": [
    "distinct_variables(Variable('z'))"
   ]
  },
  {
   "cell_type": "code",
   "execution_count": 27,
   "id": "5c4fc59e",
   "metadata": {
    "ExecuteTime": {
     "end_time": "2022-08-26T11:37:41.357206Z",
     "start_time": "2022-08-26T11:37:41.343191Z"
    }
   },
   "outputs": [
    {
     "data": {
      "text/plain": [
       "set()"
      ]
     },
     "execution_count": 27,
     "metadata": {},
     "output_type": "execute_result"
    }
   ],
   "source": [
    "distinct_variables(Number(3))"
   ]
  },
  {
   "cell_type": "code",
   "execution_count": 28,
   "id": "826fdf7a",
   "metadata": {
    "ExecuteTime": {
     "end_time": "2022-08-26T11:37:41.373207Z",
     "start_time": "2022-08-26T11:37:41.359188Z"
    }
   },
   "outputs": [
    {
     "data": {
      "text/plain": [
       "{'x'}"
      ]
     },
     "execution_count": 28,
     "metadata": {},
     "output_type": "execute_result"
    }
   ],
   "source": [
    "distinct_variables(f_expression)"
   ]
  },
  {
   "cell_type": "code",
   "execution_count": 46,
   "id": "93f41064",
   "metadata": {
    "ExecuteTime": {
     "end_time": "2022-08-26T12:15:08.835611Z",
     "start_time": "2022-08-26T12:15:08.819618Z"
    }
   },
   "outputs": [],
   "source": [
    "class Expression(ABC):\n",
    "    @abstractmethod\n",
    "    def evaluate(self, **bindings):\n",
    "        pass"
   ]
  },
  {
   "cell_type": "code",
   "execution_count": 47,
   "id": "5d20ca38",
   "metadata": {
    "ExecuteTime": {
     "end_time": "2022-08-26T12:15:46.039209Z",
     "start_time": "2022-08-26T12:15:46.034211Z"
    }
   },
   "outputs": [],
   "source": [
    "class Number(Expression):\n",
    "    def __init__(self,number):\n",
    "        self.number=number\n",
    "    def evaluate(self,**bindings):\n",
    "        return self.number"
   ]
  },
  {
   "cell_type": "code",
   "execution_count": 31,
   "id": "9d716908",
   "metadata": {
    "ExecuteTime": {
     "end_time": "2022-08-26T11:37:41.421206Z",
     "start_time": "2022-08-26T11:37:41.407185Z"
    }
   },
   "outputs": [
    {
     "data": {
      "text/plain": [
       "7"
      ]
     },
     "execution_count": 31,
     "metadata": {},
     "output_type": "execute_result"
    }
   ],
   "source": [
    "Number(7).evaluate(x=3,y=6,q=-15)"
   ]
  },
  {
   "cell_type": "code",
   "execution_count": 32,
   "id": "3cb9da2c",
   "metadata": {
    "ExecuteTime": {
     "end_time": "2022-08-26T11:37:41.437192Z",
     "start_time": "2022-08-26T11:37:41.423194Z"
    }
   },
   "outputs": [],
   "source": [
    "class Variable(Expression):\n",
    "    def __init__(self,symbol):\n",
    "        self.symbol=symbol\n",
    "    def evaluate(self,**bindings):\n",
    "        try:\n",
    "            return bindings[self.symbol]\n",
    "        except:\n",
    "            return KeyError(\"Variable '{}' is not bound.\".format(self.symbol))"
   ]
  },
  {
   "cell_type": "code",
   "execution_count": 33,
   "id": "49f2270f",
   "metadata": {
    "ExecuteTime": {
     "end_time": "2022-08-26T11:37:41.453191Z",
     "start_time": "2022-08-26T11:37:41.439197Z"
    }
   },
   "outputs": [
    {
     "data": {
      "text/plain": [
       "5"
      ]
     },
     "execution_count": 33,
     "metadata": {},
     "output_type": "execute_result"
    }
   ],
   "source": [
    "Variable(\"x\").evaluate(x=5)"
   ]
  },
  {
   "cell_type": "code",
   "execution_count": 44,
   "id": "3834759f",
   "metadata": {
    "ExecuteTime": {
     "end_time": "2022-08-26T11:58:25.001834Z",
     "start_time": "2022-08-26T11:58:24.995846Z"
    }
   },
   "outputs": [],
   "source": [
    "# # KeyError: \"Variable 'x' is not bound.\" \n",
    "# Variable(\"x\").evaluate(y=5)"
   ]
  },
  {
   "cell_type": "code",
   "execution_count": 34,
   "id": "bac560e7",
   "metadata": {
    "ExecuteTime": {
     "end_time": "2022-08-26T11:37:41.469201Z",
     "start_time": "2022-08-26T11:37:41.464210Z"
    }
   },
   "outputs": [],
   "source": [
    "class Product(Expression):\n",
    "    def __init__(self, exp1, exp2):\n",
    "        self.exp1 = exp1\n",
    "        self.exp2 = exp2\n",
    "    def evaluate(self, **bindings):\n",
    "        return self.exp1.evaluate(**bindings) * self.exp2.evaluate(**bindings)"
   ]
  },
  {
   "cell_type": "code",
   "execution_count": 35,
   "id": "033a9bd9",
   "metadata": {
    "ExecuteTime": {
     "end_time": "2022-08-26T11:37:41.500679Z",
     "start_time": "2022-08-26T11:37:41.486648Z"
    },
    "scrolled": true
   },
   "outputs": [
    {
     "data": {
      "text/plain": [
       "10"
      ]
     },
     "execution_count": 35,
     "metadata": {},
     "output_type": "execute_result"
    }
   ],
   "source": [
    "Product(Variable(\"x\"),Variable(\"y\")).evaluate(x=2,y=5)"
   ]
  },
  {
   "cell_type": "code",
   "execution_count": 36,
   "id": "2949116a",
   "metadata": {
    "ExecuteTime": {
     "end_time": "2022-08-26T11:37:41.516650Z",
     "start_time": "2022-08-26T11:37:41.510656Z"
    }
   },
   "outputs": [],
   "source": [
    "_function_bindings={\n",
    "    \"sin\":math.sin,\n",
    "    \"cos\":math.cos,\n",
    "    \"ln\":math.log\n",
    "}\n",
    "class Apply(Expression):\n",
    "    def __init__(self,function,argument):\n",
    "        self.function=function\n",
    "        self.argument=argument\n",
    "    def evaluate(self,**bindings):\n",
    "        return _function_bindings[self.function.name](self.argument.evaluate(**bindings))"
   ]
  },
  {
   "cell_type": "code",
   "execution_count": 39,
   "id": "170b939d",
   "metadata": {
    "ExecuteTime": {
     "end_time": "2022-08-26T11:38:11.172552Z",
     "start_time": "2022-08-26T11:38:11.153565Z"
    }
   },
   "outputs": [],
   "source": [
    "class Sum(Expression):\n",
    "    def __init__(self, *exps):\n",
    "        self.exps = exps\n",
    "    def evaluate(self, **bindings):\n",
    "        return sum([exp.evaluate(**bindings) for exp in self.exps])\n",
    "    \n",
    "class Power(Expression):\n",
    "    def __init__(self,base,exponent):\n",
    "        self.base = base\n",
    "        self.exponent = exponent\n",
    "    def evaluate(self, **bindings):\n",
    "        return self.base.evaluate(**bindings) ** self.exponent.evaluate(**bindings)\n",
    "    \n",
    "class Difference(Expression):\n",
    "    def __init__(self,exp1,exp2):\n",
    "        self.exp1 = exp1\n",
    "        self.exp2 = exp2\n",
    "    def evaluate(self, **bindings):\n",
    "        return self.exp1.evaluate(**bindings) - self.exp2.evaluate(**bindings)\n",
    "    \n",
    "class Quotient(Expression):\n",
    "    def __init__(self,numerator,denominator):\n",
    "        self.numerator = numerator\n",
    "        self.denominator = denominator\n",
    "    def evaluate(self, **bindings):\n",
    "        return self.numerator.evaluate(**bindings) / self.denominator.evaluate(**bindings)"
   ]
  },
  {
   "cell_type": "code",
   "execution_count": 40,
   "id": "9832bef2",
   "metadata": {
    "ExecuteTime": {
     "end_time": "2022-08-26T11:38:11.378540Z",
     "start_time": "2022-08-26T11:38:11.365569Z"
    }
   },
   "outputs": [
    {
     "data": {
      "text/plain": [
       "-76.71394197305108"
      ]
     },
     "execution_count": 40,
     "metadata": {},
     "output_type": "execute_result"
    }
   ],
   "source": [
    "f_expression.evaluate(x=5)"
   ]
  },
  {
   "cell_type": "code",
   "execution_count": 42,
   "id": "0caa664d",
   "metadata": {
    "ExecuteTime": {
     "end_time": "2022-08-26T11:40:57.524742Z",
     "start_time": "2022-08-26T11:40:57.510747Z"
    }
   },
   "outputs": [
    {
     "data": {
      "text/plain": [
       "-76.71394197305108"
      ]
     },
     "execution_count": 42,
     "metadata": {},
     "output_type": "execute_result"
    }
   ],
   "source": [
    "f(5)"
   ]
  },
  {
   "cell_type": "code",
   "execution_count": 53,
   "id": "d4b55d66",
   "metadata": {
    "ExecuteTime": {
     "end_time": "2022-08-26T12:35:18.996689Z",
     "start_time": "2022-08-26T12:35:18.985667Z"
    }
   },
   "outputs": [],
   "source": [
    "class Expression(ABC):\n",
    "    @abstractmethod\n",
    "    def evaluate(self, **bindings):\n",
    "        pass\n",
    "    def expand(self):\n",
    "        pass"
   ]
  },
  {
   "cell_type": "code",
   "execution_count": 49,
   "id": "a00167fe",
   "metadata": {
    "ExecuteTime": {
     "end_time": "2022-08-26T12:17:42.915438Z",
     "start_time": "2022-08-26T12:17:42.910440Z"
    }
   },
   "outputs": [],
   "source": [
    "class Number(Expression):\n",
    "    def __init__(self,number):\n",
    "        self.number=number\n",
    "    def evaluate(self,**bindings):\n",
    "        return self.number\n",
    "    def expand(self):\n",
    "        return self"
   ]
  },
  {
   "cell_type": "code",
   "execution_count": 50,
   "id": "5a125e5c",
   "metadata": {
    "ExecuteTime": {
     "end_time": "2022-08-26T12:18:43.476658Z",
     "start_time": "2022-08-26T12:18:43.457652Z"
    }
   },
   "outputs": [],
   "source": [
    "class Sum(Expression):\n",
    "    def __init__(self, *exps):\n",
    "        self.exps = exps\n",
    "    def evaluate(self, **bindings):\n",
    "        return sum([exp.evaluate(**bindings) for exp in self.exps])\n",
    "    def expand(self):\n",
    "        return Sum(*[exp.expand() for exp in exp.exps])"
   ]
  },
  {
   "cell_type": "code",
   "execution_count": 51,
   "id": "9b09e978",
   "metadata": {
    "ExecuteTime": {
     "end_time": "2022-08-26T12:20:31.156196Z",
     "start_time": "2022-08-26T12:20:31.137191Z"
    }
   },
   "outputs": [],
   "source": [
    "_function_bindings={\n",
    "    \"sin\":math.sin,\n",
    "    \"cos\":math.cos,\n",
    "    \"ln\":math.log\n",
    "}\n",
    "class Apply(Expression):\n",
    "    def __init__(self,function,argument):\n",
    "        self.function=function\n",
    "        self.argument=argument\n",
    "    def evaluate(self,**bindings):\n",
    "        return _function_bindings[self.function.name](self.argument.evaluate(**bindings))\n",
    "    def expand(self):\n",
    "        return Apply(self.function,self.argument.expand())"
   ]
  },
  {
   "cell_type": "code",
   "execution_count": 52,
   "id": "d67e2977",
   "metadata": {
    "ExecuteTime": {
     "end_time": "2022-08-26T12:32:09.030537Z",
     "start_time": "2022-08-26T12:32:09.020535Z"
    }
   },
   "outputs": [],
   "source": [
    "class Product(Expression):\n",
    "    def __init__(self, exp1, exp2):\n",
    "        self.exp1 = exp1\n",
    "        self.exp2 = exp2\n",
    "    def evaluate(self, **bindings):\n",
    "        return self.exp1.evaluate(**bindings) * self.exp2.evaluate(**bindings)\n",
    "    def expand(self):\n",
    "        expanded1=self.exp1.expand()\n",
    "        expanded2=self.exp2.expand()\n",
    "        if isinstance(expanded1,Sum):\n",
    "            return Sum(*[Product(e,expanded2).expand() for e in expanded1.exps])\n",
    "        elif isinstance(expanded2,Sum):\n",
    "            return Sum(*[Product(expanded1,e).expand() for e in expanded2.exps])\n",
    "        else:\n",
    "            return Product(expanded1,expanded2)"
   ]
  },
  {
   "cell_type": "code",
   "execution_count": null,
   "id": "8f963749",
   "metadata": {},
   "outputs": [],
   "source": [
    "def contains(exp,var):\n",
    "    if isinstance(exp,Variable):\n",
    "        return exp.symbol==var.\n",
    "    elif isinstance(exp,Number):\n",
    "        return \n",
    "    elif isinstance(exp,Sum):\n",
    "        return \n",
    "    elif isinstance(exp,Product):\n",
    "        return\n",
    "    elif isinstance(exp,Power):\n",
    "        return \n",
    "    elif isinstance(exp,Apply):\n",
    "        return \n",
    "    else:\n",
    "        raise TypeError(\"Not a vaild expression\")"
   ]
  }
 ],
 "metadata": {
  "hide_input": false,
  "kernelspec": {
   "display_name": "Python 3 (ipykernel)",
   "language": "python",
   "name": "python3"
  },
  "language_info": {
   "codemirror_mode": {
    "name": "ipython",
    "version": 3
   },
   "file_extension": ".py",
   "mimetype": "text/x-python",
   "name": "python",
   "nbconvert_exporter": "python",
   "pygments_lexer": "ipython3",
   "version": "3.9.12"
  },
  "nbTranslate": {
   "displayLangs": [
    "*"
   ],
   "hotkey": "alt-t",
   "langInMainMenu": true,
   "sourceLang": "en",
   "targetLang": "fr",
   "useGoogleTranslate": true
  },
  "toc": {
   "base_numbering": 1,
   "nav_menu": {},
   "number_sections": true,
   "sideBar": true,
   "skip_h1_title": false,
   "title_cell": "Table of Contents",
   "title_sidebar": "Contents",
   "toc_cell": false,
   "toc_position": {},
   "toc_section_display": true,
   "toc_window_display": false
  },
  "varInspector": {
   "cols": {
    "lenName": 16,
    "lenType": 16,
    "lenVar": 40
   },
   "kernels_config": {
    "python": {
     "delete_cmd_postfix": "",
     "delete_cmd_prefix": "del ",
     "library": "var_list.py",
     "varRefreshCmd": "print(var_dic_list())"
    },
    "r": {
     "delete_cmd_postfix": ") ",
     "delete_cmd_prefix": "rm(",
     "library": "var_list.r",
     "varRefreshCmd": "cat(var_dic_list()) "
    }
   },
   "types_to_exclude": [
    "module",
    "function",
    "builtin_function_or_method",
    "instance",
    "_Feature"
   ],
   "window_display": false
  }
 },
 "nbformat": 4,
 "nbformat_minor": 5
}
