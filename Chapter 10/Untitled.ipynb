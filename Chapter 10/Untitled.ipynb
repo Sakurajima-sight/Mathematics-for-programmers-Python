{
 "cells": [
  {
   "cell_type": "code",
   "execution_count": 1,
   "id": "516b4c62",
   "metadata": {
    "ExecuteTime": {
     "end_time": "2022-08-27T05:35:18.463091Z",
     "start_time": "2022-08-27T05:35:17.624118Z"
    }
   },
   "outputs": [],
   "source": [
    "from math import *\n",
    "from expressions import *\n",
    "from abc import ABC, abstractmethod\n",
    "import matplotlib.pyplot as plt\n",
    "from draw2d import *"
   ]
  },
  {
   "cell_type": "code",
   "execution_count": 2,
   "id": "f094d1ed",
   "metadata": {
    "ExecuteTime": {
     "end_time": "2022-08-27T05:35:18.479080Z",
     "start_time": "2022-08-27T05:35:18.465091Z"
    }
   },
   "outputs": [],
   "source": [
    "def f(x):\n",
    "    return (3*x**2+x)*sin(x)"
   ]
  },
  {
   "cell_type": "code",
   "execution_count": 3,
   "id": "880a2c12",
   "metadata": {
    "ExecuteTime": {
     "end_time": "2022-08-27T05:35:18.495099Z",
     "start_time": "2022-08-27T05:35:18.480096Z"
    }
   },
   "outputs": [],
   "source": [
    "class Power():\n",
    "    def __init__(self,base,exponent):\n",
    "        self.base=base\n",
    "        self.exponent=exponent"
   ]
  },
  {
   "cell_type": "code",
   "execution_count": 4,
   "id": "b912df89",
   "metadata": {
    "ExecuteTime": {
     "end_time": "2022-08-27T05:35:18.511119Z",
     "start_time": "2022-08-27T05:35:18.497108Z"
    }
   },
   "outputs": [],
   "source": [
    "class Number():\n",
    "    def __init__(self,number):\n",
    "        self.number=number"
   ]
  },
  {
   "cell_type": "code",
   "execution_count": 5,
   "id": "618384e6",
   "metadata": {
    "ExecuteTime": {
     "end_time": "2022-08-27T05:35:18.527130Z",
     "start_time": "2022-08-27T05:35:18.513125Z"
    }
   },
   "outputs": [],
   "source": [
    "class Variable():\n",
    "    def __init__(self,symbol):\n",
    "        self.symbol=symbol"
   ]
  },
  {
   "cell_type": "code",
   "execution_count": 6,
   "id": "1e413723",
   "metadata": {
    "ExecuteTime": {
     "end_time": "2022-08-27T05:35:18.543146Z",
     "start_time": "2022-08-27T05:35:18.529137Z"
    }
   },
   "outputs": [
    {
     "data": {
      "text/plain": [
       "<__main__.Power at 0x28865627280>"
      ]
     },
     "execution_count": 6,
     "metadata": {},
     "output_type": "execute_result"
    }
   ],
   "source": [
    "Power(Variable(\"x\"),Number(2))"
   ]
  },
  {
   "cell_type": "code",
   "execution_count": 7,
   "id": "88a55d1e",
   "metadata": {
    "ExecuteTime": {
     "end_time": "2022-08-27T05:35:18.559197Z",
     "start_time": "2022-08-27T05:35:18.546156Z"
    }
   },
   "outputs": [],
   "source": [
    "class Product():\n",
    "    def __init__(self,exp1,exp2):\n",
    "        self.exp1=exp1\n",
    "        self.exp2=exp2"
   ]
  },
  {
   "cell_type": "code",
   "execution_count": 8,
   "id": "d3b8d0ee",
   "metadata": {
    "ExecuteTime": {
     "end_time": "2022-08-27T05:35:18.574658Z",
     "start_time": "2022-08-27T05:35:18.561187Z"
    }
   },
   "outputs": [
    {
     "data": {
      "text/plain": [
       "<__main__.Product at 0x28865645190>"
      ]
     },
     "execution_count": 8,
     "metadata": {},
     "output_type": "execute_result"
    }
   ],
   "source": [
    "Product(Number(3),Power(Variable(\"x\"),Number(2)))"
   ]
  },
  {
   "cell_type": "code",
   "execution_count": 9,
   "id": "cfd1974d",
   "metadata": {
    "ExecuteTime": {
     "end_time": "2022-08-27T05:35:18.590761Z",
     "start_time": "2022-08-27T05:35:18.576204Z"
    }
   },
   "outputs": [],
   "source": [
    "class Sum():\n",
    "    def __init__(self,*exps):\n",
    "        self.exps=exps"
   ]
  },
  {
   "cell_type": "code",
   "execution_count": 10,
   "id": "cc5f1e70",
   "metadata": {
    "ExecuteTime": {
     "end_time": "2022-08-27T05:35:18.606301Z",
     "start_time": "2022-08-27T05:35:18.592748Z"
    }
   },
   "outputs": [],
   "source": [
    "class Function():\n",
    "    def __init__(self,name):\n",
    "        self.name=name"
   ]
  },
  {
   "cell_type": "code",
   "execution_count": 11,
   "id": "d891cdb2",
   "metadata": {
    "ExecuteTime": {
     "end_time": "2022-08-27T05:35:18.621851Z",
     "start_time": "2022-08-27T05:35:18.607866Z"
    }
   },
   "outputs": [],
   "source": [
    "class Apply():\n",
    "    def __init__(self,function,argument):\n",
    "        self.function=function\n",
    "        self.argument=argument"
   ]
  },
  {
   "cell_type": "code",
   "execution_count": 12,
   "id": "363b6933",
   "metadata": {
    "ExecuteTime": {
     "end_time": "2022-08-27T05:35:18.637846Z",
     "start_time": "2022-08-27T05:35:18.623865Z"
    }
   },
   "outputs": [],
   "source": [
    "f_expression=Product(\n",
    "    Sum(\n",
    "        Product(\n",
    "            Number(3),\n",
    "            Power(\n",
    "                Variable(\"x\"),\n",
    "                Number(2))),\n",
    "        Variable(\"x\")),\n",
    "    Apply(\n",
    "        Function(\"sin\"),\n",
    "        Variable(\"x\")))"
   ]
  },
  {
   "cell_type": "code",
   "execution_count": 13,
   "id": "9314068a",
   "metadata": {
    "ExecuteTime": {
     "end_time": "2022-08-27T05:35:18.653851Z",
     "start_time": "2022-08-27T05:35:18.639866Z"
    }
   },
   "outputs": [
    {
     "data": {
      "text/plain": [
       "<__main__.Apply at 0x2886564b940>"
      ]
     },
     "execution_count": 13,
     "metadata": {},
     "output_type": "execute_result"
    }
   ],
   "source": [
    "Apply(Function(\"cos\"),Sum(Power(Variable(\"x\"),Number(\"3\")),Number(-5)))"
   ]
  },
  {
   "cell_type": "code",
   "execution_count": 14,
   "id": "ca147903",
   "metadata": {
    "ExecuteTime": {
     "end_time": "2022-08-27T05:35:18.668871Z",
     "start_time": "2022-08-27T05:35:18.655857Z"
    }
   },
   "outputs": [],
   "source": [
    "def f(y,z):\n",
    "    return log(y**z)"
   ]
  },
  {
   "cell_type": "code",
   "execution_count": 15,
   "id": "c6dabab1",
   "metadata": {
    "ExecuteTime": {
     "end_time": "2022-08-27T05:35:18.684847Z",
     "start_time": "2022-08-27T05:35:18.669847Z"
    }
   },
   "outputs": [
    {
     "data": {
      "text/plain": [
       "<__main__.Apply at 0x2886564e250>"
      ]
     },
     "execution_count": 15,
     "metadata": {},
     "output_type": "execute_result"
    }
   ],
   "source": [
    "Apply(Function('ln'),Power(Variable('y'),Variable('z')))"
   ]
  },
  {
   "cell_type": "code",
   "execution_count": 16,
   "id": "52252219",
   "metadata": {
    "ExecuteTime": {
     "end_time": "2022-08-27T05:35:18.699894Z",
     "start_time": "2022-08-27T05:35:18.685859Z"
    }
   },
   "outputs": [],
   "source": [
    "class Quotient():\n",
    "    def __init__(self,numerator,denominator):\n",
    "        self.numerator=numerator\n",
    "        self.denominator=denominator"
   ]
  },
  {
   "cell_type": "code",
   "execution_count": 17,
   "id": "8f585e71",
   "metadata": {
    "ExecuteTime": {
     "end_time": "2022-08-27T05:35:18.715902Z",
     "start_time": "2022-08-27T05:35:18.701877Z"
    }
   },
   "outputs": [
    {
     "data": {
      "text/plain": [
       "<__main__.Quotient at 0x2886564e640>"
      ]
     },
     "execution_count": 17,
     "metadata": {},
     "output_type": "execute_result"
    }
   ],
   "source": [
    "Quotient(Sum(Variable('a'),Variable('b')),Number(2))"
   ]
  },
  {
   "cell_type": "code",
   "execution_count": 18,
   "id": "360b6574",
   "metadata": {
    "ExecuteTime": {
     "end_time": "2022-08-27T05:35:18.732028Z",
     "start_time": "2022-08-27T05:35:18.717908Z"
    }
   },
   "outputs": [],
   "source": [
    "class Difference():\n",
    "    def __init__(self,exp1,exp2):\n",
    "        self.exp1=exp1\n",
    "        self.exp2=exp2"
   ]
  },
  {
   "cell_type": "code",
   "execution_count": 19,
   "id": "931653d0",
   "metadata": {
    "ExecuteTime": {
     "end_time": "2022-08-27T05:35:18.747853Z",
     "start_time": "2022-08-27T05:35:18.734849Z"
    }
   },
   "outputs": [
    {
     "data": {
      "text/plain": [
       "<__main__.Difference at 0x288656566a0>"
      ]
     },
     "execution_count": 19,
     "metadata": {},
     "output_type": "execute_result"
    }
   ],
   "source": [
    "Difference(\n",
    "    Power(Variable(\"b\"),Number(2)),\n",
    "    Product(Number(4),Product(Variable(\"a\"),Variable(\"c\")))\n",
    ")"
   ]
  },
  {
   "cell_type": "code",
   "execution_count": 20,
   "id": "e955dc14",
   "metadata": {
    "ExecuteTime": {
     "end_time": "2022-08-27T05:35:18.762930Z",
     "start_time": "2022-08-27T05:35:18.749849Z"
    }
   },
   "outputs": [],
   "source": [
    "class Negative():\n",
    "    def __init__(self,exp):\n",
    "        self.exp=exp"
   ]
  },
  {
   "cell_type": "code",
   "execution_count": 21,
   "id": "526cbe6d",
   "metadata": {
    "ExecuteTime": {
     "end_time": "2022-08-27T05:35:18.778954Z",
     "start_time": "2022-08-27T05:35:18.764934Z"
    }
   },
   "outputs": [
    {
     "data": {
      "text/plain": [
       "<__main__.Negative at 0x28865656160>"
      ]
     },
     "execution_count": 21,
     "metadata": {},
     "output_type": "execute_result"
    }
   ],
   "source": [
    "Negative(Sum(Power(Variable('x'),Number(2)),Variable(\"y\")))"
   ]
  },
  {
   "cell_type": "code",
   "execution_count": 22,
   "id": "a54674d0",
   "metadata": {
    "ExecuteTime": {
     "end_time": "2022-08-27T05:35:18.794487Z",
     "start_time": "2022-08-27T05:35:18.780956Z"
    }
   },
   "outputs": [],
   "source": [
    "A=Variable('a')\n",
    "B=Variable('b')\n",
    "C=Variable('c')\n",
    "sqrt=Function('sqrt')"
   ]
  },
  {
   "cell_type": "code",
   "execution_count": 23,
   "id": "c6408db0",
   "metadata": {
    "ExecuteTime": {
     "end_time": "2022-08-27T05:35:18.810574Z",
     "start_time": "2022-08-27T05:35:18.795490Z"
    }
   },
   "outputs": [
    {
     "data": {
      "text/plain": [
       "<__main__.Quotient at 0x2886565b880>"
      ]
     },
     "execution_count": 23,
     "metadata": {},
     "output_type": "execute_result"
    }
   ],
   "source": [
    "Quotient(\n",
    "    Sum(\n",
    "        Negative(B),\n",
    "        Apply(\n",
    "            sqrt,\n",
    "            Difference(\n",
    "                Power(B,Number(2)),\n",
    "                Product(Number(4),Product(A,C))))),\n",
    "        Product(Number(2),A))"
   ]
  },
  {
   "cell_type": "code",
   "execution_count": 24,
   "id": "61064e19",
   "metadata": {
    "ExecuteTime": {
     "end_time": "2022-08-27T05:35:18.826110Z",
     "start_time": "2022-08-27T05:35:18.813575Z"
    }
   },
   "outputs": [],
   "source": [
    "def f(x):\n",
    "    return (3*x**2+x)*sin(x)"
   ]
  },
  {
   "cell_type": "code",
   "execution_count": 25,
   "id": "8d04a264",
   "metadata": {
    "ExecuteTime": {
     "end_time": "2022-08-27T05:35:18.842104Z",
     "start_time": "2022-08-27T05:35:18.828108Z"
    },
    "run_control": {
     "marked": true
    }
   },
   "outputs": [],
   "source": [
    "def distinct_variables(exp):\n",
    "    if isinstance(exp,Variable):\n",
    "        return set(exp.symbol)\n",
    "    elif isinstance(exp,Number):\n",
    "        return set()\n",
    "    elif isinstance(exp,Sum):\n",
    "        return set().union(*[distinct_variables(exp) for exp in exp.exps])\n",
    "    elif isinstance(exp,Product):\n",
    "        return distinct_variables(exp.exp1).union(distinct_variables(exp.exp2))\n",
    "    elif isinstance(exp,Power):\n",
    "        return distinct_variables(exp.base).union(distinct_variables(exp.exponent))\n",
    "    elif isinstance(exp,Apply):\n",
    "        return distinct_variables(exp.argument)\n",
    "    else:\n",
    "        raise TypeError(\"Not a vaild expression\")\n"
   ]
  },
  {
   "cell_type": "code",
   "execution_count": 26,
   "id": "d698b76d",
   "metadata": {
    "ExecuteTime": {
     "end_time": "2022-08-27T05:35:18.858109Z",
     "start_time": "2022-08-27T05:35:18.844108Z"
    }
   },
   "outputs": [
    {
     "data": {
      "text/plain": [
       "{'z'}"
      ]
     },
     "execution_count": 26,
     "metadata": {},
     "output_type": "execute_result"
    }
   ],
   "source": [
    "distinct_variables(Variable('z'))"
   ]
  },
  {
   "cell_type": "code",
   "execution_count": 27,
   "id": "5c4fc59e",
   "metadata": {
    "ExecuteTime": {
     "end_time": "2022-08-27T05:35:18.874107Z",
     "start_time": "2022-08-27T05:35:18.860112Z"
    }
   },
   "outputs": [
    {
     "data": {
      "text/plain": [
       "set()"
      ]
     },
     "execution_count": 27,
     "metadata": {},
     "output_type": "execute_result"
    }
   ],
   "source": [
    "distinct_variables(Number(3))"
   ]
  },
  {
   "cell_type": "code",
   "execution_count": 28,
   "id": "826fdf7a",
   "metadata": {
    "ExecuteTime": {
     "end_time": "2022-08-27T05:35:18.889101Z",
     "start_time": "2022-08-27T05:35:18.876108Z"
    }
   },
   "outputs": [
    {
     "data": {
      "text/plain": [
       "{'x'}"
      ]
     },
     "execution_count": 28,
     "metadata": {},
     "output_type": "execute_result"
    }
   ],
   "source": [
    "distinct_variables(f_expression)"
   ]
  },
  {
   "cell_type": "code",
   "execution_count": 29,
   "id": "95c49aec",
   "metadata": {
    "ExecuteTime": {
     "end_time": "2022-08-27T05:35:18.905110Z",
     "start_time": "2022-08-27T05:35:18.891108Z"
    }
   },
   "outputs": [],
   "source": [
    "class Expression(ABC):\n",
    "    @abstractmethod\n",
    "    def evaluate(self, **bindings):\n",
    "        pass"
   ]
  },
  {
   "cell_type": "code",
   "execution_count": 30,
   "id": "555bef6b",
   "metadata": {
    "ExecuteTime": {
     "end_time": "2022-08-27T05:35:18.921147Z",
     "start_time": "2022-08-27T05:35:18.907137Z"
    }
   },
   "outputs": [],
   "source": [
    "class Number(Expression):\n",
    "    def __init__(self,number):\n",
    "        self.number=number\n",
    "    def evaluate(self,**bindings):\n",
    "        return self.number"
   ]
  },
  {
   "cell_type": "code",
   "execution_count": 31,
   "id": "61388240",
   "metadata": {
    "ExecuteTime": {
     "end_time": "2022-08-27T05:35:18.937146Z",
     "start_time": "2022-08-27T05:35:18.924147Z"
    }
   },
   "outputs": [
    {
     "data": {
      "text/plain": [
       "7"
      ]
     },
     "execution_count": 31,
     "metadata": {},
     "output_type": "execute_result"
    }
   ],
   "source": [
    "Number(7).evaluate(x=3,y=6,q=-15)"
   ]
  },
  {
   "cell_type": "code",
   "execution_count": 32,
   "id": "a11c3ccd",
   "metadata": {
    "ExecuteTime": {
     "end_time": "2022-08-27T05:35:18.953198Z",
     "start_time": "2022-08-27T05:35:18.939173Z"
    }
   },
   "outputs": [],
   "source": [
    "class Variable(Expression):\n",
    "    def __init__(self,symbol):\n",
    "        self.symbol=symbol\n",
    "    def evaluate(self,**bindings):\n",
    "        try:\n",
    "            return bindings[self.symbol]\n",
    "        except:\n",
    "            return KeyError(\"Variable '{}' is not bound.\".format(self.symbol))"
   ]
  },
  {
   "cell_type": "code",
   "execution_count": 33,
   "id": "aeafbd08",
   "metadata": {
    "ExecuteTime": {
     "end_time": "2022-08-27T05:35:18.969195Z",
     "start_time": "2022-08-27T05:35:18.956195Z"
    }
   },
   "outputs": [
    {
     "data": {
      "text/plain": [
       "5"
      ]
     },
     "execution_count": 33,
     "metadata": {},
     "output_type": "execute_result"
    }
   ],
   "source": [
    "Variable(\"x\").evaluate(x=5)"
   ]
  },
  {
   "cell_type": "code",
   "execution_count": 34,
   "id": "55d91ae3",
   "metadata": {
    "ExecuteTime": {
     "end_time": "2022-08-27T05:35:19.000785Z",
     "start_time": "2022-08-27T05:35:18.990811Z"
    }
   },
   "outputs": [],
   "source": [
    "# # KeyError: \"Variable 'x' is not bound.\" \n",
    "# Variable(\"x\").evaluate(y=5)"
   ]
  },
  {
   "cell_type": "code",
   "execution_count": 35,
   "id": "ab3ba73a",
   "metadata": {
    "ExecuteTime": {
     "end_time": "2022-08-27T05:35:19.048785Z",
     "start_time": "2022-08-27T05:35:19.041781Z"
    }
   },
   "outputs": [],
   "source": [
    "class Product(Expression):\n",
    "    def __init__(self, exp1, exp2):\n",
    "        self.exp1=exp1\n",
    "        self.exp2=exp2\n",
    "    def evaluate(self, **bindings):\n",
    "        return self.exp1.evaluate(**bindings)*self.exp2.evaluate(**bindings)"
   ]
  },
  {
   "cell_type": "code",
   "execution_count": 36,
   "id": "8942fac5",
   "metadata": {
    "ExecuteTime": {
     "end_time": "2022-08-27T05:35:19.112179Z",
     "start_time": "2022-08-27T05:35:19.092165Z"
    },
    "scrolled": true
   },
   "outputs": [
    {
     "data": {
      "text/plain": [
       "10"
      ]
     },
     "execution_count": 36,
     "metadata": {},
     "output_type": "execute_result"
    }
   ],
   "source": [
    "Product(Variable(\"x\"),Variable(\"y\")).evaluate(x=2,y=5)"
   ]
  },
  {
   "cell_type": "code",
   "execution_count": 37,
   "id": "f658dbea",
   "metadata": {
    "ExecuteTime": {
     "end_time": "2022-08-27T05:35:19.159339Z",
     "start_time": "2022-08-27T05:35:19.145308Z"
    }
   },
   "outputs": [],
   "source": [
    "_function_bindings={\n",
    "    \"sin\":math.sin,\n",
    "    \"cos\":math.cos,\n",
    "    \"ln\":math.log\n",
    "}\n",
    "class Apply(Expression):\n",
    "    def __init__(self,function,argument):\n",
    "        self.function=function\n",
    "        self.argument=argument\n",
    "    def evaluate(self,**bindings):\n",
    "        return _function_bindings[self.function.name](self.argument.evaluate(**bindings))"
   ]
  },
  {
   "cell_type": "code",
   "execution_count": 38,
   "id": "0d9d4fe0",
   "metadata": {
    "ExecuteTime": {
     "end_time": "2022-08-27T05:35:19.207398Z",
     "start_time": "2022-08-27T05:35:19.199401Z"
    }
   },
   "outputs": [],
   "source": [
    "class Sum(Expression):\n",
    "    def __init__(self, *exps):\n",
    "        self.exps=exps\n",
    "    def evaluate(self, **bindings):\n",
    "        return sum([exp.evaluate(**bindings) for exp in self.exps])\n",
    "    \n",
    "class Power(Expression):\n",
    "    def __init__(self,base,exponent):\n",
    "        self.base=base\n",
    "        self.exponent=exponent\n",
    "    def evaluate(self, **bindings):\n",
    "        return self.base.evaluate(**bindings)**self.exponent.evaluate(**bindings)\n",
    "    \n",
    "class Difference(Expression):\n",
    "    def __init__(self,exp1,exp2):\n",
    "        self.exp1=exp1\n",
    "        self.exp2=exp2\n",
    "    def evaluate(self, **bindings):\n",
    "        return self.exp1.evaluate(**bindings)-self.exp2.evaluate(**bindings)\n",
    "    \n",
    "class Quotient(Expression):\n",
    "    def __init__(self,numerator,denominator):\n",
    "        self.numerator=numerator\n",
    "        self.denominator=denominator\n",
    "    def evaluate(self, **bindings):\n",
    "        return self.numerator.evaluate(**bindings)/self.denominator.evaluate(**bindings)"
   ]
  },
  {
   "cell_type": "code",
   "execution_count": 39,
   "id": "7f0ea139",
   "metadata": {
    "ExecuteTime": {
     "end_time": "2022-08-27T05:35:19.271427Z",
     "start_time": "2022-08-27T05:35:19.257400Z"
    },
    "scrolled": true
   },
   "outputs": [
    {
     "data": {
      "text/plain": [
       "-76.71394197305108"
      ]
     },
     "execution_count": 39,
     "metadata": {},
     "output_type": "execute_result"
    }
   ],
   "source": [
    "f_expression=Product(\n",
    "    Sum(\n",
    "        Product(\n",
    "            Number(3),\n",
    "            Power(\n",
    "                Variable(\"x\"),\n",
    "                Number(2))),\n",
    "        Variable(\"x\")),\n",
    "    Apply(\n",
    "        Function(\"sin\"),\n",
    "        Variable(\"x\")))\n",
    "f_expression.evaluate(x=5)"
   ]
  },
  {
   "cell_type": "code",
   "execution_count": 40,
   "id": "d3f67970",
   "metadata": {
    "ExecuteTime": {
     "end_time": "2022-08-27T05:35:19.319108Z",
     "start_time": "2022-08-27T05:35:19.308448Z"
    }
   },
   "outputs": [
    {
     "data": {
      "text/plain": [
       "-76.71394197305108"
      ]
     },
     "execution_count": 40,
     "metadata": {},
     "output_type": "execute_result"
    }
   ],
   "source": [
    "f(5)"
   ]
  },
  {
   "cell_type": "code",
   "execution_count": 41,
   "id": "6b84b51a",
   "metadata": {
    "ExecuteTime": {
     "end_time": "2022-08-27T05:35:19.367166Z",
     "start_time": "2022-08-27T05:35:19.360166Z"
    }
   },
   "outputs": [],
   "source": [
    "class Expression(ABC):\n",
    "    @abstractmethod\n",
    "    def evaluate(self, **bindings):\n",
    "        pass\n",
    "    def expand(self):\n",
    "        pass"
   ]
  },
  {
   "cell_type": "code",
   "execution_count": 42,
   "id": "4ac4378a",
   "metadata": {
    "ExecuteTime": {
     "end_time": "2022-08-27T05:35:19.429169Z",
     "start_time": "2022-08-27T05:35:19.411164Z"
    }
   },
   "outputs": [],
   "source": [
    "class Number(Expression):\n",
    "    def __init__(self,number):\n",
    "        self.number=number\n",
    "    def evaluate(self,**bindings):\n",
    "        return self.number\n",
    "    def expand(self):\n",
    "        return self"
   ]
  },
  {
   "cell_type": "code",
   "execution_count": 43,
   "id": "553626a8",
   "metadata": {
    "ExecuteTime": {
     "end_time": "2022-08-27T05:35:19.477221Z",
     "start_time": "2022-08-27T05:35:19.462210Z"
    }
   },
   "outputs": [],
   "source": [
    "class Sum(Expression):\n",
    "    def __init__(self, *exps):\n",
    "        self.exps = exps\n",
    "    def evaluate(self, **bindings):\n",
    "        return sum([exp.evaluate(**bindings) for exp in self.exps])\n",
    "    def expand(self):\n",
    "        return Sum(*[exp.expand() for exp in exp.exps])"
   ]
  },
  {
   "cell_type": "code",
   "execution_count": 44,
   "id": "ac2e3846",
   "metadata": {
    "ExecuteTime": {
     "end_time": "2022-08-27T05:35:19.525373Z",
     "start_time": "2022-08-27T05:35:19.512350Z"
    }
   },
   "outputs": [],
   "source": [
    "_function_bindings={\n",
    "    \"sin\":math.sin,\n",
    "    \"cos\":math.cos,\n",
    "    \"ln\":math.log\n",
    "}\n",
    "class Apply(Expression):\n",
    "    def __init__(self,function,argument):\n",
    "        self.function=function\n",
    "        self.argument=argument\n",
    "    def evaluate(self,**bindings):\n",
    "        return _function_bindings[self.function.name](self.argument.evaluate(**bindings))\n",
    "    def expand(self):\n",
    "        return Apply(self.function,self.argument.expand())"
   ]
  },
  {
   "cell_type": "code",
   "execution_count": 45,
   "id": "a06211bb",
   "metadata": {
    "ExecuteTime": {
     "end_time": "2022-08-27T05:35:19.572462Z",
     "start_time": "2022-08-27T05:35:19.565462Z"
    }
   },
   "outputs": [],
   "source": [
    "class Product(Expression):\n",
    "    def __init__(self, exp1, exp2):\n",
    "        self.exp1 = exp1\n",
    "        self.exp2 = exp2\n",
    "    def evaluate(self, **bindings):\n",
    "        return self.exp1.evaluate(**bindings) * self.exp2.evaluate(**bindings)\n",
    "    def expand(self):\n",
    "        expanded1=self.exp1.expand()\n",
    "        expanded2=self.exp2.expand()\n",
    "        if isinstance(expanded1,Sum):\n",
    "            return Sum(*[Product(e,expanded2).expand() for e in expanded1.exps])\n",
    "        elif isinstance(expanded2,Sum):\n",
    "            return Sum(*[Product(expanded1,e).expand() for e in expanded2.exps])\n",
    "        else:\n",
    "            return Product(expanded1,expanded2)"
   ]
  },
  {
   "cell_type": "code",
   "execution_count": 46,
   "id": "4538e904",
   "metadata": {
    "ExecuteTime": {
     "end_time": "2022-08-27T05:35:19.636498Z",
     "start_time": "2022-08-27T05:35:19.619461Z"
    }
   },
   "outputs": [],
   "source": [
    "def contains(exp,var):\n",
    "    if isinstance(exp,Variable):\n",
    "        return exp.symbol==var.symbol\n",
    "    elif isinstance(exp,Number):\n",
    "        return False\n",
    "    elif isinstance(exp,Sum):\n",
    "        return any([contains(e,var) for e in exp.exps])\n",
    "    elif isinstance(exp,Product):\n",
    "        return contains(exp.exp1,var) or contains(exp.exp2,var)\n",
    "    elif isinstance(exp,Power):\n",
    "        return contains(exp.exp1,var) or contains(exp.exponent,var)\n",
    "    elif isinstance(exp,Apply):\n",
    "        return contains(exp.argument,var)\n",
    "    else:\n",
    "        raise TypeError(\"Not a vaild expression\")"
   ]
  },
  {
   "cell_type": "code",
   "execution_count": 47,
   "id": "cacd9828",
   "metadata": {
    "ExecuteTime": {
     "end_time": "2022-08-27T05:35:19.684136Z",
     "start_time": "2022-08-27T05:35:19.675560Z"
    }
   },
   "outputs": [],
   "source": [
    "def distinct_function(exp):\n",
    "    if isinstance(exp,Variable):\n",
    "        return set()\n",
    "    elif isinstance(exp,Number):\n",
    "        return set()\n",
    "    elif isinstance(exp,Sum):\n",
    "        return set().union(*[distinct_function(exp) for exp in exp.exps])\n",
    "    elif isinstance(exp,Product):\n",
    "        return distinct_function(exp.exp1).union(distinct_function(exp.exp2))\n",
    "    elif isinstance(exp,Power):\n",
    "        return distinct_function(exp.base).union(distinct_function(exp.exponent))\n",
    "    elif isinstance(exp,Apply):\n",
    "        return set([exp.function.name]).union(distinct_function(exp.argument))\n",
    "    else:\n",
    "        raise TypeError(\"Not a vaild expression\")"
   ]
  },
  {
   "cell_type": "code",
   "execution_count": 48,
   "id": "af2c2882",
   "metadata": {
    "ExecuteTime": {
     "end_time": "2022-08-27T05:35:19.746418Z",
     "start_time": "2022-08-27T05:35:19.731333Z"
    }
   },
   "outputs": [],
   "source": [
    "def contains_sum(exp):\n",
    "    if isinstance(exp,Variable):\n",
    "        return False\n",
    "    elif isinstance(exp,Number):\n",
    "        return False\n",
    "    elif isinstance(exp,Sum):\n",
    "        return True\n",
    "    elif isinstance(exp,Product):\n",
    "        return contains_sum(exp.exp1) or (contains_sum(exp.exp2))\n",
    "    elif isinstance(exp,Power):\n",
    "        return contains_sum(exp.base) or (contains_sum(exp.exponent))\n",
    "    elif isinstance(exp,Apply):\n",
    "        return contains_sum(exp.argument)\n",
    "    else:\n",
    "        raise TypeError(\"Not a vaild expression\")"
   ]
  },
  {
   "cell_type": "code",
   "execution_count": 49,
   "id": "43ba0174",
   "metadata": {
    "ExecuteTime": {
     "end_time": "2022-08-27T05:35:19.794011Z",
     "start_time": "2022-08-27T05:35:19.786008Z"
    }
   },
   "outputs": [],
   "source": [
    "class Expression(ABC):\n",
    "    @abstractmethod\n",
    "    def evaluate(self, **bindings):\n",
    "        pass\n",
    "    @abstractmethod\n",
    "    def expand(self):\n",
    "        pass\n",
    "    \n",
    "    # Printing expressions legibly in REPL (See first mini project in 2.4)\n",
    "    @abstractmethod\n",
    "    def display(self):\n",
    "        pass\n",
    "    def __repr__(self):\n",
    "        return self.display()"
   ]
  },
  {
   "cell_type": "code",
   "execution_count": 50,
   "id": "e3becdfb",
   "metadata": {
    "ExecuteTime": {
     "end_time": "2022-08-27T05:35:19.857073Z",
     "start_time": "2022-08-27T05:35:19.838029Z"
    }
   },
   "outputs": [
    {
     "data": {
      "text/plain": [
       "'RGB:r,g,b'"
      ]
     },
     "execution_count": 50,
     "metadata": {},
     "output_type": "execute_result"
    }
   ],
   "source": [
    "\"RGB:{}\".format(\",\".join(['r','g','b']))"
   ]
  },
  {
   "cell_type": "code",
   "execution_count": 51,
   "id": "3c20cac0",
   "metadata": {
    "ExecuteTime": {
     "end_time": "2022-08-27T05:35:19.936250Z",
     "start_time": "2022-08-27T05:35:19.910254Z"
    },
    "code_folding": []
   },
   "outputs": [],
   "source": [
    "class Sum(Expression):\n",
    "    def __init__(self, *exps):\n",
    "        self.exps=exps\n",
    "    def evaluate(self, **bindings):\n",
    "        return sum([exp.evaluate(**bindings) for exp in self.exps])\n",
    "    def expand(self):\n",
    "        return Sum(*[exp.expand() for exp in self.exps])\n",
    "    def display(self):\n",
    "        return \"Sum({})\".format(\",\".join([e.display() for e in self.exps]))\n",
    "    \n",
    "class Product(Expression):\n",
    "    def __init__(self, exp1, exp2):\n",
    "        self.exp1=exp1\n",
    "        self.exp2=exp2\n",
    "    def evaluate(self, **bindings):\n",
    "        return self.exp1.evaluate(**bindings) * self.exp2.evaluate(**bindings)\n",
    "    def expand(self):\n",
    "        expanded1=self.exp1.expand()\n",
    "        expanded2=self.exp2.expand()\n",
    "        if isinstance(expanded1, Sum):\n",
    "            return Sum(*[Product(e,expanded2).expand() for e in expanded1.exps])\n",
    "        elif isinstance(expanded2, Sum):\n",
    "            return Sum(*[Product(expanded1,e) for e in expanded2.exps])\n",
    "        else:\n",
    "            return Product(expanded1,expanded2)\n",
    "    def display(self):\n",
    "        return \"Product({},{})\".format(self.exp1.display(),self.exp2.display())\n",
    "        \n",
    "class Difference(Expression):\n",
    "    def __init__(self,exp1,exp2):\n",
    "        self.exp1=exp1\n",
    "        self.exp2=exp2\n",
    "    def evaluate(self, **bindings):\n",
    "        return self.exp1.evaluate(**bindings) - self.exp2.evaluate(**bindings)\n",
    "    def expand(self):\n",
    "        return self\n",
    "    def display(self):\n",
    "        return \"Difference({},{})\".format(self.exp1.display(), self.exp2.display())\n",
    "    \n",
    "class Quotient(Expression):\n",
    "    def __init__(self,numerator,denominator):\n",
    "        self.numerator=numerator\n",
    "        self.denominator=denominator\n",
    "    def evaluate(self, **bindings):\n",
    "        return self.numerator.evaluate(**bindings) / self.denominator.evaluate(**bindings)\n",
    "    def expand(self):\n",
    "        return self\n",
    "    def display(self):\n",
    "        return \"Quotient({},{})\".format(self.numerator.display(),self.denominator.display())\n",
    "    \n",
    "class Negative(Expression):\n",
    "    def __init__(self,exp):\n",
    "        self.exp=exp\n",
    "    def evaluate(self, **bindings):\n",
    "        return - self.exp.evaluate(**bindings)\n",
    "    def expand(self):\n",
    "        return self\n",
    "    def display(self):\n",
    "        return \"Negative({})\".format(self.exp.display())\n",
    "    \n",
    "class Number(Expression):\n",
    "    def __init__(self,number):\n",
    "        self.number=number\n",
    "    def evaluate(self, **bindings):\n",
    "        return self.number\n",
    "    def expand(self):\n",
    "        return self\n",
    "    def display(self):\n",
    "        return \"Number({})\".format(self.number)\n",
    "    \n",
    "class Power(Expression):\n",
    "    def __init__(self,base,exponent):\n",
    "        self.base=base\n",
    "        self.exponent=exponent\n",
    "    def evaluate(self, **bindings):\n",
    "        return self.base.evaluate(**bindings) ** self.exponent.evaluate(**bindings)\n",
    "    def expand(self):\n",
    "        return self\n",
    "    def display(self):\n",
    "        return \"Power({},{})\".format(self.base.display(),self.exponent.display())\n",
    "    \n",
    "class Variable(Expression):\n",
    "    def __init__(self,symbol):\n",
    "        self.symbol=symbol\n",
    "    def evaluate(self, **bindings):\n",
    "        return bindings[self.symbol]\n",
    "    def expand(self):\n",
    "        return self\n",
    "    def display(self):\n",
    "        return \"Variable(\\\"{}\\\")\".format(self.symbol)\n",
    "    \n",
    "class Function():\n",
    "    def __init__(self,name,make_latex=None):\n",
    "        self.name=name\n",
    "        self.make_latex=make_latex\n",
    "    def latex(self,arg_latex):\n",
    "        if self.make_latex:\n",
    "            return self.make_latex(arg_latex)\n",
    "        else:\n",
    "            return \" \\\\operatorname{{ {} }} \\\\left( {} \\\\right)\".format(self.name, arg_latex)\n",
    "  \n",
    "class Apply(Expression):\n",
    "    def __init__(self,function,argument):\n",
    "        self.function=function\n",
    "        self.argument=argument\n",
    "    def evaluate(self, **bindings):\n",
    "        return _function_bindings[self.function.name](self.argument.evaluate(**bindings))\n",
    "    def expand(self):\n",
    "        return Apply(self.function, self.argument.expand())\n",
    "    def display(self):\n",
    "        return \"Apply(Function(\\\"{}\\\"),{})\".format(self.function.name, self.argument.display())"
   ]
  },
  {
   "cell_type": "code",
   "execution_count": 52,
   "id": "4326cec0",
   "metadata": {
    "ExecuteTime": {
     "end_time": "2022-08-27T05:35:20.000289Z",
     "start_time": "2022-08-27T05:35:19.982259Z"
    }
   },
   "outputs": [
    {
     "data": {
      "text/plain": [
       "0.9092974268256817"
      ]
     },
     "execution_count": 52,
     "metadata": {},
     "output_type": "execute_result"
    }
   ],
   "source": [
    "Apply(Function('sin'),Variable('x')).evaluate(x=2)"
   ]
  },
  {
   "cell_type": "code",
   "execution_count": 53,
   "id": "4250fce6",
   "metadata": {
    "ExecuteTime": {
     "end_time": "2022-08-27T05:35:20.047483Z",
     "start_time": "2022-08-27T05:35:20.030318Z"
    }
   },
   "outputs": [],
   "source": [
    "# Apply(Function('tan'),Variable('x')).evaluate(x=2)"
   ]
  },
  {
   "cell_type": "code",
   "execution_count": 54,
   "id": "11a24104",
   "metadata": {
    "ExecuteTime": {
     "end_time": "2022-08-27T05:35:20.094542Z",
     "start_time": "2022-08-27T05:35:20.080993Z"
    }
   },
   "outputs": [
    {
     "data": {
      "text/plain": [
       "Product(Sum(Variable(\"a\"),Variable(\"b\")),Sum(Variable(\"y\"),Variable(\"z\")))"
      ]
     },
     "execution_count": 54,
     "metadata": {},
     "output_type": "execute_result"
    }
   ],
   "source": [
    "Y = Variable('y')\n",
    "Z = Variable('z')\n",
    "A = Variable('a')\n",
    "B = Variable('b')\n",
    "Product(Sum(A,B),Sum(Y,Z))"
   ]
  },
  {
   "cell_type": "code",
   "execution_count": 55,
   "id": "3afc5d2b",
   "metadata": {
    "ExecuteTime": {
     "end_time": "2022-08-27T05:35:20.142542Z",
     "start_time": "2022-08-27T05:35:20.132532Z"
    }
   },
   "outputs": [
    {
     "data": {
      "text/plain": [
       "Sum(Sum(Product(Variable(\"a\"),Variable(\"y\")),Product(Variable(\"a\"),Variable(\"z\"))),Sum(Product(Variable(\"b\"),Variable(\"y\")),Product(Variable(\"b\"),Variable(\"z\"))))"
      ]
     },
     "execution_count": 55,
     "metadata": {},
     "output_type": "execute_result"
    }
   ],
   "source": [
    "Product(Sum(A,B),Sum(Y,Z)).expand()"
   ]
  },
  {
   "cell_type": "code",
   "execution_count": 56,
   "id": "af0cd0c5",
   "metadata": {
    "ExecuteTime": {
     "end_time": "2022-08-27T05:35:20.190590Z",
     "start_time": "2022-08-27T05:35:20.182557Z"
    }
   },
   "outputs": [
    {
     "data": {
      "text/plain": [
       "Sum(Product(Product(Number(3),Power(Variable(\"x\"),Number(2))),Apply(Function(\"sin\"),Variable(\"x\"))),Product(Variable(\"x\"),Apply(Function(\"sin\"),Variable(\"x\"))))"
      ]
     },
     "execution_count": 56,
     "metadata": {},
     "output_type": "execute_result"
    }
   ],
   "source": [
    "f_expression=Product(\n",
    "    Sum(\n",
    "        Product(\n",
    "            Number(3),\n",
    "            Power(\n",
    "                Variable(\"x\"),\n",
    "                Number(2))),\n",
    "        Variable(\"x\")),\n",
    "    Apply(\n",
    "        Function(\"sin\"),\n",
    "        Variable(\"x\")))\n",
    "f_expression.expand()"
   ]
  },
  {
   "cell_type": "code",
   "execution_count": 57,
   "id": "ef5e1103",
   "metadata": {
    "ExecuteTime": {
     "end_time": "2022-08-27T05:35:20.238702Z",
     "start_time": "2022-08-27T05:35:20.232699Z"
    }
   },
   "outputs": [
    {
     "data": {
      "text/latex": [
       "$$x ^ { 2 } \\operatorname{ sin } \\left( y \\right)$$"
      ],
      "text/plain": [
       "Product(Power(Variable(\"x\"),Number(2)),Apply(Function(\"sin\"),Variable(\"y\")))"
      ]
     },
     "execution_count": 57,
     "metadata": {},
     "output_type": "execute_result"
    }
   ],
   "source": [
    "from expressions import *\n",
    "Product(Power(Variable(\"x\"),Number(2)),Apply(Function(\"sin\"),Variable(\"y\")))"
   ]
  },
  {
   "cell_type": "code",
   "execution_count": 58,
   "id": "d9d851b4",
   "metadata": {
    "ExecuteTime": {
     "end_time": "2022-08-27T05:35:20.301827Z",
     "start_time": "2022-08-27T05:35:20.282823Z"
    }
   },
   "outputs": [
    {
     "data": {
      "text/plain": [
       "'(x) ** (2)'"
      ]
     },
     "execution_count": 58,
     "metadata": {},
     "output_type": "execute_result"
    }
   ],
   "source": [
    "Power(Variable(\"x\"),Number(2))._python_expr()"
   ]
  },
  {
   "cell_type": "code",
   "execution_count": 59,
   "id": "1ac857c0",
   "metadata": {
    "ExecuteTime": {
     "end_time": "2022-08-27T05:35:20.348822Z",
     "start_time": "2022-08-27T05:35:20.332823Z"
    }
   },
   "outputs": [
    {
     "data": {
      "text/plain": [
       "9"
      ]
     },
     "execution_count": 59,
     "metadata": {},
     "output_type": "execute_result"
    }
   ],
   "source": [
    "Power(Variable(\"x\"),Number(2)).python_function(x=3)"
   ]
  },
  {
   "cell_type": "code",
   "execution_count": 60,
   "id": "9f999b56",
   "metadata": {
    "ExecuteTime": {
     "end_time": "2022-08-27T05:35:20.395902Z",
     "start_time": "2022-08-27T05:35:20.383869Z"
    }
   },
   "outputs": [],
   "source": [
    "def plot_function(f,tmin,tmax,tlabel=None,xlabel=None,axes=False, **kwargs):\n",
    "    ts = np.linspace(tmin,tmax,1000)\n",
    "    if tlabel:\n",
    "        plt.xlabel(tlabel,fontsize=18)\n",
    "    if xlabel:\n",
    "        plt.ylabel(xlabel,fontsize=18)\n",
    "    plt.plot(ts, [f(t) for t in ts], **kwargs)\n",
    "    if axes:\n",
    "        total_t = tmax-tmin\n",
    "        plt.plot([tmin-total_t/10,tmax+total_t/10],[0,0],c='k',linewidth=1)\n",
    "        plt.xlim(tmin-total_t/10,tmax+total_t/10)\n",
    "        xmin, xmax = plt.ylim()\n",
    "        plt.plot([0,0],[xmin,xmax],c='k',linewidth=1)\n",
    "        plt.ylim(xmin,xmax)"
   ]
  },
  {
   "cell_type": "code",
   "execution_count": 61,
   "id": "a2ae3f11",
   "metadata": {
    "ExecuteTime": {
     "end_time": "2022-08-27T05:35:20.619278Z",
     "start_time": "2022-08-27T05:35:20.440031Z"
    },
    "run_control": {
     "marked": true
    }
   },
   "outputs": [
    {
     "data": {
      "image/png": "[encoded data removed]",
      "text/plain": [
       "<Figure size 432x288 with 1 Axes>"
      ]
     },
     "metadata": {
      "needs_background": "light"
     },
     "output_type": "display_data"
    }
   ],
   "source": [
    "def p(x):\n",
    "    return x**5\n",
    "plot_function(lambda x:5*x**4,0,1,color='C1')\n",
    "\n",
    "\n",
    "def average_flow_rate(v,t1,t2):\n",
    "    return (v(t2)-v(t1))/(t2-t1)\n",
    "\n",
    "def interval_flow_rates(v,t1,t2,dt):\n",
    "    return [(t,average_flow_rate(v,t,t+dt)) for t in np.arange(t1,t2,dt)]\n",
    "\n",
    "def plot_interval_flow_rates(volume,t1,t2,dt):\n",
    "    series=interval_flow_rates(volume,t1,t2,dt)\n",
    "    times=[t for (t,_) in series]\n",
    "    rates=[q for (_,q) in series]\n",
    "    plt.plot(times,rates)\n",
    "    \n",
    "plot_interval_flow_rates(p,0,1,0.001)"
   ]
  },
  {
   "cell_type": "code",
   "execution_count": 62,
   "id": "bcc9a87e",
   "metadata": {
    "ExecuteTime": {
     "end_time": "2022-08-27T05:35:20.634810Z",
     "start_time": "2022-08-27T05:35:20.621278Z"
    }
   },
   "outputs": [],
   "source": [
    "class Expression(ABC):\n",
    "    @abstractmethod\n",
    "    def evaluate(self, **bindings):\n",
    "        pass\n",
    "    @abstractmethod\n",
    "    def expand(self):\n",
    "        pass\n",
    "    \n",
    "    # Printing expressions legibly in REPL (See first mini project in 2.4)\n",
    "    @abstractmethod\n",
    "    def display(self):\n",
    "        pass\n",
    "    def __repr__(self):\n",
    "        return self.display()\n",
    "    \n",
    "    @abstractmethod\n",
    "    def derivatetive(self,var):\n",
    "        pass"
   ]
  },
  {
   "cell_type": "code",
   "execution_count": 63,
   "id": "7d850b6b",
   "metadata": {
    "ExecuteTime": {
     "end_time": "2022-08-27T05:35:20.650809Z",
     "start_time": "2022-08-27T05:35:20.636810Z"
    }
   },
   "outputs": [],
   "source": [
    "class Number(Expression):\n",
    "    def __init__(self,number):\n",
    "        self.number=number\n",
    "    def evaluate(self, **bindings):\n",
    "        return self.number\n",
    "    def expand(self):\n",
    "        return self\n",
    "    def display(self):\n",
    "        return \"Number({})\".format(self.number)\n",
    "    def derivatetive(self,var):\n",
    "        return Number(0)"
   ]
  },
  {
   "cell_type": "code",
   "execution_count": 64,
   "id": "0056f939",
   "metadata": {
    "ExecuteTime": {
     "end_time": "2022-08-27T05:35:20.666811Z",
     "start_time": "2022-08-27T05:35:20.652811Z"
    }
   },
   "outputs": [],
   "source": [
    "class Variable(Expression):\n",
    "    def __init__(self,symbol):\n",
    "        self.symbol=symbol\n",
    "    def evaluate(self, **bindings):\n",
    "        return bindings[self.symbol]\n",
    "    def expand(self):\n",
    "        return self\n",
    "    def display(self):\n",
    "        return \"Variable(\\\"{}\\\")\".format(self.symbol)\n",
    "    def derivatetive(self,var):\n",
    "        if self.symbol==var.symbol:\n",
    "            return Number(1)\n",
    "        else:\n",
    "            return Number(0)"
   ]
  },
  {
   "cell_type": "code",
   "execution_count": 65,
   "id": "3eab2657",
   "metadata": {
    "ExecuteTime": {
     "end_time": "2022-08-27T05:35:20.697811Z",
     "start_time": "2022-08-27T05:35:20.680811Z"
    }
   },
   "outputs": [],
   "source": [
    "class Sum(Expression):\n",
    "    def __init__(self, *exps):\n",
    "        self.exps=exps\n",
    "    def evaluate(self, **bindings):\n",
    "        return sum([exp.evaluate(**bindings) for exp in self.exps])\n",
    "    def expand(self):\n",
    "        return Sum(*[exp.expand() for exp in self.exps])\n",
    "    def display(self):\n",
    "        return \"Sum({})\".format(\",\".join([e.display() for e in self.exps]))\n",
    "    def derivatetive(self,var):\n",
    "        return Sum(*[exp.derivatetive(var) for exp in self.exps])"
   ]
  },
  {
   "cell_type": "code",
   "execution_count": 66,
   "id": "e92a5d8c",
   "metadata": {
    "ExecuteTime": {
     "end_time": "2022-08-27T05:35:20.745364Z",
     "start_time": "2022-08-27T05:35:20.734360Z"
    }
   },
   "outputs": [
    {
     "data": {
      "text/plain": [
       "Sum(Number(1),Number(0),Number(0))"
      ]
     },
     "execution_count": 66,
     "metadata": {},
     "output_type": "execute_result"
    }
   ],
   "source": [
    "Sum(Variable(\"x\"),Variable(\"c\"),Number(1)).derivatetive(Variable(\"x\"))"
   ]
  },
  {
   "cell_type": "code",
   "execution_count": 67,
   "id": "87d89066",
   "metadata": {
    "ExecuteTime": {
     "end_time": "2022-08-27T05:35:20.809457Z",
     "start_time": "2022-08-27T05:35:20.788439Z"
    }
   },
   "outputs": [],
   "source": [
    "class Product(Expression):\n",
    "    def __init__(self, exp1, exp2):\n",
    "        self.exp1=exp1\n",
    "        self.exp2=exp2\n",
    "    def evaluate(self, **bindings):\n",
    "        return self.exp1.evaluate(**bindings) * self.exp2.evaluate(**bindings)\n",
    "    def expand(self):\n",
    "        expanded1=self.exp1.expand()\n",
    "        expanded2=self.exp2.expand()\n",
    "        if isinstance(expanded1, Sum):\n",
    "            return Sum(*[Product(e,expanded2).expand() for e in expanded1.exps])\n",
    "        elif isinstance(expanded2, Sum):\n",
    "            return Sum(*[Product(expanded1,e) for e in expanded2.exps])\n",
    "        else:\n",
    "            return Product(expanded1,expanded2)\n",
    "    def display(self):\n",
    "        return \"Product({},{})\".format(self.exp1.display(),self.exp2.display())\n",
    "    def derivatetive(self,var):\n",
    "        return Sum(Product(self.exp1.derivatetive(var),self.exp2),Product(self.exp1,self.exp2.derivatetive(var)))"
   ]
  },
  {
   "cell_type": "code",
   "execution_count": 68,
   "id": "b5a2cb2b",
   "metadata": {
    "ExecuteTime": {
     "end_time": "2022-08-27T05:35:20.857472Z",
     "start_time": "2022-08-27T05:35:20.843462Z"
    }
   },
   "outputs": [
    {
     "data": {
      "text/plain": [
       "Sum(Product(Number(0),Variable(\"x\")),Product(Variable(\"c\"),Number(1)))"
      ]
     },
     "execution_count": 68,
     "metadata": {},
     "output_type": "execute_result"
    }
   ],
   "source": [
    "Product(Variable(\"c\"),Variable(\"x\")).derivatetive(Variable(\"x\"))"
   ]
  },
  {
   "cell_type": "code",
   "execution_count": 69,
   "id": "2edf7aa1",
   "metadata": {
    "ExecuteTime": {
     "end_time": "2022-08-27T05:35:20.905490Z",
     "start_time": "2022-08-27T05:35:20.898487Z"
    },
    "run_control": {
     "marked": true
    }
   },
   "outputs": [],
   "source": [
    "_function_bindings={\n",
    "    \"sin\":math.sin,\n",
    "    \"cos\":math.cos,\n",
    "    \"ln\":math.log,\n",
    "    \"sqrt\":math.sqrt\n",
    "}\n",
    "\n",
    "_var=Variable('placeholder variable')\n",
    "\n",
    "_derivatives={\n",
    "    \"sin\":Apply(Function(\"cos\"),_var),\n",
    "    \"cos\":Product(Number(-1),Apply(Function(\"sin\"),_var)),\n",
    "    \"ln\":Quotient(Number(1),_var),\n",
    "    \"sqrt\":Quotient(Number(1),Product(Number(2),Apply(Function(\"sqrt\"),_var)))\n",
    "}\n",
    "\n",
    "class Apply(Expression):\n",
    "    def __init__(self,function,argument):\n",
    "        self.function=function\n",
    "        self.argument=argument\n",
    "    def evaluate(self, **bindings):\n",
    "        return _function_bindings[self.function.name](self.argument.evaluate(**bindings))\n",
    "    def expand(self):\n",
    "        return Apply(self.function, self.argument.expand())\n",
    "    def display(self):\n",
    "        return \"Apply(Function(\\\"{}\\\"),{})\".format(self.function.name, self.argument.display())\n",
    "    def derivatetive(self,var):\n",
    "        return Product(\n",
    "                                self.argument.derivatetive(var),\n",
    "                                _derivatives[self.function.name].substitute(_var,self.argument))"
   ]
  },
  {
   "cell_type": "code",
   "execution_count": 70,
   "id": "f3fe77b6",
   "metadata": {
    "ExecuteTime": {
     "end_time": "2022-08-27T05:35:20.968588Z",
     "start_time": "2022-08-27T05:35:20.958579Z"
    }
   },
   "outputs": [],
   "source": [
    "class Power(Expression):\n",
    "    def __init__(self,base,exponent):\n",
    "        self.base=base\n",
    "        self.exponent=exponent\n",
    "    def evaluate(self, **bindings):\n",
    "        return self.base.evaluate(**bindings) ** self.exponent.evaluate(**bindings)\n",
    "    def expand(self):\n",
    "        return self\n",
    "    def display(self):\n",
    "        return \"Power({},{})\".format(self.base.display(),self.exponent.display())\n",
    "    def derivative(self,var):\n",
    "        if isinstance(self.exponent,Number):\n",
    "            power_rule=Product(\n",
    "                Number(self.exponent.number),\n",
    "                Power(self.base,Number(self.exponent.number-1)))\n",
    "            return Product(self.base.derivative(var),power_rule)\n",
    "        elif isinstance(self.base,Number):\n",
    "            exponential_rule=Product(\n",
    "                Apply(Function(\"ln\"),\n",
    "                Number(self.base.number)),\n",
    "                self\n",
    "            )\n",
    "            return Product(self.exponent.derivative(var),exponential_rule)\n",
    "        else:\n",
    "            raise Exception(\n",
    "            \"can't take derivate of power {}\".format(\n",
    "            self.display()))"
   ]
  },
  {
   "cell_type": "code",
   "execution_count": 71,
   "id": "9751b4cb",
   "metadata": {
    "ExecuteTime": {
     "end_time": "2022-08-27T05:35:21.031590Z",
     "start_time": "2022-08-27T05:35:21.011584Z"
    },
    "run_control": {
     "marked": true
    }
   },
   "outputs": [
    {
     "data": {
      "text/latex": [
       "$$1\\cdot 2x ^ { 1 } \\operatorname{ cos } \\left( x ^ { 2 } \\right)$$"
      ],
      "text/plain": [
       "Product(Product(Number(1),Product(Number(2),Power(Variable(\"x\"),Number(1)))),Apply(Function(\"cos\"),Power(Variable(\"x\"),Number(2))))"
      ]
     },
     "execution_count": 71,
     "metadata": {},
     "output_type": "execute_result"
    }
   ],
   "source": [
    "from expressions import *\n",
    "Apply(Function(\"sin\"),Power(Variable(\"x\"),Number(2))).derivative(Variable(\"x\"))"
   ]
  },
  {
   "cell_type": "code",
   "execution_count": 73,
   "id": "8b9d0657",
   "metadata": {
    "ExecuteTime": {
     "end_time": "2022-08-27T05:42:18.470145Z",
     "start_time": "2022-08-27T05:42:18.455146Z"
    }
   },
   "outputs": [
    {
     "data": {
      "text/latex": [
       "$$1\\cdot 2x ^ { 1 } \\operatorname{ cos } \\left( x ^ { 2 } \\right)$$"
      ],
      "text/plain": [
       "Product(Product(Number(1),Product(Number(2),Power(Variable(\"x\"),Number(1)))),Apply(Function(\"cos\"),Power(Variable(\"x\"),Number(2))))"
      ]
     },
     "execution_count": 73,
     "metadata": {},
     "output_type": "execute_result"
    }
   ],
   "source": [
    "Apply(Function(\"sin\"),Power(Variable(\"x\"),Number(2))).derivative(x)"
   ]
  },
  {
   "cell_type": "code",
   "execution_count": 72,
   "id": "9e0de12c",
   "metadata": {
    "ExecuteTime": {
     "end_time": "2022-08-27T05:35:21.078170Z",
     "start_time": "2022-08-27T05:35:21.065161Z"
    }
   },
   "outputs": [],
   "source": [
    "class Product(Expression):\n",
    "    def __init__(self, exp1, exp2):\n",
    "        self.exp1=exp1\n",
    "        self.exp2=exp2\n",
    "    def evaluate(self, **bindings):\n",
    "        return self.exp1.evaluate(**bindings) * self.exp2.evaluate(**bindings)\n",
    "    def expand(self):\n",
    "        expanded1=self.exp1.expand()\n",
    "        expanded2=self.exp2.expand()\n",
    "        if isinstance(expanded1, Sum):\n",
    "            return Sum(*[Product(e,expanded2).expand() for e in expanded1.exps])\n",
    "        elif isinstance(expanded2, Sum):\n",
    "            return Sum(*[Product(expanded1,e) for e in expanded2.exps])\n",
    "        else:\n",
    "            return Product(expanded1,expanded2)\n",
    "    def display(self):\n",
    "        return \"Product({},{})\".format(self.exp1.display(),self.exp2.display())\n",
    "    def derivatetive(self,var):\n",
    "        if not contains(self.exp1,var):\n",
    "            return Product(self.exp1,self.exp2.derivatetive(var))\n",
    "        elif not contains(self.exp2,var):\n",
    "            return Product(self.exp1.derivatetive(var),self.exp2)\n",
    "        else:\n",
    "            return Sum(Product(self.exp1.derivatetive(var),self.exp2),Product(self.exp1,self.exp2.derivatetive(var)))"
   ]
  },
  {
   "cell_type": "code",
   "execution_count": 75,
   "id": "ca71536f",
   "metadata": {
    "ExecuteTime": {
     "end_time": "2022-08-27T05:59:21.578882Z",
     "start_time": "2022-08-27T05:59:21.575880Z"
    }
   },
   "outputs": [],
   "source": [
    "from sympy import *\n",
    "from sympy.core.core import *"
   ]
  },
  {
   "cell_type": "code",
   "execution_count": 76,
   "id": "5242224d",
   "metadata": {
    "ExecuteTime": {
     "end_time": "2022-08-27T05:59:46.206243Z",
     "start_time": "2022-08-27T05:59:45.977215Z"
    }
   },
   "outputs": [
    {
     "data": {
      "text/latex": [
       "$\\displaystyle y \\left(x + 3\\right)$"
      ],
      "text/plain": [
       "y*(x + 3)"
      ]
     },
     "execution_count": 76,
     "metadata": {},
     "output_type": "execute_result"
    }
   ],
   "source": [
    "Mul(Symbol('y'),Add(3,Symbol('x')))"
   ]
  },
  {
   "cell_type": "code",
   "execution_count": 77,
   "id": "5c8678a1",
   "metadata": {
    "ExecuteTime": {
     "end_time": "2022-08-27T06:01:41.978935Z",
     "start_time": "2022-08-27T06:01:41.965927Z"
    }
   },
   "outputs": [
    {
     "data": {
      "text/latex": [
       "$\\displaystyle y \\left(x + 3\\right)$"
      ],
      "text/plain": [
       "y*(x + 3)"
      ]
     },
     "execution_count": 77,
     "metadata": {},
     "output_type": "execute_result"
    }
   ],
   "source": [
    "y=Symbol('y')\n",
    "x=Symbol('x')\n",
    "y*(3+x)"
   ]
  },
  {
   "cell_type": "code",
   "execution_count": 93,
   "id": "5893e20a",
   "metadata": {
    "ExecuteTime": {
     "end_time": "2022-08-27T06:16:05.383002Z",
     "start_time": "2022-08-27T06:16:05.374000Z"
    }
   },
   "outputs": [
    {
     "data": {
      "text/latex": [
       "$\\displaystyle 4 y$"
      ],
      "text/plain": [
       "4*y"
      ]
     },
     "execution_count": 93,
     "metadata": {},
     "output_type": "execute_result"
    }
   ],
   "source": [
    "y*(3+x).subs(x,1)"
   ]
  },
  {
   "cell_type": "code",
   "execution_count": 94,
   "id": "e4c445d6",
   "metadata": {
    "ExecuteTime": {
     "end_time": "2022-08-27T06:16:21.928916Z",
     "start_time": "2022-08-27T06:16:21.916907Z"
    }
   },
   "outputs": [
    {
     "data": {
      "text/latex": [
       "$\\displaystyle 2 x$"
      ],
      "text/plain": [
       "2*x"
      ]
     },
     "execution_count": 94,
     "metadata": {},
     "output_type": "execute_result"
    }
   ],
   "source": [
    "(x**2).diff(x)"
   ]
  },
  {
   "cell_type": "code",
   "execution_count": 91,
   "id": "45de66dc",
   "metadata": {
    "ExecuteTime": {
     "end_time": "2022-08-27T06:12:26.316510Z",
     "start_time": "2022-08-27T06:12:26.296479Z"
    }
   },
   "outputs": [
    {
     "data": {
      "text/latex": [
       "$\\displaystyle x^{3}$"
      ],
      "text/plain": [
       "x**3"
      ]
     },
     "execution_count": 91,
     "metadata": {},
     "output_type": "execute_result"
    }
   ],
   "source": [
    "(3*x**2).integrate(x)"
   ]
  },
  {
   "cell_type": "code",
   "execution_count": 95,
   "id": "23e78cd6",
   "metadata": {
    "ExecuteTime": {
     "end_time": "2022-08-27T06:20:31.206535Z",
     "start_time": "2022-08-27T06:20:31.201554Z"
    }
   },
   "outputs": [
    {
     "data": {
      "text/latex": [
       "$\\displaystyle 0$"
      ],
      "text/plain": [
       "0"
      ]
     },
     "execution_count": 95,
     "metadata": {},
     "output_type": "execute_result"
    }
   ],
   "source": [
    "Integer(0).integrate(x)"
   ]
  },
  {
   "cell_type": "code",
   "execution_count": 97,
   "id": "4da6f482",
   "metadata": {
    "ExecuteTime": {
     "end_time": "2022-08-27T06:26:02.625133Z",
     "start_time": "2022-08-27T06:26:02.525128Z"
    }
   },
   "outputs": [
    {
     "data": {
      "text/latex": [
       "$\\displaystyle x \\sin{\\left(x \\right)} + \\cos{\\left(x \\right)}$"
      ],
      "text/plain": [
       "x*sin(x) + cos(x)"
      ]
     },
     "execution_count": 97,
     "metadata": {},
     "output_type": "execute_result"
    }
   ],
   "source": [
    "(x*cos(x)).integrate(x)"
   ]
  },
  {
   "cell_type": "code",
   "execution_count": 98,
   "id": "8f405559",
   "metadata": {
    "ExecuteTime": {
     "end_time": "2022-08-27T06:27:39.036850Z",
     "start_time": "2022-08-27T06:27:39.022847Z"
    }
   },
   "outputs": [
    {
     "data": {
      "text/latex": [
       "$\\displaystyle \\frac{x^{3}}{3}$"
      ],
      "text/plain": [
       "x**3/3"
      ]
     },
     "execution_count": 98,
     "metadata": {},
     "output_type": "execute_result"
    }
   ],
   "source": [
    "(x**2).integrate(x)"
   ]
  },
  {
   "cell_type": "code",
   "execution_count": null,
   "id": "3e38935d",
   "metadata": {},
   "outputs": [],
   "source": []
  }
 ],
 "metadata": {
  "hide_input": false,
  "kernelspec": {
   "display_name": "Python 3 (ipykernel)",
   "language": "python",
   "name": "python3"
  },
  "language_info": {
   "codemirror_mode": {
    "name": "ipython",
    "version": 3
   },
   "file_extension": ".py",
   "mimetype": "text/x-python",
   "name": "python",
   "nbconvert_exporter": "python",
   "pygments_lexer": "ipython3",
   "version": "3.9.12"
  },
  "nbTranslate": {
   "displayLangs": [
    "*"
   ],
   "hotkey": "alt-t",
   "langInMainMenu": true,
   "sourceLang": "en",
   "targetLang": "fr",
   "useGoogleTranslate": true
  },
  "toc": {
   "base_numbering": 1,
   "nav_menu": {},
   "number_sections": true,
   "sideBar": true,
   "skip_h1_title": false,
   "title_cell": "Table of Contents",
   "title_sidebar": "Contents",
   "toc_cell": false,
   "toc_position": {},
   "toc_section_display": true,
   "toc_window_display": false
  },
  "varInspector": {
   "cols": {
    "lenName": 16,
    "lenType": 16,
    "lenVar": 40
   },
   "kernels_config": {
    "python": {
     "delete_cmd_postfix": "",
     "delete_cmd_prefix": "del ",
     "library": "var_list.py",
     "varRefreshCmd": "print(var_dic_list())"
    },
    "r": {
     "delete_cmd_postfix": ") ",
     "delete_cmd_prefix": "rm(",
     "library": "var_list.r",
     "varRefreshCmd": "cat(var_dic_list()) "
    }
   },
   "types_to_exclude": [
    "module",
    "function",
    "builtin_function_or_method",
    "instance",
    "_Feature"
   ],
   "window_display": false
  }
 },
 "nbformat": 4,
 "nbformat_minor": 5
}
