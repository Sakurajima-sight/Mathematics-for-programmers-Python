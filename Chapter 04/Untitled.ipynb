{
 "cells": [
  {
   "cell_type": "code",
   "execution_count": 1,
   "id": "bcabb4ee",
   "metadata": {
    "ExecuteTime": {
     "end_time": "2022-08-16T12:33:13.030534Z",
     "start_time": "2022-08-16T12:33:12.077516Z"
    },
    "scrolled": true
   },
   "outputs": [
    {
     "name": "stdout",
     "output_type": "stream",
     "text": [
      "pygame 2.1.2 (SDL 2.0.18, Python 3.9.12)\n",
      "Hello from the pygame community. https://www.pygame.org/contribute.html\n"
     ]
    }
   ],
   "source": [
    "from vectors import scale\n",
    "from teapot import load_triangles\n",
    "from draw_model import draw_model\n",
    "from vectors import *\n",
    "from math import *\n",
    "from draw2d import *"
   ]
  },
  {
   "cell_type": "code",
   "execution_count": 2,
   "id": "241ce0f1",
   "metadata": {
    "ExecuteTime": {
     "end_time": "2022-08-16T12:33:13.036519Z",
     "start_time": "2022-08-16T12:33:13.031507Z"
    }
   },
   "outputs": [],
   "source": [
    "def transform(v):\n",
    "    old_x,old_y,old_z=v\n",
    "    # 此处做一些计算\n",
    "    return (new_x,new_y,new_z)"
   ]
  },
  {
   "cell_type": "code",
   "execution_count": 3,
   "id": "42277b2f",
   "metadata": {
    "ExecuteTime": {
     "end_time": "2022-08-16T12:33:13.041506Z",
     "start_time": "2022-08-16T12:33:13.037508Z"
    }
   },
   "outputs": [],
   "source": [
    "def scale2(v):\n",
    "    return scale(2.0,v)"
   ]
  },
  {
   "cell_type": "code",
   "execution_count": 4,
   "id": "440937be",
   "metadata": {
    "ExecuteTime": {
     "end_time": "2022-08-16T12:33:13.053506Z",
     "start_time": "2022-08-16T12:33:13.043510Z"
    }
   },
   "outputs": [],
   "source": [
    "original_triangles=load_triangles()\n",
    "scaled_triangles=[\n",
    "    [scale2(vertex) for vertex in triangle]\n",
    "    for triangle in original_triangles\n",
    "]"
   ]
  },
  {
   "cell_type": "code",
   "execution_count": 5,
   "id": "bf69024c",
   "metadata": {
    "ExecuteTime": {
     "end_time": "2022-08-16T12:33:13.057509Z",
     "start_time": "2022-08-16T12:33:13.054507Z"
    }
   },
   "outputs": [],
   "source": [
    "# draw_model(scaled_triangles)"
   ]
  },
  {
   "cell_type": "code",
   "execution_count": 6,
   "id": "f9bf812b",
   "metadata": {
    "ExecuteTime": {
     "end_time": "2022-08-16T12:33:13.063506Z",
     "start_time": "2022-08-16T12:33:13.058509Z"
    }
   },
   "outputs": [],
   "source": [
    "def translate1left(v):\n",
    "    return add((-1,0,0),v)"
   ]
  },
  {
   "cell_type": "code",
   "execution_count": 7,
   "id": "5c31405f",
   "metadata": {
    "ExecuteTime": {
     "end_time": "2022-08-16T12:33:13.074507Z",
     "start_time": "2022-08-16T12:33:13.065510Z"
    }
   },
   "outputs": [],
   "source": [
    "scaled_translated_triangles=[\n",
    "    [translate1left(scale2(vertex)) for vertex in triangle]\n",
    "    for triangle in original_triangles\n",
    "]\n",
    "# draw_model(scaled_translated_triangles)"
   ]
  },
  {
   "cell_type": "code",
   "execution_count": 8,
   "id": "87726a79",
   "metadata": {
    "ExecuteTime": {
     "end_time": "2022-08-16T12:33:13.081504Z",
     "start_time": "2022-08-16T12:33:13.077510Z"
    }
   },
   "outputs": [],
   "source": [
    "def scale2_then_translate1left(v):\n",
    "    return translate1left(scale2(v))"
   ]
  },
  {
   "cell_type": "code",
   "execution_count": 9,
   "id": "da875588",
   "metadata": {
    "ExecuteTime": {
     "end_time": "2022-08-16T12:33:13.087508Z",
     "start_time": "2022-08-16T12:33:13.082507Z"
    },
    "code_folding": []
   },
   "outputs": [],
   "source": [
    "def compose(f1,f2):\n",
    "    def new_function(input):\n",
    "        return f1(f2(input))\n",
    "    return new_function"
   ]
  },
  {
   "cell_type": "code",
   "execution_count": 10,
   "id": "627ed0c4",
   "metadata": {
    "ExecuteTime": {
     "end_time": "2022-08-16T12:33:13.092506Z",
     "start_time": "2022-08-16T12:33:13.088506Z"
    },
    "run_control": {
     "marked": true
    }
   },
   "outputs": [],
   "source": [
    "scale2_then_translate1left=compose(translate1left,scale2)"
   ]
  },
  {
   "cell_type": "code",
   "execution_count": 11,
   "id": "169630e2",
   "metadata": {
    "ExecuteTime": {
     "end_time": "2022-08-16T12:33:13.101513Z",
     "start_time": "2022-08-16T12:33:13.093512Z"
    }
   },
   "outputs": [],
   "source": [
    "test_compose=[\n",
    "    [scale2_then_translate1left(vertex) for vertex in triangle]\n",
    "    for triangle in original_triangles\n",
    "]"
   ]
  },
  {
   "cell_type": "code",
   "execution_count": 12,
   "id": "c23eeb51",
   "metadata": {
    "ExecuteTime": {
     "end_time": "2022-08-16T12:33:13.107507Z",
     "start_time": "2022-08-16T12:33:13.102510Z"
    }
   },
   "outputs": [],
   "source": [
    "# draw_model(test_compose)"
   ]
  },
  {
   "cell_type": "code",
   "execution_count": 13,
   "id": "db03f4c8",
   "metadata": {
    "ExecuteTime": {
     "end_time": "2022-08-16T12:33:13.111511Z",
     "start_time": "2022-08-16T12:33:13.108507Z"
    }
   },
   "outputs": [],
   "source": [
    "def polygon_map(transformation,polygons):\n",
    "    return [\n",
    "        [transformation(vertex) for vertex in triangle]\n",
    "        for triangle in polygons\n",
    "    ]"
   ]
  },
  {
   "cell_type": "code",
   "execution_count": 14,
   "id": "4c75fbdd",
   "metadata": {
    "ExecuteTime": {
     "end_time": "2022-08-16T12:33:13.128508Z",
     "start_time": "2022-08-16T12:33:13.112507Z"
    }
   },
   "outputs": [],
   "source": [
    "# draw_model(polygon_map(scale2,load_triangles()))"
   ]
  },
  {
   "cell_type": "code",
   "execution_count": 15,
   "id": "eab193ee",
   "metadata": {
    "ExecuteTime": {
     "end_time": "2022-08-16T12:33:13.144529Z",
     "start_time": "2022-08-16T12:33:13.129508Z"
    }
   },
   "outputs": [],
   "source": [
    "test_polygon_map=polygon_map(compose(translate1left,scale2),original_triangles)"
   ]
  },
  {
   "cell_type": "code",
   "execution_count": 16,
   "id": "62952ce3",
   "metadata": {
    "ExecuteTime": {
     "end_time": "2022-08-16T12:33:13.155533Z",
     "start_time": "2022-08-16T12:33:13.146511Z"
    }
   },
   "outputs": [],
   "source": [
    "# draw_model(test_polygon_map)"
   ]
  },
  {
   "cell_type": "code",
   "execution_count": 17,
   "id": "31039b40",
   "metadata": {
    "ExecuteTime": {
     "end_time": "2022-08-16T12:33:13.164504Z",
     "start_time": "2022-08-16T12:33:13.157509Z"
    }
   },
   "outputs": [],
   "source": [
    "def scale_by(scaler):\n",
    "    def new_function(v):\n",
    "        return scale(scaler,v)\n",
    "    return new_function"
   ]
  },
  {
   "cell_type": "code",
   "execution_count": 18,
   "id": "36f88936",
   "metadata": {
    "ExecuteTime": {
     "end_time": "2022-08-16T12:33:13.170507Z",
     "start_time": "2022-08-16T12:33:13.165506Z"
    }
   },
   "outputs": [],
   "source": [
    "def add_by(adder):\n",
    "    def new_function(v):\n",
    "        return add(adder,v)\n",
    "    return new_function"
   ]
  },
  {
   "cell_type": "code",
   "execution_count": 19,
   "id": "4c7df6f8",
   "metadata": {
    "ExecuteTime": {
     "end_time": "2022-08-16T12:33:13.176504Z",
     "start_time": "2022-08-16T12:33:13.172510Z"
    }
   },
   "outputs": [],
   "source": [
    "def translate_by(translation):\n",
    "    def new_function(v):\n",
    "        return add(translation,v)\n",
    "    return new_function"
   ]
  },
  {
   "cell_type": "code",
   "execution_count": 20,
   "id": "89221b5b",
   "metadata": {
    "ExecuteTime": {
     "end_time": "2022-08-16T12:33:13.181507Z",
     "start_time": "2022-08-16T12:33:13.177510Z"
    }
   },
   "outputs": [],
   "source": [
    "# draw_model(polygon_map(compose(addd_by((-1,0,0)),scale_by(2)),original_triangles))"
   ]
  },
  {
   "cell_type": "code",
   "execution_count": 21,
   "id": "a550677d",
   "metadata": {
    "ExecuteTime": {
     "end_time": "2022-08-16T12:33:13.185514Z",
     "start_time": "2022-08-16T12:33:13.182507Z"
    }
   },
   "outputs": [],
   "source": [
    "def rotate2d(angle,vector):\n",
    "    l,a=to_polar(vector)\n",
    "    return to_cartesian((1,a+angle))"
   ]
  },
  {
   "cell_type": "code",
   "execution_count": 22,
   "id": "09308062",
   "metadata": {
    "ExecuteTime": {
     "end_time": "2022-08-16T12:33:13.192505Z",
     "start_time": "2022-08-16T12:33:13.186509Z"
    }
   },
   "outputs": [],
   "source": [
    "def rotate_z(angle,vector):\n",
    "    x,y,z=vector\n",
    "    new_x,new_y=rotate2d(angle,(x,y))\n",
    "    return new_x,new_y,z"
   ]
  },
  {
   "cell_type": "code",
   "execution_count": 23,
   "id": "ef1757c1",
   "metadata": {
    "ExecuteTime": {
     "end_time": "2022-08-16T12:33:13.198504Z",
     "start_time": "2022-08-16T12:33:13.193506Z"
    }
   },
   "outputs": [],
   "source": [
    "def rotate_z_by(angle):\n",
    "    def new_function(v):\n",
    "        return rotate_z(angle,v)\n",
    "    return new_function"
   ]
  },
  {
   "cell_type": "code",
   "execution_count": 24,
   "id": "ea48281a",
   "metadata": {
    "ExecuteTime": {
     "end_time": "2022-08-16T12:33:13.203507Z",
     "start_time": "2022-08-16T12:33:13.199511Z"
    }
   },
   "outputs": [],
   "source": [
    "# draw_model(polygon_map(rotate_z_by(pi/4.),load_triangles()))"
   ]
  },
  {
   "cell_type": "code",
   "execution_count": 25,
   "id": "a239b937",
   "metadata": {
    "ExecuteTime": {
     "end_time": "2022-08-16T12:33:13.209507Z",
     "start_time": "2022-08-16T12:33:13.205510Z"
    }
   },
   "outputs": [],
   "source": [
    "def rotate_x(angle,vector):\n",
    "    x,y,z=vector\n",
    "    new_y,new_z=rotate2d(angle,(y,z))\n",
    "    return x,new_y,new_z\n",
    "def rotate_x_by(angle):\n",
    "    def new_function(v):\n",
    "        return rotate_x(angle,v)\n",
    "    return new_function"
   ]
  },
  {
   "cell_type": "code",
   "execution_count": 26,
   "id": "9b5b0d19",
   "metadata": {
    "ExecuteTime": {
     "end_time": "2022-08-16T12:33:13.213508Z",
     "start_time": "2022-08-16T12:33:13.210509Z"
    }
   },
   "outputs": [],
   "source": [
    "# draw_model(polygon_map(rotate_x_by(pi/2.),load_triangles()))"
   ]
  },
  {
   "cell_type": "code",
   "execution_count": 27,
   "id": "6342ce64",
   "metadata": {
    "ExecuteTime": {
     "end_time": "2022-08-16T12:33:13.220507Z",
     "start_time": "2022-08-16T12:33:13.214508Z"
    }
   },
   "outputs": [],
   "source": [
    "def strach_x(vector):\n",
    "    x,y,z=vector\n",
    "    return (4.*x,y,z)"
   ]
  },
  {
   "cell_type": "code",
   "execution_count": 28,
   "id": "5fb99ee3",
   "metadata": {
    "ExecuteTime": {
     "end_time": "2022-08-16T12:33:13.228504Z",
     "start_time": "2022-08-16T12:33:13.224509Z"
    }
   },
   "outputs": [],
   "source": [
    "# draw_model(polygon_map(strach_x,load_triangles()))"
   ]
  },
  {
   "cell_type": "code",
   "execution_count": 29,
   "id": "80de353b",
   "metadata": {
    "ExecuteTime": {
     "end_time": "2022-08-16T12:33:13.233508Z",
     "start_time": "2022-08-16T12:33:13.230507Z"
    }
   },
   "outputs": [],
   "source": [
    "# draw_model(polygon_map(strach_x,original_triangles))"
   ]
  },
  {
   "cell_type": "code",
   "execution_count": 30,
   "id": "baae86b2",
   "metadata": {
    "ExecuteTime": {
     "end_time": "2022-08-16T12:33:13.238506Z",
     "start_time": "2022-08-16T12:33:13.234508Z"
    }
   },
   "outputs": [],
   "source": [
    "def strach_y(vector):\n",
    "    x,y,z=vector\n",
    "    return (x,4.*y,z)"
   ]
  },
  {
   "cell_type": "code",
   "execution_count": 31,
   "id": "719fc7dc",
   "metadata": {
    "ExecuteTime": {
     "end_time": "2022-08-16T12:33:13.243510Z",
     "start_time": "2022-08-16T12:33:13.240507Z"
    }
   },
   "outputs": [],
   "source": [
    "# draw_model(polygon_map(strach_y,load_triangles()))"
   ]
  },
  {
   "cell_type": "code",
   "execution_count": 32,
   "id": "870ed900",
   "metadata": {
    "ExecuteTime": {
     "end_time": "2022-08-16T12:33:13.249504Z",
     "start_time": "2022-08-16T12:33:13.244507Z"
    }
   },
   "outputs": [],
   "source": [
    "def cube_strach_y(vector):\n",
    "    x,y,z=vector\n",
    "    return (x,y*y*y,z)"
   ]
  },
  {
   "cell_type": "code",
   "execution_count": 33,
   "id": "1c36fe29",
   "metadata": {
    "ExecuteTime": {
     "end_time": "2022-08-16T12:33:13.255505Z",
     "start_time": "2022-08-16T12:33:13.250508Z"
    }
   },
   "outputs": [],
   "source": [
    "# draw_model(polygon_map(cube_strach_y,load_triangles()))"
   ]
  },
  {
   "cell_type": "code",
   "execution_count": 34,
   "id": "8db4a17c",
   "metadata": {
    "ExecuteTime": {
     "end_time": "2022-08-16T12:33:13.259509Z",
     "start_time": "2022-08-16T12:33:13.256511Z"
    }
   },
   "outputs": [],
   "source": [
    "def slant_xy(vector):\n",
    "    x,y,z=vector\n",
    "    return (x+y,y,z)"
   ]
  },
  {
   "cell_type": "code",
   "execution_count": 35,
   "id": "83d673ff",
   "metadata": {
    "ExecuteTime": {
     "end_time": "2022-08-16T12:33:13.264508Z",
     "start_time": "2022-08-16T12:33:13.260508Z"
    }
   },
   "outputs": [],
   "source": [
    "# draw_model(polygon_map(slant_xy,load_triangles()))"
   ]
  },
  {
   "cell_type": "code",
   "execution_count": 36,
   "id": "f91a7426",
   "metadata": {
    "ExecuteTime": {
     "end_time": "2022-08-16T12:33:13.270504Z",
     "start_time": "2022-08-16T12:33:13.265511Z"
    }
   },
   "outputs": [],
   "source": [
    "def translate_by(translation):\n",
    "    def new_function(v):\n",
    "        return add(translation,v)\n",
    "    return new_function"
   ]
  },
  {
   "cell_type": "code",
   "execution_count": 37,
   "id": "3d825a3e",
   "metadata": {
    "ExecuteTime": {
     "end_time": "2022-08-16T12:33:13.274511Z",
     "start_time": "2022-08-16T12:33:13.271510Z"
    }
   },
   "outputs": [],
   "source": [
    "# draw_model(polygon_map(translate_by((0,0,-20)),original_triangles))"
   ]
  },
  {
   "cell_type": "code",
   "execution_count": 38,
   "id": "e0667d75",
   "metadata": {
    "ExecuteTime": {
     "end_time": "2022-08-16T12:33:13.280505Z",
     "start_time": "2022-08-16T12:33:13.275508Z"
    }
   },
   "outputs": [],
   "source": [
    "# draw_model(polygon_map(scale_by(0.5),original_triangles))"
   ]
  },
  {
   "cell_type": "code",
   "execution_count": 39,
   "id": "1f7ef843",
   "metadata": {
    "ExecuteTime": {
     "end_time": "2022-08-16T12:33:13.285507Z",
     "start_time": "2022-08-16T12:33:13.281507Z"
    }
   },
   "outputs": [],
   "source": [
    "# draw_model(polygon_map(scale_by(-1),original_triangles))"
   ]
  },
  {
   "cell_type": "code",
   "execution_count": 40,
   "id": "297ae6e5",
   "metadata": {
    "ExecuteTime": {
     "end_time": "2022-08-16T12:33:13.289508Z",
     "start_time": "2022-08-16T12:33:13.286508Z"
    }
   },
   "outputs": [],
   "source": [
    "# draw_model(polygon_map(compose(scale2,translate1left),load_triangles()))"
   ]
  },
  {
   "cell_type": "code",
   "execution_count": 41,
   "id": "23a735b9",
   "metadata": {
    "ExecuteTime": {
     "end_time": "2022-08-16T12:33:13.294507Z",
     "start_time": "2022-08-16T12:33:13.290509Z"
    }
   },
   "outputs": [],
   "source": [
    "# draw_model(polygon_map(compose(translate1left,scale2),load_triangles()))"
   ]
  },
  {
   "cell_type": "code",
   "execution_count": 42,
   "id": "4d573674",
   "metadata": {
    "ExecuteTime": {
     "end_time": "2022-08-16T12:33:13.299509Z",
     "start_time": "2022-08-16T12:33:13.295507Z"
    }
   },
   "outputs": [],
   "source": [
    "# draw_model(polygon_map(compose(scale_by(0.4),scale_by(1.5)),load_triangles()))"
   ]
  },
  {
   "cell_type": "code",
   "execution_count": 43,
   "id": "b6581224",
   "metadata": {
    "ExecuteTime": {
     "end_time": "2022-08-16T12:33:13.305507Z",
     "start_time": "2022-08-16T12:33:13.300508Z"
    }
   },
   "outputs": [],
   "source": [
    "def compose(*args):\n",
    "    def new_function(input):\n",
    "        state=input\n",
    "        for f in reversed(args):\n",
    "            state=f(state)\n",
    "        return state\n",
    "    return new_function"
   ]
  },
  {
   "cell_type": "code",
   "execution_count": 44,
   "id": "20a71543",
   "metadata": {
    "ExecuteTime": {
     "end_time": "2022-08-16T12:33:13.311504Z",
     "start_time": "2022-08-16T12:33:13.306508Z"
    }
   },
   "outputs": [
    {
     "name": "stdout",
     "output_type": "stream",
     "text": [
      "Python\n"
     ]
    }
   ],
   "source": [
    "def prepend(string):\n",
    "    def new_function(input):\n",
    "        return string+input\n",
    "    return new_function\n",
    "f=compose(prepend('P'),prepend('y'),prepend('t'))\n",
    "print(f('hon'))"
   ]
  },
  {
   "cell_type": "code",
   "execution_count": 45,
   "id": "d584ae6f",
   "metadata": {
    "ExecuteTime": {
     "end_time": "2022-08-16T12:33:13.317509Z",
     "start_time": "2022-08-16T12:33:13.314509Z"
    }
   },
   "outputs": [],
   "source": [
    "def curry2(f):\n",
    "    def g(x):\n",
    "        def new_function(y):\n",
    "            return f(x,y)\n",
    "        return new_function\n",
    "    return g"
   ]
  },
  {
   "cell_type": "code",
   "execution_count": 46,
   "id": "265e0430",
   "metadata": {
    "ExecuteTime": {
     "end_time": "2022-08-16T12:33:13.324508Z",
     "start_time": "2022-08-16T12:33:13.319511Z"
    }
   },
   "outputs": [
    {
     "data": {
      "text/plain": [
       "(2, 4, 6)"
      ]
     },
     "execution_count": 46,
     "metadata": {},
     "output_type": "execute_result"
    }
   ],
   "source": [
    "scale_by=curry2(scale)\n",
    "scale_by(2)((1,2,3))"
   ]
  },
  {
   "cell_type": "code",
   "execution_count": 47,
   "id": "aa675b5e",
   "metadata": {
    "ExecuteTime": {
     "end_time": "2022-08-16T12:33:13.330505Z",
     "start_time": "2022-08-16T12:33:13.326511Z"
    }
   },
   "outputs": [],
   "source": [
    "# draw_model(polygon_map(compose(rotate_z_by(pi/2.),rotate_x_by(pi/2.)),load_triangles()))"
   ]
  },
  {
   "cell_type": "code",
   "execution_count": 48,
   "id": "4693f1a1",
   "metadata": {
    "ExecuteTime": {
     "end_time": "2022-08-16T12:33:13.355522Z",
     "start_time": "2022-08-16T12:33:13.351508Z"
    }
   },
   "outputs": [],
   "source": [
    "def rotate_y(angle,vector):\n",
    "    x,y,z=vector\n",
    "    new_x,new_z=rotate2d(angle,(x,z))\n",
    "    return new_x,y,new_z\n",
    "def rotate_y_by(angle):\n",
    "    def new_function(v):\n",
    "        return rotate_y(angle,v)\n",
    "    return new_function"
   ]
  },
  {
   "cell_type": "code",
   "execution_count": 49,
   "id": "6d0e1368",
   "metadata": {
    "ExecuteTime": {
     "end_time": "2022-08-16T12:33:13.385523Z",
     "start_time": "2022-08-16T12:33:13.381511Z"
    }
   },
   "outputs": [],
   "source": [
    "# draw_model(polygon_map(rotate_y_by(pi/2.),load_triangles()))"
   ]
  },
  {
   "cell_type": "code",
   "execution_count": 50,
   "id": "8df95c5e",
   "metadata": {
    "ExecuteTime": {
     "end_time": "2022-08-16T12:33:13.412521Z",
     "start_time": "2022-08-16T12:33:13.409508Z"
    },
    "run_control": {
     "marked": true
    }
   },
   "outputs": [],
   "source": [
    "# draw_model(polygon_map(compose(rotate_z_by(pi/2.),rotate_x_by(pi/2.)),load_triangles()))"
   ]
  },
  {
   "cell_type": "code",
   "execution_count": 51,
   "id": "490bf2bd",
   "metadata": {
    "ExecuteTime": {
     "end_time": "2022-08-16T12:33:13.439547Z",
     "start_time": "2022-08-16T12:33:13.437515Z"
    }
   },
   "outputs": [],
   "source": [
    "# draw_model(polygon_map(rotate_y_by(-pi/2.),load_triangles()))"
   ]
  },
  {
   "cell_type": "code",
   "execution_count": 52,
   "id": "b6e737aa",
   "metadata": {
    "ExecuteTime": {
     "end_time": "2022-08-16T12:33:13.468519Z",
     "start_time": "2022-08-16T12:33:13.464517Z"
    }
   },
   "outputs": [],
   "source": [
    "# draw_model(polygon_map(compose(rotate_x_by(pi/2.),rotate_z_by(pi/2.)),load_triangles()))"
   ]
  },
  {
   "cell_type": "code",
   "execution_count": 53,
   "id": "7ddca684",
   "metadata": {
    "ExecuteTime": {
     "end_time": "2022-08-16T12:33:13.499527Z",
     "start_time": "2022-08-16T12:33:13.495518Z"
    }
   },
   "outputs": [],
   "source": [
    "def strech_x(scaler,vector):\n",
    "    x,y,z=vector\n",
    "    return (scaler*x,y,z)\n",
    "\n",
    "def strech_x_by(scaler):\n",
    "    def new_function(vector):\n",
    "        return strech_x(scaler,vector)\n",
    "    return new_function"
   ]
  },
  {
   "cell_type": "code",
   "execution_count": 54,
   "id": "c3f69721",
   "metadata": {
    "ExecuteTime": {
     "end_time": "2022-08-16T12:33:13.528517Z",
     "start_time": "2022-08-16T12:33:13.523506Z"
    }
   },
   "outputs": [
    {
     "data": {
      "text/plain": [
       "(2, 2, 3)"
      ]
     },
     "execution_count": 54,
     "metadata": {},
     "output_type": "execute_result"
    }
   ],
   "source": [
    "strech_x(2,(1,2,3))"
   ]
  },
  {
   "cell_type": "code",
   "execution_count": 55,
   "id": "96997e3b",
   "metadata": {
    "ExecuteTime": {
     "end_time": "2022-08-16T12:33:13.556523Z",
     "start_time": "2022-08-16T12:33:13.551525Z"
    }
   },
   "outputs": [
    {
     "data": {
      "text/plain": [
       "(2, 2, 3)"
      ]
     },
     "execution_count": 55,
     "metadata": {},
     "output_type": "execute_result"
    }
   ],
   "source": [
    "strech_x_by(2)((1,2,3))"
   ]
  },
  {
   "cell_type": "code",
   "execution_count": 56,
   "id": "beec314e",
   "metadata": {
    "ExecuteTime": {
     "end_time": "2022-08-16T12:33:13.587526Z",
     "start_time": "2022-08-16T12:33:13.582529Z"
    }
   },
   "outputs": [],
   "source": [
    "Ae1=(1,1,1)\n",
    "Ae2=(1,0,-1)\n",
    "Ae3=(0,1,1)\n",
    "\n",
    "def apply_A(v):\n",
    "    return add(\n",
    "        scale(v[0],Ae1),\n",
    "        scale(v[1],Ae2),\n",
    "        scale(v[2],Ae3),\n",
    "    )\n",
    "\n",
    "# draw_model(polygon_map(apply_A,load_triangles()))"
   ]
  },
  {
   "cell_type": "code",
   "execution_count": 57,
   "id": "4a174432",
   "metadata": {
    "ExecuteTime": {
     "end_time": "2022-08-16T12:33:13.731526Z",
     "start_time": "2022-08-16T12:33:13.613537Z"
    }
   },
   "outputs": [
    {
     "data": {
      "image/png": "[encoded data removed]",
      "text/plain": [
       "<Figure size 432x240 with 1 Axes>"
      ]
     },
     "metadata": {
      "needs_background": "light"
     },
     "output_type": "display_data"
    }
   ],
   "source": [
    "u=(5,3)\n",
    "v=(-2,1)\n",
    "u_v_half=add(scale(0.5,u),scale(0.5,v))\n",
    "draw2d(\n",
    "    Arrow2D(v),\n",
    "    Arrow2D(u),\n",
    "    Arrow2D(u_v_half),\n",
    "    Segment2D(u,v,color=blue)\n",
    ")"
   ]
  },
  {
   "cell_type": "code",
   "execution_count": 58,
   "id": "58258abe",
   "metadata": {
    "ExecuteTime": {
     "end_time": "2022-08-16T12:33:13.988509Z",
     "start_time": "2022-08-16T12:33:13.733510Z"
    }
   },
   "outputs": [
    {
     "data": {
      "image/png": "[encoded data removed]",
      "text/plain": [
       "<Figure size 432x432 with 1 Axes>"
      ]
     },
     "metadata": {
      "needs_background": "light"
     },
     "output_type": "display_data"
    }
   ],
   "source": [
    "v_all=[Points2D((x,y)) for x in range(6) for y in range(6)]\n",
    "draw2d(\n",
    "    *v_all\n",
    ")"
   ]
  },
  {
   "cell_type": "code",
   "execution_count": 59,
   "id": "b54bea41",
   "metadata": {
    "ExecuteTime": {
     "end_time": "2022-08-16T12:33:14.439533Z",
     "start_time": "2022-08-16T12:33:13.989508Z"
    }
   },
   "outputs": [
    {
     "data": {
      "image/png": "[encoded data removed]",
      "text/plain": [
       "<Figure size 432x432 with 1 Axes>"
      ]
     },
     "metadata": {
      "needs_background": "light"
     },
     "output_type": "display_data"
    }
   ],
   "source": [
    "v_S_all=[Points2D((x**2,y**2)) for x in range(6) for y in range(6)]\n",
    "draw2d(\n",
    "    *v_S_all\n",
    ")"
   ]
  },
  {
   "cell_type": "code",
   "execution_count": 60,
   "id": "e546b129",
   "metadata": {
    "ExecuteTime": {
     "end_time": "2022-08-16T12:33:14.445522Z",
     "start_time": "2022-08-16T12:33:14.441511Z"
    }
   },
   "outputs": [],
   "source": [
    "def linear_combination(scalers,*vectors):\n",
    "    scaled=[scale(s,v) for s,v in zip(scalers,vectors)]\n",
    "    return add(*scaled)"
   ]
  },
  {
   "cell_type": "code",
   "execution_count": 61,
   "id": "bdd0f09a",
   "metadata": {
    "ExecuteTime": {
     "end_time": "2022-08-16T12:33:14.452510Z",
     "start_time": "2022-08-16T12:33:14.446510Z"
    }
   },
   "outputs": [
    {
     "data": {
      "text/plain": [
       "(1, 2, 3)"
      ]
     },
     "execution_count": 61,
     "metadata": {},
     "output_type": "execute_result"
    }
   ],
   "source": [
    "linear_combination([1,2,3],(1,0,0),(0,1,0),(0,0,1))"
   ]
  },
  {
   "cell_type": "code",
   "execution_count": 62,
   "id": "90447665",
   "metadata": {
    "ExecuteTime": {
     "end_time": "2022-08-16T12:33:14.457509Z",
     "start_time": "2022-08-16T12:33:14.453510Z"
    }
   },
   "outputs": [],
   "source": [
    "def transform_standard_basis(transform):\n",
    "    return transform((1,0,0)),transform((0,1,0)),transform((0,0,1))"
   ]
  },
  {
   "cell_type": "code",
   "execution_count": 63,
   "id": "98a8b778",
   "metadata": {
    "ExecuteTime": {
     "end_time": "2022-08-16T12:33:14.464507Z",
     "start_time": "2022-08-16T12:33:14.458510Z"
    }
   },
   "outputs": [
    {
     "data": {
      "text/plain": [
       "((1, 6.123233995736766e-17, 1.0),\n",
       " (0, 6.123233995736766e-17, 1.0),\n",
       " (0, -1.0, 1.2246467991473532e-16))"
      ]
     },
     "execution_count": 63,
     "metadata": {},
     "output_type": "execute_result"
    }
   ],
   "source": [
    "transform_standard_basis(rotate_x_by(pi/2))"
   ]
  },
  {
   "cell_type": "code",
   "execution_count": 65,
   "id": "619e6b49",
   "metadata": {
    "ExecuteTime": {
     "end_time": "2022-08-16T12:57:32.369912Z",
     "start_time": "2022-08-16T12:57:32.364910Z"
    }
   },
   "outputs": [
    {
     "data": {
      "text/plain": [
       "(0, 1, -3)"
      ]
     },
     "execution_count": 65,
     "metadata": {},
     "output_type": "execute_result"
    }
   ],
   "source": [
    "linear_combination([-1,1,2],(0,0,1),(2,1,0),(-1,0,-1))"
   ]
  },
  {
   "cell_type": "code",
   "execution_count": 66,
   "id": "23d4948e",
   "metadata": {
    "ExecuteTime": {
     "end_time": "2022-08-16T12:58:26.409631Z",
     "start_time": "2022-08-16T12:58:26.403629Z"
    }
   },
   "outputs": [
    {
     "data": {
      "text/plain": [
       "(0, 1, 1)"
      ]
     },
     "execution_count": 66,
     "metadata": {},
     "output_type": "execute_result"
    }
   ],
   "source": [
    "linear_combination([0,0,1],(1,1,1),(1,0,-1),(0,1,1))"
   ]
  },
  {
   "cell_type": "code",
   "execution_count": 67,
   "id": "cce18866",
   "metadata": {
    "ExecuteTime": {
     "end_time": "2022-08-16T12:59:11.828985Z",
     "start_time": "2022-08-16T12:59:11.823001Z"
    }
   },
   "outputs": [
    {
     "data": {
      "text/plain": [
       "(3, 2, 1)"
      ]
     },
     "execution_count": 67,
     "metadata": {},
     "output_type": "execute_result"
    }
   ],
   "source": [
    "linear_combination([2,1,0],(1,1,1),(1,0,-1),(0,1,1))"
   ]
  },
  {
   "cell_type": "code",
   "execution_count": 68,
   "id": "4078467c",
   "metadata": {
    "ExecuteTime": {
     "end_time": "2022-08-16T12:59:52.773217Z",
     "start_time": "2022-08-16T12:59:52.767216Z"
    }
   },
   "outputs": [
    {
     "data": {
      "text/plain": [
       "(-1, -2, -2)"
      ]
     },
     "execution_count": 68,
     "metadata": {},
     "output_type": "execute_result"
    }
   ],
   "source": [
    "linear_combination([-1,0,-1],(1,1,1),(1,0,-1),(0,1,1))"
   ]
  },
  {
   "cell_type": "code",
   "execution_count": null,
   "id": "99e03a88",
   "metadata": {},
   "outputs": [],
   "source": []
  }
 ],
 "metadata": {
  "hide_input": false,
  "kernelspec": {
   "display_name": "Python 3 (ipykernel)",
   "language": "python",
   "name": "python3"
  },
  "language_info": {
   "codemirror_mode": {
    "name": "ipython",
    "version": 3
   },
   "file_extension": ".py",
   "mimetype": "text/x-python",
   "name": "python",
   "nbconvert_exporter": "python",
   "pygments_lexer": "ipython3",
   "version": "3.9.12"
  },
  "nbTranslate": {
   "displayLangs": [
    "*"
   ],
   "hotkey": "alt-t",
   "langInMainMenu": true,
   "sourceLang": "en",
   "targetLang": "fr",
   "useGoogleTranslate": true
  },
  "toc": {
   "base_numbering": 1,
   "nav_menu": {},
   "number_sections": true,
   "sideBar": true,
   "skip_h1_title": false,
   "title_cell": "Table of Contents",
   "title_sidebar": "Contents",
   "toc_cell": false,
   "toc_position": {},
   "toc_section_display": true,
   "toc_window_display": false
  },
  "varInspector": {
   "cols": {
    "lenName": 16,
    "lenType": 16,
    "lenVar": 40
   },
   "kernels_config": {
    "python": {
     "delete_cmd_postfix": "",
     "delete_cmd_prefix": "del ",
     "library": "var_list.py",
     "varRefreshCmd": "print(var_dic_list())"
    },
    "r": {
     "delete_cmd_postfix": ") ",
     "delete_cmd_prefix": "rm(",
     "library": "var_list.r",
     "varRefreshCmd": "cat(var_dic_list()) "
    }
   },
   "types_to_exclude": [
    "module",
    "function",
    "builtin_function_or_method",
    "instance",
    "_Feature"
   ],
   "window_display": false
  }
 },
 "nbformat": 4,
 "nbformat_minor": 5
}
