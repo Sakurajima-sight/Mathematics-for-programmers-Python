{
 "cells": [
  {
   "cell_type": "code",
   "execution_count": 35,
   "id": "e4680f5b",
   "metadata": {
    "ExecuteTime": {
     "end_time": "2022-08-23T13:46:57.026093Z",
     "start_time": "2022-08-23T13:46:57.022108Z"
    }
   },
   "outputs": [],
   "source": [
    "from random import *\n",
    "import vectors\n",
    "from math import *\n",
    "import pygame\n",
    "import numpy as np\n",
    "from vectors import *\n",
    "from asteroids import PolygonModel\n",
    "from draw2d import *"
   ]
  },
  {
   "cell_type": "code",
   "execution_count": 2,
   "id": "8af90551",
   "metadata": {
    "ExecuteTime": {
     "end_time": "2022-08-23T09:09:32.453156Z",
     "start_time": "2022-08-23T09:09:32.439138Z"
    }
   },
   "outputs": [],
   "source": [
    "class PolygonModel():\n",
    "    def __init__(self,points):\n",
    "        self.points=points\n",
    "        self.rotation_angle=0\n",
    "        self.x=0\n",
    "        self.y=0\n",
    "    def transformed(self):\n",
    "        rotated = [vectors.rotate2d(self.rotation_angle, v) for v in self.points]\n",
    "        return [vectors.add((self.x,self.y),v) for v in rotated]\n",
    "    def does_intersect(self,segment):\n",
    "        pass"
   ]
  },
  {
   "cell_type": "code",
   "execution_count": 3,
   "id": "4c0816f4",
   "metadata": {
    "ExecuteTime": {
     "end_time": "2022-08-23T09:09:32.469165Z",
     "start_time": "2022-08-23T09:09:32.455146Z"
    }
   },
   "outputs": [],
   "source": [
    "class Ship(PolygonModel):\n",
    "    def __init__(self):\n",
    "        super().__init__([(0.5,0),(-0.25,0.25),(-0.25,-0.25)])"
   ]
  },
  {
   "cell_type": "code",
   "execution_count": 4,
   "id": "a6ffe503",
   "metadata": {
    "ExecuteTime": {
     "end_time": "2022-08-23T09:09:32.485149Z",
     "start_time": "2022-08-23T09:09:32.471144Z"
    }
   },
   "outputs": [],
   "source": [
    "class Asteroids(PolygonModel):\n",
    "    def __init__(self):\n",
    "        sides=randint(5,9)\n",
    "        vs=[vectors.to_cartesian((uniform(0.5,1.0),2*pi*i/sides))for i in range(0,sides)]\n",
    "        super().__init__(vs)"
   ]
  },
  {
   "cell_type": "code",
   "execution_count": 5,
   "id": "ea6463cf",
   "metadata": {
    "ExecuteTime": {
     "end_time": "2022-08-23T09:09:32.500139Z",
     "start_time": "2022-08-23T09:09:32.487149Z"
    }
   },
   "outputs": [],
   "source": [
    "ship=Ship()\n",
    "asteroid_count=10\n",
    "asteroids=[Asteroids() for _ in range(0,asteroid_count)]\n",
    "\n",
    "for ast in asteroids:\n",
    "    ast.x=randint(-9,9)\n",
    "    ast.y=randint(-9,9)    "
   ]
  },
  {
   "cell_type": "code",
   "execution_count": 6,
   "id": "3bddb4b3",
   "metadata": {
    "ExecuteTime": {
     "end_time": "2022-08-23T09:09:32.515151Z",
     "start_time": "2022-08-23T09:09:32.501131Z"
    }
   },
   "outputs": [],
   "source": [
    "width,height=400,400\n",
    "def to_pixels(x,y):\n",
    "    return (width/2+width*x/20,height/2-height*y/20)"
   ]
  },
  {
   "cell_type": "code",
   "execution_count": 7,
   "id": "e4df79f3",
   "metadata": {
    "ExecuteTime": {
     "end_time": "2022-08-23T09:09:32.530150Z",
     "start_time": "2022-08-23T09:09:32.517132Z"
    }
   },
   "outputs": [],
   "source": [
    "GREEN=(0,255,0)\n",
    "def draw_poly(screen,polygon_model,color=GREEN):\n",
    "    pixel_points=[to_pixels(x,y) for x,y in polygon_model.transformed()]\n",
    "    pygame.draw.aalines(screen,color,True,pixel_points,10)"
   ]
  },
  {
   "cell_type": "code",
   "execution_count": 8,
   "id": "ec26fc6c",
   "metadata": {
    "ExecuteTime": {
     "end_time": "2022-08-23T09:09:32.546135Z",
     "start_time": "2022-08-23T09:09:32.532142Z"
    }
   },
   "outputs": [],
   "source": [
    "class Ship(PolygonModel):\n",
    "    def __init__(self):\n",
    "        super().__init__([(0.5,0),(-0.25,0.25),(-0.25,-0.25)])\n",
    "    def laser_segment(self):\n",
    "        dist=20.*sqrt(2)\n",
    "        x,y=self.transformed()[0]\n",
    "        return ((x,y),\n",
    "               (x+dist*cos(self.rotation_angle),\n",
    "               y+dist*sin(self.rotation_angle)))"
   ]
  },
  {
   "cell_type": "code",
   "execution_count": 9,
   "id": "6b2f6418",
   "metadata": {
    "ExecuteTime": {
     "end_time": "2022-08-23T09:09:32.561160Z",
     "start_time": "2022-08-23T09:09:32.548143Z"
    }
   },
   "outputs": [],
   "source": [
    "RED=(255,0,0)\n",
    "def draw_segment(screen, v1,v2,color=RED):\n",
    "    pygame.draw.aaline(screen,color,to_pixels(*v1), to_pixels(*v2),10)"
   ]
  },
  {
   "cell_type": "code",
   "execution_count": 10,
   "id": "2e96c630",
   "metadata": {
    "ExecuteTime": {
     "end_time": "2022-08-23T09:09:32.577158Z",
     "start_time": "2022-08-23T09:09:32.564142Z"
    }
   },
   "outputs": [],
   "source": [
    "# ship=Ship()\n",
    "# asteroid_count=10\n",
    "# asteroids=[Asteroids() for _ in range(0,asteroid_count)]\n",
    "\n",
    "# for ast in asteroids:\n",
    "#     ast.x=randint(-9,9)\n",
    "#     ast.y=randint(-9,9)    \n",
    "\n",
    "# laser=ship.laser_segment()\n",
    "# keys=pygame.key.get_pressed()\n",
    "# if keys[pygame.K_SPACE]:\n",
    "#     draw_segment(*laser)\n",
    "# for asteroid in asteroids:\n",
    "#     if asteroid.does_intersect(segment):\n",
    "#         asteroids.remove(asteroid)"
   ]
  },
  {
   "cell_type": "code",
   "execution_count": 11,
   "id": "51460134",
   "metadata": {
    "ExecuteTime": {
     "end_time": "2022-08-23T09:09:32.592135Z",
     "start_time": "2022-08-23T09:09:32.579133Z"
    }
   },
   "outputs": [],
   "source": [
    "matrix=np.array(((-1,1),(1,2)))\n",
    "output=np.array((0,8))"
   ]
  },
  {
   "cell_type": "code",
   "execution_count": 12,
   "id": "844c4da2",
   "metadata": {
    "ExecuteTime": {
     "end_time": "2022-08-23T09:09:32.608155Z",
     "start_time": "2022-08-23T09:09:32.593136Z"
    }
   },
   "outputs": [
    {
     "data": {
      "text/plain": [
       "array([2.66666667, 2.66666667])"
      ]
     },
     "execution_count": 12,
     "metadata": {},
     "output_type": "execute_result"
    }
   ],
   "source": [
    "np.linalg.solve(matrix,output)"
   ]
  },
  {
   "cell_type": "code",
   "execution_count": 13,
   "id": "c92eb2fc",
   "metadata": {
    "ExecuteTime": {
     "end_time": "2022-08-23T09:09:32.624137Z",
     "start_time": "2022-08-23T09:09:32.610144Z"
    }
   },
   "outputs": [],
   "source": [
    "def standard_form(v1,v2):\n",
    "    x1,y1=v1\n",
    "    x2,y2=v2    \n",
    "    a=y2-y1\n",
    "    b=x1-x2\n",
    "    c=x1*y2-x2*y1\n",
    "    return a,b,c"
   ]
  },
  {
   "cell_type": "code",
   "execution_count": 14,
   "id": "704d3e11",
   "metadata": {
    "ExecuteTime": {
     "end_time": "2022-08-23T09:09:32.639150Z",
     "start_time": "2022-08-23T09:09:32.626147Z"
    }
   },
   "outputs": [],
   "source": [
    "def intersection(u1,u2,v1,v2):\n",
    "    a1,b1,c1=standard_form(u1,u2)\n",
    "    a2,b2,c2=standard_form(v1,v2)    \n",
    "    m=np.array(((a1,b1),(a2,b2)))\n",
    "    c=np.array((c1,c2))\n",
    "    return np.linalg.solve(m,c)"
   ]
  },
  {
   "cell_type": "code",
   "execution_count": 15,
   "id": "cd57c43c",
   "metadata": {
    "ExecuteTime": {
     "end_time": "2022-08-23T09:09:32.655160Z",
     "start_time": "2022-08-23T09:09:32.641142Z"
    }
   },
   "outputs": [],
   "source": [
    "def do_segments_intersect(s1,s2):\n",
    "    u1,u2=s1\n",
    "    v1,v2=s2\n",
    "    d1,d2=distance(*s1),distance(*s2)\n",
    "    x,y=intersection(u1,u2,v1,v2)\n",
    "    return (distance(u1,(x,y))<=d1 and\n",
    "               distance(u2,(x,y))<=d1 and\n",
    "               distance(v1,(x,y))<=d2 and\n",
    "               distance(v2,(x,y))<=d2)"
   ]
  },
  {
   "cell_type": "code",
   "execution_count": 16,
   "id": "25dd3428",
   "metadata": {
    "ExecuteTime": {
     "end_time": "2022-08-23T09:09:32.671135Z",
     "start_time": "2022-08-23T09:09:32.658144Z"
    }
   },
   "outputs": [],
   "source": [
    "class PolygonModel():\n",
    "    def __init__(self,points):\n",
    "        self.points=points\n",
    "        self.rotation_angle=0\n",
    "        self.x=0\n",
    "        self.y=0\n",
    "        \n",
    "    def transformed(self):\n",
    "        rotated = [vectors.rotate2d(self.rotation_angle, v) for v in self.points]\n",
    "        return [vectors.add((self.x,self.y),v) for v in rotated]\n",
    "    \n",
    "    def segments(self):\n",
    "        point_count=len(self.points)\n",
    "        points=self.transformed()\n",
    "        return [(points[i],points[(i+1)%point_count])\n",
    "               for i in range(0,point_count)]\n",
    "    \n",
    "    def does_intersect(self,other_segment):\n",
    "        for segment in self.segments():\n",
    "            if do_segments_intersect(other_segment,segment):\n",
    "                return True\n",
    "        return False"
   ]
  },
  {
   "cell_type": "code",
   "execution_count": 17,
   "id": "600c9af3",
   "metadata": {
    "ExecuteTime": {
     "end_time": "2022-08-23T09:09:32.686136Z",
     "start_time": "2022-08-23T09:09:32.673132Z"
    }
   },
   "outputs": [],
   "source": [
    "# error：奇异矩阵\n",
    "# m=np.array(((2,1),(4,2)))\n",
    "# v=np.array((6,4))\n",
    "# np.linalg.solve(m,v)"
   ]
  },
  {
   "cell_type": "code",
   "execution_count": 18,
   "id": "6c871795",
   "metadata": {
    "ExecuteTime": {
     "end_time": "2022-08-23T09:09:32.702143Z",
     "start_time": "2022-08-23T09:09:32.688134Z"
    }
   },
   "outputs": [],
   "source": [
    "def do_segments_intersect(s1,s2):\n",
    "    u1,u2=s1\n",
    "    v1,v2=s2\n",
    "    l1,l2=distance(*s1),distance(*s2)\n",
    "    try:\n",
    "        x,y=intersection(u1,u2,v1,v2)\n",
    "        return (distance(u1,(x,y))<=l1 and\n",
    "                   distance(u2,(x,y))<=l1 and\n",
    "                   distance(v1,(x,y))<=l2 and\n",
    "                   distance(v2,(x,y))<=l2)\n",
    "    except np.linalg.linalg.LinAlgError:\n",
    "        return False"
   ]
  },
  {
   "cell_type": "code",
   "execution_count": 19,
   "id": "b85dd4dd",
   "metadata": {
    "ExecuteTime": {
     "end_time": "2022-08-23T09:09:32.718133Z",
     "start_time": "2022-08-23T09:09:32.704133Z"
    }
   },
   "outputs": [],
   "source": [
    "def segmenr_checks(s1,s2):\n",
    "    u1,u2=s1\n",
    "    v1,v2=s2\n",
    "    l1,l2=distance(*s1),distance(*s2)\n",
    "    x,y=intersection(u1,u2,v1,v2)\n",
    "    return [distance(u1,(x,y))<=l1,\n",
    "               distance(u2,(x,y))<=l1,\n",
    "               distance(v1,(x,y))<=l2,\n",
    "               distance(v2,(x,y))<=l2]"
   ]
  },
  {
   "cell_type": "code",
   "execution_count": 20,
   "id": "80a7c643",
   "metadata": {
    "ExecuteTime": {
     "end_time": "2022-08-23T09:09:32.733141Z",
     "start_time": "2022-08-23T09:09:32.721141Z"
    }
   },
   "outputs": [
    {
     "data": {
      "text/plain": [
       "[False, True, True, True]"
      ]
     },
     "execution_count": 20,
     "metadata": {},
     "output_type": "execute_result"
    }
   ],
   "source": [
    "segmenr_checks(((-3,0),(-1,0)),((0,-1),(0,1)))"
   ]
  },
  {
   "cell_type": "code",
   "execution_count": 21,
   "id": "83013ab7",
   "metadata": {
    "ExecuteTime": {
     "end_time": "2022-08-23T09:09:32.749152Z",
     "start_time": "2022-08-23T09:09:32.735132Z"
    }
   },
   "outputs": [
    {
     "data": {
      "text/plain": [
       "[True, False, True, True]"
      ]
     },
     "execution_count": 21,
     "metadata": {},
     "output_type": "execute_result"
    }
   ],
   "source": [
    "segmenr_checks(((1,0),(3,0)),((0,-1),(0,1)))"
   ]
  },
  {
   "cell_type": "code",
   "execution_count": 22,
   "id": "b7f45348",
   "metadata": {
    "ExecuteTime": {
     "end_time": "2022-08-23T09:09:32.765154Z",
     "start_time": "2022-08-23T09:09:32.752134Z"
    }
   },
   "outputs": [
    {
     "data": {
      "text/plain": [
       "[True, True, False, True]"
      ]
     },
     "execution_count": 22,
     "metadata": {},
     "output_type": "execute_result"
    }
   ],
   "source": [
    "segmenr_checks(((-1,0),(1,0)),((0,-3),(0,-1)))"
   ]
  },
  {
   "cell_type": "code",
   "execution_count": 23,
   "id": "9bf4e91a",
   "metadata": {
    "ExecuteTime": {
     "end_time": "2022-08-23T09:09:32.781152Z",
     "start_time": "2022-08-23T09:09:32.767147Z"
    },
    "scrolled": true
   },
   "outputs": [
    {
     "data": {
      "text/plain": [
       "[True, True, True, False]"
      ]
     },
     "execution_count": 23,
     "metadata": {},
     "output_type": "execute_result"
    }
   ],
   "source": [
    "segmenr_checks(((-1,0),(1,0)),((0,1),(0,3)))"
   ]
  },
  {
   "cell_type": "code",
   "execution_count": 24,
   "id": "db092ddb",
   "metadata": {
    "ExecuteTime": {
     "end_time": "2022-08-23T09:09:32.937149Z",
     "start_time": "2022-08-23T09:09:32.784136Z"
    },
    "run_control": {
     "marked": true
    }
   },
   "outputs": [
    {
     "data": {
      "image/png": "[encoded data removed]",
      "text/plain": [
       "<Figure size 432x432 with 1 Axes>"
      ]
     },
     "metadata": {
      "needs_background": "light"
     },
     "output_type": "display_data"
    }
   ],
   "source": [
    "asteroid_points=[(2,7),(1,5),(2,3),(4,2),(6,2),(7,4),(6,6),(4,6)]\n",
    "laser_points=[(0,0),(7,7)]\n",
    "missing_laser_points=[(0,0),(0,7)]\n",
    "draw2d(\n",
    "    Points2D(*asteroid_points),\n",
    "    Polygon2D(*asteroid_points),\n",
    "    Points2D(*laser_points),\n",
    "    Polygon2D(*laser_points,color=green),\n",
    "    Points2D(*missing_laser_points),\n",
    "    Polygon2D(*missing_laser_points,color=red)\n",
    ")"
   ]
  },
  {
   "cell_type": "code",
   "execution_count": 25,
   "id": "bce89a6a",
   "metadata": {
    "ExecuteTime": {
     "end_time": "2022-08-23T09:09:32.952154Z",
     "start_time": "2022-08-23T09:09:32.939160Z"
    }
   },
   "outputs": [],
   "source": [
    "asteroid=PolygonModel([(2,7),(1,5),(2,3),(4,2),(6,2),(7,4),(6,6),(4,6)])"
   ]
  },
  {
   "cell_type": "code",
   "execution_count": 26,
   "id": "097540a4",
   "metadata": {
    "ExecuteTime": {
     "end_time": "2022-08-23T09:09:32.968138Z",
     "start_time": "2022-08-23T09:09:32.955133Z"
    }
   },
   "outputs": [
    {
     "data": {
      "text/plain": [
       "True"
      ]
     },
     "execution_count": 26,
     "metadata": {},
     "output_type": "execute_result"
    }
   ],
   "source": [
    "asteroid.does_intersect([(0,0),(7,7)])"
   ]
  },
  {
   "cell_type": "code",
   "execution_count": 27,
   "id": "a9584d34",
   "metadata": {
    "ExecuteTime": {
     "end_time": "2022-08-23T09:09:32.983145Z",
     "start_time": "2022-08-23T09:09:32.970134Z"
    }
   },
   "outputs": [
    {
     "data": {
      "text/plain": [
       "False"
      ]
     },
     "execution_count": 27,
     "metadata": {},
     "output_type": "execute_result"
    }
   ],
   "source": [
    "asteroid.does_intersect([(0,0),(0,7)])"
   ]
  },
  {
   "cell_type": "code",
   "execution_count": 28,
   "id": "c24b3c68",
   "metadata": {
    "ExecuteTime": {
     "end_time": "2022-08-23T09:09:32.999153Z",
     "start_time": "2022-08-23T09:09:32.985140Z"
    }
   },
   "outputs": [],
   "source": [
    "def do_segments_intersect(s1,s2):\n",
    "    u1,u2=s1\n",
    "    v1,v2=s2\n",
    "    l1,l2=distance(*s1),distance(*s2)\n",
    "    try:\n",
    "        x,y=intersection(u1,u2,v1,v2)\n",
    "        return (distance(u1,(x,y))<=l1 and\n",
    "                   distance(u2,(x,y))<=l1 and\n",
    "                   distance(v1,(x,y))<=l2 and\n",
    "                   distance(v2,(x,y))<=l2)\n",
    "    except np.linalg.linalg.LinAlgError:\n",
    "        return False\n",
    "\n",
    "class PolygonModel():\n",
    "    def __init__(self,points):\n",
    "        self.points=points\n",
    "        self.rotation_angle=0\n",
    "        self.x=0\n",
    "        self.y=0\n",
    "        \n",
    "    def transformed(self):\n",
    "        rotated = [vectors.rotate2d(self.rotation_angle, v) for v in self.points]\n",
    "        return [vectors.add((self.x,self.y),v) for v in rotated]\n",
    "    \n",
    "    def   (self):\n",
    "        point_count=len(self.points)\n",
    "        points=self.transformed()\n",
    "        return [(points[i],points[(i+1)%point_count])\n",
    "               for i in range(0,point_count)]\n",
    "    \n",
    "    def does_intersect(self,other_segment):\n",
    "        for segment in self.segments():\n",
    "            if do_segments_intersect(other_segment,segment):\n",
    "                return True\n",
    "        return False\n",
    "    \n",
    "    def does_collide(self,other_poly):\n",
    "        for other_segment in other_poly.segments():\n",
    "            if self.does_intersect(other_segment):\n",
    "                return True\n",
    "        return False"
   ]
  },
  {
   "cell_type": "code",
   "execution_count": 33,
   "id": "b9ad0291",
   "metadata": {
    "ExecuteTime": {
     "end_time": "2022-08-23T09:18:43.570122Z",
     "start_time": "2022-08-23T09:18:43.444122Z"
    }
   },
   "outputs": [
    {
     "data": {
      "image/png": "[encoded data removed]",
      "text/plain": [
       "<Figure size 432x432 with 1 Axes>"
      ]
     },
     "metadata": {
      "needs_background": "light"
     },
     "output_type": "display_data"
    }
   ],
   "source": [
    "asteroid_points=[(2,7),(1,5),(2,3),(4,2),(6,2),(7,4),(6,6),(4,6)]\n",
    "laser_points=[(0,0),(7,7)]\n",
    "missing_laser_points=[(0,0),(0,7)]\n",
    "draw2d(\n",
    "    Points2D(*[(0,0),(3,0),(3,3),(0,3)]),\n",
    "    Polygon2D(*[(0,0),(3,0),(3,3),(0,3)]),\n",
    "    Points2D(*[(1,1),(4,1),(4,4),(1,4)]),\n",
    "    Polygon2D(*[(1,1),(4,1),(4,4),(1,4)],color=green),\n",
    "    Points2D(*[(-3,-3),(-2,-3),(-2,-2),(-3,-2)]),\n",
    "    Polygon2D(*[(-3,-3),(-2,-3),(-2,-2),(-3,-2)],color=red)\n",
    ")"
   ]
  },
  {
   "cell_type": "code",
   "execution_count": 30,
   "id": "143b5bbd",
   "metadata": {
    "ExecuteTime": {
     "end_time": "2022-08-23T09:09:33.138157Z",
     "start_time": "2022-08-23T09:09:33.125145Z"
    }
   },
   "outputs": [
    {
     "data": {
      "text/plain": [
       "True"
      ]
     },
     "execution_count": 30,
     "metadata": {},
     "output_type": "execute_result"
    }
   ],
   "source": [
    "square1=PolygonModel([(0,0),(3,0),(3,3),(0,3)])\n",
    "square2=PolygonModel([(1,1),(4,1),(4,4),(1,4)])\n",
    "square1.does_collide(square2)"
   ]
  },
  {
   "cell_type": "code",
   "execution_count": 31,
   "id": "457631c0",
   "metadata": {
    "ExecuteTime": {
     "end_time": "2022-08-23T09:17:24.611313Z",
     "start_time": "2022-08-23T09:17:24.595292Z"
    }
   },
   "outputs": [
    {
     "data": {
      "text/plain": [
       "False"
      ]
     },
     "execution_count": 31,
     "metadata": {},
     "output_type": "execute_result"
    }
   ],
   "source": [
    "square3=PolygonModel([(-3,-3),(-2,-3),(-2,-2),(-3,-2)])\n",
    "square1.does_collide(square3)"
   ]
  },
  {
   "cell_type": "code",
   "execution_count": 34,
   "id": "fe576345",
   "metadata": {
    "ExecuteTime": {
     "end_time": "2022-08-23T12:32:07.159102Z",
     "start_time": "2022-08-23T12:32:07.152098Z"
    }
   },
   "outputs": [
    {
     "data": {
      "text/plain": [
       "array([-1.,  3.,  3.])"
      ]
     },
     "execution_count": 34,
     "metadata": {},
     "output_type": "execute_result"
    }
   ],
   "source": [
    "matrix=np.array(((1,1,-1),(0,2,-1),(1,0,1)))\n",
    "vector=np.array((-1,3,2))\n",
    "np.linalg.solve(matrix,vector)"
   ]
  },
  {
   "cell_type": "code",
   "execution_count": 36,
   "id": "4638363b",
   "metadata": {
    "ExecuteTime": {
     "end_time": "2022-08-23T13:48:51.784814Z",
     "start_time": "2022-08-23T13:48:51.766814Z"
    }
   },
   "outputs": [],
   "source": [
    "def plane_equation(p1,p2,p3):\n",
    "    parallel1=subtract(p2,p1)\n",
    "    parallel2=subtract(p3,p1)   \n",
    "    a,b,c=cross(parallel1,parallel2)\n",
    "    d=dot((a,b,c),p1)\n",
    "    return a,b,c,d"
   ]
  },
  {
   "cell_type": "code",
   "execution_count": 37,
   "id": "217f3b06",
   "metadata": {
    "ExecuteTime": {
     "end_time": "2022-08-23T13:49:25.894695Z",
     "start_time": "2022-08-23T13:49:25.877669Z"
    }
   },
   "outputs": [
    {
     "data": {
      "text/plain": [
       "(3, 3, 3, 9)"
      ]
     },
     "execution_count": 37,
     "metadata": {},
     "output_type": "execute_result"
    }
   ],
   "source": [
    "plane_equation((1,1,1),(3,0,0,),(0,3,0))"
   ]
  },
  {
   "cell_type": "code",
   "execution_count": 39,
   "id": "b1da709e",
   "metadata": {
    "ExecuteTime": {
     "end_time": "2022-08-23T14:13:55.225183Z",
     "start_time": "2022-08-23T14:13:55.218197Z"
    }
   },
   "outputs": [
    {
     "data": {
      "text/plain": [
       "array([ 0.,  1., -3., -1.,  3.])"
      ]
     },
     "execution_count": 39,
     "metadata": {},
     "output_type": "execute_result"
    }
   ],
   "source": [
    "matrix=np.array(((0,0,0,0,1),(0,1,0,0,0),(0,0,0,1,0),(1,0,0,0,0),(1,1,1,0,0),))\n",
    "vector=np.array((3,1,-1,0,-2))\n",
    "np.linalg.solve(matrix,vector)"
   ]
  },
  {
   "cell_type": "code",
   "execution_count": 41,
   "id": "cbcf221a",
   "metadata": {
    "ExecuteTime": {
     "end_time": "2022-08-23T14:17:53.608463Z",
     "start_time": "2022-08-23T14:17:53.596455Z"
    }
   },
   "outputs": [
    {
     "data": {
      "text/plain": [
       "array([[ 0.66666667, -0.33333333,  0.33333333],\n",
       "       [-0.33333333,  0.66666667,  0.33333333],\n",
       "       [-0.66666667,  0.33333333,  0.66666667]])"
      ]
     },
     "execution_count": 41,
     "metadata": {},
     "output_type": "execute_result"
    }
   ],
   "source": [
    "matrix=np.array(((1,1,-1),(0,2,-1),(1,0,1)))\n",
    "vector=np.array((-1,3,2))\n",
    "inverse=np.linalg.inv(matrix)\n",
    "inverse"
   ]
  },
  {
   "cell_type": "code",
   "execution_count": 42,
   "id": "d484aea3",
   "metadata": {
    "ExecuteTime": {
     "end_time": "2022-08-23T14:18:24.106121Z",
     "start_time": "2022-08-23T14:18:24.082132Z"
    }
   },
   "outputs": [
    {
     "data": {
      "text/plain": [
       "array([[ 1.00000000e+00,  1.11022302e-16, -1.11022302e-16],\n",
       "       [ 0.00000000e+00,  1.00000000e+00,  0.00000000e+00],\n",
       "       [ 0.00000000e+00,  0.00000000e+00,  1.00000000e+00]])"
      ]
     },
     "execution_count": 42,
     "metadata": {},
     "output_type": "execute_result"
    }
   ],
   "source": [
    "np.matmul(inverse,matrix)"
   ]
  },
  {
   "cell_type": "code",
   "execution_count": 43,
   "id": "59917bfe",
   "metadata": {
    "ExecuteTime": {
     "end_time": "2022-08-23T14:19:25.334650Z",
     "start_time": "2022-08-23T14:19:25.329664Z"
    }
   },
   "outputs": [
    {
     "data": {
      "text/plain": [
       "array([-1.,  3.,  3.])"
      ]
     },
     "execution_count": 43,
     "metadata": {},
     "output_type": "execute_result"
    }
   ],
   "source": [
    "np.matmul(inverse,vector)"
   ]
  },
  {
   "cell_type": "code",
   "execution_count": null,
   "id": "131f0714",
   "metadata": {},
   "outputs": [],
   "source": [
    "  "
   ]
  }
 ],
 "metadata": {
  "hide_input": false,
  "kernelspec": {
   "display_name": "Python 3 (ipykernel)",
   "language": "python",
   "name": "python3"
  },
  "language_info": {
   "codemirror_mode": {
    "name": "ipython",
    "version": 3
   },
   "file_extension": ".py",
   "mimetype": "text/x-python",
   "name": "python",
   "nbconvert_exporter": "python",
   "pygments_lexer": "ipython3",
   "version": "3.9.12"
  },
  "nbTranslate": {
   "displayLangs": [
    "*"
   ],
   "hotkey": "alt-t",
   "langInMainMenu": true,
   "sourceLang": "en",
   "targetLang": "fr",
   "useGoogleTranslate": true
  },
  "toc": {
   "base_numbering": 1,
   "nav_menu": {},
   "number_sections": true,
   "sideBar": true,
   "skip_h1_title": false,
   "title_cell": "Table of Contents",
   "title_sidebar": "Contents",
   "toc_cell": false,
   "toc_position": {},
   "toc_section_display": true,
   "toc_window_display": false
  },
  "varInspector": {
   "cols": {
    "lenName": 16,
    "lenType": 16,
    "lenVar": 40
   },
   "kernels_config": {
    "python": {
     "delete_cmd_postfix": "",
     "delete_cmd_prefix": "del ",
     "library": "var_list.py",
     "varRefreshCmd": "print(var_dic_list())"
    },
    "r": {
     "delete_cmd_postfix": ") ",
     "delete_cmd_prefix": "rm(",
     "library": "var_list.r",
     "varRefreshCmd": "cat(var_dic_list()) "
    }
   },
   "types_to_exclude": [
    "module",
    "function",
    "builtin_function_or_method",
    "instance",
    "_Feature"
   ],
   "window_display": false
  }
 },
 "nbformat": 4,
 "nbformat_minor": 5
}
