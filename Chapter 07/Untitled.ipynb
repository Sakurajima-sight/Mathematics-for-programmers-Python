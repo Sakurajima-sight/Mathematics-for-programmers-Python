{
 "cells": [
  {
   "cell_type": "code",
   "execution_count": 1,
   "id": "e77a6088",
   "metadata": {
    "ExecuteTime": {
     "end_time": "2022-08-22T15:24:14.568244Z",
     "start_time": "2022-08-22T15:24:14.398229Z"
    }
   },
   "outputs": [
    {
     "name": "stdout",
     "output_type": "stream",
     "text": [
      "pygame 2.1.2 (SDL 2.0.18, Python 3.9.12)\n",
      "Hello from the pygame community. https://www.pygame.org/contribute.html\n"
     ]
    }
   ],
   "source": [
    "from random import *\n",
    "import vectors\n",
    "from math import *\n",
    "import pygame"
   ]
  },
  {
   "cell_type": "code",
   "execution_count": 2,
   "id": "e646e6ec",
   "metadata": {
    "ExecuteTime": {
     "end_time": "2022-08-22T15:24:14.584255Z",
     "start_time": "2022-08-22T15:24:14.570228Z"
    }
   },
   "outputs": [],
   "source": [
    "class PolygonModel():\n",
    "    def __init__(self,points):\n",
    "        self.points=points\n",
    "        self.rotation_angle=0\n",
    "        self.x=0\n",
    "        self.y=0\n",
    "    def transformed(self):\n",
    "        rotated = [vectors.rotate2d(self.rotation_angle, v) for v in self.points]\n",
    "        return [vectors.add((self.x,self.y),v) for v in rotated]\n",
    "    def does_intersect(self,segment):\n",
    "        pass"
   ]
  },
  {
   "cell_type": "code",
   "execution_count": 3,
   "id": "477bbaa8",
   "metadata": {
    "ExecuteTime": {
     "end_time": "2022-08-22T15:24:14.600233Z",
     "start_time": "2022-08-22T15:24:14.586234Z"
    }
   },
   "outputs": [],
   "source": [
    "class Ship(PolygonModel):\n",
    "    def __init__(self):\n",
    "        super().__init__([(0.5,0),(-0.25,0.25),(-0.25,-0.25)])"
   ]
  },
  {
   "cell_type": "code",
   "execution_count": 4,
   "id": "6798d7c1",
   "metadata": {
    "ExecuteTime": {
     "end_time": "2022-08-22T15:24:14.615241Z",
     "start_time": "2022-08-22T15:24:14.602246Z"
    }
   },
   "outputs": [],
   "source": [
    "class Asteroids(PolygonModel):\n",
    "    def __init__(self):\n",
    "        sides=randint(5,9)\n",
    "        vs=[vectors.to_cartesian((uniform(0.5,1.0),2*pi*i/sides))for i in range(0,sides)]\n",
    "        super().__init__(vs)"
   ]
  },
  {
   "cell_type": "code",
   "execution_count": 5,
   "id": "779ef9c0",
   "metadata": {
    "ExecuteTime": {
     "end_time": "2022-08-22T15:24:14.631231Z",
     "start_time": "2022-08-22T15:24:14.617236Z"
    }
   },
   "outputs": [],
   "source": [
    "ship=Ship()\n",
    "asteroid_count=10\n",
    "asteroids=[Asteroids() for _ in range(0,asteroid_count)]\n",
    "\n",
    "for ast in asteroids:\n",
    "    ast.x=randint(-9,9)\n",
    "    ast.y=randint(-9,9)    "
   ]
  },
  {
   "cell_type": "code",
   "execution_count": 6,
   "id": "3c2e94a9",
   "metadata": {
    "ExecuteTime": {
     "end_time": "2022-08-22T15:24:14.646310Z",
     "start_time": "2022-08-22T15:24:14.633225Z"
    }
   },
   "outputs": [],
   "source": [
    "width,height=400,400\n",
    "def to_pixels(x,y):\n",
    "    return (width/2+width*x/20,height/2-height*y/20)"
   ]
  },
  {
   "cell_type": "code",
   "execution_count": 7,
   "id": "e24ba794",
   "metadata": {
    "ExecuteTime": {
     "end_time": "2022-08-22T15:24:14.662296Z",
     "start_time": "2022-08-22T15:24:14.649284Z"
    }
   },
   "outputs": [],
   "source": [
    "GREEN=(0,255,0)\n",
    "def draw_poly(screen,polygon_model,color=GREEN):\n",
    "    pixel_points=[to_pixels(x,y) for x,y in polygon_model.transformed()]\n",
    "    pygame.draw.aalines(screen,color,True,pixel_points,10)"
   ]
  },
  {
   "cell_type": "code",
   "execution_count": 8,
   "id": "47e838df",
   "metadata": {
    "ExecuteTime": {
     "end_time": "2022-08-22T15:24:14.677302Z",
     "start_time": "2022-08-22T15:24:14.663292Z"
    }
   },
   "outputs": [],
   "source": [
    "class Ship(PolygonModel):\n",
    "    def __init__(self):\n",
    "        super().__init__([(0.5,0),(-0.25,0.25),(-0.25,-0.25)])\n",
    "    def laser_segment(self):\n",
    "        dist=20.*sqrt(2)\n",
    "        x,y=self.transformed()[0]\n",
    "        return ((x,y),\n",
    "               (x+dist*cos(self.rotation_angle),\n",
    "               y+dist*sin(self.rotation_angle)))"
   ]
  },
  {
   "cell_type": "code",
   "execution_count": 9,
   "id": "200ca078",
   "metadata": {
    "ExecuteTime": {
     "end_time": "2022-08-22T15:24:14.693360Z",
     "start_time": "2022-08-22T15:24:14.679283Z"
    }
   },
   "outputs": [],
   "source": [
    "RED=(255,0,0)\n",
    "def draw_segment(screen, v1,v2,color=RED):\n",
    "    pygame.draw.aaline(screen,color,to_pixels(*v1), to_pixels(*v2),10)"
   ]
  },
  {
   "cell_type": "code",
   "execution_count": 10,
   "id": "32688538",
   "metadata": {
    "ExecuteTime": {
     "end_time": "2022-08-22T15:24:15.114691Z",
     "start_time": "2022-08-22T15:24:14.696333Z"
    }
   },
   "outputs": [
    {
     "ename": "error",
     "evalue": "video system not initialized",
     "output_type": "error",
     "traceback": [
      "\u001b[1;31m---------------------------------------------------------------------------\u001b[0m",
      "\u001b[1;31merror\u001b[0m                                     Traceback (most recent call last)",
      "Input \u001b[1;32mIn [10]\u001b[0m, in \u001b[0;36m<cell line: 10>\u001b[1;34m()\u001b[0m\n\u001b[0;32m      7\u001b[0m     ast\u001b[38;5;241m.\u001b[39my\u001b[38;5;241m=\u001b[39mrandint(\u001b[38;5;241m-\u001b[39m\u001b[38;5;241m9\u001b[39m,\u001b[38;5;241m9\u001b[39m)    \n\u001b[0;32m      9\u001b[0m laser\u001b[38;5;241m=\u001b[39mship\u001b[38;5;241m.\u001b[39mlaser_segment()\n\u001b[1;32m---> 10\u001b[0m keys\u001b[38;5;241m=\u001b[39m\u001b[43mpygame\u001b[49m\u001b[38;5;241;43m.\u001b[39;49m\u001b[43mkey\u001b[49m\u001b[38;5;241;43m.\u001b[39;49m\u001b[43mget_pressed\u001b[49m\u001b[43m(\u001b[49m\u001b[43m)\u001b[49m\n\u001b[0;32m     11\u001b[0m \u001b[38;5;28;01mif\u001b[39;00m keys[pygame\u001b[38;5;241m.\u001b[39mK_SPACE]:\n\u001b[0;32m     12\u001b[0m     draw_segment(\u001b[38;5;241m*\u001b[39mlaser)\n",
      "\u001b[1;31merror\u001b[0m: video system not initialized"
     ]
    }
   ],
   "source": [
    "ship=Ship()\n",
    "asteroid_count=10\n",
    "asteroids=[Asteroids() for _ in range(0,asteroid_count)]\n",
    "\n",
    "for ast in asteroids:\n",
    "    ast.x=randint(-9,9)\n",
    "    ast.y=randint(-9,9)    \n",
    "\n",
    "laser=ship.laser_segment()\n",
    "keys=pygame.key.get_pressed()\n",
    "if keys[pygame.K_SPACE]:\n",
    "    draw_segment(*laser)\n",
    "for asteroid in asteroids:\n",
    "    if asteroid.does_intersect(segment):\n",
    "        asteroids.remove(asteroid)"
   ]
  },
  {
   "cell_type": "code",
   "execution_count": null,
   "id": "09eed3a3",
   "metadata": {},
   "outputs": [],
   "source": []
  }
 ],
 "metadata": {
  "hide_input": false,
  "kernelspec": {
   "display_name": "Python 3 (ipykernel)",
   "language": "python",
   "name": "python3"
  },
  "language_info": {
   "codemirror_mode": {
    "name": "ipython",
    "version": 3
   },
   "file_extension": ".py",
   "mimetype": "text/x-python",
   "name": "python",
   "nbconvert_exporter": "python",
   "pygments_lexer": "ipython3",
   "version": "3.9.12"
  },
  "nbTranslate": {
   "displayLangs": [
    "*"
   ],
   "hotkey": "alt-t",
   "langInMainMenu": true,
   "sourceLang": "en",
   "targetLang": "fr",
   "useGoogleTranslate": true
  },
  "toc": {
   "base_numbering": 1,
   "nav_menu": {},
   "number_sections": true,
   "sideBar": true,
   "skip_h1_title": false,
   "title_cell": "Table of Contents",
   "title_sidebar": "Contents",
   "toc_cell": false,
   "toc_position": {},
   "toc_section_display": true,
   "toc_window_display": false
  },
  "varInspector": {
   "cols": {
    "lenName": 16,
    "lenType": 16,
    "lenVar": 40
   },
   "kernels_config": {
    "python": {
     "delete_cmd_postfix": "",
     "delete_cmd_prefix": "del ",
     "library": "var_list.py",
     "varRefreshCmd": "print(var_dic_list())"
    },
    "r": {
     "delete_cmd_postfix": ") ",
     "delete_cmd_prefix": "rm(",
     "library": "var_list.r",
     "varRefreshCmd": "cat(var_dic_list()) "
    }
   },
   "types_to_exclude": [
    "module",
    "function",
    "builtin_function_or_method",
    "instance",
    "_Feature"
   ],
   "window_display": false
  }
 },
 "nbformat": 4,
 "nbformat_minor": 5
}
