{
 "cells": [
  {
   "cell_type": "code",
   "execution_count": 16,
   "id": "6fb41b79",
   "metadata": {
    "ExecuteTime": {
     "end_time": "2022-08-23T07:00:18.175740Z",
     "start_time": "2022-08-23T07:00:18.161748Z"
    }
   },
   "outputs": [],
   "source": [
    "from random import *\n",
    "import vectors\n",
    "from math import *\n",
    "import pygame\n",
    "import numpy as np\n",
    "from vectors import distance"
   ]
  },
  {
   "cell_type": "code",
   "execution_count": 2,
   "id": "0c28ae6a",
   "metadata": {
    "ExecuteTime": {
     "end_time": "2022-08-23T06:31:09.212584Z",
     "start_time": "2022-08-23T06:31:09.200587Z"
    }
   },
   "outputs": [],
   "source": [
    "class PolygonModel():\n",
    "    def __init__(self,points):\n",
    "        self.points=points\n",
    "        self.rotation_angle=0\n",
    "        self.x=0\n",
    "        self.y=0\n",
    "    def transformed(self):\n",
    "        rotated = [vectors.rotate2d(self.rotation_angle, v) for v in self.points]\n",
    "        return [vectors.add((self.x,self.y),v) for v in rotated]\n",
    "    def does_intersect(self,segment):\n",
    "        pass"
   ]
  },
  {
   "cell_type": "code",
   "execution_count": 3,
   "id": "c8b66951",
   "metadata": {
    "ExecuteTime": {
     "end_time": "2022-08-23T06:31:09.228583Z",
     "start_time": "2022-08-23T06:31:09.214586Z"
    }
   },
   "outputs": [],
   "source": [
    "class Ship(PolygonModel):\n",
    "    def __init__(self):\n",
    "        super().__init__([(0.5,0),(-0.25,0.25),(-0.25,-0.25)])"
   ]
  },
  {
   "cell_type": "code",
   "execution_count": 4,
   "id": "c5e3707e",
   "metadata": {
    "ExecuteTime": {
     "end_time": "2022-08-23T06:31:09.243604Z",
     "start_time": "2022-08-23T06:31:09.230588Z"
    }
   },
   "outputs": [],
   "source": [
    "class Asteroids(PolygonModel):\n",
    "    def __init__(self):\n",
    "        sides=randint(5,9)\n",
    "        vs=[vectors.to_cartesian((uniform(0.5,1.0),2*pi*i/sides))for i in range(0,sides)]\n",
    "        super().__init__(vs)"
   ]
  },
  {
   "cell_type": "code",
   "execution_count": 5,
   "id": "e1164daa",
   "metadata": {
    "ExecuteTime": {
     "end_time": "2022-08-23T06:31:09.259584Z",
     "start_time": "2022-08-23T06:31:09.245592Z"
    }
   },
   "outputs": [],
   "source": [
    "ship=Ship()\n",
    "asteroid_count=10\n",
    "asteroids=[Asteroids() for _ in range(0,asteroid_count)]\n",
    "\n",
    "for ast in asteroids:\n",
    "    ast.x=randint(-9,9)\n",
    "    ast.y=randint(-9,9)    "
   ]
  },
  {
   "cell_type": "code",
   "execution_count": 6,
   "id": "92e288a2",
   "metadata": {
    "ExecuteTime": {
     "end_time": "2022-08-23T06:31:09.274581Z",
     "start_time": "2022-08-23T06:31:09.261587Z"
    }
   },
   "outputs": [],
   "source": [
    "width,height=400,400\n",
    "def to_pixels(x,y):\n",
    "    return (width/2+width*x/20,height/2-height*y/20)"
   ]
  },
  {
   "cell_type": "code",
   "execution_count": 7,
   "id": "5f7f4faf",
   "metadata": {
    "ExecuteTime": {
     "end_time": "2022-08-23T06:31:09.290584Z",
     "start_time": "2022-08-23T06:31:09.276592Z"
    }
   },
   "outputs": [],
   "source": [
    "GREEN=(0,255,0)\n",
    "def draw_poly(screen,polygon_model,color=GREEN):\n",
    "    pixel_points=[to_pixels(x,y) for x,y in polygon_model.transformed()]\n",
    "    pygame.draw.aalines(screen,color,True,pixel_points,10)"
   ]
  },
  {
   "cell_type": "code",
   "execution_count": 8,
   "id": "d2e0de40",
   "metadata": {
    "ExecuteTime": {
     "end_time": "2022-08-23T06:31:09.306583Z",
     "start_time": "2022-08-23T06:31:09.293589Z"
    }
   },
   "outputs": [],
   "source": [
    "class Ship(PolygonModel):\n",
    "    def __init__(self):\n",
    "        super().__init__([(0.5,0),(-0.25,0.25),(-0.25,-0.25)])\n",
    "    def laser_segment(self):\n",
    "        dist=20.*sqrt(2)\n",
    "        x,y=self.transformed()[0]\n",
    "        return ((x,y),\n",
    "               (x+dist*cos(self.rotation_angle),\n",
    "               y+dist*sin(self.rotation_angle)))"
   ]
  },
  {
   "cell_type": "code",
   "execution_count": 9,
   "id": "d2293b66",
   "metadata": {
    "ExecuteTime": {
     "end_time": "2022-08-23T06:31:09.321588Z",
     "start_time": "2022-08-23T06:31:09.308590Z"
    }
   },
   "outputs": [],
   "source": [
    "RED=(255,0,0)\n",
    "def draw_segment(screen, v1,v2,color=RED):\n",
    "    pygame.draw.aaline(screen,color,to_pixels(*v1), to_pixels(*v2),10)"
   ]
  },
  {
   "cell_type": "code",
   "execution_count": 10,
   "id": "ea0f8f92",
   "metadata": {
    "ExecuteTime": {
     "end_time": "2022-08-23T06:31:09.337585Z",
     "start_time": "2022-08-23T06:31:09.325587Z"
    }
   },
   "outputs": [],
   "source": [
    "# ship=Ship()\n",
    "# asteroid_count=10\n",
    "# asteroids=[Asteroids() for _ in range(0,asteroid_count)]\n",
    "\n",
    "# for ast in asteroids:\n",
    "#     ast.x=randint(-9,9)\n",
    "#     ast.y=randint(-9,9)    \n",
    "\n",
    "# laser=ship.laser_segment()\n",
    "# keys=pygame.key.get_pressed()\n",
    "# if keys[pygame.K_SPACE]:\n",
    "#     draw_segment(*laser)\n",
    "# for asteroid in asteroids:\n",
    "#     if asteroid.does_intersect(segment):\n",
    "#         asteroids.remove(asteroid)"
   ]
  },
  {
   "cell_type": "code",
   "execution_count": 12,
   "id": "fa812041",
   "metadata": {
    "ExecuteTime": {
     "end_time": "2022-08-23T06:32:28.336674Z",
     "start_time": "2022-08-23T06:32:28.328688Z"
    }
   },
   "outputs": [],
   "source": [
    "matrix=np.array(((-1,1),(1,2)))\n",
    "output=np.array((0,8))"
   ]
  },
  {
   "cell_type": "code",
   "execution_count": 13,
   "id": "cf7c9d06",
   "metadata": {
    "ExecuteTime": {
     "end_time": "2022-08-23T06:32:44.191545Z",
     "start_time": "2022-08-23T06:32:44.159561Z"
    }
   },
   "outputs": [
    {
     "data": {
      "text/plain": [
       "array([2.66666667, 2.66666667])"
      ]
     },
     "execution_count": 13,
     "metadata": {},
     "output_type": "execute_result"
    }
   ],
   "source": [
    "np.linalg.solve(matrix,output)"
   ]
  },
  {
   "cell_type": "code",
   "execution_count": 14,
   "id": "dc917f39",
   "metadata": {
    "ExecuteTime": {
     "end_time": "2022-08-23T06:51:51.129439Z",
     "start_time": "2022-08-23T06:51:51.121448Z"
    }
   },
   "outputs": [],
   "source": [
    "def standard_form(v1,v2):\n",
    "    x1,y1=v1\n",
    "    x2,y2=v2    \n",
    "    a=y2-y1\n",
    "    b=x1-x2\n",
    "    c=x1*y2-x2*y1\n",
    "    return a,b,c"
   ]
  },
  {
   "cell_type": "code",
   "execution_count": 15,
   "id": "b83ca417",
   "metadata": {
    "ExecuteTime": {
     "end_time": "2022-08-23T06:53:56.697740Z",
     "start_time": "2022-08-23T06:53:56.685162Z"
    }
   },
   "outputs": [],
   "source": [
    "def intersection(u1,u2,v1,v2):\n",
    "    a1,b1,c1=standard_form(u1,u2)\n",
    "    a2,b2,c2=standard_form(v1,v2)    \n",
    "    m=np.array(((a1,b1),(a2,b2)))\n",
    "    c=np.array((c1,c2))\n",
    "    return np.linalg.solve(m,c)"
   ]
  },
  {
   "cell_type": "code",
   "execution_count": 17,
   "id": "8c577928",
   "metadata": {
    "ExecuteTime": {
     "end_time": "2022-08-23T07:05:29.039006Z",
     "start_time": "2022-08-23T07:05:29.027999Z"
    }
   },
   "outputs": [],
   "source": [
    "def do_segments_intersect(s1,s2):\n",
    "    u1,u2=s1\n",
    "    v1,v2=s2\n",
    "    d1,d2=distance(*s1),distance(*s2)\n",
    "    x,y=intersection(u1,u2,v1,v2)\n",
    "    return (distance(u1,(x,y))<=d1 and\n",
    "               distance(u2,(x,y))<=d1 and\n",
    "               distance(v1,(x,y))<=d2 and\n",
    "               distance(v2,(x,y))<=d2)"
   ]
  },
  {
   "cell_type": "code",
   "execution_count": 18,
   "id": "d948dc2b",
   "metadata": {
    "ExecuteTime": {
     "end_time": "2022-08-23T07:27:23.953745Z",
     "start_time": "2022-08-23T07:27:23.934766Z"
    }
   },
   "outputs": [],
   "source": [
    "class PolygonModel():\n",
    "    def __init__(self,points):\n",
    "        self.points=points\n",
    "        self.rotation_angle=0\n",
    "        self.x=0\n",
    "        self.y=0\n",
    "        \n",
    "    def transformed(self):\n",
    "        rotated = [vectors.rotate2d(self.rotation_angle, v) for v in self.points]\n",
    "        return [vectors.add((self.x,self.y),v) for v in rotated]\n",
    "    \n",
    "    def segments(self):\n",
    "        point_count=len(self.points)\n",
    "        points=self.transformed()\n",
    "        return [(points[i],points[(i+1)%point_count])\n",
    "               for i in range(0,point_count)]\n",
    "    \n",
    "    def does_intersect(self,other_segment):\n",
    "        for segment in self.segments():\n",
    "            if do_segments_intersect(other_segment,segment):\n",
    "                return True\n",
    "        return False"
   ]
  },
  {
   "cell_type": "code",
   "execution_count": null,
   "id": "a950ca45",
   "metadata": {},
   "outputs": [],
   "source": []
  }
 ],
 "metadata": {
  "hide_input": false,
  "kernelspec": {
   "display_name": "Python 3 (ipykernel)",
   "language": "python",
   "name": "python3"
  },
  "language_info": {
   "codemirror_mode": {
    "name": "ipython",
    "version": 3
   },
   "file_extension": ".py",
   "mimetype": "text/x-python",
   "name": "python",
   "nbconvert_exporter": "python",
   "pygments_lexer": "ipython3",
   "version": "3.9.12"
  },
  "nbTranslate": {
   "displayLangs": [
    "*"
   ],
   "hotkey": "alt-t",
   "langInMainMenu": true,
   "sourceLang": "en",
   "targetLang": "fr",
   "useGoogleTranslate": true
  },
  "toc": {
   "base_numbering": 1,
   "nav_menu": {},
   "number_sections": true,
   "sideBar": true,
   "skip_h1_title": false,
   "title_cell": "Table of Contents",
   "title_sidebar": "Contents",
   "toc_cell": false,
   "toc_position": {},
   "toc_section_display": true,
   "toc_window_display": false
  },
  "varInspector": {
   "cols": {
    "lenName": 16,
    "lenType": 16,
    "lenVar": 40
   },
   "kernels_config": {
    "python": {
     "delete_cmd_postfix": "",
     "delete_cmd_prefix": "del ",
     "library": "var_list.py",
     "varRefreshCmd": "print(var_dic_list())"
    },
    "r": {
     "delete_cmd_postfix": ") ",
     "delete_cmd_prefix": "rm(",
     "library": "var_list.r",
     "varRefreshCmd": "cat(var_dic_list()) "
    }
   },
   "types_to_exclude": [
    "module",
    "function",
    "builtin_function_or_method",
    "instance",
    "_Feature"
   ],
   "window_display": false
  }
 },
 "nbformat": 4,
 "nbformat_minor": 5
}
